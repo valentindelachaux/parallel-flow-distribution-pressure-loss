{
 "cells": [
  {
   "cell_type": "code",
   "execution_count": 6,
   "metadata": {},
   "outputs": [],
   "source": [
    "import sys\n",
    "\n",
    "import pandas as pd\n",
    "import numpy as np\n",
    "import matplotlib.pyplot as plt\n",
    "\n",
    "sys.path.append(\"../RD-systems-and-test-benches/utils\")\n",
    "import model_fsolve as modf\n",
    "import model_fsolve_v2 as modf2\n",
    "\n",
    "import scipy.optimize as sco\n",
    "import scipy.interpolate as sci\n",
    "\n",
    "import hx_hydraulic as hxhy\n",
    "import from_excel as fe\n",
    "import data_plots as dplt\n",
    "\n",
    "import fluids as fds\n",
    "from CoolProp.CoolProp import PropsSI\n",
    "\n",
    "import openpyxl as opxl\n",
    "from sklearn.ensemble import RandomForestRegressor\n",
    "\n",
    "import seaborn as sns\n",
    "import os\n",
    "import plotly.graph_objects as go\n"
   ]
  },
  {
   "cell_type": "code",
   "execution_count": 7,
   "metadata": {},
   "outputs": [],
   "source": [
    "import utils.conversion as conv\n",
    "import copy"
   ]
  },
  {
   "cell_type": "code",
   "execution_count": 8,
   "metadata": {},
   "outputs": [],
   "source": [
    "path = r\"G:\\Drive partagés\\Cercle Hard\\R&D\\Modèles numériques PVT\\PVT-PL-model\\Inputs\"\n",
    "file_name = \"\\V4.5_wo_interMPE.xlsx\"\n",
    "hw, par, cond = fe.initialize(path, file_name)\n",
    "fe.change_temperature(cond, conv.to_K(-12))\n",
    "\n",
    "fluid = {'name':'MPG','glycol_rate':0.4}\n",
    "\n",
    "# tabl, res, PL, residuals = modf.PL_fsolve(par, cond) "
   ]
  },
  {
   "cell_type": "code",
   "execution_count": 9,
   "metadata": {},
   "outputs": [
    {
     "data": {
      "text/plain": [
       "{'eps': 0.001,\n",
       " 'fluid': 'MPG',\n",
       " 'glycol_rate': 0.4,\n",
       " 'p': 150000.0,\n",
       " 'T': 261.15,\n",
       " 'Vdot': 500,\n",
       " 'Dv': 0.0001388888888888889,\n",
       " 'rho': 1047.1223352790403,\n",
       " 'eta': 0.025505360943158834,\n",
       " 'nu': 2.435757512169014e-05}"
      ]
     },
     "execution_count": 9,
     "metadata": {},
     "output_type": "execute_result"
    }
   ],
   "source": [
    "cond"
   ]
  },
  {
   "cell_type": "code",
   "execution_count": 10,
   "metadata": {},
   "outputs": [],
   "source": [
    "# df, PL, df_PL, residuals = modf.PL_fsolve(par, cond)"
   ]
  },
  {
   "cell_type": "markdown",
   "metadata": {},
   "source": [
    "### Series for one flow rate but changing geometry"
   ]
  },
  {
   "cell_type": "code",
   "execution_count": 11,
   "metadata": {},
   "outputs": [],
   "source": [
    "def find_other_dimension(Dh, side):\n",
    "    \"\"\"\n",
    "    Calculate the height h of a rectangular tube given the hydraulic diameter Dh and width w.\n",
    "    \"\"\"\n",
    "    if 2 * side <= Dh:\n",
    "        raise ValueError(\"Invalid dimensions: 2 * w should be >  Dh\")\n",
    "    return (Dh * side) / (2 * side - Dh)"
   ]
  },
  {
   "cell_type": "code",
   "execution_count": 12,
   "metadata": {},
   "outputs": [],
   "source": [
    "D_riser_range = np.array([1.4,1.2,1.,0.8,0.6]) * par['D_riser']"
   ]
  },
  {
   "cell_type": "code",
   "execution_count": 13,
   "metadata": {},
   "outputs": [
    {
     "name": "stdout",
     "output_type": "stream",
     "text": [
      "[0.003919999999999998, 0.0027999999999999987, 0.0019999999999999996, 0.0014, 0.0009333333333333329]\n",
      "i  0\n"
     ]
    },
    {
     "name": "stderr",
     "output_type": "stream",
     "text": [
      "100%|██████████| 49/49 [04:55<00:00,  6.03s/it]\n",
      "g:\\Mon Drive\\GitHub\\PVT-PL-model\\model_fsolve_v2.py:431: RuntimeWarning: The iteration is not making good progress, as measured by the \n",
      "  improvement from the last ten iterations.\n",
      "  Xsol = sc.fsolve(FUN, X0)\n"
     ]
    },
    {
     "name": "stdout",
     "output_type": "stream",
     "text": [
      "---\n",
      "i  1\n"
     ]
    },
    {
     "name": "stderr",
     "output_type": "stream",
     "text": [
      "100%|██████████| 49/49 [04:48<00:00,  5.88s/it]\n",
      "g:\\Mon Drive\\GitHub\\PVT-PL-model\\model_fsolve_v2.py:431: RuntimeWarning: The iteration is not making good progress, as measured by the \n",
      "  improvement from the last ten iterations.\n",
      "  Xsol = sc.fsolve(FUN, X0)\n"
     ]
    },
    {
     "name": "stdout",
     "output_type": "stream",
     "text": [
      "---\n",
      "i  2\n"
     ]
    },
    {
     "name": "stderr",
     "output_type": "stream",
     "text": [
      "100%|██████████| 49/49 [04:38<00:00,  5.68s/it]\n",
      "g:\\Mon Drive\\GitHub\\PVT-PL-model\\model_fsolve_v2.py:431: RuntimeWarning: The iteration is not making good progress, as measured by the \n",
      "  improvement from the last ten iterations.\n",
      "  Xsol = sc.fsolve(FUN, X0)\n"
     ]
    },
    {
     "name": "stdout",
     "output_type": "stream",
     "text": [
      "---\n",
      "i  3\n"
     ]
    },
    {
     "name": "stderr",
     "output_type": "stream",
     "text": [
      "100%|██████████| 49/49 [04:40<00:00,  5.73s/it]\n",
      "g:\\Mon Drive\\GitHub\\PVT-PL-model\\model_fsolve_v2.py:431: RuntimeWarning: The iteration is not making good progress, as measured by the \n",
      "  improvement from the last ten iterations.\n",
      "  Xsol = sc.fsolve(FUN, X0)\n"
     ]
    },
    {
     "name": "stdout",
     "output_type": "stream",
     "text": [
      "---\n",
      "i  4\n"
     ]
    },
    {
     "name": "stderr",
     "output_type": "stream",
     "text": [
      "100%|██████████| 49/49 [04:34<00:00,  5.60s/it]"
     ]
    },
    {
     "name": "stdout",
     "output_type": "stream",
     "text": [
      "---\n"
     ]
    },
    {
     "name": "stderr",
     "output_type": "stream",
     "text": [
      "\n",
      "g:\\Mon Drive\\GitHub\\PVT-PL-model\\model_fsolve_v2.py:431: RuntimeWarning: The iteration is not making good progress, as measured by the \n",
      "  improvement from the last ten iterations.\n",
      "  Xsol = sc.fsolve(FUN, X0)\n"
     ]
    }
   ],
   "source": [
    "hw, par, cond = fe.initialize(path, file_name)\n",
    "fe.change_temperature(cond, conv.to_K(-12))\n",
    "N_panels = 6\n",
    "\n",
    "Vdot = 600\n",
    "Qtot = conv.convert_flow_rate(Vdot, 'L/h', 'm3/s')\n",
    "\n",
    "h_riser_range = [find_other_dimension(D_riser, par['w_riser']) for D_riser in D_riser_range]\n",
    "print(h_riser_range)\n",
    "res_dict_h = {}\n",
    "\n",
    "testings_path_list = [os.path.join(r\"G:\\Drive partagés\\Cercle Hard\\R&D\\Modèles numériques PVT\\PVT-PL-model\\Thesis\", file_name[1:-5] + f\"change_h_riser_{int(h_riser*1000)}.xlsx\") for h_riser in h_riser_range]\n",
    "\n",
    "for i, h_riser in enumerate(h_riser_range):\n",
    "    print('i ', i)\n",
    "\n",
    "    # Change diameter\n",
    "\n",
    "    hw.change_riser_height(h_riser)\n",
    "    par = hw.make_dict()\n",
    "\n",
    "    # Generate abaque\n",
    "\n",
    "    list_Qin = np.linspace(0.05, 0.95, 7)*Qtot\n",
    "    list_alpha = np.linspace(0.05, 0.95, 7)\n",
    "\n",
    "    df_testings = fe.testing_series_Qmax(Qtot, list_Qin, list_alpha, par,cond)\n",
    "    testings_path = testings_path_list[i]\n",
    "    df_testings.to_excel(testings_path, index=False)\n",
    "\n",
    "    # Run abaque for flow rate Vdot (L/h)\n",
    "\n",
    "    testings_path = testings_path_list[i]\n",
    "\n",
    "    df_testings = pd.read_excel(testings_path)\n",
    "    DPin, DPout, DPx = modf2.transfer_func(df_testings)\n",
    "    tabl, residuals = modf2.PL_fsolve_MPE(N_panels , conv.convert_flow_rate(Vdot, 'L/h', 'm3/s'), DPin, DPout, DPx)\n",
    "\n",
    "    res_dict_h[h_riser] = {\n",
    "                        'N_panels' : N_panels,\n",
    "                        'Vdot' : Vdot,\n",
    "                        'tabl' : copy.deepcopy(tabl),\n",
    "                        'residuals' : copy.deepcopy(residuals)\n",
    "                        }\n",
    "\n",
    "    print('---')"
   ]
  },
  {
   "cell_type": "code",
   "execution_count": 14,
   "metadata": {},
   "outputs": [
    {
     "name": "stdout",
     "output_type": "stream",
     "text": [
      "[0.008909090909090898, 0.004666666666666664, 0.002799999999999999, 0.0017499999999999998, 0.0010769230769230767]\n",
      "i  0\n"
     ]
    },
    {
     "name": "stderr",
     "output_type": "stream",
     "text": [
      "100%|██████████| 49/49 [00:30<00:00,  1.63it/s]\n",
      "g:\\Mon Drive\\GitHub\\PVT-PL-model\\model_fsolve_v2.py:431: RuntimeWarning: The iteration is not making good progress, as measured by the \n",
      "  improvement from the last ten iterations.\n",
      "  Xsol = sc.fsolve(FUN, X0)\n"
     ]
    },
    {
     "name": "stdout",
     "output_type": "stream",
     "text": [
      "---\n",
      "i  1\n"
     ]
    },
    {
     "name": "stderr",
     "output_type": "stream",
     "text": [
      "100%|██████████| 49/49 [01:39<00:00,  2.03s/it]\n",
      "g:\\Mon Drive\\GitHub\\PVT-PL-model\\model_fsolve_v2.py:431: RuntimeWarning: The iteration is not making good progress, as measured by the \n",
      "  improvement from the last ten iterations.\n",
      "  Xsol = sc.fsolve(FUN, X0)\n"
     ]
    },
    {
     "name": "stdout",
     "output_type": "stream",
     "text": [
      "---\n",
      "i  2\n"
     ]
    },
    {
     "name": "stderr",
     "output_type": "stream",
     "text": [
      "100%|██████████| 49/49 [04:31<00:00,  5.55s/it]\n",
      "g:\\Mon Drive\\GitHub\\PVT-PL-model\\model_fsolve_v2.py:431: RuntimeWarning: The iteration is not making good progress, as measured by the \n",
      "  improvement from the last ten iterations.\n",
      "  Xsol = sc.fsolve(FUN, X0)\n"
     ]
    },
    {
     "name": "stdout",
     "output_type": "stream",
     "text": [
      "---\n",
      "i  3\n"
     ]
    },
    {
     "name": "stderr",
     "output_type": "stream",
     "text": [
      "100%|██████████| 49/49 [12:02<00:00, 14.75s/it]\n",
      "g:\\Mon Drive\\GitHub\\PVT-PL-model\\model_fsolve_v2.py:431: RuntimeWarning: The iteration is not making good progress, as measured by the \n",
      "  improvement from the last ten iterations.\n",
      "  Xsol = sc.fsolve(FUN, X0)\n"
     ]
    },
    {
     "name": "stdout",
     "output_type": "stream",
     "text": [
      "---\n",
      "i  4\n"
     ]
    },
    {
     "name": "stderr",
     "output_type": "stream",
     "text": [
      "100%|██████████| 49/49 [26:46<00:00, 32.78s/it]"
     ]
    },
    {
     "name": "stdout",
     "output_type": "stream",
     "text": [
      "---\n"
     ]
    },
    {
     "name": "stderr",
     "output_type": "stream",
     "text": [
      "\n",
      "g:\\Mon Drive\\GitHub\\PVT-PL-model\\model_fsolve_v2.py:431: RuntimeWarning: The iteration is not making good progress, as measured by the \n",
      "  improvement from the last ten iterations.\n",
      "  Xsol = sc.fsolve(FUN, X0)\n"
     ]
    }
   ],
   "source": [
    "hw, par, cond = fe.initialize(path, file_name)\n",
    "fe.change_temperature(cond, conv.to_K(-12))\n",
    "N_panels = 6\n",
    "\n",
    "Vdot = 600\n",
    "Qtot = conv.convert_flow_rate(Vdot, 'L/h', 'm3/s')\n",
    "\n",
    "w_riser_range = [find_other_dimension(D_riser, par['h_riser']) for D_riser in D_riser_range]\n",
    "print(w_riser_range)\n",
    "res_dict_w = {}\n",
    "\n",
    "testings_path_list = [os.path.join(r\"G:\\Drive partagés\\Cercle Hard\\R&D\\Modèles numériques PVT\\PVT-PL-model\\Thesis\", file_name[1:-5] + f\"change_h_riser_{int(w_riser*1000)}.xlsx\") for w_riser in w_riser_range]\n",
    "\n",
    "for i, w_riser in enumerate(w_riser_range):\n",
    "    print('i ', i)\n",
    "\n",
    "    # Change diameter\n",
    "\n",
    "    hw.change_riser_width_and_update_N(w_riser)\n",
    "    par = hw.make_dict()\n",
    "\n",
    "    # Generate abaque\n",
    "\n",
    "    list_Qin = np.linspace(0.05, 0.95, 7)*Qtot\n",
    "    list_alpha = np.linspace(0.05, 0.95, 7)\n",
    "\n",
    "    df_testings = fe.testing_series_Qmax(Qtot, list_Qin, list_alpha, par,cond)\n",
    "    testings_path = testings_path_list[i]\n",
    "    df_testings.to_excel(testings_path, index=False)\n",
    "\n",
    "    # Run abaque for flow rate Vdot (L/h)\n",
    "\n",
    "    testings_path = testings_path_list[i]\n",
    "\n",
    "    df_testings = pd.read_excel(testings_path)\n",
    "    DPin, DPout, DPx = modf2.transfer_func(df_testings)\n",
    "    tabl, residuals = modf2.PL_fsolve_MPE(N_panels , conv.convert_flow_rate(Vdot, 'L/h', 'm3/s'), DPin, DPout, DPx)\n",
    "\n",
    "    res_dict_w[w_riser] = {\n",
    "                        'N_panels' : N_panels,\n",
    "                        'Vdot' : Vdot,\n",
    "                        'tabl' : copy.deepcopy(tabl),\n",
    "                        'residuals' : copy.deepcopy(residuals)\n",
    "                        }\n",
    "\n",
    "    print('---')"
   ]
  },
  {
   "cell_type": "code",
   "execution_count": 20,
   "metadata": {},
   "outputs": [],
   "source": [
    "hw, par, cond = fe.initialize(path, file_name)\n",
    "\n",
    "option = 'COLD' + '_'\n",
    "\n",
    "for (letter, res_dict, x_range) in zip(['h', 'w'], [res_dict_h, res_dict_w], [h_riser_range, w_riser_range]):\n",
    "\n",
    "    res_dict['parameters'] = {\n",
    "                                'par' : copy.deepcopy(par),\n",
    "                                'cond' : copy.deepcopy(cond),\n",
    "                                'N_panels' : N_panels,\n",
    "                                'Vdot' : Vdot,\n",
    "                                'Qtot' : Qtot,\n",
    "                                'x_range' : x_range\n",
    "                                }\n",
    "\n",
    "    dp.write_pickle(r\"G:\\Drive partagés\\Cercle Hard\\R&D\\Modèles numériques PVT\\PVT-PL-model\\Thesis\", f\"V4.5_multipanels_parametric_{option}res_dict_{letter}\", res_dict)"
   ]
  },
  {
   "cell_type": "code",
   "execution_count": 15,
   "metadata": {},
   "outputs": [
    {
     "name": "stdout",
     "output_type": "stream",
     "text": [
      "1791.446854908915\n",
      "2682.3875076884387\n",
      "4646.911669957815\n",
      "9235.17133528318\n",
      "23791.51079690017\n"
     ]
    },
    {
     "data": {
      "text/plain": [
       "<matplotlib.legend.Legend at 0x10a275d1e40>"
      ]
     },
     "execution_count": 15,
     "metadata": {},
     "output_type": "execute_result"
    },
    {
     "data": {
      "image/png": "[encoded data removed]",
      "text/plain": [
       "<Figure size 640x480 with 1 Axes>"
      ]
     },
     "metadata": {},
     "output_type": "display_data"
    }
   ],
   "source": [
    "for key in res_dict_h.keys():\n",
    "    # key = list(res_dict.keys())[1]\n",
    "    tabl = res_dict_h[key]['tabl']\n",
    "    plt.scatter(tabl.index, tabl['qx']/(tabl['qx'].sum()/N_panels), label=f'h_riser = {key*1000} mm')\n",
    "    print(tabl['Pin'][0])\n",
    "\n",
    "plt.legend()"
   ]
  },
  {
   "cell_type": "code",
   "execution_count": 16,
   "metadata": {},
   "outputs": [
    {
     "name": "stdout",
     "output_type": "stream",
     "text": [
      "2125.007182004474\n",
      "3080.475508879896\n",
      "4653.320948098868\n",
      "7468.853922204319\n",
      "14027.782407290955\n"
     ]
    },
    {
     "data": {
      "text/plain": [
       "<matplotlib.legend.Legend at 0x10a275d2290>"
      ]
     },
     "execution_count": 16,
     "metadata": {},
     "output_type": "execute_result"
    },
    {
     "data": {
      "image/png": "[encoded data removed]",
      "text/plain": [
       "<Figure size 640x480 with 1 Axes>"
      ]
     },
     "metadata": {},
     "output_type": "display_data"
    }
   ],
   "source": [
    "for key in res_dict_w.keys():\n",
    "    # key = list(res_dict.keys())[1]\n",
    "    tabl = res_dict_w[key]['tabl']\n",
    "    plt.scatter(tabl.index, tabl['qx']/(tabl['qx'].sum()/N_panels), label=f'w_riser = {key*1000} mm')\n",
    "    print(tabl['Pin'][0])\n",
    "\n",
    "plt.legend()"
   ]
  },
  {
   "cell_type": "code",
   "execution_count": null,
   "metadata": {},
   "outputs": [],
   "source": []
  }
 ],
 "metadata": {
  "kernelspec": {
   "display_name": "RD-env-24",
   "language": "python",
   "name": "python3"
  },
  "language_info": {
   "codemirror_mode": {
    "name": "ipython",
    "version": 3
   },
   "file_extension": ".py",
   "mimetype": "text/x-python",
   "name": "python",
   "nbconvert_exporter": "python",
   "pygments_lexer": "ipython3",
   "version": "3.10.5"
  }
 },
 "nbformat": 4,
 "nbformat_minor": 2
}
