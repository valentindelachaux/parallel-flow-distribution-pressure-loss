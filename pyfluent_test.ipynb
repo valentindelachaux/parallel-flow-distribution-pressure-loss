{
 "cells": [
  {
   "cell_type": "code",
   "execution_count": null,
   "metadata": {},
   "outputs": [],
   "source": [
    "import ansys.fluent.core as pyfluent\n",
    "import numpy as np"
   ]
  },
  {
   "cell_type": "code",
   "execution_count": null,
   "metadata": {},
   "outputs": [],
   "source": [
    "# solver = pyfluent.launch_fluent(mode=\"solver\", show_gui=True)\n",
    "# solver.tui.file.read_case('\"D:/ANSYS Fluent Projects/V4F heat exchanger/fluent/V4F2_hx_MPE_x4_V2_CD-0.110.cas.h5\"')"
   ]
  },
  {
   "cell_type": "code",
   "execution_count": null,
   "metadata": {},
   "outputs": [],
   "source": [
    "solver = pyfluent.connect_to_fluent(server_info_filepath=r\"D:\\ANSYS Fluent Projects\\Hydraulics\\V4.41\\1 channel\\server_info-8764.txt\") # créer une session : File -> Applications -> Server -> Start...\n"
   ]
  },
  {
   "cell_type": "code",
   "execution_count": null,
   "metadata": {},
   "outputs": [],
   "source": [
    "tui = solver.tui\n",
    "\n",
    "fluid_name = 'water-liquid'\n",
    "myfluid = solver.setup.materials.fluid[fluid_name]\n",
    "rho = myfluid.density()['constant']\n",
    "\n",
    "list_Vdot = np.array([10, 30, 60, 100, 150, 210])/304 # L/h ; débit dans un riser (d'où le /304)\n",
    "list_mdot = list_Vdot/3600000 * rho\n",
    "\n",
    "for mdot in list_mdot[4:5] :\n",
    "    tui.define.parameters.input_parameters.edit(f\"mdot mdot {mdot}\")\n",
    "    solver.solution.initialization.standard_initialize()\n",
    "    solver.solution.initialization.standard_initialize()\n",
    "    solver.solution.run_calculation.iterate(number_of_iterations=100)\n"
   ]
  },
  {
   "cell_type": "code",
   "execution_count": null,
   "metadata": {},
   "outputs": [],
   "source": [
    "list_mdot"
   ]
  },
  {
   "cell_type": "code",
   "execution_count": null,
   "metadata": {},
   "outputs": [],
   "source": []
  },
  {
   "cell_type": "code",
   "execution_count": null,
   "metadata": {},
   "outputs": [],
   "source": [
    "\n"
   ]
  },
  {
   "cell_type": "code",
   "execution_count": null,
   "metadata": {},
   "outputs": [],
   "source": [
    "tui.results.report.surface_integrals.__eq__"
   ]
  },
  {
   "cell_type": "code",
   "execution_count": null,
   "metadata": {},
   "outputs": [],
   "source": [
    "solver.solution.report_definitions.compute(report_defs=[\"mass_flow_rate\"])"
   ]
  },
  {
   "cell_type": "code",
   "execution_count": null,
   "metadata": {},
   "outputs": [],
   "source": [
    "solver.solution.initialization.hybrid_initialize()"
   ]
  },
  {
   "cell_type": "code",
   "execution_count": null,
   "metadata": {},
   "outputs": [],
   "source": [
    "import ansys.tools.protoc_helper.proto_provider"
   ]
  },
  {
   "cell_type": "code",
   "execution_count": null,
   "metadata": {},
   "outputs": [],
   "source": [
    "solver.exit()"
   ]
  }
 ],
 "metadata": {
  "kernelspec": {
   "display_name": "Python 3",
   "language": "python",
   "name": "python3"
  },
  "language_info": {
   "codemirror_mode": {
    "name": "ipython",
    "version": 3
   },
   "file_extension": ".py",
   "mimetype": "text/x-python",
   "name": "python",
   "nbconvert_exporter": "python",
   "pygments_lexer": "ipython3",
   "version": "3.11.6"
  }
 },
 "nbformat": 4,
 "nbformat_minor": 2
}
