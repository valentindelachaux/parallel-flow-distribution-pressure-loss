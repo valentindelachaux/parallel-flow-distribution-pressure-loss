{
 "cells": [
  {
   "cell_type": "code",
   "execution_count": null,
   "metadata": {},
   "outputs": [],
   "source": [
    "import ansys.fluent.core as pyfluent\n"
   ]
  },
  {
   "cell_type": "code",
   "execution_count": null,
   "metadata": {},
   "outputs": [],
   "source": [
    "# solver = pyfluent.launch_fluent(mode=\"solver\", show_gui=True)\n",
    "# solver.tui.file.read_case('\"D:/ANSYS Fluent Projects/V4F heat exchanger/fluent/V4F2_hx_MPE_x4_V2_CD-0.110.cas.h5\"')"
   ]
  },
  {
   "cell_type": "code",
   "execution_count": null,
   "metadata": {},
   "outputs": [],
   "source": [
    "solver = pyfluent.connect_to_fluent(server_info_filepath=\"D:/ANSYS Fluent Projects/V4F heat exchanger/fluent/server_info-8764.txt\") # créer une session : File -> Applications -> Server -> Start...\n",
    "tui = solver.tui\n"
   ]
  },
  {
   "cell_type": "code",
   "execution_count": null,
   "metadata": {},
   "outputs": [],
   "source": [
    "list_mdot = [0.055, 0.110, 0.165, 0.220]\n",
    "\n",
    "for mdot in list_mdot :\n",
    "    tui.define.parameters.input_parameters.edit(f\"mdot mdot {mdot}\")\n",
    "    solver.solution.initialization.standard_initialize()\n",
    "\n"
   ]
  },
  {
   "cell_type": "code",
   "execution_count": null,
   "metadata": {},
   "outputs": [],
   "source": [
    "solver.solution.initialization.standard_initialize()"
   ]
  },
  {
   "cell_type": "code",
   "execution_count": null,
   "metadata": {},
   "outputs": [],
   "source": [
    "solver.solution.run_calculation.iterate(number_of_iterations=10)\n"
   ]
  },
  {
   "cell_type": "code",
   "execution_count": null,
   "metadata": {},
   "outputs": [],
   "source": [
    "solver.exit()"
   ]
  },
  {
   "cell_type": "code",
   "execution_count": null,
   "metadata": {},
   "outputs": [],
   "source": [
    "import ansys.tools.protoc_helper.proto_provider"
   ]
  },
  {
   "cell_type": "code",
   "execution_count": null,
   "metadata": {},
   "outputs": [],
   "source": [
    "meshing_session = pyfluent.launch_fluent(mode=\"meshing\", show_gui=True, precision='double', processor_count=2)\n",
    "meshing_session.tui.file.read_case('\"D:/ANSYS Fluent Projects/V4F heat exchanger/fluent/V4F2_hx_MPE_x4_V2.msh.h5\"')\n",
    "solver = meshing_session.switch_to_solver()"
   ]
  },
  {
   "cell_type": "code",
   "execution_count": null,
   "metadata": {},
   "outputs": [],
   "source": [
    "solver.solution.initialization.hybrid_initialize()"
   ]
  }
 ],
 "metadata": {
  "kernelspec": {
   "display_name": "Python 3",
   "language": "python",
   "name": "python3"
  },
  "language_info": {
   "codemirror_mode": {
    "name": "ipython",
    "version": 3
   },
   "file_extension": ".py",
   "mimetype": "text/x-python",
   "name": "python",
   "nbconvert_exporter": "python",
   "pygments_lexer": "ipython3",
   "version": "3.11.6"
  }
 },
 "nbformat": 4,
 "nbformat_minor": 2
}
