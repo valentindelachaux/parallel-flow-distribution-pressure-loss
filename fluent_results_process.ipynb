{
 "cells": [
  {
   "cell_type": "code",
   "execution_count": 1,
   "metadata": {},
   "outputs": [],
   "source": [
    "import os\n",
    "\n",
    "import numpy as np\n",
    "import pandas as pd\n",
    "import matplotlib.pyplot as plt\n",
    "import plotly.graph_objects as go\n",
    "from plotly.subplots import make_subplots\n",
    "\n",
    "import fluent_hydraulics_post_proc as fhpp"
   ]
  },
  {
   "cell_type": "code",
   "execution_count": 15,
   "metadata": {},
   "outputs": [],
   "source": [
    "folder_path = r'G:\\Drive partagés\\BU04-Innovation\\PVT-PL-model\\CFD\\V4.5_MPEx4'\n",
    "file_names = os.listdir(f'{folder_path}\\\\fluent_export')\n",
    "file_names = [file_name for file_name in file_names if file_name.startswith('0.055')]"
   ]
  },
  {
   "cell_type": "code",
   "execution_count": 16,
   "metadata": {},
   "outputs": [
    {
     "data": {
      "text/plain": [
       "['0.055_risers_entry+0.050_pressure.csv',\n",
       " '0.055_risers_entry_pressure.csv',\n",
       " '0.055_risers_after_first_bend_pressure.csv',\n",
       " '0.055_risers_before_exhaust_pressure.csv']"
      ]
     },
     "execution_count": 16,
     "metadata": {},
     "output_type": "execute_result"
    }
   ],
   "source": [
    "file_names"
   ]
  },
  {
   "cell_type": "code",
   "execution_count": 17,
   "metadata": {},
   "outputs": [],
   "source": [
    "for file_name in file_names:\n",
    "    fhpp.process_xy_file(folder_path,file_name,'Position','Pressure')"
   ]
  },
  {
   "cell_type": "code",
   "execution_count": 20,
   "metadata": {},
   "outputs": [],
   "source": [
    "for file_name in file_names:\n",
    "    df = pd.read_csv(folder_path+'\\\\processed\\\\'+file_name)\n",
    "    df,pressure_risers = fhpp.process_pressure_risers(df)\n",
    "    pressure_risers.to_csv(folder_path+'\\\\processed\\\\'+file_name[:-4]+'_per_riser.csv', index=True)"
   ]
  },
  {
   "cell_type": "code",
   "execution_count": null,
   "metadata": {},
   "outputs": [],
   "source": [
    "fig = go.Figure(data=go.Scatter(x=df['Position'], y=df['Pressure'],mode='markers'))\n",
    "fig.show()"
   ]
  },
  {
   "cell_type": "code",
   "execution_count": null,
   "metadata": {},
   "outputs": [],
   "source": [
    "fig = go.Figure()\n",
    "fig.add_trace(go.Scatter(x=df['Position'], y=df['Pressure'], mode='lines', name='Pressure'))\n",
    "fig.add_trace(go.Scatter(x=df['Position'], y=df['check'], mode='lines', name='check'))\n",
    "fig.show()"
   ]
  },
  {
   "cell_type": "code",
   "execution_count": null,
   "metadata": {},
   "outputs": [],
   "source": [
    "fig = make_subplots(specs=[[{\"secondary_y\": True}]])\n",
    "\n",
    "fig.add_trace(go.Scatter(x=df['Position'], y=df['Pressure'], mode='markers', name='Pressure'), secondary_y=False)\n",
    "fig.add_trace(go.Scatter(x=df['Position'], y=df['check'], mode='lines', name='check'), secondary_y=True)\n",
    "\n",
    "fig.update_layout(title='Plot with Two Y-Axes')\n",
    "fig.update_xaxes(title_text='Position')\n",
    "fig.update_yaxes(title_text='Pressure', secondary_y=False)\n",
    "fig.update_yaxes(title_text='Check', secondary_y=True)\n",
    "\n",
    "fig.show()"
   ]
  },
  {
   "cell_type": "code",
   "execution_count": null,
   "metadata": {},
   "outputs": [],
   "source": []
  }
 ],
 "metadata": {
  "kernelspec": {
   "display_name": "model23",
   "language": "python",
   "name": "python3"
  },
  "language_info": {
   "codemirror_mode": {
    "name": "ipython",
    "version": 3
   },
   "file_extension": ".py",
   "mimetype": "text/x-python",
   "name": "python",
   "nbconvert_exporter": "python",
   "pygments_lexer": "ipython3",
   "version": "3.10.5"
  }
 },
 "nbformat": 4,
 "nbformat_minor": 2
}
