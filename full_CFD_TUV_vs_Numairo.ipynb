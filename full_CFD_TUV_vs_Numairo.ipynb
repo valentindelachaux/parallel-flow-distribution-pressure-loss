{
 "cells": [
  {
   "cell_type": "code",
   "execution_count": null,
   "metadata": {},
   "outputs": [],
   "source": [
    "import os\n",
    "import sys\n",
    "# sys.path.append('../')\n",
    "repos_list = ['PVT-thermal-performance-model', 'RD-systems-and-test-benches']\n",
    "for repo in repos_list:\n",
    "    sys.path.append(f'../{repo}')\n",
    "    sys.path.append(f'../../{repo}')\n",
    "\n",
    "import math\n",
    "import numpy as numpy\n",
    "import pandas as pd\n",
    "\n",
    "import utils.data_processing as dp\n",
    "\n",
    "from plot_config import *"
   ]
  },
  {
   "cell_type": "code",
   "execution_count": null,
   "metadata": {},
   "outputs": [],
   "source": [
    "df_V45 = pd.read_excel(r'G:\\Drive partagés\\Cercle Hard\\R&D\\Thèse VDE\\Manuscrit\\Chapter_PL\\TUV_PL_results_V4.5_V4.6.xlsx', sheet_name = \"V4.5_glycol\")\n",
    "df_V46 = pd.read_excel(r'G:\\Drive partagés\\Cercle Hard\\R&D\\Thèse VDE\\Manuscrit\\Chapter_PL\\TUV_PL_results_V4.5_V4.6.xlsx', sheet_name = \"V4.6_glycol\")\n",
    "\n",
    "df_V45.sort_values(by=['Vdot'], inplace=True)\n",
    "df_V46.sort_values(by=['Vdot'], inplace=True)"
   ]
  },
  {
   "cell_type": "code",
   "execution_count": null,
   "metadata": {},
   "outputs": [],
   "source": [
    "columns = ['Vdot', 'mdot', 'PL']\n",
    "rows = [\n",
    "    [100, math.nan, 0.727],\n",
    "    [500, math.nan,5.1]\n",
    "]\n",
    "df_V45_CFD = pd.DataFrame(rows, columns=columns)"
   ]
  },
  {
   "cell_type": "code",
   "execution_count": null,
   "metadata": {},
   "outputs": [],
   "source": [
    "# without entrance exit and bends\n",
    "\n",
    "columns = ['Vdot', 'mdot', 'PL']\n",
    "rows = [\n",
    "    [100, math.nan, 0.690],\n",
    "    [300, math.nan, 2.180],\n",
    "    [500, math.nan,4.050]\n",
    "]\n",
    "df_V45_CFD = pd.DataFrame(rows, columns=columns)"
   ]
  },
  {
   "cell_type": "code",
   "execution_count": null,
   "metadata": {},
   "outputs": [],
   "source": [
    "columns = ['Vdot', 'mdot', 'PL']\n",
    "rows = [\n",
    "    [100, math.nan, 0.609],\n",
    "    [300, math.nan,1.760],\n",
    "    [500, math.nan,3.068]\n",
    "]\n",
    "df_V46_CFD = pd.DataFrame(rows, columns=columns)"
   ]
  },
  {
   "cell_type": "code",
   "execution_count": null,
   "metadata": {},
   "outputs": [],
   "source": [
    "rows = [\n",
    "    [100, math.nan, 0.622],\n",
    "    [300, math.nan, 2.115],\n",
    "    [500, math.nan, 3.8]\n",
    "]\n",
    "\n",
    "df_V45_trick = pd.DataFrame(rows, columns=columns)"
   ]
  },
  {
   "cell_type": "code",
   "execution_count": null,
   "metadata": {},
   "outputs": [],
   "source": [
    "rows = [\n",
    "    [100, math.nan, 0.542],\n",
    "    [300, math.nan, 1.638],\n",
    "    [500, math.nan,2.751]\n",
    "]\n",
    "\n",
    "df_V46_trick = pd.DataFrame(rows, columns=columns)"
   ]
  },
  {
   "cell_type": "code",
   "execution_count": null,
   "metadata": {},
   "outputs": [],
   "source": [
    "(3.3 - 2.583)/2.583"
   ]
  },
  {
   "cell_type": "code",
   "execution_count": null,
   "metadata": {},
   "outputs": [],
   "source": [
    "df_V46_CFD"
   ]
  },
  {
   "cell_type": "code",
   "execution_count": null,
   "metadata": {},
   "outputs": [],
   "source": []
  },
  {
   "cell_type": "code",
   "execution_count": null,
   "metadata": {},
   "outputs": [],
   "source": [
    "df_V45_1D = dp.load_pickle(r'G:\\Drive partagés\\Cercle Hard\\R&D\\Modèles numériques PVT\\PVT-PL-model\\Thesis\\1D_CFD_TUV','V4.5_1D_simple')\n",
    "df_V46_1D = dp.load_pickle(r'G:\\Drive partagés\\Cercle Hard\\R&D\\Modèles numériques PVT\\PVT-PL-model\\Thesis\\1D_CFD_TUV','V4.6_1D_simple')"
   ]
  },
  {
   "cell_type": "code",
   "execution_count": null,
   "metadata": {},
   "outputs": [],
   "source": [
    "df_V46_1D"
   ]
  },
  {
   "cell_type": "code",
   "execution_count": null,
   "metadata": {},
   "outputs": [],
   "source": [
    "# Main plot: plotting L_f0_range on x-axis\n",
    "fig, ax1 = plt.subplots(figsize=(rconfig.wcol_in, rconfig.hfig(0.3, unit=\"in\")))\n",
    "\n",
    "ax1.plot(df_V45['Vdot'], df_V45['PL'], color = colors[0], linestyle = linestyles[1], marker = markers[2], markersize=3, label = 'D18 - Exp.', linewidth=1.5)\n",
    "ax1.plot(df_V45_1D['Vdot'], df_V45_1D['PL_tot_model'], color = colors[5], linestyle = linestyles[0], marker = markers[5], markersize=3, label = 'D18 - 1D Model', linewidth=1.5)\n",
    "ax1.scatter(df_V45_CFD['Vdot'], df_V45_CFD['PL'], color = colors[2], marker = markers[0], label = 'D18 - CFD')\n",
    "\n",
    "ax1.plot(df_V46['Vdot'], df_V46['PL'], color = colors[1], linestyle = linestyles[2], marker = markers[3], markersize=3, label = 'D35 - Exp.', linewidth=1.5)\n",
    "ax1.plot(df_V46_1D['Vdot'], df_V46_1D['PL_tot_model'], color = colors[4], linestyle = linestyles[3], marker = markers[4], markersize=3, label = 'D35 - 1D Model', linewidth=1.5)\n",
    "ax1.scatter(df_V46_CFD['Vdot'], df_V46_CFD['PL'], color = colors[3], marker = markers[1], label = 'D35 - CFD')\n",
    "\n",
    "\n",
    "\n",
    "ax1.grid(linewidth=0.5, color=rconfig.get_hex_code('grey', 70))\n",
    "\n",
    "ax1.set_xlabel('Vdot [L/h]')\n",
    "ax1.set_ylabel('PL [kPa]')\n",
    "\n",
    "fig.legend(loc='upper center', bbox_to_anchor=(0.5, 0.), ncol=2, frameon=False,)"
   ]
  },
  {
   "cell_type": "code",
   "execution_count": null,
   "metadata": {},
   "outputs": [],
   "source": [
    "fig.savefig(r'G:\\Mon Drive\\GitHub\\VDE_thesis\\image\\Chapter_PL\\PL-3-CFD_full_vs_TUV.png', dpi=600)"
   ]
  },
  {
   "cell_type": "code",
   "execution_count": null,
   "metadata": {},
   "outputs": [],
   "source": [
    "# Main plot: plotting L_f0_range on x-axis\n",
    "fig, ax1 = plt.subplots(figsize=(rconfig.wcol_in, rconfig.hfig(0.3, unit=\"in\")))\n",
    "\n",
    "ax1.plot(df_V45_CFD['Vdot'], df_V45_CFD['PL'], color = colors[0], linestyle = linestyles[1], label = 'D18 - CFD model', linewidth=1.5)\n",
    "ax1.plot(df_V46_CFD['Vdot'], df_V46_CFD['PL'], color = colors[1], linestyle = linestyles[2], label = 'D35 - CFD model', linewidth=1.5)\n",
    "ax1.scatter(df_V45_trick['Vdot'], df_V45_trick['PL'], color = colors[2], marker = markers[0], label = 'D18 - Modular CFD')\n",
    "ax1.scatter(df_V46_trick['Vdot'], df_V46_trick['PL'], color = colors[3], marker = markers[1], label = 'D35 - Modular CFD')\n",
    "\n",
    "ax1.grid(linewidth=0.5, color=rconfig.get_hex_code('grey', 70))\n",
    "\n",
    "ax1.set_xlabel('Vdot [L/h]')\n",
    "ax1.set_ylabel('PL [kPa]')\n",
    "\n",
    "fig.legend(loc='upper center', bbox_to_anchor=(0.5, 0.), ncol=2, frameon=False,)"
   ]
  },
  {
   "cell_type": "code",
   "execution_count": null,
   "metadata": {},
   "outputs": [],
   "source": [
    "fig.savefig(r'G:\\Mon Drive\\GitHub\\VDE_thesis\\image\\Chapter_PL\\PL-CFD_full_vs_modular.png', dpi=600)"
   ]
  },
  {
   "cell_type": "code",
   "execution_count": null,
   "metadata": {},
   "outputs": [],
   "source": []
  }
 ],
 "metadata": {
  "kernelspec": {
   "display_name": "RD-env-24",
   "language": "python",
   "name": "python3"
  },
  "language_info": {
   "codemirror_mode": {
    "name": "ipython",
    "version": 3
   },
   "file_extension": ".py",
   "mimetype": "text/x-python",
   "name": "python",
   "nbconvert_exporter": "python",
   "pygments_lexer": "ipython3",
   "version": "3.10.5"
  }
 },
 "nbformat": 4,
 "nbformat_minor": 2
}
