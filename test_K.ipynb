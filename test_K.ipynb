{
 "cells": [
  {
   "cell_type": "code",
   "execution_count": null,
   "metadata": {},
   "outputs": [],
   "source": [
    "import math\n",
    "import pandas as pd\n",
    "import numpy as np\n",
    "from IPython.core.display import HTML\n",
    "from IPython.display import display\n",
    "import fluids as fds\n",
    "import scipy.optimize as sc\n",
    "\n",
    "import matplotlib.pyplot as plt\n",
    "\n",
    "import model_fsolve as modf"
   ]
  },
  {
   "cell_type": "code",
   "execution_count": null,
   "metadata": {},
   "outputs": [],
   "source": [
    "flow_list = np.arange(10,1000)"
   ]
  },
  {
   "cell_type": "code",
   "execution_count": null,
   "metadata": {},
   "outputs": [],
   "source": [
    "# create dataframe from flow_list with name of column Vdot\n",
    "df = pd.DataFrame(flow_list, columns=['Vdot'])"
   ]
  },
  {
   "cell_type": "code",
   "execution_count": null,
   "metadata": {},
   "outputs": [],
   "source": [
    "df['Vdot_m3s'] = df['Vdot']/(3600*1000)"
   ]
  },
  {
   "cell_type": "code",
   "execution_count": null,
   "metadata": {},
   "outputs": [],
   "source": [
    "df['Vdot_m3s_branch'] = df['Vdot_m3s']/10"
   ]
  },
  {
   "cell_type": "code",
   "execution_count": null,
   "metadata": {},
   "outputs": [],
   "source": [
    "df['K_branch_diverging'] = df.apply(lambda x: fds.fittings.K_branch_diverging_Crane(D_run=0.017, D_branch=0.005, Q_run=x['Vdot_m3s'], Q_branch=x['Vdot_m3s_branch'], angle=90), axis=1)\n",
    "df['K_run_diverging'] = df.apply(lambda x: fds.fittings.K_run_diverging_Crane(D_run=0.017, D_branch=0.005, Q_run=x['Vdot_m3s'], Q_branch=x['Vdot_m3s_branch'], angle=90), axis=1)"
   ]
  },
  {
   "cell_type": "code",
   "execution_count": null,
   "metadata": {},
   "outputs": [],
   "source": [
    "plt.plot(df['Vdot'], df['K_branch_diverging'])\n",
    "plt.plot(df['Vdot'], df['K_run_diverging'])\n",
    "plt.show()"
   ]
  },
  {
   "cell_type": "code",
   "execution_count": null,
   "metadata": {},
   "outputs": [],
   "source": []
  }
 ],
 "metadata": {
  "kernelspec": {
   "display_name": "model23",
   "language": "python",
   "name": "python3"
  },
  "language_info": {
   "codemirror_mode": {
    "name": "ipython",
    "version": 3
   },
   "file_extension": ".py",
   "mimetype": "text/x-python",
   "name": "python",
   "nbconvert_exporter": "python",
   "pygments_lexer": "ipython3",
   "version": "3.10.5"
  }
 },
 "nbformat": 4,
 "nbformat_minor": 2
}
