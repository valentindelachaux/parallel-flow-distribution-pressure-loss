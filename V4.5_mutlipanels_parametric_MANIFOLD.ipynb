{
 "cells": [
  {
   "cell_type": "code",
   "execution_count": 10,
   "metadata": {},
   "outputs": [],
   "source": [
    "import sys\n",
    "\n",
    "import pandas as pd\n",
    "import numpy as np\n",
    "import matplotlib.pyplot as plt\n",
    "\n",
    "sys.path.append(\"../RD-systems-and-test-benches/utils\")\n",
    "import model_fsolve as modf\n",
    "import model_fsolve_v2 as modf2\n",
    "\n",
    "import scipy.optimize as sco\n",
    "import scipy.interpolate as sci\n",
    "\n",
    "import hx_hydraulic as hxhy\n",
    "import from_excel as fe\n",
    "import data_plots as dplt\n",
    "\n",
    "import fluids as fds\n",
    "from CoolProp.CoolProp import PropsSI\n",
    "\n",
    "import openpyxl as opxl\n",
    "from sklearn.ensemble import RandomForestRegressor\n",
    "\n",
    "import seaborn as sns\n",
    "import os\n",
    "import plotly.graph_objects as go\n",
    "\n",
    "import utils.data_processing as dp\n",
    "import utils.conversion as conv\n",
    "import copy\n",
    "\n",
    "from plot_config import *"
   ]
  },
  {
   "cell_type": "code",
   "execution_count": 2,
   "metadata": {},
   "outputs": [],
   "source": [
    "path = r\"G:\\Drive partagés\\Cercle Hard\\R&D\\Modèles numériques PVT\\PVT-PL-model\\Inputs\"\n",
    "file_name = \"\\V4.5_wo_interMPE.xlsx\"\n",
    "\n",
    "fluid = {'name':'MPG','glycol_rate':0.4}\n",
    "temperature=conv.to_K(25)\n",
    "\n",
    "hw, par, cond = fe.initialize(path, file_name)\n",
    "fe.change_fluid(cond, fluid)\n",
    "fe.change_temperature(cond, temperature)\n",
    "\n",
    "# tabl, res, PL, residuals = modf.PL_fsolve(par, cond) "
   ]
  },
  {
   "cell_type": "code",
   "execution_count": 3,
   "metadata": {},
   "outputs": [],
   "source": [
    "# df, PL, df_PL, residuals = modf.PL_fsolve(par, cond)"
   ]
  },
  {
   "cell_type": "markdown",
   "metadata": {},
   "source": [
    "### Series for one flow rate but changing geometry"
   ]
  },
  {
   "cell_type": "code",
   "execution_count": 4,
   "metadata": {},
   "outputs": [],
   "source": [
    "D_man_range = np.array([2.2, 1.8, 1.4,1.]) * par['D_man']"
   ]
  },
  {
   "cell_type": "code",
   "execution_count": null,
   "metadata": {},
   "outputs": [],
   "source": [
    "N_panels = 6\n",
    "\n",
    "Vdot = 600\n",
    "Qtot = conv.convert_flow_rate(Vdot, 'L/h', 'm3/s')\n",
    "\n",
    "res_dict = {}\n",
    "\n",
    "testings_path_list = [os.path.join(r\"G:\\Drive partagés\\Cercle Hard\\R&D\\Modèles numériques PVT\\PVT-PL-model\\Thesis\", file_name[1:-5] + f\"change_D_man_{int(D_man*1000)}.xlsx\") for D_man in D_man_range]\n",
    "\n",
    "for i, D_man in enumerate(D_man_range):\n",
    "    print('i ', i)\n",
    "\n",
    "    # Change diameter\n",
    "\n",
    "    hw, par, cond = fe.initialize(path, file_name)\n",
    "    fe.change_fluid(cond, fluid)\n",
    "    fe.change_temperature(cond, temperature)\n",
    "    hw.change_man_diameter(D_man)\n",
    "    par = hw.make_dict()\n",
    "\n",
    "    # Generate abaque\n",
    "\n",
    "    list_Qin = np.linspace(0.05, 0.95, 7)*Qtot\n",
    "    list_alpha = np.linspace(0.05, 0.95, 7)\n",
    "\n",
    "    df_testings = fe.testing_series_Qmax(Qtot, list_Qin, list_alpha, par,cond)\n",
    "    testings_path = testings_path_list[i]\n",
    "    df_testings.to_excel(testings_path, index=False)\n",
    "\n",
    "    # Run abaque for flow rate Vdot (L/h)\n",
    "\n",
    "    testings_path = testings_path_list[i]\n",
    "\n",
    "    df_testings = pd.read_excel(testings_path)\n",
    "    DPin, DPout, DPx = modf2.transfer_func(df_testings)\n",
    "    tabl, residuals = modf2.PL_fsolve_MPE(N_panels , conv.convert_flow_rate(Vdot, 'L/h', 'm3/s'), DPin, DPout, DPx)\n",
    "\n",
    "    res_dict[D_man] = {\n",
    "                        'N_panels' : N_panels,\n",
    "                        'Vdot' : Vdot,\n",
    "                        'tabl' : copy.deepcopy(tabl),\n",
    "                        'residuals' : copy.deepcopy(residuals)\n",
    "                        }\n",
    "\n",
    "    print('---')"
   ]
  },
  {
   "cell_type": "code",
   "execution_count": null,
   "metadata": {},
   "outputs": [],
   "source": [
    "for key in res_dict.keys():\n",
    "    # key = list(res_dict.keys())[1]\n",
    "    tabl = res_dict[key]['tabl']\n",
    "    plt.scatter(tabl.index, tabl['qx']/(tabl['qx'].sum()/N_panels), label=f'D_man = {key*1000} mm')\n",
    "    print('D_man', int(key*1000), ' mm ', tabl['Pin'][0])\n",
    "\n",
    "plt.legend()"
   ]
  },
  {
   "cell_type": "code",
   "execution_count": 12,
   "metadata": {},
   "outputs": [],
   "source": [
    "hw, par, cond = fe.initialize(path, file_name)\n",
    "\n",
    "option = 'MANIFOLD' + '_'\n",
    "\n",
    "for (letter, res_dict, x_range) in zip(['man'], [res_dict], [D_man_range]):\n",
    "\n",
    "    res_dict['parameters'] = {\n",
    "                                'par' : copy.deepcopy(par),\n",
    "                                'cond' : copy.deepcopy(cond),\n",
    "                                'N_panels' : N_panels,\n",
    "                                'Vdot' : Vdot,\n",
    "                                'Qtot' : Qtot,\n",
    "                                'x_range' : x_range\n",
    "                                }\n",
    "\n",
    "    dp.write_pickle(r\"G:\\Drive partagés\\Cercle Hard\\R&D\\Modèles numériques PVT\\PVT-PL-model\\Thesis\", f\"V4.5_multipanels_parametric_{option}res_dict_{letter}\", res_dict)"
   ]
  },
  {
   "cell_type": "code",
   "execution_count": null,
   "metadata": {},
   "outputs": [],
   "source": []
  }
 ],
 "metadata": {
  "kernelspec": {
   "display_name": "RD-env-24",
   "language": "python",
   "name": "python3"
  },
  "language_info": {
   "codemirror_mode": {
    "name": "ipython",
    "version": 3
   },
   "file_extension": ".py",
   "mimetype": "text/x-python",
   "name": "python",
   "nbconvert_exporter": "python",
   "pygments_lexer": "ipython3",
   "version": "3.10.5"
  }
 },
 "nbformat": 4,
 "nbformat_minor": 2
}
