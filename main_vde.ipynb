{
 "cells": [
  {
   "cell_type": "code",
   "execution_count": 1,
   "metadata": {},
   "outputs": [],
   "source": [
    "import sys\n",
    "\n",
    "import pandas as pd\n",
    "import numpy as np\n",
    "import matplotlib.pyplot as plt\n",
    "import plotly.graph_objects as go\n",
    "\n",
    "import torch\n",
    "\n",
    "sys.path.append(\"../RD-systems-and-test-benches/utils\")\n",
    "import model_fsolve as modf\n",
    "import model_torch as modt\n",
    "\n",
    "import scipy.optimize as sco\n",
    "import scipy.interpolate as sci\n",
    "\n",
    "import hx_hydraulic as hxhy\n",
    "import from_excel as fe\n",
    "import data_plots as dplt\n",
    "\n",
    "import fluids as fds\n",
    "from CoolProp.CoolProp import PropsSI\n",
    "\n",
    "import openpyxl as opxl"
   ]
  },
  {
   "cell_type": "code",
   "execution_count": 2,
   "metadata": {},
   "outputs": [],
   "source": [
    "path = r\"G:\\Drive partagés\\BU04-Innovation\\PVT-PL-model\\Inputs\"\n",
    "file_name = \"\\V4.5_MPEx4.xlsx\"\n",
    "hx, par, cond = fe.initialize(path, file_name)"
   ]
  },
  {
   "cell_type": "code",
   "execution_count": 3,
   "metadata": {},
   "outputs": [],
   "source": [
    "X0sol = np.array([1.58630099e+03, 1.58628546e+03, 1.58627887e+03, 1.58629695e+03,\n",
    "       1.58635472e+03, 1.58646660e+03, 1.58664636e+03, 1.58690725e+03,\n",
    "       1.58726198e+03, 1.58772280e+03, 1.58830148e+03, 1.58900942e+03,\n",
    "       1.58985761e+03, 1.59085671e+03, 1.59201707e+03, 1.59334876e+03,\n",
    "       1.59488532e+03, 1.59658887e+03, 1.59849252e+03, 1.60060548e+03,\n",
    "       1.60293684e+03, 1.60549554e+03, 1.60829044e+03, 1.61133034e+03,\n",
    "       1.61462398e+03, 1.61818008e+03, 1.62200736e+03, 1.62611457e+03,\n",
    "       1.63051047e+03, 1.63520582e+03, 1.64020782e+03, 1.64552553e+03,\n",
    "       1.65124081e+03, 1.65721767e+03, 1.66353827e+03, 1.67021232e+03,\n",
    "       1.67724975e+03, 1.68466072e+03, 1.69245566e+03, 1.70064526e+03,\n",
    "       1.70924055e+03, 1.71825285e+03, 1.72769387e+03, 1.73757566e+03,\n",
    "       1.74791069e+03, 1.75871185e+03, 1.76999249e+03, 1.78176640e+03,\n",
    "       1.79418446e+03, 1.80698841e+03, 1.82033026e+03, 1.83422598e+03,\n",
    "       1.84869220e+03, 1.86374616e+03, 1.87940580e+03, 1.89568978e+03,\n",
    "       1.91261748e+03, 1.93020910e+03, 1.94848561e+03, 1.96746890e+03,\n",
    "       1.98836954e+03, 2.01121117e+03, 2.03839468e+03, 2.07469809e+03,\n",
    "       1.31141532e-22, 2.46575697e+01, 4.84148072e+01, 7.13017751e+01,\n",
    "       9.33473081e+01, 1.14579067e+02, 1.35023589e+02, 1.54706339e+02,\n",
    "       1.73651756e+02, 1.91883299e+02, 2.09423488e+02, 2.26293952e+02,\n",
    "       2.42515464e+02, 2.58107981e+02, 2.73090685e+02, 2.87482013e+02,\n",
    "       3.01430899e+02, 3.14691955e+02, 3.27412891e+02, 3.39609511e+02,\n",
    "       3.51297044e+02, 3.62490166e+02, 3.73203032e+02, 3.83449306e+02,\n",
    "       3.93242180e+02, 4.02594411e+02, 4.11518336e+02, 4.20025903e+02,\n",
    "       4.28128696e+02, 4.35837952e+02, 4.43164594e+02, 4.50119246e+02,\n",
    "       4.56780850e+02, 4.63022323e+02, 4.68922125e+02, 4.74488238e+02,\n",
    "       4.79731972e+02, 4.84662635e+02, 4.89289394e+02, 4.93621294e+02,\n",
    "       4.97667281e+02, 5.01436224e+02, 5.04936936e+02, 5.08178197e+02,\n",
    "       5.11168776e+02, 5.13917451e+02, 5.16433036e+02, 5.18724399e+02,\n",
    "       5.20822742e+02, 5.22692639e+02, 5.24365489e+02, 5.25850635e+02,\n",
    "       5.27157601e+02, 5.28296116e+02, 5.29276148e+02, 5.30107925e+02,\n",
    "       5.30801971e+02, 5.31369131e+02, 5.31820604e+02, 5.32167976e+02,\n",
    "       5.32423254e+02, 5.32598938e+02, 5.32707930e+02, 5.32763651e+02,\n",
    "       1.02728407e-06, 1.01197506e-06, 9.97234534e-07, 9.83054489e-07,\n",
    "       9.69427215e-07, 9.56345290e-07, 9.43801580e-07, 9.31789231e-07,\n",
    "       9.20301669e-07, 9.09332599e-07, 8.98875997e-07, 8.88926111e-07,\n",
    "       8.79477459e-07, 8.70524826e-07, 8.62063258e-07, 8.54088065e-07,\n",
    "       8.46523075e-07, 8.39507570e-07, 8.32965879e-07, 8.26894341e-07,\n",
    "       8.21289542e-07, 8.16148324e-07, 8.11467775e-07, 8.07245233e-07,\n",
    "       8.03478280e-07, 8.00164745e-07, 7.97302703e-07, 7.94890469e-07,\n",
    "       7.92926604e-07, 7.91411157e-07, 7.90342030e-07, 7.89718511e-07,\n",
    "       7.89542849e-07, 7.89809368e-07, 7.90520800e-07, 7.91678513e-07,\n",
    "       7.93281772e-07, 7.95331308e-07, 7.97828094e-07, 8.00773339e-07,\n",
    "       8.04168497e-07, 8.08015261e-07, 8.12315566e-07, 8.17071593e-07,\n",
    "       8.22285762e-07, 8.27960740e-07, 8.34099440e-07, 8.40705021e-07,\n",
    "       8.47857204e-07, 8.55407027e-07, 8.63434745e-07, 8.71944517e-07,\n",
    "       8.80940759e-07, 8.90428139e-07, 9.00411587e-07, 9.10896290e-07,\n",
    "       9.21887698e-07, 9.33391524e-07, 9.45413749e-07, 9.57960621e-07,\n",
    "       9.71831656e-07, 9.87033639e-07, 1.00516001e-06, 1.02939078e-06])"
   ]
  },
  {
   "cell_type": "code",
   "execution_count": 4,
   "metadata": {},
   "outputs": [],
   "source": [
    "X0sol_tensor = torch.tensor(X0sol, requires_grad=True)\n",
    "\n",
    "X0 = modf.initialize([],par,cond)\n",
    "X0_tensor = torch.tensor(X0, requires_grad=True)\n",
    "q_vect = X0[par['N']*2:par['N']*3]\n",
    "q_tensor = torch.tensor(q_vect, requires_grad=True)"
   ]
  },
  {
   "cell_type": "code",
   "execution_count": 5,
   "metadata": {},
   "outputs": [],
   "source": [
    "f = lambda X : modt.fun_wo_square(X,par,cond)"
   ]
  },
  {
   "cell_type": "code",
   "execution_count": 6,
   "metadata": {},
   "outputs": [
    {
     "data": {
      "text/plain": [
       "True"
      ]
     },
     "execution_count": 6,
     "metadata": {},
     "output_type": "execute_result"
    }
   ],
   "source": [
    "X0sol_tensor.is_leaf"
   ]
  },
  {
   "cell_type": "code",
   "execution_count": 7,
   "metadata": {},
   "outputs": [],
   "source": [
    "variations = []\n",
    "variations.append(X0sol_tensor)\n",
    "percentage = 0.05  # 1% variation\n",
    "\n",
    "for _ in range(10):\n",
    "    variation = X0sol_tensor.clone()  # Clone the original tensor\n",
    "\n",
    "    # Create an empty tensor for the updated values\n",
    "    updated_variation = torch.empty_like(variation)\n",
    "\n",
    "    for i in range(len(variation)):\n",
    "        # Generate a random number 0 or 1\n",
    "        rand_int = torch.randint(0, 2, (1,))\n",
    "\n",
    "        # Map 0 to -1 and 1 to 1\n",
    "        sign = -1 if rand_int.item() == 0 else 1\n",
    "\n",
    "        # Perform the operation and assign to the new tensor\n",
    "        updated_variation[i] = (1 + sign * percentage) * variation[i]\n",
    "\n",
    "    # Replace the variation tensor with the updated tensor\n",
    "    variation = updated_variation.clone().detach().requires_grad_(True)\n",
    "    variations.append(variation)"
   ]
  },
  {
   "cell_type": "code",
   "execution_count": 8,
   "metadata": {},
   "outputs": [],
   "source": [
    "fig = go.Figure()\n",
    "\n",
    "loss_table = []\n",
    "\n",
    "for i,tens in enumerate(variations):\n",
    "\n",
    "    torch.autograd.grad(f(tens),tens)\n",
    "\n",
    "    niters = 10\n",
    "\n",
    "    losses = [f(tens).item()]\n",
    "\n",
    "    optim = torch.optim.Adam([tens], lr=0.000001)\n",
    "    # optim = torch.optim.SGD([tens], lr=0.0001, momentum=0.9)\n",
    "\n",
    "    for j in range(niters):\n",
    "        optim.zero_grad()\n",
    "\n",
    "        loss = f(tens)\n",
    "\n",
    "        loss.backward()\n",
    "        optim.step()\n",
    "\n",
    "        losses.append(loss.item())\n",
    "\n",
    "    loss_table.append(losses)\n",
    "\n",
    "    fig.add_trace(go.Scatter(y=losses, mode='markers+lines', name=str(i)))\n",
    "\n",
    "fig = fig.update_layout(yaxis_type='log')\n",
    "\n",
    "loss_df = pd.DataFrame(loss_table)[::-1]"
   ]
  },
  {
   "cell_type": "code",
   "execution_count": 9,
   "metadata": {},
   "outputs": [
    {
     "data": {
      "application/vnd.plotly.v1+json": {
       "config": {
        "plotlyServerURL": "https://plot.ly"
       },
       "data": [
        {
         "mode": "markers+lines",
         "name": "0",
         "type": "scatter",
         "y": [
          0.002400386430107096,
          0.002400386430107096,
          94508.49108126166,
          89534.41704409884,
          51523.34363607241,
          2922.5343194750358,
          20990.09807291899,
          15032.018453016997,
          7905.280369262633,
          10216.081028631605,
          3283.7422968148094
         ]
        },
        {
         "mode": "markers+lines",
         "name": "1",
         "type": "scatter",
         "y": [
          12284.999840954268,
          12284.999840954268,
          97132.88227935598,
          92159.89153939,
          54156.23433649974,
          15200.297589749578,
          33241.93912763336,
          27291.086597732505,
          11771.617542010752,
          23936.278386634058,
          27264.200731069628
         ]
        },
        {
         "mode": "markers+lines",
         "name": "2",
         "type": "scatter",
         "y": [
          13076.617722062618,
          13076.617722062618,
          96196.02029774155,
          91221.31978117715,
          53205.54205806144,
          15991.92119975202,
          34041.99145793802,
          28088.61713950468,
          11332.992516227816,
          27181.192783814433,
          32382.30445538604
         ]
        },
        {
         "mode": "markers+lines",
         "name": "3",
         "type": "scatter",
         "y": [
          11571.781097806484,
          11571.781097806484,
          97262.56248578959,
          92285.0026522161,
          54250.18849251452,
          14488.035825726964,
          32544.440071260786,
          26589.01746073038,
          11970.934281383168,
          24552.492895044164,
          27002.40038272554
         ]
        },
        {
         "mode": "markers+lines",
         "name": "4",
         "type": "scatter",
         "y": [
          12482.545394101715,
          12482.545394101715,
          96685.21173364155,
          91713.64490621575,
          53722.01695251279,
          15397.753275155063,
          33438.58838515844,
          27489.38837455062,
          11655.574924179096,
          24544.78314277895,
          28345.086283191467
         ]
        },
        {
         "mode": "markers+lines",
         "name": "5",
         "type": "scatter",
         "y": [
          10638.586738272072,
          10638.586738272072,
          96393.35120471648,
          91402.69039378276,
          53275.5083407001,
          13554.566210102086,
          31651.766893080217,
          25682.351485957166,
          10869.32205321464,
          22999.299066809675,
          25540.056723591806
         ]
        },
        {
         "mode": "markers+lines",
         "name": "6",
         "type": "scatter",
         "y": [
          11338.283267684485,
          11338.283267684485,
          96605.88805853775,
          91634.18152654912,
          53628.320800491005,
          14255.103519437254,
          32300.576619157408,
          26349.137331635116,
          11339.107792308747,
          21817.39004850639,
          24333.958985401383
         ]
        },
        {
         "mode": "markers+lines",
         "name": "7",
         "type": "scatter",
         "y": [
          11731.533430957705,
          11731.533430957705,
          96364.46845639347,
          91391.50329648539,
          53389.16849296993,
          14646.232061290308,
          32686.993191264333,
          26735.795225318732,
          10925.945795972564,
          23159.72955243701,
          26740.21085974693
         ]
        },
        {
         "mode": "markers+lines",
         "name": "8",
         "type": "scatter",
         "y": [
          12425.950749612877,
          12425.950749612877,
          95631.54593379234,
          90656.64623026505,
          52639.63698906509,
          15343.090144779319,
          33392.210416797534,
          27438.540891711575,
          10875.463253913087,
          25032.644749774987,
          29786.174609349193
         ]
        },
        {
         "mode": "markers+lines",
         "name": "9",
         "type": "scatter",
         "y": [
          12362.560872385015,
          12362.560872385015,
          96126.79103914849,
          91111.08381918116,
          52802.82092860341,
          15281.220496259251,
          33421.17161119228,
          27433.339990885448,
          10651.523332353554,
          25520.854887694124,
          30419.82834346524
         ]
        },
        {
         "mode": "markers+lines",
         "name": "10",
         "type": "scatter",
         "y": [
          11509.511458872343,
          11509.511458872343,
          96765.94517329875,
          91751.70868526625,
          53466.3701076459,
          14435.031791642448,
          32580.16624474342,
          26594.98523122022,
          11090.75869243952,
          24075.681835054253,
          27350.98983596907
         ]
        }
       ],
       "layout": {
        "template": {
         "data": {
          "bar": [
           {
            "error_x": {
             "color": "#2a3f5f"
            },
            "error_y": {
             "color": "#2a3f5f"
            },
            "marker": {
             "line": {
              "color": "#E5ECF6",
              "width": 0.5
             },
             "pattern": {
              "fillmode": "overlay",
              "size": 10,
              "solidity": 0.2
             }
            },
            "type": "bar"
           }
          ],
          "barpolar": [
           {
            "marker": {
             "line": {
              "color": "#E5ECF6",
              "width": 0.5
             },
             "pattern": {
              "fillmode": "overlay",
              "size": 10,
              "solidity": 0.2
             }
            },
            "type": "barpolar"
           }
          ],
          "carpet": [
           {
            "aaxis": {
             "endlinecolor": "#2a3f5f",
             "gridcolor": "white",
             "linecolor": "white",
             "minorgridcolor": "white",
             "startlinecolor": "#2a3f5f"
            },
            "baxis": {
             "endlinecolor": "#2a3f5f",
             "gridcolor": "white",
             "linecolor": "white",
             "minorgridcolor": "white",
             "startlinecolor": "#2a3f5f"
            },
            "type": "carpet"
           }
          ],
          "choropleth": [
           {
            "colorbar": {
             "outlinewidth": 0,
             "ticks": ""
            },
            "type": "choropleth"
           }
          ],
          "contour": [
           {
            "colorbar": {
             "outlinewidth": 0,
             "ticks": ""
            },
            "colorscale": [
             [
              0,
              "#0d0887"
             ],
             [
              0.1111111111111111,
              "#46039f"
             ],
             [
              0.2222222222222222,
              "#7201a8"
             ],
             [
              0.3333333333333333,
              "#9c179e"
             ],
             [
              0.4444444444444444,
              "#bd3786"
             ],
             [
              0.5555555555555556,
              "#d8576b"
             ],
             [
              0.6666666666666666,
              "#ed7953"
             ],
             [
              0.7777777777777778,
              "#fb9f3a"
             ],
             [
              0.8888888888888888,
              "#fdca26"
             ],
             [
              1,
              "#f0f921"
             ]
            ],
            "type": "contour"
           }
          ],
          "contourcarpet": [
           {
            "colorbar": {
             "outlinewidth": 0,
             "ticks": ""
            },
            "type": "contourcarpet"
           }
          ],
          "heatmap": [
           {
            "colorbar": {
             "outlinewidth": 0,
             "ticks": ""
            },
            "colorscale": [
             [
              0,
              "#0d0887"
             ],
             [
              0.1111111111111111,
              "#46039f"
             ],
             [
              0.2222222222222222,
              "#7201a8"
             ],
             [
              0.3333333333333333,
              "#9c179e"
             ],
             [
              0.4444444444444444,
              "#bd3786"
             ],
             [
              0.5555555555555556,
              "#d8576b"
             ],
             [
              0.6666666666666666,
              "#ed7953"
             ],
             [
              0.7777777777777778,
              "#fb9f3a"
             ],
             [
              0.8888888888888888,
              "#fdca26"
             ],
             [
              1,
              "#f0f921"
             ]
            ],
            "type": "heatmap"
           }
          ],
          "heatmapgl": [
           {
            "colorbar": {
             "outlinewidth": 0,
             "ticks": ""
            },
            "colorscale": [
             [
              0,
              "#0d0887"
             ],
             [
              0.1111111111111111,
              "#46039f"
             ],
             [
              0.2222222222222222,
              "#7201a8"
             ],
             [
              0.3333333333333333,
              "#9c179e"
             ],
             [
              0.4444444444444444,
              "#bd3786"
             ],
             [
              0.5555555555555556,
              "#d8576b"
             ],
             [
              0.6666666666666666,
              "#ed7953"
             ],
             [
              0.7777777777777778,
              "#fb9f3a"
             ],
             [
              0.8888888888888888,
              "#fdca26"
             ],
             [
              1,
              "#f0f921"
             ]
            ],
            "type": "heatmapgl"
           }
          ],
          "histogram": [
           {
            "marker": {
             "pattern": {
              "fillmode": "overlay",
              "size": 10,
              "solidity": 0.2
             }
            },
            "type": "histogram"
           }
          ],
          "histogram2d": [
           {
            "colorbar": {
             "outlinewidth": 0,
             "ticks": ""
            },
            "colorscale": [
             [
              0,
              "#0d0887"
             ],
             [
              0.1111111111111111,
              "#46039f"
             ],
             [
              0.2222222222222222,
              "#7201a8"
             ],
             [
              0.3333333333333333,
              "#9c179e"
             ],
             [
              0.4444444444444444,
              "#bd3786"
             ],
             [
              0.5555555555555556,
              "#d8576b"
             ],
             [
              0.6666666666666666,
              "#ed7953"
             ],
             [
              0.7777777777777778,
              "#fb9f3a"
             ],
             [
              0.8888888888888888,
              "#fdca26"
             ],
             [
              1,
              "#f0f921"
             ]
            ],
            "type": "histogram2d"
           }
          ],
          "histogram2dcontour": [
           {
            "colorbar": {
             "outlinewidth": 0,
             "ticks": ""
            },
            "colorscale": [
             [
              0,
              "#0d0887"
             ],
             [
              0.1111111111111111,
              "#46039f"
             ],
             [
              0.2222222222222222,
              "#7201a8"
             ],
             [
              0.3333333333333333,
              "#9c179e"
             ],
             [
              0.4444444444444444,
              "#bd3786"
             ],
             [
              0.5555555555555556,
              "#d8576b"
             ],
             [
              0.6666666666666666,
              "#ed7953"
             ],
             [
              0.7777777777777778,
              "#fb9f3a"
             ],
             [
              0.8888888888888888,
              "#fdca26"
             ],
             [
              1,
              "#f0f921"
             ]
            ],
            "type": "histogram2dcontour"
           }
          ],
          "mesh3d": [
           {
            "colorbar": {
             "outlinewidth": 0,
             "ticks": ""
            },
            "type": "mesh3d"
           }
          ],
          "parcoords": [
           {
            "line": {
             "colorbar": {
              "outlinewidth": 0,
              "ticks": ""
             }
            },
            "type": "parcoords"
           }
          ],
          "pie": [
           {
            "automargin": true,
            "type": "pie"
           }
          ],
          "scatter": [
           {
            "fillpattern": {
             "fillmode": "overlay",
             "size": 10,
             "solidity": 0.2
            },
            "type": "scatter"
           }
          ],
          "scatter3d": [
           {
            "line": {
             "colorbar": {
              "outlinewidth": 0,
              "ticks": ""
             }
            },
            "marker": {
             "colorbar": {
              "outlinewidth": 0,
              "ticks": ""
             }
            },
            "type": "scatter3d"
           }
          ],
          "scattercarpet": [
           {
            "marker": {
             "colorbar": {
              "outlinewidth": 0,
              "ticks": ""
             }
            },
            "type": "scattercarpet"
           }
          ],
          "scattergeo": [
           {
            "marker": {
             "colorbar": {
              "outlinewidth": 0,
              "ticks": ""
             }
            },
            "type": "scattergeo"
           }
          ],
          "scattergl": [
           {
            "marker": {
             "colorbar": {
              "outlinewidth": 0,
              "ticks": ""
             }
            },
            "type": "scattergl"
           }
          ],
          "scattermapbox": [
           {
            "marker": {
             "colorbar": {
              "outlinewidth": 0,
              "ticks": ""
             }
            },
            "type": "scattermapbox"
           }
          ],
          "scatterpolar": [
           {
            "marker": {
             "colorbar": {
              "outlinewidth": 0,
              "ticks": ""
             }
            },
            "type": "scatterpolar"
           }
          ],
          "scatterpolargl": [
           {
            "marker": {
             "colorbar": {
              "outlinewidth": 0,
              "ticks": ""
             }
            },
            "type": "scatterpolargl"
           }
          ],
          "scatterternary": [
           {
            "marker": {
             "colorbar": {
              "outlinewidth": 0,
              "ticks": ""
             }
            },
            "type": "scatterternary"
           }
          ],
          "surface": [
           {
            "colorbar": {
             "outlinewidth": 0,
             "ticks": ""
            },
            "colorscale": [
             [
              0,
              "#0d0887"
             ],
             [
              0.1111111111111111,
              "#46039f"
             ],
             [
              0.2222222222222222,
              "#7201a8"
             ],
             [
              0.3333333333333333,
              "#9c179e"
             ],
             [
              0.4444444444444444,
              "#bd3786"
             ],
             [
              0.5555555555555556,
              "#d8576b"
             ],
             [
              0.6666666666666666,
              "#ed7953"
             ],
             [
              0.7777777777777778,
              "#fb9f3a"
             ],
             [
              0.8888888888888888,
              "#fdca26"
             ],
             [
              1,
              "#f0f921"
             ]
            ],
            "type": "surface"
           }
          ],
          "table": [
           {
            "cells": {
             "fill": {
              "color": "#EBF0F8"
             },
             "line": {
              "color": "white"
             }
            },
            "header": {
             "fill": {
              "color": "#C8D4E3"
             },
             "line": {
              "color": "white"
             }
            },
            "type": "table"
           }
          ]
         },
         "layout": {
          "annotationdefaults": {
           "arrowcolor": "#2a3f5f",
           "arrowhead": 0,
           "arrowwidth": 1
          },
          "autotypenumbers": "strict",
          "coloraxis": {
           "colorbar": {
            "outlinewidth": 0,
            "ticks": ""
           }
          },
          "colorscale": {
           "diverging": [
            [
             0,
             "#8e0152"
            ],
            [
             0.1,
             "#c51b7d"
            ],
            [
             0.2,
             "#de77ae"
            ],
            [
             0.3,
             "#f1b6da"
            ],
            [
             0.4,
             "#fde0ef"
            ],
            [
             0.5,
             "#f7f7f7"
            ],
            [
             0.6,
             "#e6f5d0"
            ],
            [
             0.7,
             "#b8e186"
            ],
            [
             0.8,
             "#7fbc41"
            ],
            [
             0.9,
             "#4d9221"
            ],
            [
             1,
             "#276419"
            ]
           ],
           "sequential": [
            [
             0,
             "#0d0887"
            ],
            [
             0.1111111111111111,
             "#46039f"
            ],
            [
             0.2222222222222222,
             "#7201a8"
            ],
            [
             0.3333333333333333,
             "#9c179e"
            ],
            [
             0.4444444444444444,
             "#bd3786"
            ],
            [
             0.5555555555555556,
             "#d8576b"
            ],
            [
             0.6666666666666666,
             "#ed7953"
            ],
            [
             0.7777777777777778,
             "#fb9f3a"
            ],
            [
             0.8888888888888888,
             "#fdca26"
            ],
            [
             1,
             "#f0f921"
            ]
           ],
           "sequentialminus": [
            [
             0,
             "#0d0887"
            ],
            [
             0.1111111111111111,
             "#46039f"
            ],
            [
             0.2222222222222222,
             "#7201a8"
            ],
            [
             0.3333333333333333,
             "#9c179e"
            ],
            [
             0.4444444444444444,
             "#bd3786"
            ],
            [
             0.5555555555555556,
             "#d8576b"
            ],
            [
             0.6666666666666666,
             "#ed7953"
            ],
            [
             0.7777777777777778,
             "#fb9f3a"
            ],
            [
             0.8888888888888888,
             "#fdca26"
            ],
            [
             1,
             "#f0f921"
            ]
           ]
          },
          "colorway": [
           "#636efa",
           "#EF553B",
           "#00cc96",
           "#ab63fa",
           "#FFA15A",
           "#19d3f3",
           "#FF6692",
           "#B6E880",
           "#FF97FF",
           "#FECB52"
          ],
          "font": {
           "color": "#2a3f5f"
          },
          "geo": {
           "bgcolor": "white",
           "lakecolor": "white",
           "landcolor": "#E5ECF6",
           "showlakes": true,
           "showland": true,
           "subunitcolor": "white"
          },
          "hoverlabel": {
           "align": "left"
          },
          "hovermode": "closest",
          "mapbox": {
           "style": "light"
          },
          "paper_bgcolor": "white",
          "plot_bgcolor": "#E5ECF6",
          "polar": {
           "angularaxis": {
            "gridcolor": "white",
            "linecolor": "white",
            "ticks": ""
           },
           "bgcolor": "#E5ECF6",
           "radialaxis": {
            "gridcolor": "white",
            "linecolor": "white",
            "ticks": ""
           }
          },
          "scene": {
           "xaxis": {
            "backgroundcolor": "#E5ECF6",
            "gridcolor": "white",
            "gridwidth": 2,
            "linecolor": "white",
            "showbackground": true,
            "ticks": "",
            "zerolinecolor": "white"
           },
           "yaxis": {
            "backgroundcolor": "#E5ECF6",
            "gridcolor": "white",
            "gridwidth": 2,
            "linecolor": "white",
            "showbackground": true,
            "ticks": "",
            "zerolinecolor": "white"
           },
           "zaxis": {
            "backgroundcolor": "#E5ECF6",
            "gridcolor": "white",
            "gridwidth": 2,
            "linecolor": "white",
            "showbackground": true,
            "ticks": "",
            "zerolinecolor": "white"
           }
          },
          "shapedefaults": {
           "line": {
            "color": "#2a3f5f"
           }
          },
          "ternary": {
           "aaxis": {
            "gridcolor": "white",
            "linecolor": "white",
            "ticks": ""
           },
           "baxis": {
            "gridcolor": "white",
            "linecolor": "white",
            "ticks": ""
           },
           "bgcolor": "#E5ECF6",
           "caxis": {
            "gridcolor": "white",
            "linecolor": "white",
            "ticks": ""
           }
          },
          "title": {
           "x": 0.05
          },
          "xaxis": {
           "automargin": true,
           "gridcolor": "white",
           "linecolor": "white",
           "ticks": "",
           "title": {
            "standoff": 15
           },
           "zerolinecolor": "white",
           "zerolinewidth": 2
          },
          "yaxis": {
           "automargin": true,
           "gridcolor": "white",
           "linecolor": "white",
           "ticks": "",
           "title": {
            "standoff": 15
           },
           "zerolinecolor": "white",
           "zerolinewidth": 2
          }
         }
        },
        "yaxis": {
         "type": "log"
        }
       }
      }
     },
     "metadata": {},
     "output_type": "display_data"
    }
   ],
   "source": [
    "fig.show()"
   ]
  },
  {
   "cell_type": "code",
   "execution_count": null,
   "metadata": {},
   "outputs": [],
   "source": [
    "leq = modf.fun(X0, par, cond)"
   ]
  },
  {
   "cell_type": "code",
   "execution_count": null,
   "metadata": {},
   "outputs": [],
   "source": [
    "sum_squares = np.sum(np.square(leq))"
   ]
  },
  {
   "cell_type": "code",
   "execution_count": null,
   "metadata": {},
   "outputs": [],
   "source": [
    "sum_squares"
   ]
  },
  {
   "cell_type": "code",
   "execution_count": null,
   "metadata": {},
   "outputs": [],
   "source": [
    "torch_fun(X0_tensor, par, cond)"
   ]
  },
  {
   "cell_type": "code",
   "execution_count": null,
   "metadata": {},
   "outputs": [],
   "source": [
    "i=1"
   ]
  },
  {
   "cell_type": "code",
   "execution_count": null,
   "metadata": {},
   "outputs": [],
   "source": [
    "torch.square(torch.abs(x[i]) - torch.abs(x[i-1]) - (rho/2)*(uin[i-1]**2-uin[i]**2 + (fin[i]*Ly_list[i-1]*uin[i]**2)/Din + Ky_in[i]*uin[i-1]**2 + K_se[i] * uin[N-1]**2))"
   ]
  }
 ],
 "metadata": {
  "kernelspec": {
   "display_name": "model23",
   "language": "python",
   "name": "python3"
  },
  "language_info": {
   "codemirror_mode": {
    "name": "ipython",
    "version": 3
   },
   "file_extension": ".py",
   "mimetype": "text/x-python",
   "name": "python",
   "nbconvert_exporter": "python",
   "pygments_lexer": "ipython3",
   "version": "3.10.5"
  }
 },
 "nbformat": 4,
 "nbformat_minor": 2
}
