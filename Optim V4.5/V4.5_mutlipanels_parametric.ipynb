{
 "cells": [
  {
   "cell_type": "code",
   "execution_count": 1,
   "metadata": {},
   "outputs": [],
   "source": [
    "import sys\n",
    "\n",
    "import pandas as pd\n",
    "import numpy as np\n",
    "import matplotlib.pyplot as plt\n",
    "\n",
    "sys.path.append(\"../RD-systems-and-test-benches/utils\")\n",
    "import model_fsolve as modf\n",
    "import model_fsolve_v2 as modf2\n",
    "\n",
    "import scipy.optimize as sco\n",
    "import scipy.interpolate as sci\n",
    "\n",
    "import hx_hydraulic as hxhy\n",
    "import from_excel as fe\n",
    "import data_plots as dplt\n",
    "\n",
    "import fluids as fds\n",
    "from CoolProp.CoolProp import PropsSI\n",
    "\n",
    "import openpyxl as opxl\n",
    "from sklearn.ensemble import RandomForestRegressor\n",
    "\n",
    "import seaborn as sns\n",
    "import os\n",
    "import plotly.graph_objects as go\n",
    "\n",
    "import utils.data_processing as dp\n",
    "import utils.conversion as conv\n",
    "import copy\n",
    "\n",
    "from plot_config import *"
   ]
  },
  {
   "cell_type": "code",
   "execution_count": 2,
   "metadata": {},
   "outputs": [],
   "source": [
    "path = r\"G:\\Drive partagés\\Cercle Hard\\R&D\\Modèles numériques PVT\\PVT-PL-model\\Inputs\"\n",
    "file_name = \"\\V4.5_wo_interMPE.xlsx\"\n",
    "hw, par, cond = fe.initialize(path, file_name)\n",
    "\n",
    "fluid = {'name':'MPG','glycol_rate':0.4}\n",
    "\n",
    "# tabl, res, PL, residuals = modf.PL_fsolve(par, cond) "
   ]
  },
  {
   "cell_type": "code",
   "execution_count": 9,
   "metadata": {},
   "outputs": [],
   "source": [
    "df, PL, df_PL, residuals = modf.PL_fsolve(par, cond) "
   ]
  },
  {
   "cell_type": "code",
   "execution_count": null,
   "metadata": {},
   "outputs": [],
   "source": [
    "PL"
   ]
  },
  {
   "cell_type": "code",
   "execution_count": null,
   "metadata": {},
   "outputs": [],
   "source": [
    "plt.scatter(df.index, df['qx']/(df['qx'].sum()/304), label='qx')"
   ]
  },
  {
   "cell_type": "markdown",
   "metadata": {},
   "source": [
    "### Series for multiple total flow rates (Qdot)"
   ]
  },
  {
   "cell_type": "code",
   "execution_count": null,
   "metadata": {},
   "outputs": [],
   "source": [
    "Vdot_list = [600]\n",
    "# list_Qtot = np.arange(50,1050, 50)/3600000\n",
    "Qtot_list = [conv.convert_flow_rate(Vdot, 'L/h', 'm3/s') for Vdot in Vdot_list]\n",
    "\n",
    "N = 6\n",
    "\n",
    "testings_path_list = [os.path.join(r\"G:\\Drive partagés\\Cercle Hard\\R&D\\Modèles numériques PVT\\PVT-PL-model\\Thesis\", file_name[1:-5] + f\"_test_{int(Vdot)}Lh.xlsx\") for Vdot in Vdot_list]\n",
    "\n",
    "for i, Qtot in enumerate(Qtot_list):\n",
    "    # list_Qin = np.arange(0.1, 1.1, 0.1)*Qtot\n",
    "    # list_alpha = np.arange(0.05, 1.05, 0.05)\n",
    "    list_Qin = np.linspace(0.05, 0.95, 7)*Qtot\n",
    "    list_alpha = np.linspace(0.05, 0.95, 7)\n",
    "\n",
    "    df_testings = fe.testing_series_Qmax(Qtot, list_Qin, list_alpha, par,cond)\n",
    "    testings_path = testings_path_list[i]\n",
    "    df_testings.to_excel(testings_path, index=False)\n",
    "\n",
    "\n",
    "Vdot = Vdot_list[0]\n",
    "testings_path = testings_path_list[0]\n",
    "\n",
    "df_testings = pd.read_excel(testings_path)\n",
    "DPin, DPout, DPx = modf2.transfer_func(df_testings)\n",
    "tabl, residuals = modf2.PL_fsolve_MPE(N, conv.convert_flow_rate(Vdot, 'L/h', 'm3/s'), DPin, DPout, DPx)"
   ]
  },
  {
   "cell_type": "markdown",
   "metadata": {},
   "source": [
    "### Series for one flow rate but changing geometry"
   ]
  },
  {
   "cell_type": "code",
   "execution_count": 4,
   "metadata": {},
   "outputs": [],
   "source": [
    "def find_other_dimension(Dh, side):\n",
    "    \"\"\"\n",
    "    Calculate the height h of a rectangular tube given the hydraulic diameter Dh and width w.\n",
    "    \"\"\"\n",
    "    if 2 * side <= Dh:\n",
    "        raise ValueError(\"Invalid dimensions: 2 * w should be >  Dh\")\n",
    "    return (Dh * side) / (2 * side - Dh)"
   ]
  },
  {
   "cell_type": "code",
   "execution_count": 5,
   "metadata": {},
   "outputs": [],
   "source": [
    "D_riser_range = np.array([1.4,1.2,1.,0.8,0.6]) * par['D_riser']"
   ]
  },
  {
   "cell_type": "code",
   "execution_count": null,
   "metadata": {},
   "outputs": [],
   "source": [
    "hw, par, cond = fe.initialize(path, file_name)\n",
    "N_panels = 6\n",
    "\n",
    "Vdot = 600\n",
    "Qtot = conv.convert_flow_rate(Vdot, 'L/h', 'm3/s')\n",
    "\n",
    "h_riser_range = [find_other_dimension(D_riser, par['w_riser']) for D_riser in D_riser_range]\n",
    "print(h_riser_range)\n",
    "res_dict_h = {}\n",
    "\n",
    "testings_path_list = [os.path.join(r\"G:\\Drive partagés\\Cercle Hard\\R&D\\Modèles numériques PVT\\PVT-PL-model\\Thesis\", file_name[1:-5] + f\"change_h_riser_{int(h_riser*1000)}.xlsx\") for h_riser in h_riser_range]\n",
    "\n",
    "for i, h_riser in enumerate(h_riser_range):\n",
    "    print('i ', i)\n",
    "\n",
    "    # Change diameter\n",
    "\n",
    "    hw.change_riser_height(h_riser)\n",
    "    par = hw.make_dict()\n",
    "\n",
    "    # Generate abaque\n",
    "\n",
    "    list_Qin = np.linspace(0.05, 0.95, 7)*Qtot\n",
    "    list_alpha = np.linspace(0.05, 0.95, 7)\n",
    "\n",
    "    df_testings = fe.testing_series_Qmax(Qtot, list_Qin, list_alpha, par,cond)\n",
    "    testings_path = testings_path_list[i]\n",
    "    df_testings.to_excel(testings_path, index=False)\n",
    "\n",
    "    # Run abaque for flow rate Vdot (L/h)\n",
    "\n",
    "    testings_path = testings_path_list[i]\n",
    "\n",
    "    df_testings = pd.read_excel(testings_path)\n",
    "    DPin, DPout, DPx = modf2.transfer_func(df_testings)\n",
    "    tabl, residuals = modf2.PL_fsolve_MPE(N_panels , conv.convert_flow_rate(Vdot, 'L/h', 'm3/s'), DPin, DPout, DPx)\n",
    "\n",
    "    res_dict_h[h_riser] = {\n",
    "                        'N_panels' : N_panels,\n",
    "                        'Vdot' : Vdot,\n",
    "                        'tabl' : copy.deepcopy(tabl),\n",
    "                        'residuals' : copy.deepcopy(residuals)\n",
    "                        }\n",
    "\n",
    "    print('---')"
   ]
  },
  {
   "cell_type": "code",
   "execution_count": null,
   "metadata": {},
   "outputs": [],
   "source": [
    "hw, par, cond = fe.initialize(path, file_name)\n",
    "N_panels = 6\n",
    "\n",
    "Vdot = 600\n",
    "Qtot = conv.convert_flow_rate(Vdot, 'L/h', 'm3/s')\n",
    "\n",
    "w_riser_range = [find_other_dimension(D_riser, par['h_riser']) for D_riser in D_riser_range]\n",
    "print(w_riser_range)\n",
    "res_dict_w = {}\n",
    "\n",
    "testings_path_list = [os.path.join(r\"G:\\Drive partagés\\Cercle Hard\\R&D\\Modèles numériques PVT\\PVT-PL-model\\Thesis\", file_name[1:-5] + f\"change_h_riser_{int(w_riser*1000)}.xlsx\") for w_riser in w_riser_range]\n",
    "\n",
    "for i, w_riser in enumerate(w_riser_range):\n",
    "    print('i ', i)\n",
    "\n",
    "    # Change diameter\n",
    "\n",
    "    hw.change_riser_width_and_update_N(w_riser)\n",
    "    par = hw.make_dict()\n",
    "\n",
    "    # Generate abaque\n",
    "\n",
    "    list_Qin = np.linspace(0.05, 0.95, 7)*Qtot\n",
    "    list_alpha = np.linspace(0.05, 0.95, 7)\n",
    "\n",
    "    df_testings = fe.testing_series_Qmax(Qtot, list_Qin, list_alpha, par,cond)\n",
    "    testings_path = testings_path_list[i]\n",
    "    df_testings.to_excel(testings_path, index=False)\n",
    "\n",
    "    # Run abaque for flow rate Vdot (L/h)\n",
    "\n",
    "    testings_path = testings_path_list[i]\n",
    "\n",
    "    df_testings = pd.read_excel(testings_path)\n",
    "    DPin, DPout, DPx = modf2.transfer_func(df_testings)\n",
    "    tabl, residuals = modf2.PL_fsolve_MPE(N_panels , conv.convert_flow_rate(Vdot, 'L/h', 'm3/s'), DPin, DPout, DPx)\n",
    "\n",
    "    res_dict_w[w_riser] = {\n",
    "                        'N_panels' : N_panels,\n",
    "                        'Vdot' : Vdot,\n",
    "                        'tabl' : copy.deepcopy(tabl),\n",
    "                        'residuals' : copy.deepcopy(residuals)\n",
    "                        }\n",
    "\n",
    "    print('---')"
   ]
  },
  {
   "cell_type": "code",
   "execution_count": 38,
   "metadata": {},
   "outputs": [],
   "source": [
    "hw, par, cond = fe.initialize(path, file_name)\n",
    "\n",
    "for (letter, res_dict, x_range) in zip(['h', 'w'], [res_dict_h, res_dict_w], [h_riser_range, w_riser_range]):\n",
    "\n",
    "    res_dict['parameters'] = {\n",
    "                                'par' : copy.deepcopy(par),\n",
    "                                'cond' : copy.deepcopy(cond),\n",
    "                                'N_panels' : N_panels,\n",
    "                                'Vdot' : Vdot,\n",
    "                                'Qtot' : Qtot,\n",
    "                                'x_range' : x_range\n",
    "                                }\n",
    "\n",
    "    dp.write_pickle(r\"G:\\Drive partagés\\Cercle Hard\\R&D\\Modèles numériques PVT\\PVT-PL-model\\Thesis\", f\"V4.5_multipanels_parametric_res_dict_{letter}\", res_dict)"
   ]
  },
  {
   "cell_type": "markdown",
   "metadata": {},
   "source": [
    "### Start again here"
   ]
  },
  {
   "cell_type": "code",
   "execution_count": null,
   "metadata": {},
   "outputs": [],
   "source": []
  },
  {
   "cell_type": "code",
   "execution_count": null,
   "metadata": {},
   "outputs": [],
   "source": [
    "for key in res_dict_h.keys():\n",
    "    # key = list(res_dict.keys())[1]\n",
    "    tabl = res_dict_h[key]['tabl']\n",
    "    plt.scatter(tabl.index, tabl['qx']/(tabl['qx'].sum()/N_panels), label=f'h_riser = {key*1000} mm')\n",
    "    print(tabl['Pin'][0])\n",
    "\n",
    "plt.legend()"
   ]
  },
  {
   "cell_type": "code",
   "execution_count": null,
   "metadata": {},
   "outputs": [],
   "source": [
    "for key in res_dict_w.keys():\n",
    "    # key = list(res_dict.keys())[1]\n",
    "    tabl = res_dict_w[key]['tabl']\n",
    "    plt.scatter(tabl.index, tabl['qx']/(tabl['qx'].sum()/N_panels), label=f'w_riser = {key*1000} mm')\n",
    "    print(tabl['Pin'][0])\n",
    "\n",
    "plt.legend()"
   ]
  },
  {
   "cell_type": "code",
   "execution_count": 19,
   "metadata": {},
   "outputs": [],
   "source": []
  },
  {
   "cell_type": "code",
   "execution_count": null,
   "metadata": {},
   "outputs": [],
   "source": []
  },
  {
   "cell_type": "code",
   "execution_count": null,
   "metadata": {},
   "outputs": [],
   "source": []
  },
  {
   "cell_type": "code",
   "execution_count": null,
   "metadata": {},
   "outputs": [],
   "source": []
  }
 ],
 "metadata": {
  "kernelspec": {
   "display_name": "RD-env-24",
   "language": "python",
   "name": "python3"
  },
  "language_info": {
   "codemirror_mode": {
    "name": "ipython",
    "version": 3
   },
   "file_extension": ".py",
   "mimetype": "text/x-python",
   "name": "python",
   "nbconvert_exporter": "python",
   "pygments_lexer": "ipython3",
   "version": "3.10.5"
  }
 },
 "nbformat": 4,
 "nbformat_minor": 2
}
