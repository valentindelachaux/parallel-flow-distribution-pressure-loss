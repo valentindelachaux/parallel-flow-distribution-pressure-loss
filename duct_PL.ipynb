{
 "cells": [
  {
   "cell_type": "code",
   "execution_count": null,
   "metadata": {},
   "outputs": [],
   "source": [
    "import fluids as fds\n",
    "import pandas as pd\n",
    "import numpy as np\n",
    "import math\n",
    "import hx_hydraulic as hxhy\n",
    "import plotly.graph_objects as go\n",
    "import scipy.optimize as sco\n",
    "import matplotlib.pyplot as plt\n",
    "\n",
    "from CoolProp.CoolProp import PropsSI"
   ]
  },
  {
   "cell_type": "code",
   "execution_count": null,
   "metadata": {},
   "outputs": [],
   "source": [
    "channel = hxhy.duct(shape='rectangular',h=2E-3,w=3E-3,L=1.596)"
   ]
  },
  {
   "cell_type": "code",
   "execution_count": null,
   "metadata": {},
   "outputs": [],
   "source": []
  },
  {
   "cell_type": "code",
   "execution_count": null,
   "metadata": {},
   "outputs": [],
   "source": [
    "inox = hxhy.duct(shape='tubular',D=0.0165,L=5)"
   ]
  },
  {
   "cell_type": "code",
   "execution_count": null,
   "metadata": {},
   "outputs": [],
   "source": [
    "copper = hxhy.duct(shape='tubular',D=0.02,L=13)"
   ]
  },
  {
   "cell_type": "code",
   "execution_count": null,
   "metadata": {},
   "outputs": [],
   "source": [
    "rho = PropsSI('D', 'P', 1, 'T', -15+273.15, f'INCOMP::MPG[0.4]')\n",
    "eta = PropsSI('V', 'P', 1, 'T', -15+273.15, f'INCOMP::MPG[0.4]')"
   ]
  },
  {
   "cell_type": "code",
   "execution_count": null,
   "metadata": {},
   "outputs": [],
   "source": [
    "rho"
   ]
  },
  {
   "cell_type": "code",
   "execution_count": null,
   "metadata": {},
   "outputs": [],
   "source": [
    "eta*1E6"
   ]
  },
  {
   "cell_type": "code",
   "execution_count": null,
   "metadata": {},
   "outputs": [],
   "source": [
    "bend = hxhy.bend(D=0.016,angle=90, bend_diameters=5, roughness=0.001*1E-3)"
   ]
  },
  {
   "cell_type": "code",
   "execution_count": null,
   "metadata": {},
   "outputs": [],
   "source": [
    "debitmetre = pd.read_csv(r'C:\\Users\\valen\\Downloads\\pdc_1_debitmetre.csv')"
   ]
  },
  {
   "cell_type": "code",
   "execution_count": null,
   "metadata": {},
   "outputs": [],
   "source": [
    "panels = pd.read_excel(r'C:\\Users\\valen\\Downloads\\V4.413_x10.xlsx')"
   ]
  },
  {
   "cell_type": "code",
   "execution_count": null,
   "metadata": {},
   "outputs": [],
   "source": [
    "popt2, pcov2 = sco.curve_fit(lambda x,a,b : a*x**2+b*x,panels[\"Vdot\"],panels[\"PL\"])"
   ]
  },
  {
   "cell_type": "code",
   "execution_count": null,
   "metadata": {},
   "outputs": [],
   "source": [
    "debitmetre.rename(columns={\"x\":\"Vdot\",\" y\":\"PL\"},inplace=True)"
   ]
  },
  {
   "cell_type": "code",
   "execution_count": null,
   "metadata": {},
   "outputs": [],
   "source": [
    "popt, pcov = sco.curve_fit(lambda x,a,b : a*x**2+b*x,debitmetre[\"Vdot\"],debitmetre[\"PL\"])"
   ]
  },
  {
   "cell_type": "code",
   "execution_count": null,
   "metadata": {},
   "outputs": [],
   "source": [
    "# create a dataframe with a column Vdot with a list np.linspace(0,5000,10)\n",
    "df = pd.DataFrame(np.arange(10,200,10)/304,columns=[\"Vdot\"])"
   ]
  },
  {
   "cell_type": "code",
   "execution_count": null,
   "metadata": {},
   "outputs": [],
   "source": [
    "fluid = 'MPG'\n",
    "glycol_rate = 0.\n",
    "p = 1.\n",
    "T = 293.15\n",
    "\n",
    "rho = PropsSI('D', 'P', p, 'T', T, f'INCOMP::{fluid}[{glycol_rate}]')\n",
    "eta = PropsSI('V', 'P', p, 'T', T, f'INCOMP::{fluid}[{glycol_rate}]') # kg/m3"
   ]
  },
  {
   "cell_type": "code",
   "execution_count": null,
   "metadata": {},
   "outputs": [],
   "source": [
    "df['channel_PL'] = df['Vdot'].apply(lambda x : channel.regular_PL(x, fluid, glycol_rate, p, T))"
   ]
  },
  {
   "cell_type": "code",
   "execution_count": null,
   "metadata": {},
   "outputs": [],
   "source": []
  },
  {
   "cell_type": "code",
   "execution_count": null,
   "metadata": {},
   "outputs": [],
   "source": [
    "df"
   ]
  },
  {
   "cell_type": "code",
   "execution_count": null,
   "metadata": {},
   "outputs": [],
   "source": [
    "fluent = [13.0,25.1,37.3,49,60.9]"
   ]
  },
  {
   "cell_type": "code",
   "execution_count": null,
   "metadata": {},
   "outputs": [],
   "source": [
    "fluent = fluent + [np.nan] * (len(df) - len(fluent))"
   ]
  },
  {
   "cell_type": "code",
   "execution_count": null,
   "metadata": {},
   "outputs": [],
   "source": [
    "df['fluent'] = fluent"
   ]
  },
  {
   "cell_type": "code",
   "execution_count": null,
   "metadata": {},
   "outputs": [],
   "source": [
    "df"
   ]
  },
  {
   "cell_type": "code",
   "execution_count": null,
   "metadata": {},
   "outputs": [],
   "source": [
    "df['channel_PL'] *= 1000"
   ]
  },
  {
   "cell_type": "code",
   "execution_count": null,
   "metadata": {},
   "outputs": [],
   "source": [
    "df['AE'] = df.apply(lambda x : abs(x['channel_PL'] - x['fluent']),axis=1)\n",
    "df['RE'] = df.apply(lambda x : abs(x['channel_PL'] - x['fluent'])/x['fluent'],axis=1)"
   ]
  },
  {
   "cell_type": "code",
   "execution_count": null,
   "metadata": {},
   "outputs": [],
   "source": [
    "df"
   ]
  },
  {
   "cell_type": "code",
   "execution_count": null,
   "metadata": {},
   "outputs": [],
   "source": [
    "plt.plot(df['Vdot'],df['channel_PL'],label=\"channel\")\n",
    "plt.plot(df['Vdot'],df['fluent'],label=\"fluent\")\n",
    "plt.xlabel(\"Vdot (L/h)\")\n",
    "plt.ylabel(\"Pressure loss (Pa)\")\n",
    "plt.xlim(0,0.2)\n",
    "plt.ylim(0,100)\n",
    "plt.legend()"
   ]
  },
  {
   "cell_type": "code",
   "execution_count": null,
   "metadata": {},
   "outputs": [],
   "source": [
    "df['channel_PL'] = df['Vdot'].apply(lambda x : channel.regular_PL(x, fluid, glycol_rate, p, T))"
   ]
  },
  {
   "cell_type": "code",
   "execution_count": null,
   "metadata": {},
   "outputs": [],
   "source": [
    "df['inox_PL'] = df['Vdot'].apply(lambda x : inox.regular_PL(x,'MPG',0.4,1,273.15-15))"
   ]
  },
  {
   "cell_type": "code",
   "execution_count": null,
   "metadata": {},
   "outputs": [],
   "source": [
    "df['copper_PL'] = df['Vdot'].apply(lambda x : copper.regular_PL(x,'MPG',0.4,1,273.15-15))"
   ]
  },
  {
   "cell_type": "code",
   "execution_count": null,
   "metadata": {},
   "outputs": [],
   "source": []
  },
  {
   "cell_type": "code",
   "execution_count": null,
   "metadata": {},
   "outputs": [],
   "source": [
    "df['bends_PL'] = df['Vdot'].apply(lambda x : 10*bend.singular_PL(x,'MPG',0.4,1,273.15-15))"
   ]
  },
  {
   "cell_type": "code",
   "execution_count": null,
   "metadata": {},
   "outputs": [],
   "source": [
    "df['debitmetre_PL'] = df['Vdot'].apply(lambda x : popt[0]*x**2+popt[1]*x)"
   ]
  },
  {
   "cell_type": "code",
   "execution_count": null,
   "metadata": {},
   "outputs": [],
   "source": [
    "df['debitmetres_PL'] = df['Vdot'].apply(lambda x : 5*(popt[0]*x**2+popt[1]*x))"
   ]
  },
  {
   "cell_type": "code",
   "execution_count": null,
   "metadata": {},
   "outputs": [],
   "source": [
    "df['V4.413_x10_PL'] = df['Vdot'].apply(lambda x : (popt2[0]*x**2+popt2[1]*x))"
   ]
  },
  {
   "cell_type": "code",
   "execution_count": null,
   "metadata": {},
   "outputs": [],
   "source": [
    "df['min PL'] = df['inox_PL']+df['copper_PL']+df['bends_PL']+df['debitmetres_PL']"
   ]
  },
  {
   "cell_type": "code",
   "execution_count": null,
   "metadata": {},
   "outputs": [],
   "source": [
    "df['max PL'] = df['inox_PL']+df['copper_PL']+df['bends_PL']+df['debitmetres_PL']+df['V4.413_x10_PL']"
   ]
  },
  {
   "cell_type": "code",
   "execution_count": null,
   "metadata": {},
   "outputs": [],
   "source": [
    "# plot all curves in one figure\n",
    "plt.plot(df['Vdot'],df['inox_PL'],label='inox')\n",
    "plt.plot(df['Vdot'],df['copper_PL'],label='copper')\n",
    "plt.plot(df['Vdot'],df['bends_PL'],label='bends')\n",
    "plt.plot(df['Vdot'],df['debitmetres_PL'],label='debitmetres')\n",
    "plt.plot(df['Vdot'],df['V4.413_x10_PL'],label='V4.413_x10_PL')\n",
    "plt.plot(df['Vdot'],df['total_PL'],label='total_PL')\n",
    "plt.legend()\n",
    "\n",
    "plt.xlabel('Flow rate (L/h)')\n",
    "plt.ylabel('Pressure losses (kPa)')"
   ]
  },
  {
   "cell_type": "code",
   "execution_count": null,
   "metadata": {},
   "outputs": [],
   "source": [
    "fig = go.Figure()\n",
    "\n",
    "# fig = fig.add_trace(go.Scatter(x=df['Vdot'], y=df['inox_PL'], mode='lines', name='inox'))\n",
    "fig = fig.add_trace(go.Scatter(x=df['Vdot'], y=df['copper_PL'], mode='lines', name='copper'))\n",
    "# fig = fig.add_trace(go.Scatter(x=df['Vdot'], y=df['bends_PL'], mode='lines', name='bends'))\n",
    "# fig = fig.add_trace(go.Scatter(x=df['Vdot'], y=df['debitmetre_PL'], mode='lines', name='debitmetre x1'))\n",
    "# fig = fig.add_trace(go.Scatter(x=df['Vdot'], y=df['debitmetres_PL'], mode='lines', name='debitmetres'))\n",
    "# fig = fig.add_trace(go.Scatter(x=df['Vdot'], y=df['V4.413_x10_PL'], mode='lines', name='V4.413_x10_PL'))\n",
    "# fig = fig.add_trace(go.Scatter(x=df['Vdot'], y=df['total_PL'], mode='lines', name='total_PL'))\n",
    "fig = fig.add_trace(go.Scatter(x=df['Vdot'], y=df['min PL'], mode='lines', name='min PL'))\n",
    "fig = fig.add_trace(go.Scatter(x=df['Vdot'], y=df['max PL'], mode='lines', name='max PL'))\n",
    "\n",
    "fig = fig.update_layout(title='Pressure losses vs Flow rate',\n",
    "                  xaxis_title='Flow rate (L/h)',\n",
    "                  yaxis_title='Pressure losses (kPa)')\n",
    "\n",
    "fig = fig.update_layout(\n",
    "    autosize=False,\n",
    "    width=1000,\n",
    "    height=600,\n",
    "    margin=dict(\n",
    "        l=0,\n",
    "        r=0,\n",
    "        b=50,\n",
    "        t=50,\n",
    "        pad=1\n",
    "    ),\n",
    ")\n",
    "\n",
    "# limiter x à à 3000\n",
    "fig = fig.update_xaxes(range=[0, 3000])\n",
    "\n",
    "\n",
    "fig.show()\n"
   ]
  },
  {
   "cell_type": "code",
   "execution_count": null,
   "metadata": {},
   "outputs": [],
   "source": [
    "fig.write_html('BTP theoretical max pressure losses.html')"
   ]
  },
  {
   "cell_type": "code",
   "execution_count": null,
   "metadata": {},
   "outputs": [],
   "source": [
    "list_Q_L = np.array([64,152,245,319,402,449,597])\n",
    "list_Q = list_Q_L/3600000 # m3/s"
   ]
  },
  {
   "cell_type": "code",
   "execution_count": null,
   "metadata": {},
   "outputs": [],
   "source": [
    "list_PL = []\n",
    "list_PL_bend = []"
   ]
  },
  {
   "cell_type": "code",
   "execution_count": null,
   "metadata": {},
   "outputs": [],
   "source": [
    "Dx = 0.0165\n",
    "Ax = math.pi*(Dx/2)**2\n",
    "V = (700/(3.6*1E6))/Ax\n",
    "L= 540/100\n",
    "\n",
    "Re = fds.core.Reynolds(V,Dx,1024,mu=0.002735) # viscosité dynamique mu ou eta)\n",
    "f = fds.friction.friction_factor(Re = Re,eD=0.001/Dx)\n",
    "K = fds.K_from_f(f,L,Dx)\n",
    "dP = fds.dP_from_K(K,rho=1024,V=V)\n",
    "print(dP/1000)"
   ]
  },
  {
   "cell_type": "code",
   "execution_count": null,
   "metadata": {},
   "outputs": [],
   "source": [
    "Dx = 0.025\n",
    "Ax = math.pi*(Dx/2)**2\n",
    "V = (1000/(3.6*1E6))/Ax\n",
    "L= 870/100\n",
    "\n",
    "Re = fds.core.Reynolds(V,Dx,1024,mu=0.002735) # viscosité dynamique mu ou eta)\n",
    "f = fds.friction.friction_factor(Re = Re,eD=0.001/Dx)\n",
    "K = fds.K_from_f(f,L,Dx)\n",
    "dP = fds.dP_from_K(K,rho=1024,V=V)\n",
    "print(dP/1000)"
   ]
  },
  {
   "cell_type": "code",
   "execution_count": null,
   "metadata": {},
   "outputs": [],
   "source": [
    "dP_bend = fds.dP_from_K(fds.fittings.bend_rounded_Crane(Dx,angle=90.,bend_diameters=2.),rho=1000,V=V)"
   ]
  },
  {
   "cell_type": "code",
   "execution_count": null,
   "metadata": {},
   "outputs": [],
   "source": [
    "for i in range(len(list_Q)):\n",
    "    u = list_Q[i]/A\n",
    "    Re = fds.core.Reynolds(u,Dx,1000,mu=1*1E-3) # viscosité dynamique mu ou eta\n",
    "    f = fds.friction.friction_factor(Re = Re,eD=0.001/D)\n",
    "    K = f*(L/D)\n",
    "    list_PL.append((1000/2)*K*u**2)\n",
    "\n",
    "    K2 = fds.fittings.bend_rounded_Crane(D,angle=90.,bend_diameters=2.)\n",
    "\n",
    "    list_PL_bend.append((1000/2)*K2*u**2)\n"
   ]
  },
  {
   "cell_type": "code",
   "execution_count": null,
   "metadata": {},
   "outputs": [],
   "source": [
    "list_PL_kPa = np.array(list_PL)/1000"
   ]
  },
  {
   "cell_type": "code",
   "execution_count": null,
   "metadata": {},
   "outputs": [],
   "source": [
    "list_PL_kPa"
   ]
  },
  {
   "cell_type": "code",
   "execution_count": null,
   "metadata": {},
   "outputs": [],
   "source": [
    "list_PL"
   ]
  },
  {
   "cell_type": "code",
   "execution_count": null,
   "metadata": {},
   "outputs": [],
   "source": [
    "list_PL_bend"
   ]
  },
  {
   "cell_type": "code",
   "execution_count": null,
   "metadata": {},
   "outputs": [],
   "source": []
  }
 ],
 "metadata": {
  "kernelspec": {
   "display_name": "model23",
   "language": "python",
   "name": "python3"
  },
  "language_info": {
   "codemirror_mode": {
    "name": "ipython",
    "version": 3
   },
   "file_extension": ".py",
   "mimetype": "text/x-python",
   "name": "python",
   "nbconvert_exporter": "python",
   "pygments_lexer": "ipython3",
   "version": "3.10.5"
  },
  "orig_nbformat": 4
 },
 "nbformat": 4,
 "nbformat_minor": 2
}
