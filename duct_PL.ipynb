{
 "cells": [
  {
   "cell_type": "code",
   "execution_count": 2,
   "metadata": {},
   "outputs": [],
   "source": [
    "import fluids as fds\n",
    "import numpy as np\n",
    "import math"
   ]
  },
  {
   "cell_type": "code",
   "execution_count": 4,
   "metadata": {},
   "outputs": [],
   "source": [
    "list_Q_L = np.array([64,152,245,319,402,449,597])\n",
    "list_Q = list_Q_L/3600000 # m3/s"
   ]
  },
  {
   "cell_type": "code",
   "execution_count": 17,
   "metadata": {},
   "outputs": [],
   "source": [
    "list_PL = []\n",
    "list_PL_bend = []"
   ]
  },
  {
   "cell_type": "code",
   "execution_count": 4,
   "metadata": {},
   "outputs": [
    {
     "name": "stdout",
     "output_type": "stream",
     "text": [
      "11.361170565677725\n"
     ]
    }
   ],
   "source": [
    "Dx = 0.0165\n",
    "Ax = math.pi*(Dx/2)**2\n",
    "V = (700/(3.6*1E6))/Ax\n",
    "L= 540/100\n",
    "\n",
    "Re = fds.core.Reynolds(V,Dx,1024,mu=0.002735) # viscosité dynamique mu ou eta)\n",
    "f = fds.friction.friction_factor(Re = Re,eD=0.001/Dx)\n",
    "K = fds.K_from_f(f,L,Dx)\n",
    "dP = fds.dP_from_K(K,rho=1024,V=V)\n",
    "print(dP/1000)"
   ]
  },
  {
   "cell_type": "code",
   "execution_count": 32,
   "metadata": {},
   "outputs": [
    {
     "name": "stdout",
     "output_type": "stream",
     "text": [
      "3.9543694809851746\n"
     ]
    }
   ],
   "source": [
    "Dx = 0.025\n",
    "Ax = math.pi*(Dx/2)**2\n",
    "V = (1000/(3.6*1E6))/Ax\n",
    "L= 870/100\n",
    "\n",
    "Re = fds.core.Reynolds(V,Dx,1024,mu=0.002735) # viscosité dynamique mu ou eta)\n",
    "f = fds.friction.friction_factor(Re = Re,eD=0.001/Dx)\n",
    "K = fds.K_from_f(f,L,Dx)\n",
    "dP = fds.dP_from_K(K,rho=1024,V=V)\n",
    "print(dP/1000)"
   ]
  },
  {
   "cell_type": "code",
   "execution_count": 21,
   "metadata": {},
   "outputs": [],
   "source": [
    "dP_bend = fds.dP_from_K(fds.fittings.bend_rounded_Crane(Dx,angle=90.,bend_diameters=2.),rho=1000,V=V)"
   ]
  },
  {
   "cell_type": "code",
   "execution_count": 18,
   "metadata": {},
   "outputs": [],
   "source": [
    "for i in range(len(list_Q)):\n",
    "    u = list_Q[i]/A\n",
    "    Re = fds.core.Reynolds(u,Dx,1000,mu=1*1E-3) # viscosité dynamique mu ou eta\n",
    "    f = fds.friction.friction_factor(Re = Re,eD=0.001/D)\n",
    "    K = f*(L/D)\n",
    "    list_PL.append((1000/2)*K*u**2)\n",
    "\n",
    "    K2 = fds.fittings.bend_rounded_Crane(D,angle=90.,bend_diameters=2.)\n",
    "\n",
    "    list_PL_bend.append((1000/2)*K2*u**2)\n"
   ]
  },
  {
   "cell_type": "code",
   "execution_count": 11,
   "metadata": {},
   "outputs": [],
   "source": [
    "list_PL_kPa = np.array(list_PL)/1000"
   ]
  },
  {
   "cell_type": "code",
   "execution_count": 12,
   "metadata": {},
   "outputs": [
    {
     "data": {
      "text/plain": [
       "array([0.00370858, 0.02228549, 0.05502074, 0.091321  , 0.14283836,\n",
       "       0.17707437, 0.3087941 ])"
      ]
     },
     "execution_count": 12,
     "metadata": {},
     "output_type": "execute_result"
    }
   ],
   "source": [
    "list_PL_kPa"
   ]
  },
  {
   "cell_type": "code",
   "execution_count": 20,
   "metadata": {},
   "outputs": [
    {
     "data": {
      "text/plain": [
       "[3.70857896905616,\n",
       " 22.285494359610155,\n",
       " 55.02073565008791,\n",
       " 91.32100026610193,\n",
       " 142.83836334557057,\n",
       " 177.07436599284776,\n",
       " 308.79409964912276]"
      ]
     },
     "execution_count": 20,
     "metadata": {},
     "output_type": "execute_result"
    }
   ],
   "source": [
    "list_PL"
   ]
  },
  {
   "cell_type": "code",
   "execution_count": 19,
   "metadata": {},
   "outputs": [
    {
     "data": {
      "text/plain": [
       "[0.17628846458320457,\n",
       " 0.9943771205396383,\n",
       " 2.5834265348161263,\n",
       " 4.379709581164914,\n",
       " 6.955302985962938,\n",
       " 8.676740905380527,\n",
       " 15.339549651766447]"
      ]
     },
     "execution_count": 19,
     "metadata": {},
     "output_type": "execute_result"
    }
   ],
   "source": [
    "list_PL_bend"
   ]
  },
  {
   "cell_type": "code",
   "execution_count": null,
   "metadata": {},
   "outputs": [],
   "source": []
  }
 ],
 "metadata": {
  "kernelspec": {
   "display_name": "model23",
   "language": "python",
   "name": "python3"
  },
  "language_info": {
   "codemirror_mode": {
    "name": "ipython",
    "version": 3
   },
   "file_extension": ".py",
   "mimetype": "text/x-python",
   "name": "python",
   "nbconvert_exporter": "python",
   "pygments_lexer": "ipython3",
   "version": "3.10.5"
  },
  "orig_nbformat": 4
 },
 "nbformat": 4,
 "nbformat_minor": 2
}
