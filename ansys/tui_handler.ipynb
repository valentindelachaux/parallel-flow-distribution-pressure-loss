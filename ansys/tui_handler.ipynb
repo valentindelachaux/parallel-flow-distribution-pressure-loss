{
 "cells": [
  {
   "cell_type": "code",
   "execution_count": null,
   "metadata": {},
   "outputs": [],
   "source": [
    "import os \n",
    "import numpy as np\n",
    "import pandas as pd\n",
    "\n",
    "import openpyxl\n",
    "\n",
    "import matplotlib.pyplot as plt\n",
    "\n",
    "\n",
    "import jou_gen as jg\n",
    "\n",
    "from io import StringIO\n",
    "\n",
    "import plotly.graph_objects as go"
   ]
  },
  {
   "cell_type": "code",
   "execution_count": null,
   "metadata": {},
   "outputs": [],
   "source": []
  },
  {
   "cell_type": "code",
   "execution_count": null,
   "metadata": {},
   "outputs": [],
   "source": [
    "folder_path = r'D:\\ANSYS Fluent Projects\\Hydraulics\\V4.5\\19MPE_woch'\n",
    "\n",
    "N_junction = 38\n",
    "N_channels = 304\n",
    "Area_junction = 44.0414E-6"
   ]
  },
  {
   "cell_type": "code",
   "execution_count": null,
   "metadata": {},
   "outputs": [],
   "source": [
    "string_list = []\n",
    "\n",
    "for i in range(N_junction):\n",
    "    string_list.append(jg.tui_create_report_definitions(f\"mdot_coll_ch_{i+1}\",{'Report Type':'flux-massflow','Field Variable':''},[f'coll_ch_{i+1}']))\n",
    "\n",
    "jg.concatenate_and_write_to_file(string_list,folder_path + '\\\\' + 'create_mdot_report.txt')"
   ]
  },
  {
   "cell_type": "code",
   "execution_count": null,
   "metadata": {},
   "outputs": [],
   "source": [
    "string_list = []\n",
    "\n",
    "for i in range(N_junction):\n",
    "    string_list.append(jg.tui_create_report_definitions(f\"mdot_distrib_ch_{i+1}\",{'Report Type':'flux-massflow','Field Variable':''},[f'distrib_ch_{i+1}']))\n",
    "\n",
    "jg.concatenate_and_write_to_file(string_list,folder_path + '\\\\' + 'create_mdot_distrib_report.txt')"
   ]
  },
  {
   "cell_type": "code",
   "execution_count": null,
   "metadata": {},
   "outputs": [],
   "source": [
    "string_list = []\n",
    "\n",
    "for i in range(N_junction):\n",
    "    string_list.append(jg.tui_create_report_definitions(f\"sp_coll_ch_{i+1}\",{'Report Type':'surface-areaavg','Field Variable':'pressure'},[f'coll_ch_{i+1}']))\n",
    "\n",
    "jg.concatenate_and_write_to_file(string_list,folder_path + '\\\\' + 'create_sp_report.txt')"
   ]
  },
  {
   "cell_type": "code",
   "execution_count": null,
   "metadata": {},
   "outputs": [],
   "source": [
    "string_list = []\n",
    "\n",
    "for i in range(N_junction):\n",
    "    string_list.append(jg.tui_create_report_definitions(f\"sp_distrib_ch_{i+1}\",{'Report Type':'surface-areaavg','Field Variable':'pressure'},[f'distrib_ch_{i+1}']))\n",
    "\n",
    "jg.concatenate_and_write_to_file(string_list,folder_path + '\\\\' + 'create_sp_distrib_report.txt')"
   ]
  },
  {
   "cell_type": "code",
   "execution_count": null,
   "metadata": {},
   "outputs": [],
   "source": [
    "string_list = []\n",
    "for i in range(N_junction):\n",
    "    string_list.append(jg.change_bc_velocity_inlet(f\"coll_ch_{i+1}\",f\"((mdot_distrib_inlet/rho_water)/{N_junction})/({Area_junction} [m^2])\"))\n",
    "jg.concatenate_and_write_to_file(string_list,folder_path + '\\\\' + 'change_bc_v_uniform.txt')"
   ]
  },
  {
   "cell_type": "code",
   "execution_count": null,
   "metadata": {},
   "outputs": [],
   "source": [
    "string_list = []\n",
    "for i in range(N_junction):\n",
    "    string_list.append(jg.change_bc_pressure_outlet(f\"distrib_ch_{i+1}\",f\"{{sp_coll_ch_{i+1}}} + 1411785 [Pa s / kg] * ( mdot_distrib_inlet / {N_channels})\",backflow_direction_specification_method='From Neighboring Cell'))\n",
    "jg.concatenate_and_write_to_file(string_list,folder_path + '\\\\' + 'change_bc_po_uniform.txt')"
   ]
  },
  {
   "cell_type": "code",
   "execution_count": null,
   "metadata": {},
   "outputs": [],
   "source": [
    "string_list = []\n",
    "for i in range(N_junction):\n",
    "    string_list.append(jg.change_bc_pressure_outlet(f\"distrib_ch_{i+1}\",f\"{{sp_coll_ch_{i+1}}} + 1411785 [Pa s / kg] * ( {{mdot_coll_ch_{i+1}}} / 8)\",backflow_direction_specification_method='From Neighboring Cell'))\n",
    "jg.concatenate_and_write_to_file(string_list,folder_path + '\\\\' + 'change_bc_po_non_uniform.txt')"
   ]
  },
  {
   "cell_type": "code",
   "execution_count": null,
   "metadata": {},
   "outputs": [],
   "source": [
    "string_list = []\n",
    "\n",
    "for i in range(38):\n",
    "    string_list.append(jg.tui_create_report_definitions(f\"v_distrib_ch_{i+1}\",{'Report Type':'surface-areaavg','Field Variable':'velocity-magnitude'},[f'distrib_ch_{i+1}']))\n",
    "\n",
    "jg.concatenate_and_write_to_file(string_list,folder_path + '\\\\' + 'create_mdot_report_.txt')"
   ]
  },
  {
   "cell_type": "code",
   "execution_count": null,
   "metadata": {},
   "outputs": [],
   "source": [
    "string_list = []\n",
    "\n",
    "for i in range(16):\n",
    "    string_list.append(jg.change_bc_pressure_outlet(f\"distrib_ch{i+1}\",f\"0\"))\n",
    "\n",
    "jg.concatenate_and_write_to_file(string_list,r'D:\\ANSYS Fluent Projects\\Hydraulics\\V4.5\\1MPE_woch\\change_bc_po_0.txt')"
   ]
  },
  {
   "cell_type": "code",
   "execution_count": null,
   "metadata": {},
   "outputs": [],
   "source": [
    "string_list = []\n",
    "\n",
    "for i in range(16):\n",
    "    string_list.append(jg.change_bc_velocity_inlet(f\"coll_ch{i+1}\",f\"{{v_distrib_ch{i+1}}}\"))\n",
    "\n",
    "jg.concatenate_and_write_to_file(string_list,r'D:\\ANSYS Fluent Projects\\Hydraulics\\V4.5\\1MPE_woch\\change_bc_v.txt')"
   ]
  },
  {
   "cell_type": "code",
   "execution_count": null,
   "metadata": {},
   "outputs": [],
   "source": [
    "string_list = []\n",
    "\n",
    "for i in range(16):\n",
    "    string_list.append(jg.change_bc_velocity_inlet(f\"coll_ch{i+1}\",))\n",
    "\n",
    "jg.concatenate_and_write_to_file(string_list,r'D:\\ANSYS Fluent Projects\\Hydraulics\\V4.5\\1MPE_woch\\change_bc_v.txt')"
   ]
  },
  {
   "cell_type": "code",
   "execution_count": null,
   "metadata": {},
   "outputs": [],
   "source": [
    "string_list = []\n",
    "\n",
    "for i in range(16):\n",
    "    string_list.append(jg.change_bc_mdot_inlet(f\"coll_ch{i+1}\",f\"\"))\n",
    "\n",
    "jg.concatenate_and_write_to_file(string_list,r'D:\\ANSYS Fluent Projects\\Hydraulics\\V4.5\\1MPE_woch\\change_bc_mdot.txt')"
   ]
  },
  {
   "cell_type": "code",
   "execution_count": null,
   "metadata": {},
   "outputs": [],
   "source": [
    "string_list = []\n",
    "\n",
    "for i in range(16):\n",
    "    string_list.append(jg.tui_create_report_definitions(f\"mdot_distrib_ch{i+1}\",{'Report Type':'flux-massflow','Field Variable':''},[f'distrib_ch{i+1}']))\n",
    "\n",
    "jg.concatenate_and_write_to_file(string_list,r'D:\\ANSYS Fluent Projects\\Hydraulics\\V4.5\\1MPE_woch\\create_mdot_report_2.txt')"
   ]
  },
  {
   "cell_type": "code",
   "execution_count": null,
   "metadata": {},
   "outputs": [],
   "source": [
    "report_type = 'mdot'\n",
    "name = 'create_report_'+report_type+'_2'"
   ]
  },
  {
   "cell_type": "code",
   "execution_count": null,
   "metadata": {},
   "outputs": [],
   "source": [
    "bc_df = pd.read_csv(r'D:\\ANSYS Fluent Projects\\Hydraulics\\V4.5\\3MPE_woch\\TUI\\bc_list.csv', sep=';')\n",
    "bc_df['BC_ID'] = bc_df.index.astype(str)\n",
    "bc_df['REPORT_NAME'] = bc_df['name'] + \"_\"+report_type"
   ]
  },
  {
   "cell_type": "code",
   "execution_count": null,
   "metadata": {},
   "outputs": [],
   "source": [
    "selected_rows = bc_df[bc_df['name'].str.startswith('coll_ch')]\n",
    "selected_rows = selected_rows[~selected_rows['name'].str.contains('coll_channels')]"
   ]
  },
  {
   "cell_type": "code",
   "execution_count": null,
   "metadata": {},
   "outputs": [],
   "source": [
    "for index, row in selected_rows.iterrows():\n",
    "    # Access the values of each row using row['column_name']\n",
    "    input_file = r'D:\\ANSYS Fluent Projects\\Hydraulics\\V4.5\\3MPE_woch\\TUI'+'\\\\'+f'{name}_template.txt'\n",
    "    output_file = r'D:\\ANSYS Fluent Projects\\Hydraulics\\V4.5\\3MPE_woch\\TUI'+'\\\\'+name+'\\\\'+f'{name}_' + str(index) + '.txt'\n",
    "    jg.process_file(input_file, output_file, bc_df, index)"
   ]
  },
  {
   "cell_type": "code",
   "execution_count": null,
   "metadata": {},
   "outputs": [],
   "source": [
    "folder_path = r'D:\\ANSYS Fluent Projects\\Hydraulics\\V4.5\\3MPE_woch\\TUI'+'\\\\'+name\n",
    "output_file = r'D:\\ANSYS Fluent Projects\\Hydraulics\\V4.5\\3MPE_woch'+'\\\\'+'tui_'+name+'.txt'\n",
    "jg.concatenate_txt_files(folder_path, output_file)"
   ]
  },
  {
   "cell_type": "code",
   "execution_count": null,
   "metadata": {},
   "outputs": [],
   "source": [
    "jg.delete_folder(r'D:\\ANSYS Fluent Projects\\Hydraulics\\V4.5\\3MPE_woch\\TUI'+'\\\\'+name)"
   ]
  },
  {
   "cell_type": "code",
   "execution_count": null,
   "metadata": {},
   "outputs": [],
   "source": [
    "df = jg.create_dataframe_from_complex_text_file(r'D:\\ANSYS Fluent Projects\\Hydraulics\\V4.5\\3MPE_woch\\bc_table.txt')"
   ]
  },
  {
   "cell_type": "code",
   "execution_count": null,
   "metadata": {},
   "outputs": [],
   "source": [
    "file_path = r'D:\\ANSYS Fluent Projects\\Hydraulics\\V4.5\\3MPE_woch\\tui_bc_mdot.txt'\n",
    "\n",
    "with open(file_path, 'w') as file:\n",
    "    for i in range(1, 49):\n",
    "        line = f'define/boundary-conditions/mass-flow-inlet mass-flow-inlet coll_ch{i} yes yes no \"distrib_ch{i}_mdot * (-1)\" no 0 no yes\\n'\n",
    "        file.write(line)"
   ]
  },
  {
   "cell_type": "code",
   "execution_count": null,
   "metadata": {},
   "outputs": [],
   "source": [
    "file_path = r'D:\\ANSYS Fluent Projects\\Hydraulics\\V4.5\\3MPE_woch\\tui_bc_pressure-outlet.txt'\n",
    "\n",
    "with open(file_path, 'w') as file:\n",
    "    for i in range(1, 49):\n",
    "        line = f'define/boundary-conditions/pressure-outlet distrib_ch{i} yes no \"coll_ch{i}_sp\" no yes yes no no no\\n'\n",
    "        file.write(line)"
   ]
  },
  {
   "cell_type": "code",
   "execution_count": null,
   "metadata": {},
   "outputs": [],
   "source": [
    "\"define/boundary-conditions/pressure-outlet distrib_ch1 yes no \\\" \\{\""
   ]
  },
  {
   "cell_type": "code",
   "execution_count": null,
   "metadata": {},
   "outputs": [],
   "source": [
    "file_path = r'D:\\ANSYS Fluent Projects\\Hydraulics\\V4.5\\3MPE_woch\\tui_bc_pressure-outlet_with_regular_PL.txt'\n",
    "\n",
    "with open(file_path, 'w') as file:\n",
    "    for i in range(1, 49):\n",
    "        line = f\"define/boundary-conditions/pressure-outlet distrib_ch{i} yes no \\\"{{coll_ch{i}_sp}} + 1323000 [Pa s / kg] * {{coll_ch{i}_mdot}}\\\" no yes yes no no no\\n\"\n",
    "        file.write(line)"
   ]
  },
  {
   "cell_type": "code",
   "execution_count": null,
   "metadata": {},
   "outputs": [],
   "source": [
    "string = \"\"\n",
    "for i in range(1, 49):\n",
    "    string += \"{\" + f\"distrib_ch{i}_mdot\" + \"} + \"\n",
    "string = string.rstrip(\" + \")"
   ]
  },
  {
   "cell_type": "code",
   "execution_count": null,
   "metadata": {},
   "outputs": [],
   "source": [
    "string = \"\"\n",
    "for i in range(1, 49):\n",
    "    string += \"{\" + f\"coll_ch{i}_mdot\" + \"} + \"\n",
    "string = string.rstrip(\" + \")"
   ]
  },
  {
   "cell_type": "code",
   "execution_count": null,
   "metadata": {},
   "outputs": [],
   "source": [
    "# Template paragraph with placeholders for variables\n",
    "paragraph_template = \"\"\"\n",
    "/define/named-expressions/edit coll_inlet_mdot definition \"VAR_coll_inlet_mdot [kg/s]\" quit\n",
    "/define/named-expressions/edit distrib_inlet_mdot definition \"VAR_distrib_inlet_mdot [kg/s]\" quit\n",
    "/define/named-expressions/edit distrib_outlet_mdot definition \"VAR_distrib_outlet_mdot [kg/s]\" quit\n",
    "\n",
    "solve/iterate VAR_nb_it\n",
    "\n",
    "/file/set-tui-version \"22.2\"\n",
    "(cx-gui-do cx-activate-item \"Ribbon*Frame1*Frame6(Results)*Table1*Table3(Reports)*PushButton4(Surface Integrals)\")\n",
    "(cx-gui-do cx-set-list-selections \"Surface Integrals*Table1*DropDownList1(Report Type)\" '( 1))\n",
    "(cx-gui-do cx-activate-item \"Surface Integrals*Table1*DropDownList1(Report Type)\")\n",
    "(cx-gui-do cx-activate-item \"Surface Integrals*Table2*Table4*List1(Surfaces)\")\n",
    "(cx-gui-do cx-set-list-selections \"Surface Integrals*Table2*Table4*List1(Surfaces)\" '( 0 1 2 3 4 5 6 7 8 9))\n",
    "(cx-gui-do cx-activate-item \"Surface Integrals*Table2*Table4*List1(Surfaces)\")\n",
    "(cx-gui-do cx-activate-item \"Surface Integrals*PanelButtons*PushButton4(Write)\")\n",
    "(cx-gui-do cx-set-file-dialog-entries \"Select File\" '( \"\"D:\\\\ANSYS Fluent Projects\\\\Hydraulics\\\\V4.5\\\\1MPE\\\\tui-parametric-2\\\\VAR_pressure_report\") \"Surface Report Files (*.srp)\")\n",
    "(cx-gui-do cx-activate-item \"Surface Integrals*PanelButtons*PushButton2(Cancel)\")\n",
    "\n",
    "/file/set-tui-version \"22.2\"\n",
    "(cx-gui-do cx-activate-item \"Ribbon*Frame1*Frame6(Results)*Table1*Table3(Reports)*PushButton2(Fluxes)\")\n",
    "(cx-gui-do cx-activate-item \"Flux Reports*Table2*Table2*List2(Boundaries)\")\n",
    "(cx-gui-do cx-set-list-selections \"Flux Reports*Table2*Table2*List2(Boundaries)\" '( 0 1 2 3 4 5 6))\n",
    "(cx-gui-do cx-activate-item \"Flux Reports*Table2*Table2*List2(Boundaries)\")\n",
    "(cx-gui-do cx-activate-item \"Flux Reports*PanelButtons*PushButton4(Write)\")\n",
    "(cx-gui-do cx-set-file-dialog-entries \"Select File\" '( \"D:\\\\ANSYS Fluent Projects\\\\Hydraulics\\\\V4.5\\\\1MPE\\\\tui-parametric-2\\\\VAR_mdot_report\") \"Flux Report Files (*.flp)\")\n",
    "(cx-gui-do cx-activate-item \"Flux Reports*PanelButtons*PushButton2(Cancel)\")\n",
    "\n",
    "plot/residuals-set/plot-to-file \"D:\\\\ANSYS Fluent Projects\\\\Hydraulics\\\\V4.5\\\\1MPE\\\\tui-parametric-2\\\\VAR_residuals_report.txt\"\n",
    "solve/iterate 1\n",
    "plot/residuals-set/end-plot-to-file\n",
    "\n",
    "file/write-data \"D:\\\\ANSYS Fluent Projects\\\\Hydraulics\\\\V4.5\\\\1MPE\\\\tui-parametric-2\\\\VAR_datafile_name\"\n",
    "\"\"\""
   ]
  },
  {
   "cell_type": "code",
   "execution_count": null,
   "metadata": {},
   "outputs": [],
   "source": [
    "surf = ['coll_inlet','coll_outlet','distrib_inlet','distrib_outlet'] + [f'coll_ch{i}' for i in range(1, 17)] + [f'distrib_ch{i}' for i in range(1, 17)]\n",
    "surf_string = '\\n'.join(surf)"
   ]
  },
  {
   "cell_type": "code",
   "execution_count": null,
   "metadata": {},
   "outputs": [],
   "source": [
    "# Template paragraph with placeholders for variables\n",
    "paragraph_template = f\"\"\"\n",
    "define/named-expressions/edit mdot_coll_inlet definition \"VAR_coll_inlet_mdot [kg/s]\" quit\n",
    "define/named-expressions/edit mdot_distrib_inlet definition \"VAR_distrib_inlet_mdot [kg/s]\" quit\n",
    "define/named-expressions/edit mdot_distrib_outlet definition \"VAR_distrib_outlet_mdot [kg/s]\" quit\n",
    "\n",
    "solve/iterate VAR_nb_it\n",
    "\n",
    "report/fluxes/mass-flow yes yes \"D:\\\\ANSYS Fluent Projects\\\\Hydraulics\\\\V4.5\\\\1MPE_woch\\\\parametric\\\\VAR_mdot_report\"\n",
    "\n",
    "/file/set-tui-version \"22.2\"\n",
    "(cx-gui-do cx-activate-item \"Ribbon*Frame1*Frame6(Results)*Table1*Table3(Reports)*PushButton4(Surface Integrals)\")\n",
    "(cx-gui-do cx-set-list-selections \"Surface Integrals*Table2*DropDownList1(Field Variable)\" '( 0))\n",
    "(cx-gui-do cx-activate-item \"Surface Integrals*Table2*DropDownList1(Field Variable)\")\n",
    "(cx-gui-do cx-set-list-selections \"Surface Integrals*Table2*DropDownList2\" '( 0))\n",
    "(cx-gui-do cx-activate-item \"Surface Integrals*Table2*DropDownList2\")\n",
    "(cx-gui-do cx-activate-item \"Surface Integrals*Table2*Table4*List1(Surfaces)\")\n",
    "(cx-gui-do cx-set-list-selections \"Surface Integrals*Table2*Table4*List1(Surfaces)\" '( 0 1 2 3 4 5 6 7 8 9 10 11 12 13 14 15 16 17 18 19 20 21 22 23 24 25 26 27 28 29 30 31 32 33 34 35 36 37 38 39 40 41 42 43 44 45 46 47 48 49 50 51 52 53 54 55 56 57 58 59 60 61 62 63 64 65 66 67 68 69 70 71 72 73 74 75 76 77 78 79 80 81 82 83 84 85 86 87 88 89 90 91 92 93 94 95 96 97 98 99 100 101 102 103))\n",
    "(cx-gui-do cx-activate-item \"Surface Integrals*Table2*Table4*List1(Surfaces)\")\n",
    "(cx-gui-do cx-activate-item \"Surface Integrals*PanelButtons*PushButton4(Write)\")\n",
    "(cx-gui-do cx-set-file-dialog-entries \"Select File\" '( \"D:\\\\ANSYS Fluent Projects\\\\Hydraulics\\\\V4.5\\\\1MPE_woch\\\\parametric\\\\VAR_pressure_report\") \"Surface Report Files (*.srp)\")\n",
    "(cx-gui-do cx-activate-item \"Surface Integrals*PanelButtons*PushButton2(Cancel)\")\n",
    "\n",
    "plot/residuals-set/plot-to-file \"D:\\\\ANSYS Fluent Projects\\\\Hydraulics\\\\V4.5\\\\1MPE_woch\\\\parametric\\\\VAR_residuals_report.txt\"\n",
    "solve/iterate 1\n",
    "plot/residuals-set/end-plot-to-file\n",
    "\n",
    "file/write-data \"D:\\\\ANSYS Fluent Projects\\\\Hydraulics\\\\V4.5\\\\1MPE_woch\\\\parametric\\\\VAR_datafile_name\"\n",
    "\"\"\""
   ]
  },
  {
   "cell_type": "code",
   "execution_count": null,
   "metadata": {},
   "outputs": [],
   "source": [
    "paragraph_template = f\"\"\"\n",
    "file/read-data \"D:\\\\ANSYS Fluent Projects\\\\Hydraulics\\\\V4.5\\\\1MPE_woch\\\\parametric\\\\VAR_datafile_name.dat.h5\"\n",
    "\n",
    "/file/set-tui-version \"22.2\"\n",
    "(cx-gui-do cx-activate-item \"Ribbon*Frame1*Frame6(Results)*Table1*Table3(Reports)*PushButton4(Surface Integrals)\")\n",
    "(cx-gui-do cx-set-list-selections \"Surface Integrals*Table1*DropDownList1(Report Type)\" '( 1))\n",
    "(cx-gui-do cx-activate-item \"Surface Integrals*Table1*DropDownList1(Report Type)\")\n",
    "(cx-gui-do cx-activate-item \"Surface Integrals*Table2*Table4*List1(Surfaces)\")\n",
    "(cx-gui-do cx-set-list-selections \"Surface Integrals*Table2*Table4*List1(Surfaces)\" '( 0 1 2 3 4 5 6 7 8 9 10 11 12 13 14 15 16 17 18 19 20 21 22 23 24 25 26 27 28 29 30 31 32 33 34 35 36 37 38 39 40 41 42 43 44 45 46 47 48 49 50 51 52 53 54 55 56 57 58 59 60 61 62 63 64 65 66 67 68 69 70 71 72 73 74 75 76 77 78 79 80 81 82 83 84 85 86 87 88 89 90 91 92 93 94 95 96 97 98 99 100 101 102 103))\n",
    "(cx-gui-do cx-activate-item \"Surface Integrals*Table2*Table4*List1(Surfaces)\")\n",
    "(cx-gui-do cx-activate-item \"Surface Integrals*PanelButtons*PushButton4(Write)\")\n",
    "(cx-gui-do cx-set-file-dialog-entries \"Select File\" '( \"D:\\\\ANSYS Fluent Projects\\\\Hydraulics\\\\V4.5\\\\1MPE_woch\\\\parametric\\\\VAR_pressure_report\") \"Surface Report Files (*.srp)\")\n",
    "(cx-gui-do cx-activate-item \"Surface Integrals*PanelButtons*PushButton2(Cancel)\")\n",
    "(cx-gui-do cx-activate-item \"MenuBar*WriteSubMenu*Stop Journal\")\n",
    "\n",
    "\"\"\""
   ]
  },
  {
   "cell_type": "code",
   "execution_count": null,
   "metadata": {},
   "outputs": [],
   "source": [
    "paragraph_template = f\"\"\"\n",
    "file/read-data \"D:\\\\ANSYS Fluent Projects\\\\Hydraulics\\\\V4.5\\\\1MPE_woch\\\\parametric\\\\VAR_datafile_name.dat.h5\"\n",
    "\n",
    "/file/set-tui-version \"22.2\"\n",
    "(cx-gui-do cx-activate-item \"Ribbon*Frame1*Frame6(Results)*Table1*Table3(Reports)*PushButton4(Surface Integrals)\")\n",
    "(cx-gui-do cx-activate-item \"Surface Integrals*PanelButtons*PushButton4(Write)\")\n",
    "(cx-gui-do cx-set-file-dialog-entries \"Select File\" '( \"D:\\\\ANSYS Fluent Projects\\\\Hydraulics\\\\V4.5\\\\1MPE_woch\\\\parametric\\\\VAR_pressure_report\") \"Surface Report Files (*.srp)\")\n",
    "(cx-gui-do cx-activate-item \"Surface Integrals*PanelButtons*PushButton2(Cancel)\")\n",
    "\n",
    "\"\"\""
   ]
  },
  {
   "cell_type": "code",
   "execution_count": null,
   "metadata": {},
   "outputs": [],
   "source": [
    "\"solve/initialize/hyb-initialization yes\""
   ]
  }
 ],
 "metadata": {
  "kernelspec": {
   "display_name": "venv_py_ansys",
   "language": "python",
   "name": "python3"
  },
  "language_info": {
   "codemirror_mode": {
    "name": "ipython",
    "version": 3
   },
   "file_extension": ".py",
   "mimetype": "text/x-python",
   "name": "python",
   "nbconvert_exporter": "python",
   "pygments_lexer": "ipython3",
   "version": "3.11.6"
  }
 },
 "nbformat": 4,
 "nbformat_minor": 2
}
