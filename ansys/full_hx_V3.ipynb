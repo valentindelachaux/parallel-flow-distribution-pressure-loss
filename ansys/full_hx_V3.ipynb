{
 "cells": [
  {
   "cell_type": "code",
   "execution_count": null,
   "metadata": {},
   "outputs": [],
   "source": [
    "# IMPORTS\n",
    "\n",
    "import os \n",
    "import time\n",
    "from io import StringIO\n",
    "import numpy as np\n",
    "import pandas as pd\n",
    "\n",
    "import openpyxl\n",
    "\n",
    "import matplotlib.pyplot as plt\n",
    "import plotly.graph_objects as go\n",
    "\n",
    "from numpy.polynomial.polynomial import Polynomial\n",
    "from scipy.optimize import minimize\n",
    "from sklearn.metrics import mean_squared_error\n",
    "\n",
    "\n",
    "import jou_gen as jg\n",
    "\n",
    "import ansys.fluent.core as pyfluent"
   ]
  },
  {
   "cell_type": "code",
   "execution_count": null,
   "metadata": {},
   "outputs": [],
   "source": [
    "mdot_distrib_inlet_param = 0.0278 # kg/s"
   ]
  },
  {
   "cell_type": "code",
   "execution_count": null,
   "metadata": {},
   "outputs": [],
   "source": [
    "def process(distrib_df, coll_df, gamma=0.1):\n",
    "\n",
    "    distrib_df['mdot'] = distrib_df['mdot'].where(distrib_df['mdot'] > 0, np.nan)\n",
    "    distrib_df['distance'] = (distrib_df['mdot'] - coll_df['mdot'])/coll_df['mdot']\n",
    "\n",
    "    distrib_df['mdot_corrected'] = (1+gamma*distrib_df['distance'])*coll_df['mdot']\n",
    "    distrib_df['mdot_corrected'] = distrib_df['mdot_corrected'].fillna(coll_df['mdot'])\n",
    "\n",
    "    sum_mdot_corrected = distrib_df['mdot_corrected'].sum()\n",
    "    distrib_df['mdot_corrected'] *= mdot_distrib_inlet_param/sum_mdot_corrected"
   ]
  },
  {
   "cell_type": "code",
   "execution_count": null,
   "metadata": {},
   "outputs": [],
   "source": [
    "def process_v2(distrib_df, coll_df, gamma=0.1):\n",
    "\n",
    "    distrib_df['mdot'] = distrib_df['mdot'].where(distrib_df['mdot'] > 0, np.nan)\n",
    "    distrib_df['distance'] = (distrib_df['mdot'] - coll_df['mdot'])/coll_df['mdot']\n",
    "    rmse = mean_squared_error(distrib_df['mdot'], coll_df['mdot'], squared=False)\n",
    "    if rmse/coll_df['mdot'].mean() < 1:\n",
    "        gamma = 1 - rmse/coll_df['mdot'].mean()\n",
    "    else:\n",
    "        pass\n",
    "\n",
    "    distrib_df['mdot_corrected'] = (1+gamma*distrib_df['distance'])*coll_df['mdot']\n",
    "    nan_count = distrib_df['mdot_corrected'].isna().sum()\n",
    "    sum_mdot_corrected = distrib_df['mdot_corrected'].sum()\n",
    "    distrib_df['mdot_corrected'] = distrib_df['mdot_corrected'].fillna((mdot_distrib_inlet_param-sum_mdot_corrected)/nan_count)\n",
    "\n",
    "    # Get the x and y values for interpolation\n",
    "    x = distrib_df.index\n",
    "    y = distrib_df['mdot_corrected']\n",
    "\n",
    "    # Fit the polynomial of degree 2\n",
    "    poly = Polynomial.fit(x, y, deg=2)\n",
    "\n",
    "    # Generate the interpolated values\n",
    "    interpolated_values = poly(x)\n",
    "\n",
    "    distrib_df['mdot_corrected'] = interpolated_values\n",
    "\n",
    "    distrib_df.loc[distrib_df['mdot_corrected'] < 0, 'mdot_corrected'] = np.nan\n",
    "    nan_count = distrib_df['mdot_corrected'].isna().sum()\n",
    "    sum_mdot_corrected = distrib_df['mdot_corrected'].sum()\n",
    "    distrib_df['mdot_corrected'] = distrib_df['mdot_corrected'].fillna((mdot_distrib_inlet_param-sum_mdot_corrected)/nan_count)\n",
    "\n",
    "    sum_mdot_corrected = distrib_df['mdot_corrected'].sum()\n",
    "    distrib_df['mdot_corrected'] = distrib_df['mdot_corrected'] * (mdot_distrib_inlet_param/sum_mdot_corrected)\n",
    "\n",
    "    return distrib_df"
   ]
  },
  {
   "cell_type": "code",
   "execution_count": null,
   "metadata": {},
   "outputs": [],
   "source": [
    "fp_temp = r'D:\\ANSYS Fluent Projects\\temp'\n",
    "\n",
    "# folder_path = r'D:\\ANSYS Fluent Projects\\Hydraulics\\V4.5\\19MPE_woch\\fluent'\n",
    "folder_path = r'D:\\ANSYS Fluent Projects\\Hydraulics\\V4.5\\19MPE_woch\\fluent\\V3'\n",
    "\n",
    "N_junction = 38\n",
    "N_channels = 304\n",
    "Area_junction = 44.0414E-6\n",
    "\n",
    "N_it = 10\n",
    "N_step1 = 12\n",
    "N_big_it = 60"
   ]
  },
  {
   "cell_type": "code",
   "execution_count": null,
   "metadata": {},
   "outputs": [],
   "source": [
    "solver_path = folder_path + '\\\\' + 'server_info-19460.txt'\n",
    "solver = pyfluent.connect_to_fluent(server_info_filepath=solver_path)\n",
    "tui = solver.tui"
   ]
  },
  {
   "cell_type": "markdown",
   "metadata": {},
   "source": [
    "options for try2 : prevent reverse flow everywhere and pressure outlet is calculated with regular pressure loss with the mdot in collector"
   ]
  },
  {
   "cell_type": "markdown",
   "metadata": {},
   "source": [
    "### STEP 1"
   ]
  },
  {
   "cell_type": "code",
   "execution_count": null,
   "metadata": {},
   "outputs": [],
   "source": [
    "# # Initialize velocities with uniform flows\n",
    "\n",
    "# string_list = []\n",
    "# for i in range(N_junction):\n",
    "#     string_list.append(jg.change_bc_velocity_inlet(f\"coll_ch_{i+1}\",f\"((mdot_distrib_inlet/rho_water)/{N_junction})/({Area_junction} [m^2])\"))\n",
    "# jg.concatenate_and_write_to_file(string_list,fp_temp + '\\\\change_bc_v_uniform.txt')\n",
    "# tui.file.read_journal(f'\"{fp_temp}\\\\change_bc_v_uniform.txt\"')"
   ]
  },
  {
   "cell_type": "code",
   "execution_count": null,
   "metadata": {},
   "outputs": [],
   "source": [
    "# Initialize with uniform mass flows\n",
    "\n",
    "string_list = []\n",
    "for i in range(N_junction):\n",
    "    string_list.append(jg.change_bc_mdot_inlet(f\"coll_ch_{i+1}\",f\"(mdot_distrib_inlet/{N_junction})\"))\n",
    "jg.concatenate_and_write_to_file(string_list,fp_temp + '\\\\change_bc_v_uniform.txt')\n",
    "tui.file.read_journal(f'\"{fp_temp}\\\\change_bc_v_uniform.txt\"')"
   ]
  },
  {
   "cell_type": "code",
   "execution_count": null,
   "metadata": {},
   "outputs": [],
   "source": [
    "# # Initialize with previous flow distribution\n",
    "\n",
    "# distrib_df, coll_df = export(folder_path, 110)\n",
    "# process(distrib_df, coll_df, gamma=0.3)\n",
    "\n",
    "# string_list = []\n",
    "# for i in range(N_junction):\n",
    "#     string_list.append(jg.change_bc_velocity_inlet(f\"coll_ch_{i+1}\",f\"( {distrib_df.loc[i+1,'mdot_corrected']} [kg/s] / rho_water ) / (44.0414E-6 [m^2])\"))\n",
    "# jg.concatenate_and_write_to_file(string_list,fp_temp+'\\\\change_bc_v.txt')\n",
    "# tui.file.read_journal(f'\"{fp_temp}\\\\change_bc_v.txt\"')"
   ]
  },
  {
   "cell_type": "code",
   "execution_count": null,
   "metadata": {},
   "outputs": [],
   "source": [
    "# # Regular pressure loss depend on mdot_distrib_inlet/304 (uniformity assumption for regular pressure losses)\n",
    "\n",
    "# string_list = []\n",
    "# for i in range(N_junction):\n",
    "#     string_list.append(jg.change_bc_pressure_outlet(name=f\"distrib_ch_{i+1}\",\n",
    "#                                                     value=f\"{{sp_coll_ch_{i+1}}} + 1411785 [Pa s / kg] * ( mdot_distrib_inlet / 304)\",\n",
    "#                                                     backflow_direction_specification_method='prevent backflow'))\n",
    "# jg.concatenate_and_write_to_file(string_list,fp_temp+'\\\\change_bc_po_uniform_prevent_backflow.txt')\n",
    "\n",
    "# tui.file.read_journal(f'\"{fp_temp}\\\\change_bc_po_uniform_prevent_backflow.txt\"')"
   ]
  },
  {
   "cell_type": "code",
   "execution_count": null,
   "metadata": {},
   "outputs": [],
   "source": [
    "# Regular pressure loss depend on pressure in coll_ch with target mass flow rate (test without preventing backflow)\n",
    "\n",
    "string_list = []\n",
    "for i in range(N_junction):\n",
    "    string_list.append(jg.change_bc_pressure_outlet(name=f\"distrib_ch_{i+1}\",\n",
    "                                                    value=f\"{{sp_coll_ch_{i+1}}} + 1411785 [Pa s / kg] * ( {{mdot_coll_ch_{i+1}}} / 8)\",\n",
    "                                                    backflow_direction_specification_method='prevent backflow',\n",
    "                                                    target_mass_flow_rate=True,\n",
    "                                                    mdot=f\"(mdot_distrib_inlet/ {N_junction} )\")\n",
    "    )\n",
    "jg.concatenate_and_write_to_file(string_list,fp_temp+'\\\\change_bc_po_uniform_with_backflow_target.txt')\n",
    "tui.file.read_journal(f'\"{fp_temp}\\\\change_bc_po_uniform_with_backflow_target.txt\"')"
   ]
  },
  {
   "cell_type": "code",
   "execution_count": null,
   "metadata": {},
   "outputs": [],
   "source": [
    "solver.solution.initialization.hybrid_initialize()\n",
    "solver.solution.run_calculation.iterate(number_of_iterations=100)"
   ]
  },
  {
   "cell_type": "code",
   "execution_count": null,
   "metadata": {},
   "outputs": [],
   "source": [
    "IT = 0\n",
    "\n",
    "jg.write_report(tui, 'mdot', folder_path, f'mdot_report_IT{IT}')\n",
    "jg.write_report(tui, 'sp', folder_path, f'sp_report_IT{IT}')"
   ]
  },
  {
   "cell_type": "code",
   "execution_count": null,
   "metadata": {},
   "outputs": [],
   "source": [
    "distrib_df, coll_df = jg.export(folder_path, f'IT{IT}')"
   ]
  },
  {
   "cell_type": "code",
   "execution_count": null,
   "metadata": {},
   "outputs": [],
   "source": [
    "process(distrib_df, coll_df, gamma=0.3)"
   ]
  },
  {
   "cell_type": "code",
   "execution_count": null,
   "metadata": {},
   "outputs": [],
   "source": [
    "distrib_df['mdot'].sum()"
   ]
  },
  {
   "cell_type": "code",
   "execution_count": null,
   "metadata": {},
   "outputs": [],
   "source": [
    "fig, ax = plt.subplots()\n",
    "\n",
    "ax.scatter(distrib_df.index, distrib_df['mdot'], label='mdot distrib', marker='+')\n",
    "ax.scatter(distrib_df.index, distrib_df['mdot_corrected'], label='mdot distrib corrected')\n",
    "ax.scatter(coll_df.index, coll_df['mdot'], label='mdot coll',marker='+')\n",
    "ax.legend()"
   ]
  },
  {
   "cell_type": "code",
   "execution_count": null,
   "metadata": {},
   "outputs": [],
   "source": [
    "# Adapt on the fly\n",
    "\n",
    "string_list = []\n",
    "for i in range(N_junction):\n",
    "    string_list.append(jg.change_bc_mdot_inlet(f\"coll_ch_{i+1}\",distrib_df.loc[i+1,'mdot_corrected']))\n",
    "jg.concatenate_and_write_to_file(string_list,fp_temp + '\\\\change_bc_v_adapted.txt')\n",
    "tui.file.read_journal(f'\"{fp_temp}\\\\change_bc_v_adapted.txt\"')"
   ]
  },
  {
   "cell_type": "code",
   "execution_count": null,
   "metadata": {},
   "outputs": [],
   "source": [
    "# Regular pressure loss depend on pressure in coll_ch with target mass flow rate (test without preventing backflow)\n",
    "\n",
    "string_list = []\n",
    "for i in range(N_junction):\n",
    "    string_list.append(jg.change_bc_pressure_outlet(name=f\"distrib_ch_{i+1}\",\n",
    "                                                    value=f\"{{sp_coll_ch_{i+1}}} + 1411785 [Pa s / kg] * ( {{mdot_coll_ch_{i+1}}} / 8)\",\n",
    "                                                    backflow_direction_specification_method='Normal to Boundary',\n",
    "                                                    target_mass_flow_rate=True,\n",
    "                                                    mdot=distrib_df.loc[i+1,'mdot_corrected'])\n",
    "    )\n",
    "jg.concatenate_and_write_to_file(string_list,fp_temp+'\\\\change_bc_po_uniform_with_backflow_target.txt')\n",
    "tui.file.read_journal(f'\"{fp_temp}\\\\change_bc_po_uniform_with_backflow_target.txt\"')"
   ]
  },
  {
   "cell_type": "code",
   "execution_count": null,
   "metadata": {},
   "outputs": [],
   "source": [
    "start_time = time.perf_counter()\n",
    "\n",
    "for i in range(0,N_step1):\n",
    "    IT = 10*i\n",
    "    print('BIG ITERATION N°:',IT)\n",
    "\n",
    "    print('Start 10 iterations')\n",
    "    solver.solution.run_calculation.iterate(number_of_iterations=N_it)\n",
    "    print('10 iterations done')\n",
    "\n",
    "    jg.write_report(tui, 'mdot', folder_path, f'mdot_report_IT{IT}')\n",
    "    jg.write_report(tui, 'sp', folder_path, f'sp_report_IT{IT}')\n",
    "    print('Reports written')\n",
    "\n",
    "    distrib_df, coll_df = export(folder_path, IT)\n",
    "    process(distrib_df, coll_df, gamma=0.3)\n",
    "    print('Data processed')\n",
    "\n",
    "    fig, ax = plt.subplots()\n",
    "\n",
    "    ax.scatter(distrib_df.index, distrib_df['mdot'], label='mdot distrib', marker='+')\n",
    "    ax.scatter(distrib_df.index, distrib_df['mdot_corrected'], label='mdot distrib corrected')\n",
    "    ax.scatter(coll_df.index, coll_df['mdot'], label='mdot coll',marker='+')\n",
    "\n",
    "    plt.legend()\n",
    "    plt.savefig(folder_path + f'\\\\fig_mdot_{IT}.png')\n",
    "    plt.close(fig)\n",
    "    print('Fig saved')\n",
    "\n",
    "    string_list = []\n",
    "    for i in range(N_junction):\n",
    "        string_list.append(jg.change_bc_velocity_inlet(f\"coll_ch_{i+1}\",f\"( {distrib_df.loc[i+1,'mdot_corrected']} [kg/s] / rho_water ) / (44.0414E-6 [m^2])\"))\n",
    "    jg.concatenate_and_write_to_file(string_list,fp_temp+'\\\\change_bc_v.txt')\n",
    "    tui.file.read_journal(f'\"{fp_temp}\\\\change_bc_v.txt\"')\n",
    "\n",
    "end_time = time.perf_counter()\n",
    "\n",
    "print(f'Elapsed time: {end_time - start_time} seconds')"
   ]
  },
  {
   "cell_type": "markdown",
   "metadata": {},
   "source": [
    "### STEP 2"
   ]
  },
  {
   "cell_type": "code",
   "execution_count": null,
   "metadata": {},
   "outputs": [],
   "source": [
    "def update_bc_po_connected(i):\n",
    "    string_list = []\n",
    "    string_list.append(jg.change_bc_pressure_outlet(name=f\"distrib_ch_{i}\",\n",
    "                                                        value=f\"{{sp_coll_ch_{i}}} + 1411785 [Pa s / kg] * ( {{mdot_coll_ch_{i}}} / 8)\",\n",
    "                                                        backflow_direction_specification_method='prevent backflow'))\n",
    "    jg.concatenate_and_write_to_file(string_list,fp_temp+'\\\\change_bc_po_non_uniform_prevent_backflow.txt')\n",
    "    tui.file.read_journal(f'\"{fp_temp}\\\\change_bc_po_non_uniform_prevent_backflow.txt\"')"
   ]
  },
  {
   "cell_type": "code",
   "execution_count": null,
   "metadata": {},
   "outputs": [],
   "source": [
    "mdot_distrib_inlet_param/N_junction"
   ]
  },
  {
   "cell_type": "code",
   "execution_count": null,
   "metadata": {},
   "outputs": [],
   "source": [
    "# Regular pressure loss depend on mdot in collector now\n",
    "\n",
    "string_list = []\n",
    "for i in range(0,N_junction):\n",
    "    string_list.append(jg.change_bc_pressure_outlet(name=f\"distrib_ch_{i+1}\",\n",
    "                                                    value=f\"{{sp_coll_ch_{i+1}}} + 1411785 [Pa s / kg] * ( {{mdot_coll_ch_{i+1}}} / 8)\",\n",
    "                                                    backflow_direction_specification_method='prevent backflow',\n",
    "                                                    target_mass_flow_rate = True,\n",
    "                                                    mdot = mdot_distrib_inlet_param/N_junction,\n",
    "                                                    pressure_upper_bound = 300,\n",
    "                                                    pressure_lower_bound = 20,\n",
    "                                                    ))\n",
    "jg.concatenate_and_write_to_file(string_list,fp_temp+'\\\\change_bc_po_non_uniform_prevent_backflow.txt')\n",
    "tui.file.read_journal(f'\"{fp_temp}\\\\change_bc_po_non_uniform_prevent_backflow.txt\"')"
   ]
  },
  {
   "cell_type": "code",
   "execution_count": null,
   "metadata": {},
   "outputs": [],
   "source": [
    "N_step1 = 10"
   ]
  },
  {
   "cell_type": "code",
   "execution_count": null,
   "metadata": {},
   "outputs": [],
   "source": [
    "update_bc_po_connected(11)\n",
    "update_bc_po_connected(12)\n",
    "update_bc_po_connected(13)\n",
    "update_bc_po_connected(14)\n",
    "update_bc_po_connected(15)\n",
    "update_bc_po_connected(16)"
   ]
  },
  {
   "cell_type": "code",
   "execution_count": null,
   "metadata": {},
   "outputs": [],
   "source": [
    "start_time = time.perf_counter()\n",
    "\n",
    "for i in range(N_step1+22,N_step1+35):\n",
    "    IT = 10*i\n",
    "    print('BIG ITERATION N°:',IT)\n",
    "\n",
    "    print('Start 10 iterations')\n",
    "    solver.solution.run_calculation.iterate(number_of_iterations=N_it)\n",
    "    print('10 iterations done')\n",
    "\n",
    "    jg.write_report(tui, 'mdot', folder_path, f'mdot_report_IT{IT}')\n",
    "    jg.write_report(tui, 'sp', folder_path, f'sp_report_IT{IT}')\n",
    "    print('Reports written')\n",
    "\n",
    "    distrib_df, coll_df = export(folder_path, IT)\n",
    "    process(distrib_df, coll_df, gamma=0.3)\n",
    "    print('Data processed')\n",
    "\n",
    "    fig, ax = plt.subplots()\n",
    "\n",
    "    ax.scatter(distrib_df.index, distrib_df['mdot'], label='mdot distrib', marker='+')\n",
    "    ax.scatter(distrib_df.index, distrib_df['mdot_corrected'], label='mdot distrib corrected')\n",
    "    ax.scatter(coll_df.index, coll_df['mdot'], label='mdot coll',marker='+')\n",
    "\n",
    "    plt.legend()\n",
    "    plt.savefig(folder_path + f'\\\\fig_mdot_{IT}.png')\n",
    "    plt.close(fig)\n",
    "    print('Fig saved')\n",
    "\n",
    "    string_list = []\n",
    "    for i in range(N_junction):\n",
    "        string_list.append(jg.change_bc_velocity_inlet(f\"coll_ch_{i+1}\",f\"( {distrib_df.loc[i+1,'mdot_corrected']} [kg/s] / rho_water ) / (44.0414E-6 [m^2])\"))\n",
    "    jg.concatenate_and_write_to_file(string_list,fp_temp+'\\\\change_bc_v.txt')\n",
    "    tui.file.read_journal(f'\"{fp_temp}\\\\change_bc_v.txt\"')\n",
    "\n",
    "end_time = time.perf_counter()\n",
    "\n",
    "print(f'Elapsed time: {end_time - start_time} seconds')"
   ]
  },
  {
   "cell_type": "code",
   "execution_count": null,
   "metadata": {},
   "outputs": [],
   "source": [
    "# STEP 2 MODIFIED\n",
    "\n",
    "start_time = time.perf_counter()\n",
    "\n",
    "for i in range(N_step1,N_big_it):\n",
    "    IT = 10*i\n",
    "    print('BIG ITERATION N°:',IT)\n",
    "\n",
    "    if i == N_step1:\n",
    "        pass\n",
    "    else:\n",
    "        print('Start 10 iterations')\n",
    "        solver.solution.run_calculation.iterate(number_of_iterations=N_it)\n",
    "        print('10 iterations done')\n",
    "\n",
    "    jg.write_report(tui, 'mdot', folder_path, f'mdot_report_IT{IT}')\n",
    "    jg.write_report(tui, 'sp', folder_path, f'sp_report_IT{IT}')\n",
    "    print('Reports written')\n",
    "\n",
    "    distrib_df, coll_df = export(folder_path, IT)\n",
    "    process_v2(distrib_df, coll_df, gamma=0.3)\n",
    "    print('Data processed')\n",
    "\n",
    "    fig, ax = plt.subplots()\n",
    "\n",
    "    ax.scatter(distrib_df.index, distrib_df['mdot'], label='mdot distrib', marker='+')\n",
    "    ax.scatter(distrib_df.index, distrib_df['mdot_corrected'], label='mdot distrib corrected')\n",
    "    ax.scatter(coll_df.index, coll_df['mdot'], label='mdot coll',marker='+')\n",
    "\n",
    "    plt.legend()\n",
    "    plt.savefig(folder_path + f'\\\\fig_mdot_{IT}.png')\n",
    "    plt.close(fig)\n",
    "    print('Fig saved')\n",
    "\n",
    "    string_list = []\n",
    "    for i in range(N_junction):\n",
    "        string_list.append(jg.change_bc_velocity_inlet(f\"coll_ch_{i+1}\",f\"( {distrib_df.loc[i+1,'mdot_corrected']} [kg/s] / rho_water ) / (44.0414E-6 [m^2])\"))\n",
    "    jg.concatenate_and_write_to_file(string_list,fp_temp+'\\\\change_bc_v.txt')\n",
    "    tui.file.read_journal(f'\"{fp_temp}\\\\change_bc_v.txt\"')\n",
    "    \n",
    "    ### With target mass flow\n",
    "    string_list = []\n",
    "    for i in range(N_junction):\n",
    "        # sp_value = coll_df.loc[i+1,'sp'] + 1411785 * (distrib_df.loc[i+1,'new_input'] / 8)\n",
    "        string_list.append(jg.change_bc_pressure_outlet(name=f\"distrib_ch_{i+1}\",\n",
    "                                                            value = f\"{{sp_coll_ch_{i+1}}} + 1411785 [Pa s / kg] * ( {{mdot_coll_ch_{i+1}}} / 8)\",\n",
    "                                                            backflow_direction_specification_method = 'prevent backflow',\n",
    "                                                            target_mass_flow_rate = True,\n",
    "                                                            mdot = distrib_df.loc[i+1,'mdot_corrected'],\n",
    "                                                            pressure_upper_bound = 1.5 * ( coll_df['sp'].loc[i+1] + 1411785 * (distrib_df['mdot_corrected'].loc[i+1] / 8) ),\n",
    "                                                            pressure_lower_bound= 0.5 * ( coll_df['sp'].loc[i+1] + 1411785 * (distrib_df['mdot_corrected'].loc[i+1] / 8) )\n",
    "                                                            ))\n",
    "    jg.concatenate_and_write_to_file(string_list,fp_temp + '\\\\change_bc_po_non_uniform_target.txt')\n",
    "    tui.file.read_journal(f'\"{fp_temp}\\\\change_bc_po_non_uniform_target.txt\"')\n",
    "\n",
    "    \n",
    "\n",
    "end_time = time.perf_counter()\n",
    "\n",
    "print(f'Elapsed time: {end_time - start_time} seconds')"
   ]
  },
  {
   "cell_type": "code",
   "execution_count": null,
   "metadata": {},
   "outputs": [],
   "source": [
    "start_time = time.perf_counter()\n",
    "\n",
    "for i in range(N_step1,N_big_it):\n",
    "    IT = 10*i\n",
    "    print('BIG ITERATION N°:',IT)\n",
    "\n",
    "    if i == N_step1:\n",
    "        pass\n",
    "    else:\n",
    "        print('Start 10 iterations')\n",
    "        solver.solution.run_calculation.iterate(number_of_iterations=N_it)\n",
    "        print('10 iterations done')\n",
    "\n",
    "    jg.write_report(tui, 'mdot', folder_path, f'mdot_report_IT{IT}')\n",
    "    jg.write_report(tui, 'sp', folder_path, f'sp_report_IT{IT}')\n",
    "    print('Reports written')\n",
    "\n",
    "    distrib_df, coll_df = export(folder_path, IT)\n",
    "    process_v2(distrib_df, coll_df, gamma=0.3)\n",
    "    print('Data processed')\n",
    "\n",
    "    fig, ax = plt.subplots()\n",
    "\n",
    "    ax.scatter(distrib_df.index, distrib_df['mdot'], label='mdot distrib', marker='+')\n",
    "    ax.scatter(distrib_df.index, distrib_df['mdot_corrected'], label='mdot distrib corrected')\n",
    "    ax.scatter(coll_df.index, coll_df['mdot'], label='mdot coll',marker='+')\n",
    "\n",
    "    plt.legend()\n",
    "    plt.savefig(folder_path + f'\\\\fig_mdot_{IT}.png')\n",
    "    plt.close(fig)\n",
    "    print('Fig saved')\n",
    "\n",
    "    string_list = []\n",
    "    for i in range(N_junction):\n",
    "        string_list.append(jg.change_bc_velocity_inlet(f\"coll_ch_{i+1}\",f\"( {distrib_df.loc[i+1,'mdot_corrected']} [kg/s] / rho_water ) / (44.0414E-6 [m^2])\"))\n",
    "    jg.concatenate_and_write_to_file(string_list,fp_temp+'\\\\change_bc_v.txt')\n",
    "    tui.file.read_journal(f'\"{fp_temp}\\\\change_bc_v.txt\"')\n",
    "    \n",
    "    ### With target mass flow\n",
    "    string_list = []\n",
    "    for i in range(N_junction):\n",
    "        # sp_value = coll_df.loc[i+1,'sp'] + 1411785 * (distrib_df.loc[i+1,'new_input'] / 8)\n",
    "        string_list.append(jg.change_bc_pressure_outlet(name=f\"distrib_ch_{i+1}\",\n",
    "                                                            value = f\"{{sp_coll_ch_{i+1}}} + 1411785 [Pa s / kg] * ( {{mdot_coll_ch_{i+1}}} / 8)\",\n",
    "                                                            backflow_direction_specification_method = 'prevent backflow',\n",
    "                                                            target_mass_flow_rate = True,\n",
    "                                                            mdot = distrib_df.loc[i+1,'mdot_corrected'],\n",
    "                                                            pressure_upper_bound = 1.5 * ( coll_df['sp'].loc[i+1] + 1411785 * (distrib_df['mdot_corrected'].loc[i+1] / 8) ),\n",
    "                                                            pressure_lower_bound= 0.5 * ( coll_df['sp'].loc[i+1] + 1411785 * (distrib_df['mdot_corrected'].loc[i+1] / 8) )\n",
    "                                                            ))\n",
    "    jg.concatenate_and_write_to_file(string_list,fp_temp + '\\\\change_bc_po_non_uniform_target.txt')\n",
    "    tui.file.read_journal(f'\"{fp_temp}\\\\change_bc_po_non_uniform_target.txt\"')\n",
    "\n",
    "    \n",
    "\n",
    "end_time = time.perf_counter()\n",
    "\n",
    "print(f'Elapsed time: {end_time - start_time} seconds')"
   ]
  },
  {
   "cell_type": "code",
   "execution_count": null,
   "metadata": {},
   "outputs": [],
   "source": [
    "fig, ax = plt.subplots()\n",
    "\n",
    "ax.scatter(distrib_df.index, distrib_df['mdot'], label='mdot distrib', marker='+')\n",
    "# ax.scatter(distrib_df.index, distrib_df['mdot_corrected'], label='mdot distrib corrected')\n",
    "ax.scatter(coll_df.index, coll_df['mdot'], label='mdot coll',marker='+')\n",
    "\n",
    "plt.ylim(0, 0.002)\n",
    "plt.legend()"
   ]
  },
  {
   "cell_type": "code",
   "execution_count": null,
   "metadata": {},
   "outputs": [],
   "source": [
    "string_list = []\n",
    "for i in range(N_junction):\n",
    "    string_list.append(jg.change_bc_velocity_inlet(f\"coll_ch_{i+1}\",f\"( {coll_df.loc[i+1,'mdot']} [kg/s] / rho_water ) / (44.0414E-6 [m^2])\"))\n",
    "jg.concatenate_and_write_to_file(string_list,fp_temp+'\\\\change_bc_v.txt')\n",
    "tui.file.read_journal(f'\"{fp_temp}\\\\change_bc_v.txt\"')"
   ]
  },
  {
   "cell_type": "code",
   "execution_count": null,
   "metadata": {},
   "outputs": [],
   "source": [
    "jg.write_report(tui, 'mdot', folder_path, f'mdot_report_IT{IT}')\n",
    "jg.write_report(tui, 'sp', folder_path, f'sp_report_IT{IT}')\n",
    "print('Reports written')"
   ]
  },
  {
   "cell_type": "code",
   "execution_count": null,
   "metadata": {},
   "outputs": [],
   "source": [
    "distrib_df, coll_df = export(folder_path, IT)"
   ]
  },
  {
   "cell_type": "code",
   "execution_count": null,
   "metadata": {},
   "outputs": [],
   "source": []
  }
 ],
 "metadata": {
  "kernelspec": {
   "display_name": "venv_py_ansys",
   "language": "python",
   "name": "python3"
  },
  "language_info": {
   "codemirror_mode": {
    "name": "ipython",
    "version": 3
   },
   "file_extension": ".py",
   "mimetype": "text/x-python",
   "name": "python",
   "nbconvert_exporter": "python",
   "pygments_lexer": "ipython3",
   "version": "3.11.6"
  }
 },
 "nbformat": 4,
 "nbformat_minor": 2
}
