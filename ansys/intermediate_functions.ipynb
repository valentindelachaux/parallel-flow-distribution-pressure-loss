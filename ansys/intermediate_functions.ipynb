{
 "cells": [
  {
   "cell_type": "code",
   "execution_count": 44,
   "metadata": {},
   "outputs": [],
   "source": [
    "import numpy as np\n",
    "import pandas as pd\n",
    "\n",
    "import matplotlib.pyplot as plt\n",
    "import plotly.graph_objects as go\n",
    "\n",
    "import jou_gen as jg"
   ]
  },
  {
   "cell_type": "code",
   "execution_count": 23,
   "metadata": {},
   "outputs": [],
   "source": [
    "folder_path = r'D:\\ANSYS Fluent Projects\\Hydraulics\\V4.5\\19MPE_woch\\fluent\\V3'\n",
    "file_name = 'mdot_report_IT70.csv'"
   ]
  },
  {
   "cell_type": "code",
   "execution_count": 24,
   "metadata": {},
   "outputs": [],
   "source": [
    "distrib_df, coll_df = jg.export(folder_path,'IT70')"
   ]
  },
  {
   "cell_type": "code",
   "execution_count": 25,
   "metadata": {},
   "outputs": [],
   "source": [
    "sum = coll_df['mdot'].sum()\n",
    "mdot_inlet = 0.0278\n",
    "coll_df['mdot'] = (coll_df['mdot']/sum)*mdot_inlet"
   ]
  },
  {
   "cell_type": "code",
   "execution_count": 38,
   "metadata": {},
   "outputs": [],
   "source": [
    "x_range = np.arange(1, 39)\n",
    "flat_value = mdot_inlet / len(x_range)"
   ]
  },
  {
   "cell_type": "code",
   "execution_count": 37,
   "metadata": {},
   "outputs": [],
   "source": [
    "# fig, ax = plt.subplots()\n",
    "\n",
    "# ax.scatter(coll_df.index, coll_df['mdot'], label='mdot coll',marker='+')\n",
    "\n",
    "# plt.legend()"
   ]
  },
  {
   "cell_type": "code",
   "execution_count": null,
   "metadata": {},
   "outputs": [],
   "source": [
    "coefficients = np.polyfit(coll_df.index, coll_df['mdot'], 2)\n",
    "polynomial = np.poly1d(coefficients)\n",
    "\n",
    "# Generate x values for plotting the polynomial curve\n",
    "x_poly = np.arange(1,39,1)\n",
    "\n",
    "# Generate y values for plotting\n",
    "y_poly = polynomial(x_poly)\n",
    "\n",
    "# Plot the original data points\n",
    "plt.scatter(coll_df.index, coll_df['mdot'], color='red', label='Data Points')\n",
    "plt.scatter(coll_df.index, len(coll_df.index)*[flat_value], color='blue', label='')\n",
    "\n",
    "# Plot the polynomial curve\n",
    "plt.plot(x_poly, y_poly, label='Quadratic Fit')\n",
    "\n",
    "# Add labels and legend\n",
    "plt.xlabel('x')\n",
    "plt.ylabel('y')\n",
    "plt.title('Quadratic Polynomial Fit')\n",
    "plt.legend()\n",
    "\n",
    "# Show the plot\n",
    "plt.show()\n"
   ]
  },
  {
   "cell_type": "code",
   "execution_count": 41,
   "metadata": {},
   "outputs": [],
   "source": [
    "coeffs_flat = np.array([0, 0, flat_value])\n",
    "\n",
    "# Generate 20 intermediate sets of coefficients\n",
    "num_steps = 20\n",
    "intermediate_coeffs = [coeffs_flat + (polynomial - coeffs_flat) * i / (num_steps - 1) for i in range(num_steps)]\n",
    "\n",
    "# Convert intermediate_coeffs to poly1d objects for easier evaluation\n",
    "intermediate_functions = [np.poly1d(coeffs) for coeffs in intermediate_coeffs]\n",
    "\n",
    "# Verify by calculating the sum of each intermediate function over the range to ensure it matches the desired sum\n",
    "sums_of_intermediate_functions = [np.sum(func(x_range)) for func in intermediate_functions]\n",
    "\n",
    "# Checking if all sums are approximately equal to mdot_inlet\n",
    "all_sums_equal = np.allclose(sums_of_intermediate_functions, mdot_inlet, atol=1e-6)"
   ]
  },
  {
   "cell_type": "code",
   "execution_count": null,
   "metadata": {},
   "outputs": [],
   "source": [
    "fig = go.Figure()\n",
    "\n",
    "# Add a scatter plot for each intermediate function\n",
    "for func in intermediate_functions:\n",
    "    fig.add_trace(go.Scatter(x=x_range, y=func(x_range), mode='lines'))\n",
    "\n",
    "# Set the layout of the figure\n",
    "fig.update_layout(\n",
    "    title='Intermediate Functions',\n",
    "    xaxis_title='x',\n",
    "    yaxis_title='y'\n",
    ")\n",
    "\n",
    "# Show the figure\n",
    "fig.show()"
   ]
  },
  {
   "cell_type": "code",
   "execution_count": null,
   "metadata": {},
   "outputs": [],
   "source": []
  }
 ],
 "metadata": {
  "kernelspec": {
   "display_name": "venv_py_ansys",
   "language": "python",
   "name": "python3"
  },
  "language_info": {
   "codemirror_mode": {
    "name": "ipython",
    "version": 3
   },
   "file_extension": ".py",
   "mimetype": "text/x-python",
   "name": "python",
   "nbconvert_exporter": "python",
   "pygments_lexer": "ipython3",
   "version": "3.11.6"
  }
 },
 "nbformat": 4,
 "nbformat_minor": 2
}
