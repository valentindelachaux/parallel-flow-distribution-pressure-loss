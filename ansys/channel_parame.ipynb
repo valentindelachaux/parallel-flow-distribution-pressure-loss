{
 "cells": [
  {
   "cell_type": "code",
   "execution_count": null,
   "metadata": {},
   "outputs": [],
   "source": [
    "import os \n",
    "import numpy as np\n",
    "import pandas as pd\n",
    "\n",
    "import openpyxl\n",
    "\n",
    "import matplotlib.pyplot as plt\n",
    "\n",
    "import jou_gen as jg\n",
    "\n",
    "from io import StringIO\n",
    "\n",
    "import scipy.optimize as sco\n",
    "from sklearn.metrics import mean_squared_error\n",
    "\n",
    "import plotly.graph_objects as go\n",
    "\n",
    "import hx_hydraulic as hxhy"
   ]
  },
  {
   "cell_type": "code",
   "execution_count": null,
   "metadata": {},
   "outputs": [],
   "source": [
    "folder_path = r'D:\\ANSYS Fluent Projects\\Hydraulics\\V4.41\\1 channel\\fluent\\parametric-study-flow-rate'"
   ]
  },
  {
   "cell_type": "code",
   "execution_count": null,
   "metadata": {},
   "outputs": [],
   "source": [
    "inputs = pd.read_excel(folder_path + r'\\inputs.xlsx', engine='openpyxl')"
   ]
  },
  {
   "cell_type": "code",
   "execution_count": null,
   "metadata": {},
   "outputs": [],
   "source": [
    "inputs"
   ]
  },
  {
   "cell_type": "code",
   "execution_count": null,
   "metadata": {},
   "outputs": [],
   "source": [
    "40/16/1000/3600"
   ]
  },
  {
   "cell_type": "code",
   "execution_count": null,
   "metadata": {},
   "outputs": [],
   "source": [
    "channel = hxhy.duct(\"rectangular\",h=0.002,w=0.003,L=1.6)\n",
    "channel.set_fluid()"
   ]
  },
  {
   "cell_type": "code",
   "execution_count": null,
   "metadata": {},
   "outputs": [],
   "source": [
    "for row, value in inputs.iterrows():\n",
    "    channel.set_mdot(inputs.loc[row, 'mdot_ch'])\n",
    "    channel.compute_Reynolds()\n",
    "    inputs.loc[row, 'Re'] = channel.Re"
   ]
  },
  {
   "cell_type": "code",
   "execution_count": null,
   "metadata": {},
   "outputs": [],
   "source": [
    "C = 1323000"
   ]
  },
  {
   "cell_type": "code",
   "execution_count": null,
   "metadata": {},
   "outputs": [],
   "source": [
    "journal_list = []"
   ]
  },
  {
   "cell_type": "code",
   "execution_count": null,
   "metadata": {},
   "outputs": [],
   "source": [
    "# solve/initialize/hyb-initialization yes"
   ]
  },
  {
   "cell_type": "code",
   "execution_count": null,
   "metadata": {},
   "outputs": [],
   "source": [
    "for row, value in inputs.iterrows():\n",
    "    journal_list.append(jg.change_named_expression('mdot_ch', value['mdot_ch'], 'kg/s'))\n",
    "\n",
    "    if value['Re'] > 1000:\n",
    "        journal_list.append(\"\"\"define/models/viscous/kw-sst yes\"\"\")\n",
    "\n",
    "    if row == 0:\n",
    "        journal_list.append(jg.standard_initialization(1, C*value['mdot_ch']))\n",
    "\n",
    "    journal_list.append(jg.iterate(value['nb_it']))\n",
    "    journal_list.append(jg.write_residuals_file(folder_path+f\"\\\\{value['test']}_residuals.txt\"))\n",
    "    journal_list.append(jg.write_report(surface_list = np.arange(0,26,1), file_path=folder_path+f\"\\\\{value['test']}_sp_report.txt\"))\n",
    "    journal_list.append(jg.write_time(file_path=folder_path+f\"\\\\{value['test']}_time.txt\"))\n",
    "    journal_list.append(jg.write_data(file_path=folder_path+f\"\\\\{value['test']}_data.txt\"))                    "
   ]
  },
  {
   "cell_type": "code",
   "execution_count": null,
   "metadata": {},
   "outputs": [],
   "source": [
    "jg.concatenate_and_write_to_file(journal_list, folder_path + r'\\parametric-journal.txt')"
   ]
  },
  {
   "cell_type": "code",
   "execution_count": null,
   "metadata": {},
   "outputs": [],
   "source": [
    "inputs.loc[6]['mdot_ch']*C"
   ]
  },
  {
   "cell_type": "code",
   "execution_count": null,
   "metadata": {},
   "outputs": [],
   "source": [
    "inputs"
   ]
  },
  {
   "cell_type": "code",
   "execution_count": null,
   "metadata": {},
   "outputs": [],
   "source": [
    "pressure_report = {}\n",
    "\n",
    "for i, row in inputs.iterrows():\n",
    "    with open(folder_path+f'\\\\{inputs.loc[i, \"test\"]}_sp_report.txt', 'r') as file:\n",
    "        text_content = file.read() \n",
    "    pressure_report[inputs.loc[i, 'test']] = jg.parse_report_to_dataframe(text_content, 'Surface Integral Report')"
   ]
  },
  {
   "cell_type": "code",
   "execution_count": null,
   "metadata": {},
   "outputs": [],
   "source": [
    "for i, row in inputs.iterrows():\n",
    "    case = inputs.loc[i, 'test']\n",
    "\n",
    "    inputs.loc[i, 'DP'] = pressure_report[case][pressure_report[case]['Component'] == 'internal_ab']['Surface Integral Report'].values[0] - pressure_report[case][pressure_report[case]['Component'] == 'internal_fg']['Surface Integral Report'].values[0]"
   ]
  },
  {
   "cell_type": "code",
   "execution_count": null,
   "metadata": {},
   "outputs": [],
   "source": [
    "popt, pcov = sco.curve_fit(lambda x,a : a*x, inputs.loc[inputs['mdot_ch']<0.002]['mdot_ch'], inputs.loc[inputs['mdot_ch']<0.002]['DP'])"
   ]
  },
  {
   "cell_type": "code",
   "execution_count": null,
   "metadata": {},
   "outputs": [],
   "source": [
    "inputs"
   ]
  },
  {
   "cell_type": "code",
   "execution_count": null,
   "metadata": {},
   "outputs": [],
   "source": [
    "# Scatter plot for the data points\n",
    "scatter = go.Scatter(x=inputs['mdot_ch'], y=inputs['DP'], mode='markers', marker=dict(symbol='cross'), name='Data Points')\n",
    "\n",
    "# Line plot for the fitted line\n",
    "fitted_line = go.Scatter(x=inputs['mdot_ch'], y=popt[0]*np.array(inputs['mdot_ch']), mode='lines', name='Fit')\n",
    "\n",
    "# Creating the figure\n",
    "fig = go.Figure(data=[scatter, fitted_line])\n",
    "\n",
    "# Update layout for the figure\n",
    "fig.update_layout(\n",
    "    title='Pressure Drop vs. Mass Flow Rate',\n",
    "    xaxis_title='Mass flow rate [kg/s]',\n",
    "    yaxis_title='Pressure drop [Pa]'\n",
    ")\n",
    "\n",
    "# Show plot\n",
    "fig.show()\n"
   ]
  },
  {
   "cell_type": "code",
   "execution_count": null,
   "metadata": {},
   "outputs": [],
   "source": [
    "# Compute the predicted values using the fit equation\n",
    "predicted_values = popt[0] * inputs.loc[inputs['mdot_ch']<0.002]['mdot_ch']\n",
    "\n",
    "# Compute the RMSE\n",
    "rmse = mean_squared_error(inputs.loc[inputs['mdot_ch']<0.002]['DP'], predicted_values, squared=False)\n",
    "rmse/np.mean(inputs.loc[inputs['mdot_ch']<0.002]['DP'])"
   ]
  },
  {
   "cell_type": "code",
   "execution_count": null,
   "metadata": {},
   "outputs": [],
   "source": [
    "0.002*3600*50"
   ]
  },
  {
   "cell_type": "code",
   "execution_count": null,
   "metadata": {},
   "outputs": [],
   "source": [
    "25E-6*3600*300"
   ]
  },
  {
   "cell_type": "code",
   "execution_count": null,
   "metadata": {},
   "outputs": [],
   "source": [
    "(1411785-1323000)/1411785"
   ]
  },
  {
   "cell_type": "code",
   "execution_count": null,
   "metadata": {},
   "outputs": [],
   "source": [
    "popt"
   ]
  },
  {
   "cell_type": "code",
   "execution_count": null,
   "metadata": {},
   "outputs": [],
   "source": []
  }
 ],
 "metadata": {
  "kernelspec": {
   "display_name": "venv_py_ansys",
   "language": "python",
   "name": "python3"
  },
  "language_info": {
   "codemirror_mode": {
    "name": "ipython",
    "version": 3
   },
   "file_extension": ".py",
   "mimetype": "text/x-python",
   "name": "python",
   "nbconvert_exporter": "python",
   "pygments_lexer": "ipython3",
   "version": "3.11.6"
  }
 },
 "nbformat": 4,
 "nbformat_minor": 2
}
