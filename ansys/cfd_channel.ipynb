{
 "cells": [
  {
   "cell_type": "code",
   "execution_count": null,
   "metadata": {},
   "outputs": [],
   "source": [
    "import os\n",
    "from io import StringIO\n",
    "\n",
    "import sys\n",
    "\n",
    "current_dir = os.getcwd()\n",
    "sys.path.append(os.path.abspath(os.path.join(current_dir, '..', '..', 'PVT-thermal-performance-model')))\n",
    "sys.path.append(os.path.abspath(os.path.join(current_dir, '..', '..', 'PVT-thermal-performance-model', 'CFD')))\n",
    "sys.path.append(os.path.abspath(os.path.join(current_dir, '..', '..', 'RD-systems-and-test-benches')))\n",
    "sys.path.append(os.path.abspath(os.path.join(current_dir, '..', '..', 'parallel-flow-distribution-pressure-loss')))\n",
    "sys.path.append(os.path.abspath(os.path.join(current_dir, '..', '..', 'parallel-flow-distribution-pressure-loss', 'ansys')))\n",
    "\n",
    "import numpy as np\n",
    "import pandas as pd\n",
    "import openpyxl\n",
    "\n",
    "import matplotlib.pyplot as plt\n",
    "import plotly.graph_objects as go\n",
    "\n",
    "import jou_gen as jg\n",
    "import bridge_module as bm\n",
    "\n",
    "import ansys.fluent.core as pyfluent\n",
    "\n",
    "from CoolProp.CoolProp import PropsSI\n",
    "\n",
    "import hx_hydraulic as hxhy"
   ]
  },
  {
   "cell_type": "code",
   "execution_count": null,
   "metadata": {},
   "outputs": [],
   "source": [
    "computer = 'seagull'\n",
    "jg.set_computer(computer)\n",
    "server_number = 3000\n",
    "\n",
    "category_folder_name = 'Hydraulics'\n",
    "subcategory_folder_name = 'V4.5'\n",
    "project_folder_name = 'V4.5_1channel'\n",
    "\n",
    "caoMeshFolder = 'V4.5_1chSide_M1'\n",
    "title = 'parametric_laminar_try1'\n",
    "\n",
    "nb_it = 1000\n",
    "\n",
    "report_names = ['report_outlet_sp', 'report_inlet_sp', 'report_outlet_mdot']"
   ]
  },
  {
   "cell_type": "code",
   "execution_count": null,
   "metadata": {},
   "outputs": [],
   "source": [
    "if computer == 'seagull':\n",
    "    root_fp = r'D:\\ANSYS Fluent Projects'\n",
    "else:\n",
    "    root_fp = \"/usrtmp/delachaux/ANSYS Fluent Projects\"\n",
    "    jg.computer = computer\n",
    "\n",
    "main_fp = os.path.join(root_fp, category_folder_name, subcategory_folder_name, project_folder_name)\n",
    "Mesh_fp = os.path.join(main_fp, 'mesh')\n",
    "SR_fp = bm.check_folder(os.path.join(main_fp, 'SimulationResults'))\n",
    "caoMesh_fp = bm.check_folder(os.path.join(SR_fp, caoMeshFolder))\n",
    "param_fp = bm.check_folder(os.path.join(SR_fp, caoMeshFolder, title))\n",
    "\n",
    "tui, solver = bm.init_solver(main_fp, str(server_number), subfolder='')\n",
    "print('main_fp :',main_fp)"
   ]
  },
  {
   "cell_type": "code",
   "execution_count": null,
   "metadata": {},
   "outputs": [],
   "source": [
    "T_op = 25 + 273.15\n",
    "p_op = 101325\n",
    "print('density', PropsSI('D', 'T', T_op, 'P', p_op, 'INCOMP::MPG[0.4]'))\n",
    "print('viscosity', PropsSI('V', 'T', T_op, 'P', p_op, 'INCOMP::MPG[0.4]'))"
   ]
  },
  {
   "cell_type": "code",
   "execution_count": null,
   "metadata": {},
   "outputs": [],
   "source": [
    "import math"
   ]
  },
  {
   "cell_type": "code",
   "execution_count": null,
   "metadata": {},
   "outputs": [],
   "source": [
    "Vdot = 100\n",
    "Vdot_m3s = Vdot * 1e-3 / 3600 # m3/s\n",
    "Ac = math.pi * ((0.0354/2)**2)\n",
    "V = Vdot_m3s / Ac\n",
    "rho = PropsSI('D', 'T', T_op, 'P', p_op, 'INCOMP::MPG[0.4]')\n",
    "mdot = rho * Vdot_m3s\n",
    "print('mdot', mdot)\n",
    "print('V', V)"
   ]
  },
  {
   "cell_type": "code",
   "execution_count": null,
   "metadata": {},
   "outputs": [],
   "source": [
    "water_dict = solver.setup.materials.fluid[\"water-liquid\"].get_state()\n",
    "\n",
    "T_op = 25 + 273.15\n",
    "p_op = 101325\n",
    "\n",
    "if computer == 'lmps_cds':\n",
    "    constant_key = 'value'\n",
    "    water_dict['chemical_formula'] = \"\"\n",
    "else:\n",
    "    constant_key = 'constant'\n",
    "\n",
    "water_dict['density']['option'] = 'constant'\n",
    "water_dict['density'][constant_key] = PropsSI('D', 'T', T_op, 'P', p_op, 'INCOMP::MPG[0.4]')\n",
    "water_dict['viscosity']['option'] = 'constant'\n",
    "water_dict['viscosity'][constant_key] = PropsSI('viscosity', 'T', T_op, 'P', p_op, 'INCOMP::MPG[0.4]')\n",
    "\n",
    "solver.setup.materials.fluid[\"water-glycol\"].set_state(water_dict)"
   ]
  },
  {
   "cell_type": "code",
   "execution_count": null,
   "metadata": {},
   "outputs": [],
   "source": [
    "proj_x = 1.858884e-07\n",
    "proj_y = -0.0192837\n",
    "proj_z = -0.0160013\n",
    "\n",
    "coeff_x = proj_x/0.02505798417538183\n",
    "coeff_y = proj_y/0.02505798417538183\n",
    "coeff_z = proj_z/0.02505798417538183"
   ]
  },
  {
   "cell_type": "code",
   "execution_count": null,
   "metadata": {},
   "outputs": [],
   "source": [
    "# Vdot_list = [0.01, 0.05, 0.1, 0.5, 1., 1.5, 2., 3., 5.] \n",
    "Vdot_list = [0.01, 0.025, 0.05, 0.1, 0.5, 1., 1.5, 2., 3., 5.] \n",
    "# Vdot_list = [1., 1.5, 2., 3., 5.] "
   ]
  },
  {
   "cell_type": "code",
   "execution_count": null,
   "metadata": {},
   "outputs": [],
   "source": [
    "SR_fp"
   ]
  },
  {
   "cell_type": "code",
   "execution_count": null,
   "metadata": {},
   "outputs": [],
   "source": [
    "for Vdot in Vdot_list:\n",
    "\n",
    "    case_name = f'case_{str(Vdot)}Lh'\n",
    "    folder_path_case = bm.check_folder(os.path.join(SR_fp, caoMeshFolder, title, case_name))\n",
    "\n",
    "    for report_name in report_names:\n",
    "        jg.change_report_file_path(tui, report_name, os.path.join(folder_path_case, f\"{report_name}.out\"))\n",
    "\n",
    "    Vdot_m3s = Vdot * 1e-3 / 3600 # m3/s\n",
    "    Ac = 0.0000055427 # m2\n",
    "    V = Vdot_m3s / Ac # m/s\n",
    "\n",
    "    jg.change_named_expression(tui, 'V_inlet', V, 'm/s')\n",
    "\n",
    "    # if computer == 'seagull':\n",
    "    #     channel = hxhy.duct('rectangular', h = 0.002, w = 0.0028, L = 1.603) # kPa\n",
    "    #     PL_guess = 1000 * channel.regular_PL(Vdot, fluid_dict={'name':'MPG','glycol_rate':0.4}, p=p_op, T=T_op) # Pa\n",
    "    #     jg.standard_initialization(tui, 'inlet', PL_guess, coeff_x*V, coeff_y*V, coeff_z*V)\n",
    "    # else:\n",
    "    solver.solution.initialization.hybrid_initialize()\n",
    "\n",
    "    if computer == 'seagull':\n",
    "        solver.solution.run_calculation.iterate(number_of_iterations = nb_it)\n",
    "    elif computer == 'lmps_cds':\n",
    "        solver.solution.run_calculation.iterate(iter_count = nb_it)\n",
    "\n",
    "    jg.write_report(tui, 'mdot', folder_path_case, 'mdot_report')\n",
    "    jg.write_report(tui, 'sp', folder_path_case, 'sp_report')\n",
    "    jg.write_residuals_file(tui, folder_path_case, 'residuals')\n",
    "    jg.write_data(tui, folder_path_case, f'case_{str(Vdot)}Lh')"
   ]
  },
  {
   "cell_type": "code",
   "execution_count": null,
   "metadata": {},
   "outputs": [],
   "source": []
  }
 ],
 "metadata": {
  "kernelspec": {
   "display_name": "venv",
   "language": "python",
   "name": "python3"
  },
  "language_info": {
   "codemirror_mode": {
    "name": "ipython",
    "version": 3
   },
   "file_extension": ".py",
   "mimetype": "text/x-python",
   "name": "python",
   "nbconvert_exporter": "python",
   "pygments_lexer": "ipython3",
   "version": "3.11.6"
  }
 },
 "nbformat": 4,
 "nbformat_minor": 2
}
