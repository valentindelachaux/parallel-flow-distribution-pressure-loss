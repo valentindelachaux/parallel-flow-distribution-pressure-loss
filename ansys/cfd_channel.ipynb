{
 "cells": [
  {
   "cell_type": "code",
   "execution_count": 4,
   "metadata": {},
   "outputs": [],
   "source": [
    "import os\n",
    "from io import StringIO\n",
    "\n",
    "import sys\n",
    "\n",
    "sys.path.append(r'D:\\seagu_OneDrive\\Documents\\GitHub\\PVT-thermal-performance-model')\n",
    "sys.path.append(r'D:\\seagu_OneDrive\\Documents\\GitHub\\PVT-thermal-performance-model\\CFD')\n",
    "sys.path.append(r'D:\\seagu_OneDrive\\Documents\\GitHub\\parallel-flow-distribution-pressure-loss')\n",
    "\n",
    "import numpy as np\n",
    "import pandas as pd\n",
    "import openpyxl\n",
    "\n",
    "import matplotlib.pyplot as plt\n",
    "import plotly.graph_objects as go\n",
    "\n",
    "import jou_gen as jg\n",
    "import bridge_module as bm\n",
    "\n",
    "import ansys.fluent.core as pyfluent\n",
    "\n",
    "from CoolProp.CoolProp import PropsSI\n",
    "\n",
    "import hx_hydraulic as hxhy"
   ]
  },
  {
   "cell_type": "code",
   "execution_count": 5,
   "metadata": {},
   "outputs": [],
   "source": [
    "main_fp = r'D:\\ANSYS Fluent Projects\\Hydraulics\\V4.5\\V4.5_1channel'\n",
    "Mesh_fp = os.path.join(main_fp, 'mesh')\n",
    "SR_fp = os.path.join(main_fp, 'SimulationResults')\n",
    "\n",
    "tui, solver = bm.init_solver(main_fp, '3000')"
   ]
  },
  {
   "cell_type": "code",
   "execution_count": 6,
   "metadata": {},
   "outputs": [],
   "source": [
    "water_dict = solver.setup.materials.fluid[\"water-liquid\"].get_state()\n",
    "\n",
    "T_op = 25 + 273.15\n",
    "p_op = 101325\n",
    "\n",
    "water_dict['density']['option'] = 'constant'\n",
    "water_dict['density']['constant'] = PropsSI('D', 'T', T_op, 'P', p_op, 'INCOMP::MPG[0.4]')\n",
    "water_dict['viscosity']['option'] = 'constant'\n",
    "water_dict['viscosity']['constant'] = PropsSI('viscosity', 'T', T_op, 'P', p_op, 'INCOMP::MPG[0.4]')\n",
    "\n",
    "solver.setup.materials.fluid[\"water-glycol\"].set_state(water_dict)"
   ]
  },
  {
   "cell_type": "code",
   "execution_count": 7,
   "metadata": {},
   "outputs": [],
   "source": [
    "proj_x = 1.858884e-07\n",
    "proj_y = -0.0192837\n",
    "proj_z = -0.0160013\n",
    "\n",
    "coeff_x = proj_x/0.02505798417538183\n",
    "coeff_y = proj_y/0.02505798417538183\n",
    "coeff_z = proj_z/0.02505798417538183"
   ]
  },
  {
   "cell_type": "code",
   "execution_count": 8,
   "metadata": {},
   "outputs": [],
   "source": [
    "# Vdot_list = [0.01, 0.05, 0.1, 0.5, 1., 1.5, 2., 3., 5.] \n",
    "Vdot_list = [1., 1.5, 2., 3., 5.] "
   ]
  },
  {
   "cell_type": "code",
   "execution_count": 9,
   "metadata": {},
   "outputs": [],
   "source": [
    "nb_it = 500"
   ]
  },
  {
   "cell_type": "code",
   "execution_count": 10,
   "metadata": {},
   "outputs": [],
   "source": [
    "param_fp = bm.check_folder(os.path.join(SR_fp, 'parametric_laminar_try0'))"
   ]
  },
  {
   "cell_type": "code",
   "execution_count": null,
   "metadata": {},
   "outputs": [],
   "source": [
    "for Vdot in Vdot_list:\n",
    "\n",
    "    folder_path_case = bm.check_folder(os.path.join(SR_fp, 'parametric_laminar_try0', f'case_{str(Vdot)}Lh'))\n",
    "\n",
    "    report_names = ['report_outlet_sp', 'report_inlet_sp', 'report_outlet_mdot']\n",
    "    for report_name in report_names:\n",
    "        jg.change_report_file_path(tui, report_name, os.path.join(folder_path_case, f\"{report_name}.out\"))\n",
    "\n",
    "    Vdot_m3s = Vdot * 1e-3 / 3600 # m3/s\n",
    "    Ac = 0.0000055427 # m2\n",
    "    V = Vdot_m3s / Ac # m/s\n",
    "\n",
    "    jg.change_named_expression(tui, 'V_inlet', V, 'm/s')\n",
    "\n",
    "    channel = hxhy.duct('rectangular', h = 0.002, w = 0.0028, L = 1.603) # kPa\n",
    "    PL_guess = 1000 * channel.regular_PL(Vdot, fluid='MPG', glycol_rate=0.4, p=p_op, T=T_op) # Pa\n",
    "\n",
    "    jg.standard_initialization(tui, 'inlet', PL_guess, coeff_x*V, coeff_y*V, coeff_z*V)\n",
    "\n",
    "    solver.solution.run_calculation.iterate(number_of_iterations=nb_it)\n",
    "\n",
    "    jg.write_report(tui, 'mdot', folder_path_case, 'mdot_report')\n",
    "    jg.write_report(tui, 'sp', folder_path_case, 'sp_report')\n",
    "    jg.write_residuals_file(tui, folder_path_case, 'residuals')\n",
    "    jg.write_data(tui, folder_path_case, f'case_{str(Vdot)}Lh')"
   ]
  },
  {
   "cell_type": "code",
   "execution_count": null,
   "metadata": {},
   "outputs": [],
   "source": [
    "folder_path_case"
   ]
  },
  {
   "cell_type": "code",
   "execution_count": 13,
   "metadata": {},
   "outputs": [],
   "source": [
    "# jg.write_report(tui, 'sp', folder_path_case, 'sp_report')\n",
    "# jg.write_residuals_file(tui, folder_path_case, 'residuals')\n",
    "# jg.write_data(tui, folder_path_case, f'case_{str(Vdot)}Lh')"
   ]
  },
  {
   "cell_type": "code",
   "execution_count": 45,
   "metadata": {},
   "outputs": [],
   "source": [
    "# channel.set_fluid('INCOMP::MPG[0.4]', p_op, T_op)\n",
    "# channel.set_Vdot(16.)\n",
    "# channel.compute_Reynolds()\n",
    "# channel.Re"
   ]
  }
 ],
 "metadata": {
  "kernelspec": {
   "display_name": "Python 3",
   "language": "python",
   "name": "python3"
  },
  "language_info": {
   "codemirror_mode": {
    "name": "ipython",
    "version": 3
   },
   "file_extension": ".py",
   "mimetype": "text/x-python",
   "name": "python",
   "nbconvert_exporter": "python",
   "pygments_lexer": "ipython3",
   "version": "3.11.6"
  }
 },
 "nbformat": 4,
 "nbformat_minor": 2
}
