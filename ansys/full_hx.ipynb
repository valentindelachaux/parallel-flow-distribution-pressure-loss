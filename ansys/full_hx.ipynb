{
 "cells": [
  {
   "cell_type": "code",
   "execution_count": null,
   "metadata": {},
   "outputs": [],
   "source": [
    "import os \n",
    "import numpy as np\n",
    "import pandas as pd\n",
    "\n",
    "import openpyxl\n",
    "\n",
    "import matplotlib.pyplot as plt\n",
    "\n",
    "\n",
    "import jou_gen as jg\n",
    "\n",
    "from io import StringIO\n",
    "\n",
    "import plotly.graph_objects as go\n",
    "\n",
    "from numpy.polynomial.polynomial import Polynomial\n",
    "\n",
    "import ansys.fluent.core as pyfluent"
   ]
  },
  {
   "cell_type": "code",
   "execution_count": null,
   "metadata": {},
   "outputs": [],
   "source": [
    "# %reload_ext autoreload"
   ]
  },
  {
   "cell_type": "code",
   "execution_count": null,
   "metadata": {},
   "outputs": [],
   "source": [
    "# %autoreload 2"
   ]
  },
  {
   "cell_type": "code",
   "execution_count": null,
   "metadata": {},
   "outputs": [],
   "source": [
    "folder_path = r'D:\\ANSYS Fluent Projects\\Hydraulics\\V4.5\\19MPE_woch\\fluent'\n",
    "\n",
    "N_junction = 38\n",
    "N_channels = 304\n",
    "Area_junction = 44.0414E-6\n",
    "\n",
    "N_big_it = 25\n",
    "N_it = 40"
   ]
  },
  {
   "cell_type": "code",
   "execution_count": null,
   "metadata": {},
   "outputs": [],
   "source": [
    "solver_path = folder_path + '\\\\' + 'server_info-15088.txt'\n",
    "solver = pyfluent.connect_to_fluent(server_info_filepath=solver_path)\n",
    "tui = solver.tui"
   ]
  },
  {
   "cell_type": "code",
   "execution_count": null,
   "metadata": {},
   "outputs": [],
   "source": [
    "def process_df(df):\n",
    "    df['index'] = df['Component'].str.extract(r'distrib_ch_(\\d+)')\n",
    "    df['index'] = df['index'].astype(float)\n",
    "\n",
    "    mdot_distrib_inlet = df[df['Component'] == 'distrib_inlet']['mdot'].values[0]\n",
    "    df = df.dropna(subset=['index'])\n",
    "\n",
    "    positive_count = (df['mdot'] > 0).sum()\n",
    "    null_count = (df['mdot'] == 0).sum()\n",
    "\n",
    "    if positive_count > 0:\n",
    "\n",
    "        perc_to_adjust = ( 1 - mdot_distrib_inlet/-df[df['mdot'] < 0]['mdot'].sum() )\n",
    "        perc_to_distribute = 0.01\n",
    "        mdot_to_distribute = perc_to_distribute * -df[df['mdot'] < 0]['mdot'].sum()\n",
    "        perc_to_remove = perc_to_adjust + perc_to_distribute\n",
    "\n",
    "        df['mdot_updated'] = np.where(df['mdot'] < 0, (1-perc_to_remove)*df['mdot'], mdot_to_distribute / positive_count)\n",
    "        df['mdot'] = df['mdot_updated'].abs()\n",
    "\n",
    "    elif null_count > 0:\n",
    "\n",
    "        perc_to_distribute = 0.05\n",
    "        mdot_to_distribute = perc_to_distribute * -df[df['mdot'] < 0]['mdot'].sum()\n",
    "\n",
    "        df['mdot_updated'] = np.where(df['mdot'] < 0, (1-perc_to_distribute)*df['mdot'], mdot_to_distribute / null_count)\n",
    "        df['mdot'] = df['mdot_updated'].abs()\n",
    "\n",
    "    else:\n",
    "        df['mdot'] = df['mdot'].abs()\n",
    "\n",
    "    df['mdot_ch_norm'] = df['mdot']/(df['mdot'].sum()/N_junction)\n",
    "    df['new_input'] = df['mdot_ch_norm'] * (mdot_distrib_inlet/N_junction)\n",
    "\n",
    "    return df,mdot_distrib_inlet"
   ]
  },
  {
   "cell_type": "code",
   "execution_count": null,
   "metadata": {},
   "outputs": [],
   "source": [
    "def create_bc_input(df):\n",
    "\n",
    "    string_list = []\n",
    "\n",
    "    for i in range(N_junction):\n",
    "        string_list.append(jg.change_bc_velocity_inlet(f\"coll_ch_{i+1}\",f\"( {df.loc[i+1,'new_input']} [kg / s] / rho_water ) / (44.0414E-6 [m^2])\"))\n",
    "\n",
    "    jg.concatenate_and_write_to_file(string_list,folder_path+'\\\\'+'change_bc_v.txt')"
   ]
  },
  {
   "cell_type": "markdown",
   "metadata": {},
   "source": [
    "Set BC of collector channels inlets at velocity inlet with even flow distribution"
   ]
  },
  {
   "cell_type": "code",
   "execution_count": null,
   "metadata": {},
   "outputs": [],
   "source": [
    "string_list = []\n",
    "for i in range(N_junction):\n",
    "    string_list.append(jg.change_bc_velocity_inlet(f\"coll_ch_{i+1}\",f\"((mdot_distrib_inlet/rho_water)/{N_junction})/({Area_junction} [m^2])\"))\n",
    "jg.concatenate_and_write_to_file(string_list,folder_path + '\\\\' + 'change_bc_v_uniform.txt')\n",
    "tui.file.read_journal('change_bc_v_uniform.txt')"
   ]
  },
  {
   "cell_type": "markdown",
   "metadata": {},
   "source": [
    "Set BC of distributor channels outlets with an offset of pressure and even flow distribution assumption as well"
   ]
  },
  {
   "cell_type": "code",
   "execution_count": null,
   "metadata": {},
   "outputs": [],
   "source": [
    "string_list = []\n",
    "for i in range(N_junction):\n",
    "    string_list.append(jg.change_bc_pressure_outlet(f\"distrib_ch_{i+1}\",f\"{{sp_coll_ch_{i+1}}} + 1411785 [Pa s / kg] * ( mdot_distrib_inlet / {N_channels})\",backflow_direction_specification_method='From Neighboring Cell'))\n",
    "jg.concatenate_and_write_to_file(string_list,folder_path + '\\\\' + 'change_bc_po_uniform.txt')\n",
    "tui.file.read_journal('change_bc_po_uniform.txt')"
   ]
  },
  {
   "cell_type": "markdown",
   "metadata": {},
   "source": [
    "Initialization from distrib_inlet (39)"
   ]
  },
  {
   "cell_type": "code",
   "execution_count": null,
   "metadata": {},
   "outputs": [],
   "source": [
    "init_surface_id = 39\n",
    "init_sp = 170\n",
    "\n",
    "gui_standard_init_cmd = f\"\"\"/file/set-tui-version \"22.2\"\n",
    "(cx-gui-do cx-set-list-tree-selections \"NavigationPane*Frame2*Table1*List_Tree2\" (list \"Solution|Initialization\"))\n",
    "(cx-gui-do cx-set-list-selections \"Solution Initialization*Table1*DropDownList1(Compute from)\" '( {init_surface_id}))\n",
    "(cx-gui-do cx-activate-item \"Solution Initialization*Table1*DropDownList1(Compute from)\")\n",
    "(cx-gui-do cx-set-real-entry-list \"Solution Initialization*Table1*Table7(Initial Values)*RealEntry1(Gauge Pressure)\" '( {init_sp}))\n",
    "(cx-gui-do cx-activate-item \"Solution Initialization*Table1*Table7(Initial Values)*RealEntry1(Gauge Pressure)\")\n",
    "(cx-gui-do cx-activate-item \"Solution Initialization*Table1*Frame9*PushButton1(Initialize)\")\n",
    "(cx-gui-do cx-activate-item \"Question*OK\")\n",
    "\"\"\"\n",
    "\n",
    "with open(folder_path + '\\\\' + 'standard_init.txt', \"w\") as file:\n",
    "    file.write(gui_standard_init_cmd)"
   ]
  },
  {
   "cell_type": "code",
   "execution_count": null,
   "metadata": {},
   "outputs": [],
   "source": [
    "tui.file.read_journal('standard_init.txt')"
   ]
  },
  {
   "cell_type": "markdown",
   "metadata": {},
   "source": [
    "Make ~100 iterations"
   ]
  },
  {
   "cell_type": "code",
   "execution_count": null,
   "metadata": {},
   "outputs": [],
   "source": [
    "solver.solution.run_calculation.iterate(number_of_iterations=70)"
   ]
  },
  {
   "cell_type": "markdown",
   "metadata": {},
   "source": [
    "Then put the BC with non uniform flow distribution"
   ]
  },
  {
   "cell_type": "code",
   "execution_count": null,
   "metadata": {},
   "outputs": [],
   "source": [
    "string_list = []\n",
    "for i in range(N_junction):\n",
    "    string_list.append(jg.change_bc_pressure_outlet(f\"distrib_ch_{i+1}\",f\"{{sp_coll_ch_{i+1}}} - 1411785 [Pa s / kg] * ( {{mdot_distrib_ch_{i+1}}} / 8)\",backflow_direction_specification_method='From Neighboring Cell'))\n",
    "jg.concatenate_and_write_to_file(string_list,folder_path + '\\\\' + 'change_bc_po_non_uniform_new_version.txt')"
   ]
  },
  {
   "cell_type": "code",
   "execution_count": null,
   "metadata": {},
   "outputs": [],
   "source": [
    "string_list = []\n",
    "for i in range(N_junction):\n",
    "    string_list.append(jg.change_bc_pressure_outlet(f\"distrib_ch_{i+1}\",f\"{{sp_coll_ch_{i+1}}} + 1411785 [Pa s / kg] * ( {{mdot_coll_ch_{i+1}}} / 8)\",backflow_direction_specification_method='From Neighboring Cell'))\n",
    "jg.concatenate_and_write_to_file(string_list,folder_path + '\\\\' + 'change_bc_po_non_uniform.txt')\n",
    "\n",
    "tui.file.read_journal('change_bc_po_non_uniform.txt')"
   ]
  },
  {
   "cell_type": "code",
   "execution_count": null,
   "metadata": {},
   "outputs": [],
   "source": [
    "solver.solution.run_calculation.iterate(number_of_iterations=40)"
   ]
  },
  {
   "cell_type": "code",
   "execution_count": null,
   "metadata": {},
   "outputs": [],
   "source": [
    "# tui.file.read_journal('prevent_reverse_flow_every_pressure_outlet.txt')"
   ]
  },
  {
   "cell_type": "markdown",
   "metadata": {},
   "source": [
    "HERE SOLVE THE CASE AND DATA SOLVE 100 L/H WITH EVEN FLOW"
   ]
  },
  {
   "cell_type": "code",
   "execution_count": null,
   "metadata": {},
   "outputs": [],
   "source": [
    "solver.solution.run_calculation.iterate(number_of_iterations=20)"
   ]
  },
  {
   "cell_type": "markdown",
   "metadata": {},
   "source": [
    "Run big iterations"
   ]
  },
  {
   "cell_type": "code",
   "execution_count": null,
   "metadata": {},
   "outputs": [],
   "source": [
    "list_df = []\n",
    "list_mdot_distrib_inlet = []"
   ]
  },
  {
   "cell_type": "code",
   "execution_count": null,
   "metadata": {},
   "outputs": [],
   "source": [
    "i = 0\n",
    "\n",
    "print('N_big_it:',i)\n",
    "\n",
    "tui.file.read_journal('write_mdot_report.txt')\n",
    "jg.convert_report(folder_path,'mdot_report_temp.txt','mdot',output_file_name_wo_extension=f'mdot_distrib_ch_report_{i}')"
   ]
  },
  {
   "cell_type": "code",
   "execution_count": null,
   "metadata": {},
   "outputs": [],
   "source": [
    "df = pd.read_csv(folder_path+'\\\\'+f'mdot_distrib_ch_report_{0}.csv', header=0)\n",
    "df['index'] = df['Component'].str.extract(r'distrib_ch_(\\d+)')\n",
    "df['index'] = df['index'].astype(float)\n",
    "mdot_distrib_inlet = df[df['Component'] == 'distrib_inlet']['mdot'].values[0]\n",
    "df = df.dropna(subset=['index'])\n",
    "\n",
    "df.set_index('index',inplace=True)\n",
    "df.sort_index(inplace=True)"
   ]
  },
  {
   "cell_type": "code",
   "execution_count": null,
   "metadata": {},
   "outputs": [],
   "source": [
    "positive_count = (df['mdot'] > 0).sum()\n",
    "null_count = (df['mdot'] == 0).sum()\n",
    "\n",
    "if positive_count > 0:\n",
    "\n",
    "    perc_to_adjust = ( 1 - mdot_distrib_inlet/-df.loc[df['mdot'] < 0]['mdot'].sum() )\n",
    "    perc_to_distribute = 0.01\n",
    "    mdot_to_distribute = perc_to_distribute * -df.loc[df['mdot'] < 0]['mdot'].sum()\n",
    "    perc_to_remove = perc_to_adjust + perc_to_distribute\n",
    "\n",
    "    df['mdot_updated'] = np.where(df['mdot'] < 0, (1-perc_to_remove)*df['mdot'], mdot_to_distribute / positive_count)\n",
    "    df['mdot'] = df['mdot_updated'].abs()\n",
    "\n",
    "elif null_count > 0:\n",
    "\n",
    "    perc_to_distribute = 0.01\n",
    "    mdot_to_distribute = perc_to_distribute * -df[df['mdot'] < 0]['mdot'].sum()\n",
    "\n",
    "    df['mdot_updated'] = np.where(df['mdot'] < 0, (1-perc_to_distribute)*df['mdot'], mdot_to_distribute / null_count)\n",
    "    df['mdot'] = df['mdot_updated'].abs()\n",
    "\n",
    "else:\n",
    "    df['mdot'] = df['mdot'].abs()\n",
    "\n",
    "df['mdot_ch_norm'] = df['mdot']/(df['mdot'].sum()/N_junction)\n",
    "df['new_input'] = df['mdot_ch_norm'] * (mdot_distrib_inlet/N_junction)"
   ]
  },
  {
   "cell_type": "code",
   "execution_count": null,
   "metadata": {},
   "outputs": [],
   "source": [
    "if i == 0 :\n",
    "    pass\n",
    "else:\n",
    "    df['new_input'] = (list_df[i-1]['new_input'] + df['new_input'])/2"
   ]
  },
  {
   "cell_type": "code",
   "execution_count": null,
   "metadata": {},
   "outputs": [],
   "source": [
    "plt.scatter(df.index,df['new_input']/(mdot_distrib_inlet/38))"
   ]
  },
  {
   "cell_type": "code",
   "execution_count": null,
   "metadata": {},
   "outputs": [],
   "source": [
    "# Prepare the data\n",
    "x = df.index\n",
    "y = df['mdot_ch_norm']"
   ]
  },
  {
   "cell_type": "code",
   "execution_count": null,
   "metadata": {},
   "outputs": [],
   "source": [
    "# Fit a polynomial of degree 2\n",
    "degree = 2\n",
    "coefs = Polynomial.fit(x, y, degree).convert().coef\n",
    "\n",
    "# Generate a range of x values for plotting the fit\n",
    "x_fit = x\n",
    "\n",
    "param = 0.8\n",
    "\n",
    "y_fit = np.polyval(param*coefs[::-1], x_fit) + (1-param) # Reverse coefs for np.polyval\n",
    "\n",
    "# Original data\n",
    "plt.scatter(x, y, label='Original Data')\n",
    "\n",
    "# Polynomial fit\n",
    "plt.plot(x_fit, y_fit, color='red', label='Polynomial fit degree 2')\n",
    "\n",
    "plt.legend()\n",
    "plt.show()"
   ]
  },
  {
   "cell_type": "code",
   "execution_count": null,
   "metadata": {},
   "outputs": [],
   "source": [
    "df['new_input'] = y_fit * (mdot_distrib_inlet/N_junction)"
   ]
  },
  {
   "cell_type": "code",
   "execution_count": null,
   "metadata": {},
   "outputs": [],
   "source": [
    "plt.scatter(df.index,df['new_input']/(mdot_distrib_inlet/38))"
   ]
  },
  {
   "cell_type": "code",
   "execution_count": null,
   "metadata": {},
   "outputs": [],
   "source": [
    "df['new_input'].sum()"
   ]
  },
  {
   "cell_type": "code",
   "execution_count": null,
   "metadata": {},
   "outputs": [],
   "source": [
    "list_df.append(df)\n",
    "list_mdot_distrib_inlet.append(mdot_distrib_inlet)"
   ]
  },
  {
   "cell_type": "code",
   "execution_count": null,
   "metadata": {},
   "outputs": [],
   "source": [
    "string_list = []\n",
    "for i in range(N_junction):\n",
    "    string_list.append(jg.change_bc_pressure_outlet(f\"distrib_ch_{i+1}\",f\"{{sp_coll_ch_{i+1}}} + 1411785 [Pa s / kg] * ( {{mdot_coll_ch_{i+1}}} / 8)\",backflow_direction_specification_method='prevent backflow',target_mass_flow_rate=True,mdot=df.loc[i+1,'new_input'],pressure_upper_bound = 1000.))\n",
    "jg.concatenate_and_write_to_file(string_list,folder_path + '\\\\' + 'change_bc_po_non_uniform_target.txt')"
   ]
  },
  {
   "cell_type": "code",
   "execution_count": null,
   "metadata": {},
   "outputs": [],
   "source": [
    "tui.file.read_journal('change_bc_po_non_uniform_target.txt')"
   ]
  },
  {
   "cell_type": "code",
   "execution_count": null,
   "metadata": {},
   "outputs": [],
   "source": [
    "create_bc_input(df)\n",
    "\n",
    "tui.file.read_journal('change_bc_v.txt')"
   ]
  },
  {
   "cell_type": "code",
   "execution_count": null,
   "metadata": {},
   "outputs": [],
   "source": [
    "solver.solution.run_calculation.iterate(number_of_iterations=50)"
   ]
  },
  {
   "cell_type": "code",
   "execution_count": null,
   "metadata": {},
   "outputs": [],
   "source": [
    "file_path = folder_path + '\\\\' + 'create_residuals_file.txt'\n",
    "with open(file_path, 'w') as file:\n",
    "    file.write(jg.write_residuals_file(f\"big_it_{i}_residuals_report.txt\"))\n",
    "\n",
    "tui.file.read_journal('create_residuals_file.txt')"
   ]
  },
  {
   "cell_type": "markdown",
   "metadata": {},
   "source": [
    "RUN BIG IT"
   ]
  },
  {
   "cell_type": "code",
   "execution_count": null,
   "metadata": {},
   "outputs": [],
   "source": [
    "list_df = []\n",
    "list_mdot_distrib_inlet = []\n",
    "\n",
    "for i in range(N_big_it):\n",
    "\n",
    "    print('N_big_it:',i)\n",
    "\n",
    "    tui.file.read_journal('write_mdot_report.txt')\n",
    "    jg.convert_report(folder_path,'mdot_report_temp.txt','mdot',output_file_name_wo_extension=f'mdot_distrib_ch_report_{i}')\n",
    "    df = pd.read_csv(folder_path+'\\\\'+f'mdot_distrib_ch_report_{i}.csv', header=0)\n",
    "\n",
    "    df, mdot_distrib_inlet = process_df(df)\n",
    "    list_df.append(df)\n",
    "    list_mdot_distrib_inlet.append(mdot_distrib_inlet)\n",
    "\n",
    "    if i == 0 :\n",
    "        pass\n",
    "    else:\n",
    "        df['new_input'] = (list_df[i-1]['new_input'] + list_df[i]['new_input'])/2\n",
    "\n",
    "    create_bc_input(df)\n",
    "\n",
    "    tui.file.read_journal('change_bc_v.txt')\n",
    "        \n",
    "    solver.solution.run_calculation.iterate(number_of_iterations=N_it)\n",
    "\n",
    "    file_path = folder_path + '\\\\' + 'create_residuals_file.txt'\n",
    "    with open(file_path, 'w') as file:\n",
    "        file.write(jg.write_residuals_file(f\"big_it_{i}_residuals_report.txt\"))\n",
    "\n",
    "    tui.file.read_journal('create_residuals_file.txt')"
   ]
  },
  {
   "cell_type": "code",
   "execution_count": null,
   "metadata": {},
   "outputs": [],
   "source": []
  },
  {
   "cell_type": "code",
   "execution_count": null,
   "metadata": {},
   "outputs": [],
   "source": []
  },
  {
   "cell_type": "code",
   "execution_count": null,
   "metadata": {},
   "outputs": [],
   "source": [
    "list_df = []\n",
    "\n",
    "for i in range(N_big_it):\n",
    "    df = pd.read_csv(folder_path+'\\\\'+f'mdot_distrib_ch_report_{i}.csv', header=0)\n",
    "    df['index'] = df['Component'].str.extract(r'distrib_ch_(\\d+)')\n",
    "    df['index'] = df['index'].astype(float)\n",
    "    list_df.append(df)"
   ]
  },
  {
   "cell_type": "code",
   "execution_count": null,
   "metadata": {},
   "outputs": [],
   "source": [
    "fig, ax = plt.subplots()\n",
    "\n",
    "for i in range(4):\n",
    "    ax.scatter(list_df[i]['index'], -list_df[i]['mdot'], label=f'Norm. mdot distrib at big it. {i}')\n",
    "\n",
    "# put the legend at right side of the graph\n",
    "ax.legend(loc='center left', bbox_to_anchor=(1, 0.5))\n",
    "plt.show()"
   ]
  },
  {
   "cell_type": "code",
   "execution_count": null,
   "metadata": {},
   "outputs": [],
   "source": []
  }
 ],
 "metadata": {
  "kernelspec": {
   "display_name": "venv_py_ansys",
   "language": "python",
   "name": "python3"
  },
  "language_info": {
   "codemirror_mode": {
    "name": "ipython",
    "version": 3
   },
   "file_extension": ".py",
   "mimetype": "text/x-python",
   "name": "python",
   "nbconvert_exporter": "python",
   "pygments_lexer": "ipython3",
   "version": "3.11.6"
  }
 },
 "nbformat": 4,
 "nbformat_minor": 2
}
