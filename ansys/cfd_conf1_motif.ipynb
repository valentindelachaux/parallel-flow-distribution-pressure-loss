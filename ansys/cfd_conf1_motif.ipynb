{
 "cells": [
  {
   "cell_type": "code",
   "execution_count": null,
   "metadata": {},
   "outputs": [],
   "source": [
    "import os\n",
    "from io import StringIO\n",
    "\n",
    "import sys\n",
    "\n",
    "current_dir = os.getcwd()\n",
    "sys.path.append(os.path.abspath(os.path.join(current_dir, '..', '..', 'PVT-thermal-performance-model')))\n",
    "sys.path.append(os.path.abspath(os.path.join(current_dir, '..', '..', 'PVT-thermal-performance-model', 'CFD')))\n",
    "sys.path.append(os.path.abspath(os.path.join(current_dir, '..', '..', 'RD-systems-and-test-benches')))\n",
    "sys.path.append(os.path.abspath(os.path.join(current_dir, '..', '..', 'parallel-flow-distribution-pressure-loss')))\n",
    "sys.path.append(os.path.abspath(os.path.join(current_dir, '..', '..', 'parallel-flow-distribution-pressure-loss', 'ansys')))\n",
    "\n",
    "import numpy as np\n",
    "import pandas as pd\n",
    "import openpyxl\n",
    "\n",
    "import matplotlib.pyplot as plt\n",
    "import plotly.graph_objects as go\n",
    "\n",
    "import jou_gen as jg\n",
    "import bridge_module as bm\n",
    "\n",
    "import ansys.fluent.core as pyfluent\n",
    "\n",
    "from CoolProp.CoolProp import PropsSI\n",
    "\n",
    "import hx_hydraulic as hxhy"
   ]
  },
  {
   "cell_type": "code",
   "execution_count": 2,
   "metadata": {},
   "outputs": [],
   "source": [
    "computer = 'lmps_cds'\n",
    "jg.set_computer(computer)\n",
    "server_number = 1104\n",
    "\n",
    "category_folder_name = 'Hydraulics'\n",
    "project_folder_name = 'NUMAIRO_motif'\n",
    "\n",
    "caoMeshFolder = 'V4.6_1MPE_M1'\n",
    "title = 'abaque0_laminar_try0'\n",
    "\n",
    "nb_it = 500\n",
    "\n",
    "report_names = ['report_distrib_inlet_sp',\n",
    "                'report_distrib_outlet_sp',\n",
    "                'report_coll_inlet_sp',\n",
    "                'report_coll_outlet_sp',\n",
    "                'report_distrib_inlet_mdot',\n",
    "                'report_distrib_outlet_mdot',\n",
    "                'report_coll_inlet_mdot',\n",
    "                'report_coll_outlet_mdot'\n",
    "                ]"
   ]
  },
  {
   "cell_type": "code",
   "execution_count": null,
   "metadata": {},
   "outputs": [],
   "source": [
    "if computer == 'seagull':\n",
    "    root_fp = r'D:\\ANSYS Fluent Projects'\n",
    "else:\n",
    "    root_fp = \"/usrtmp/delachaux/ANSYS Fluent Projects\"\n",
    "    jg.computer = computer\n",
    "\n",
    "main_fp = os.path.join(root_fp, category_folder_name, project_folder_name)\n",
    "Mesh_fp = os.path.join(main_fp, 'mesh')\n",
    "SR_fp = bm.check_folder(os.path.join(main_fp, 'SimulationResults'))\n",
    "caoMesh_fp = bm.check_folder(os.path.join(SR_fp, caoMeshFolder))\n",
    "param_fp = bm.check_folder(os.path.join(SR_fp, caoMeshFolder, title))\n",
    "\n",
    "tui, solver = bm.init_solver(main_fp, str(server_number), subfolder='')\n",
    "print('main_fp :',main_fp)"
   ]
  },
  {
   "cell_type": "code",
   "execution_count": 4,
   "metadata": {},
   "outputs": [],
   "source": [
    "water_dict = solver.setup.materials.fluid[\"water-liquid\"].get_state()\n",
    "\n",
    "T_op = 23 + 273.15\n",
    "p_op = 101325\n",
    "\n",
    "if computer == 'lmps_cds':\n",
    "    constant_key = 'value'\n",
    "    water_dict['chemical_formula'] = \"\"\n",
    "else:\n",
    "    constant_key = 'constant'\n",
    "\n",
    "water_dict['density']['option'] = 'constant'\n",
    "water_dict['density'][constant_key] = PropsSI('D', 'T', T_op, 'P', p_op, 'INCOMP::MPG[0.4]')\n",
    "water_dict['viscosity']['option'] = 'constant'\n",
    "water_dict['viscosity'][constant_key] = PropsSI('viscosity', 'T', T_op, 'P', p_op, 'INCOMP::MPG[0.4]')\n",
    "\n",
    "solver.setup.materials.fluid[\"water-glycol\"].set_state(water_dict)"
   ]
  },
  {
   "cell_type": "code",
   "execution_count": null,
   "metadata": {},
   "outputs": [],
   "source": [
    "parametric_df = pd.DataFrame()\n",
    "parametric_df['alpha'] = np.array(5*[0.05, 0.25, 0.5, 0.75, 0.95])\n",
    "parametric_df['beta'] = np.array([5*[x] for x in np.linspace(0.1, 0.9, 5)]).flatten()\n",
    "parametric_df['case'] = 'case' + parametric_df.index.astype(str)\n",
    "parametric_df['Vdot_max'] = 100\n",
    "parametric_df['mdot_max'] = (parametric_df['Vdot_max']/(3.6*1E6))*water_dict['density'][constant_key]\n",
    "parametric_df['mdot_distrib_inlet'] = parametric_df['mdot_max']*parametric_df['beta']\n",
    "parametric_df['mdot_coll_inlet'] = parametric_df['mdot_max'] - parametric_df['mdot_distrib_inlet']\n",
    "parametric_df['mdot_distrib_outlet'] = parametric_df['mdot_distrib_inlet']*(1-parametric_df['alpha'])\n",
    "parametric_df"
   ]
  },
  {
   "cell_type": "code",
   "execution_count": null,
   "metadata": {},
   "outputs": [],
   "source": [
    "for index, row in parametric_df.iterrows():\n",
    "\n",
    "    case_name = str(row['case'])\n",
    "    folder_path_case = bm.check_folder(os.path.join(SR_fp, title, case_name))\n",
    "\n",
    "    for report_name in report_names:\n",
    "        jg.change_report_file_path(tui, report_name, os.path.join(folder_path_case, f\"{report_name}.out\"))\n",
    "\n",
    "    jg.change_named_expression(tui, 'mdot_distrib_inlet', row['mdot_distrib_inlet'], 'kg/s')\n",
    "    jg.change_named_expression(tui, 'mdot_coll_inlet', row['mdot_coll_inlet'], 'kg/s')\n",
    "    jg.change_named_expression(tui, 'mdot_distrib_outlet', row['mdot_distrib_outlet'], 'kg/s')\n",
    "\n",
    "    solver.solution.initialization.hybrid_initialize()\n",
    "\n",
    "    if computer == 'seagull':\n",
    "        solver.solution.run_calculation.iterate(number_of_iterations = nb_it)\n",
    "    elif computer == 'lmps_cds':\n",
    "        solver.solution.run_calculation.iterate(iter_count = nb_it)\n",
    "\n",
    "    jg.write_report(tui, 'mdot', folder_path_case, 'mdot_report')\n",
    "    jg.write_report(tui, 'sp', folder_path_case, 'sp_report')\n",
    "    jg.write_residuals_file(tui, folder_path_case, 'residuals')\n",
    "    jg.write_data(tui, folder_path_case, case_name)"
   ]
  }
 ],
 "metadata": {
  "kernelspec": {
   "display_name": "RD-env-24",
   "language": "python",
   "name": "python3"
  },
  "language_info": {
   "codemirror_mode": {
    "name": "ipython",
    "version": 3
   },
   "file_extension": ".py",
   "mimetype": "text/x-python",
   "name": "python",
   "nbconvert_exporter": "python",
   "pygments_lexer": "ipython3",
   "version": "3.10.5"
  }
 },
 "nbformat": 4,
 "nbformat_minor": 2
}
