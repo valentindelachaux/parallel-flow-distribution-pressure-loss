{
 "cells": [
  {
   "cell_type": "code",
   "execution_count": 1,
   "metadata": {},
   "outputs": [],
   "source": [
    "import os\n",
    "from io import StringIO\n",
    "\n",
    "import sys\n",
    "\n",
    "current_dir = os.getcwd()\n",
    "sys.path.append(os.path.abspath(os.path.join(current_dir, '..', '..', 'PVT-thermal-performance-model')))\n",
    "sys.path.append(os.path.abspath(os.path.join(current_dir, '..', '..', 'PVT-thermal-performance-model', 'CFD')))\n",
    "sys.path.append(os.path.abspath(os.path.join(current_dir, '..', '..', 'RD-systems-and-test-benches')))\n",
    "sys.path.append(os.path.abspath(os.path.join(current_dir, '..', '..', 'parallel-flow-distribution-pressure-loss')))\n",
    "sys.path.append(os.path.abspath(os.path.join(current_dir, '..', '..', 'parallel-flow-distribution-pressure-loss', 'ansys')))\n",
    "\n",
    "import numpy as np\n",
    "import pandas as pd\n",
    "import openpyxl\n",
    "\n",
    "import matplotlib.pyplot as plt\n",
    "import plotly.graph_objects as go\n",
    "\n",
    "import jou_gen as jg\n",
    "import bridge_module as bm\n",
    "\n",
    "import ansys.fluent.core as pyfluent\n",
    "\n",
    "from CoolProp.CoolProp import PropsSI\n",
    "\n",
    "import hx_hydraulic as hxhy\n",
    "\n",
    "from tqdm import tqdm"
   ]
  },
  {
   "cell_type": "code",
   "execution_count": 2,
   "metadata": {},
   "outputs": [],
   "source": [
    "computer = 'seagull'\n",
    "jg.set_computer(computer)\n",
    "server_number = 3000\n",
    "\n",
    "category_folder_name = 'Conduction'\n",
    "subcategory_folder_name = ''\n",
    "project_folder_name = 'fin_tube'\n",
    "\n",
    "caoMeshFolder = 'L20mm'\n",
    "title = 'parametric_try0'\n",
    "\n",
    "# report_names = ['report_outlet_sp', 'report_inlet_sp', 'report_outlet_mdot']"
   ]
  },
  {
   "cell_type": "code",
   "execution_count": null,
   "metadata": {},
   "outputs": [],
   "source": [
    "if computer == 'seagull':\n",
    "    root_fp = r'D:\\ANSYS Fluent Projects'\n",
    "else:\n",
    "    root_fp = \"/usrtmp/delachaux/ANSYS Fluent Projects\"\n",
    "    jg.computer = computer\n",
    "\n",
    "main_fp = os.path.join(root_fp, category_folder_name, subcategory_folder_name, project_folder_name)\n",
    "Mesh_fp = os.path.join(main_fp, 'mesh')\n",
    "SR_fp = bm.check_folder(os.path.join(main_fp, 'SimulationResults'))\n",
    "caoMesh_fp = bm.check_folder(os.path.join(SR_fp, caoMeshFolder))\n",
    "param_fp = bm.check_folder(os.path.join(SR_fp, caoMeshFolder, title))\n",
    "\n",
    "tui, solver = bm.init_solver(main_fp, str(server_number), subfolder='')\n",
    "print('main_fp :',main_fp)\n",
    "print('param_fp :',param_fp)"
   ]
  },
  {
   "cell_type": "code",
   "execution_count": 4,
   "metadata": {},
   "outputs": [],
   "source": [
    "nb_it = 500\n",
    "\n",
    "cellZoneToDelete_tube_list = [\"\", \"d15\", \"d20\"]\n",
    "tube_bc_list = [\"tube10\", \"tube15\", \"tube20-shadow\"]\n",
    "cellZoneToDelete_extension_list = [\"\", \"ext25\", \"ext20\", \"ext15\"]\n",
    "free_end_bc_list = [\"free_end25\",  \"free_end20-shadow\", \"free_end15-shadow\", \"free_end10-shadow\"]\n",
    "\n",
    "Dtube_list = [0.010,0.015,0.020]\n",
    "Hext_list = [0.025,0.020,0.015,0.010]\n",
    "\n",
    "cellZoneToDelete_tube_list = cellZoneToDelete_tube_list[0:2]\n",
    "tube_bc_list = tube_bc_list[0:2]\n",
    "cellZoneToDelete_extension_list = cellZoneToDelete_extension_list[2:4]\n",
    "free_end_bc_list = free_end_bc_list[2:4]\n",
    "Dtube_list = Dtube_list[0:2]\n",
    "Hext_list = Hext_list[2:4]\n",
    "\n",
    "h_range = np.array([1,3,5,7])\n",
    "T_amb = 273.15 + 0.\n",
    "T_tube_range = np.arange(T_amb-16, T_amb, 4.)\n",
    "res_list = []"
   ]
  },
  {
   "cell_type": "code",
   "execution_count": 5,
   "metadata": {},
   "outputs": [],
   "source": [
    "nb_it = 5000\n",
    "\n",
    "res_list = []"
   ]
  },
  {
   "cell_type": "code",
   "execution_count": null,
   "metadata": {},
   "outputs": [],
   "source": [
    "L_list = [60]\n",
    "\n",
    "for g, L in enumerate(L_list):\n",
    "\n",
    "    caseName = fr\"\"\" \"D:\\ANSYS Fluent Projects\\Conduction\\fin_tube\\fluent\\L{L}mm.cas.h5\" \"\"\"\n",
    "    print('L', L, ' mm')\n",
    "\n",
    "    for i, val in tqdm(enumerate(cellZoneToDelete_tube_list), total=len(cellZoneToDelete_tube_list)):\n",
    "\n",
    "        if i == 0:\n",
    "            pass\n",
    "        \n",
    "        else:\n",
    "\n",
    "            print('D', round(Dtube_list[i]*1000,1), ' mm')\n",
    "            string_list = [f\"\"\"/file/read-case {caseName}\"\"\"]\n",
    "            jg.save_journal(tui, string_list, \"read_case_reset\", read=True)\n",
    "\n",
    "            if val == \"\":\n",
    "                pass\n",
    "            else:\n",
    "                for ii, cellZoneToDelete_tube in enumerate(cellZoneToDelete_tube_list[1:i+1]):\n",
    "                    string_list = [f\"\"\"/define/boundary-conditions/modify-zones/delete-cell-zone {cellZoneToDelete_tube}  \"\"\"]\n",
    "                    jg.save_journal(tui, string_list, \"delete_cell_zone\", read=True)\n",
    "\n",
    "            tube_bc = tube_bc_list[i]\n",
    "            string_list = [f\"\"\"/define/boundary-conditions/wall {tube_bc} 0 no 0 no yes temperature no \"T_tube\" no no 1\"\"\"]\n",
    "            jg.save_journal(tui, string_list, \"set_free_end\", read=True)\n",
    "\n",
    "            for j, cellZoneToDelete_extension in enumerate(cellZoneToDelete_extension_list):\n",
    "\n",
    "                if cellZoneToDelete_extension == \"\":\n",
    "                    pass\n",
    "                else:\n",
    "                    string_list = [f\"\"\"/define/boundary-conditions/modify-zones/delete-cell-zone {cellZoneToDelete_extension}  \"\"\"]\n",
    "                    jg.save_journal(tui, string_list, \"delete_cell_zone\", read=True)\n",
    "\n",
    "                free_end_bc = free_end_bc_list[j]\n",
    "                string_list = [f\"\"\"/define/boundary-conditions/wall {free_end_bc} 0 no 0 no yes convection no \"h\" no \"T_amb\" no no 1\"\"\"]\n",
    "                jg.save_journal(tui, string_list, \"set_free_end\", read=True)\n",
    "\n",
    "                for k, T_tube in enumerate(T_tube_range):\n",
    "                    jg.change_named_expression(tui, 'T_tube', T_tube, 'K')\n",
    "                    for l, h in enumerate(h_range):\n",
    "                        jg.change_named_expression(tui, 'h', h, 'kg s^-3 K^-1')\n",
    "\n",
    "                        solver.solution.initialization.hybrid_initialize()\n",
    "\n",
    "                        if computer == 'seagull':\n",
    "                            solver.solution.run_calculation.iterate(number_of_iterations = nb_it)\n",
    "                        elif computer == 'lmps_cds':\n",
    "                            solver.solution.run_calculation.iterate(iter_count = nb_it)\n",
    "\n",
    "                        jg.write_report(tui,\"ht\",param_fp,\"report_all_ht\")\n",
    "                        df = pd.read_csv(os.path.join(param_fp, 'report_all_ht.csv'), sep=',')\n",
    "                        res_list.append({\n",
    "                                        'L' : L,\n",
    "                                        'Dtube' : Dtube_list[i],\n",
    "                                        'height' : Hext_list[j],\n",
    "                                        'T_tube' : T_tube,\n",
    "                                        'h' : h, \n",
    "                                        'transfer_to_tube' : - df.loc[df['Component'] == tube_bc, 'ht'].values[0]\n",
    "                                        }\n",
    "                                        )"
   ]
  },
  {
   "cell_type": "code",
   "execution_count": 7,
   "metadata": {},
   "outputs": [],
   "source": [
    "res_df = pd.DataFrame(res_list)"
   ]
  },
  {
   "cell_type": "code",
   "execution_count": 10,
   "metadata": {},
   "outputs": [],
   "source": [
    "import pickle"
   ]
  },
  {
   "cell_type": "code",
   "execution_count": 28,
   "metadata": {},
   "outputs": [],
   "source": [
    "with open(os.path.join(param_fp, 'res_df_L20.pkl'), 'wb') as f:\n",
    "    pickle.dump(df20, f)"
   ]
  },
  {
   "cell_type": "code",
   "execution_count": 24,
   "metadata": {},
   "outputs": [],
   "source": [
    "with open(os.path.join(param_fp, 'res_df.pkl'), 'rb') as f:\n",
    "    df = pickle.load(f)"
   ]
  },
  {
   "cell_type": "code",
   "execution_count": 26,
   "metadata": {},
   "outputs": [],
   "source": [
    "df20 = df.loc[df['L'] == 20]"
   ]
  },
  {
   "cell_type": "code",
   "execution_count": null,
   "metadata": {},
   "outputs": [],
   "source": [
    "df20"
   ]
  },
  {
   "cell_type": "code",
   "execution_count": null,
   "metadata": {},
   "outputs": [],
   "source": [
    "res_df['Dtube'].unique()"
   ]
  },
  {
   "cell_type": "markdown",
   "metadata": {},
   "source": [
    "### Plot"
   ]
  },
  {
   "cell_type": "code",
   "execution_count": null,
   "metadata": {},
   "outputs": [],
   "source": [
    "res_df40 = res_df.loc[res_df['L'] == 60]\n",
    "\n",
    "res_df40 = res_df40.loc[(res_df40['Dtube'] == 0.01) & (res_df40['height'] == 0.015)]\n",
    "\n",
    "for T_tube in T_tube_range:\n",
    "    locat = res_df40.loc[res_df40['T_tube'] == T_tube]\n",
    "    plt.plot(locat['h'], locat['transfer_to_tube'], label = f'T_tube = {T_tube}')\n",
    "\n",
    "plt.legend()"
   ]
  },
  {
   "cell_type": "code",
   "execution_count": null,
   "metadata": {},
   "outputs": [],
   "source": [
    "for h in h_range:\n",
    "    locat = res_df.loc[res_df['h'] == h]\n",
    "    plt.plot(locat['T_tube'], locat['transfer_to_tube'], label = f'h = {h}')\n",
    "\n",
    "plt.legend()"
   ]
  },
  {
   "cell_type": "code",
   "execution_count": null,
   "metadata": {},
   "outputs": [],
   "source": []
  }
 ],
 "metadata": {
  "kernelspec": {
   "display_name": "venv",
   "language": "python",
   "name": "python3"
  },
  "language_info": {
   "codemirror_mode": {
    "name": "ipython",
    "version": 3
   },
   "file_extension": ".py",
   "mimetype": "text/x-python",
   "name": "python",
   "nbconvert_exporter": "python",
   "pygments_lexer": "ipython3",
   "version": "3.11.6"
  }
 },
 "nbformat": 4,
 "nbformat_minor": 2
}
