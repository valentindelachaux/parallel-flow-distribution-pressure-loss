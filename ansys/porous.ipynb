{
 "cells": [
  {
   "cell_type": "code",
   "execution_count": null,
   "metadata": {},
   "outputs": [],
   "source": [
    "# IMPORTS\n",
    "\n",
    "import os \n",
    "import time\n",
    "from io import StringIO\n",
    "\n",
    "import re\n",
    "\n",
    "import numpy as np\n",
    "import pandas as pd\n",
    "\n",
    "import openpyxl\n",
    "\n",
    "import matplotlib.pyplot as plt\n",
    "import plotly.graph_objects as go\n",
    "\n",
    "from numpy.polynomial.polynomial import Polynomial\n",
    "from scipy.optimize import minimize\n",
    "from sklearn.metrics import mean_squared_error\n",
    "\n",
    "\n",
    "import jou_gen as jg\n",
    "\n",
    "import ansys.fluent.core as pyfluent"
   ]
  },
  {
   "cell_type": "code",
   "execution_count": null,
   "metadata": {},
   "outputs": [],
   "source": [
    "fp_temp = r'D:\\ANSYS Fluent Projects\\temp'\n",
    "folder_path = r'D:\\ANSYS Fluent Projects\\Hydraulics\\V4.5\\19MPE_porous\\fluent\\C1_100Lh\\v2'"
   ]
  },
  {
   "cell_type": "code",
   "execution_count": null,
   "metadata": {},
   "outputs": [],
   "source": [
    "jg.convert_report(folder_path,'report_mdot','mdot',folder_path,output_file_name_wo_extension='report_mdot')\n",
    "jg.convert_report(folder_path,'report_sp','sp',folder_path,output_file_name_wo_extension='report_sp')"
   ]
  },
  {
   "cell_type": "code",
   "execution_count": null,
   "metadata": {},
   "outputs": [],
   "source": [
    "df = pd.read_csv(os.path.join(folder_path,'report_mdot.csv'))\n",
    "df2 = pd.read_csv(os.path.join(folder_path,'report_sp.csv'))"
   ]
  },
  {
   "cell_type": "code",
   "execution_count": null,
   "metadata": {},
   "outputs": [],
   "source": [
    "dfs = df[df['Component'].str.contains('porous')]\n",
    "dfs = dfs[~dfs['Component'].str.contains(':1')]\n",
    "dfs.reset_index(drop=True,inplace=True)\n",
    "\n",
    "dfs2 = df2[df2['Component'].str.contains('porous')]\n",
    "dfs2 = dfs2[~dfs2['Component'].str.contains(':1')]\n",
    "dfs2.reset_index(drop=True,inplace=True)"
   ]
  },
  {
   "cell_type": "code",
   "execution_count": null,
   "metadata": {},
   "outputs": [],
   "source": [
    "num_MPE_list = list(np.concatenate([np.arange(12,19+1),np.arange(110,120+1)]))\n",
    "new_num_MPE_list = [1,19]\n",
    "num_ch = list(np.arange(1,16+1))"
   ]
  },
  {
   "cell_type": "code",
   "execution_count": null,
   "metadata": {},
   "outputs": [],
   "source": [
    "coeff = 1411785."
   ]
  },
  {
   "cell_type": "code",
   "execution_count": null,
   "metadata": {},
   "outputs": [],
   "source": [
    "def extract_values(input_str):\n",
    "    # Define a regular expression pattern to match the desired format\n",
    "    pattern = r'rep-mpe(\\d+)-chporous(\\d+)-rep-mpe(\\d+)-(\\w+)'\n",
    "    \n",
    "    # Use the re.match() function to search for the pattern in the input string\n",
    "    match = re.match(pattern, input_str)\n",
    "    \n",
    "    if match:\n",
    "        # Extract the values from the matched groups\n",
    "        num_MPE = match.group(1)\n",
    "        num_ch = match.group(2)\n",
    "        zone = match.group(4)\n",
    "        \n",
    "        # Return the extracted values\n",
    "        return num_MPE_list.index(int(num_MPE))+1, int(num_ch), zone\n",
    "    else:\n",
    "        # Return None if the pattern is not found in the input string\n",
    "        return None\n",
    "    \n",
    "def rename_component(component):\n",
    "    num_MPE, num_ch, zone = extract_values(component)\n",
    "    new_name = f'MPE{num_MPE}_ch{num_ch}_{zone}'\n",
    "    return new_name"
   ]
  },
  {
   "cell_type": "code",
   "execution_count": null,
   "metadata": {},
   "outputs": [],
   "source": [
    "def pr(dfs):\n",
    "    \n",
    "    dfs['Component'] = dfs['Component'].apply(rename_component)\n",
    "    dfs['MPE'] = dfs['Component'].apply(lambda x: int(x.split('_')[0].split('MPE')[1]))\n",
    "    dfs['ch'] = dfs['Component'].apply(lambda x: int(x.split('_')[1].split('ch')[1]))\n",
    "    dfs['zone'] = dfs['Component'].apply(lambda x: x.split('_')[2])\n",
    "\n",
    "    dfs.sort_values(by=['MPE','ch'],inplace=True)\n",
    "    dfs.reset_index(drop=True,inplace=True)"
   ]
  },
  {
   "cell_type": "code",
   "execution_count": null,
   "metadata": {},
   "outputs": [],
   "source": [
    "pr(dfs)\n",
    "dfs['mdot'] = dfs['mdot'].apply(lambda x: abs(x))\n",
    "pr(dfs2)"
   ]
  },
  {
   "cell_type": "code",
   "execution_count": null,
   "metadata": {},
   "outputs": [],
   "source": [
    "dfs"
   ]
  },
  {
   "cell_type": "code",
   "execution_count": null,
   "metadata": {},
   "outputs": [],
   "source": [
    "dfs2"
   ]
  },
  {
   "cell_type": "code",
   "execution_count": null,
   "metadata": {},
   "outputs": [],
   "source": [
    "dfsD = dfs[dfs['zone'] != 'distrib']\n",
    "dfsD.reset_index(drop=True,inplace=True)\n",
    "dfsD['mdot_uniform'] = dfsD['mdot'].sum()/dfsD.shape[0]"
   ]
  },
  {
   "cell_type": "code",
   "execution_count": null,
   "metadata": {},
   "outputs": [],
   "source": [
    "# Assuming dfsD is your DataFrame and you want to plot 'mdot' against its index\n",
    "scatter_plot = go.Scatter(x=dfsD.index, y=dfsD['mdot']/dfsD['mdot_uniform'], mode='markers')\n",
    "# scatter_uniform = go.Scatter(x=dfsD.index, y=dfsD['mdot_uniform'], mode='lines', name='Mean')\n",
    "\n",
    "# Create the layout (if needed)\n",
    "layout = go.Layout(title='Scatter Plot', xaxis=dict(title='Index'), yaxis=dict(title='mdot'))\n",
    "\n",
    "# Create the figure\n",
    "fig = go.Figure(data=[scatter_plot\n",
    "                    #   ,scatter_uniform\n",
    "                      ],\n",
    "                      layout=layout)\n",
    "\n",
    "# Show the plot\n",
    "fig.show()"
   ]
  },
  {
   "cell_type": "code",
   "execution_count": null,
   "metadata": {},
   "outputs": [],
   "source": [
    "# Filter rows with zone 'distrib'\n",
    "dfs2_distrib = dfs2[dfs2['zone'] == 'distrib']\n",
    "\n",
    "# Filter rows with zone 'coll'\n",
    "dfs2_coll = dfs2[dfs2['zone'] == 'coll']\n",
    "\n",
    "# Merge the two dataframes on MPE and ch columns\n",
    "merged_df = pd.merge(dfs2_distrib, dfs2_coll, on=['MPE', 'ch'], suffixes=('_distrib', '_coll'))\n",
    "\n",
    "# Calculate the difference of 'sp' values\n",
    "merged_df['sp_difference'] = merged_df['sp_distrib'] - merged_df['sp_coll']\n",
    "\n",
    "# Select the desired columns\n",
    "result_df = merged_df[['MPE', 'ch', 'sp_difference']]\n",
    "\n",
    "# Display the resulting dataframe\n",
    "result_df"
   ]
  },
  {
   "cell_type": "code",
   "execution_count": null,
   "metadata": {},
   "outputs": [],
   "source": [
    "result_df['DP_wanted'] = dfsD['mdot'] * coeff"
   ]
  },
  {
   "cell_type": "code",
   "execution_count": null,
   "metadata": {},
   "outputs": [],
   "source": [
    "result_df['diff in percentage'] = (result_df['sp_difference'] - result_df['DP_wanted']) / result_df['DP_wanted']"
   ]
  },
  {
   "cell_type": "code",
   "execution_count": null,
   "metadata": {},
   "outputs": [],
   "source": [
    "result_df"
   ]
  },
  {
   "cell_type": "code",
   "execution_count": null,
   "metadata": {},
   "outputs": [],
   "source": [
    "result_df['diff in percentage'].describe()"
   ]
  }
 ],
 "metadata": {
  "kernelspec": {
   "display_name": "venv_py_ansys",
   "language": "python",
   "name": "python3"
  },
  "language_info": {
   "codemirror_mode": {
    "name": "ipython",
    "version": 3
   },
   "file_extension": ".py",
   "mimetype": "text/x-python",
   "name": "python",
   "nbconvert_exporter": "python",
   "pygments_lexer": "ipython3",
   "version": "3.11.6"
  }
 },
 "nbformat": 4,
 "nbformat_minor": 2
}
