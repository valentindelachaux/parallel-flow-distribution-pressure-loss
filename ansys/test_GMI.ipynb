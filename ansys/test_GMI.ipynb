{
 "cells": [
  {
   "cell_type": "code",
   "execution_count": null,
   "metadata": {
    "metadata": {}
   },
   "outputs": [],
   "source": [
    "## IMPORTS\n",
    "\n",
    "import os \n",
    "import time\n",
    "from io import StringIO\n",
    "import numpy as np\n",
    "import pandas as pd\n",
    "\n",
    "import openpyxl\n",
    "\n",
    "import matplotlib.pyplot as plt\n",
    "import plotly.graph_objects as go\n",
    "\n",
    "from numpy.polynomial.polynomial import Polynomial\n",
    "from scipy.optimize import minimize\n",
    "from sklearn.metrics import mean_squared_error\n",
    "\n",
    "\n",
    "import jou_gen as jg\n",
    "\n",
    "import ansys.fluent.core as pyfluent"
   ]
  },
  {
   "cell_type": "markdown",
   "metadata": {},
   "source": [
    "# Initialisation"
   ]
  },
  {
   "cell_type": "code",
   "execution_count": null,
   "metadata": {
    "metadata": {}
   },
   "outputs": [],
   "source": [
    "## Initialisation\n",
    "\n",
    "folder_path = r'D:\\ANSYS Fluent Projects\\pvt_slice_outdoor\\Fluent_GMI'\n",
    "# File > Application > Start > folder_path\n",
    "# Ensuite copier le numéro du server et le modifier ci-dessous\n",
    "solver_path = folder_path + '\\\\' + 'server_info-209712.txt'\n",
    "# Créer une session\n",
    "solver = pyfluent.connect_to_fluent(server_info_filepath=solver_path)\n",
    "tui = solver.tui"
   ]
  },
  {
   "cell_type": "code",
   "execution_count": 134,
   "metadata": {},
   "outputs": [],
   "source": [
    "## Méthodes\n",
    "\n",
    "fp_cmd = \"D:\\\\ANSYS Fluent Projects\\\\temp\"\n",
    "\n",
    "def create_named_expression(tui, named_expression, definition, unit) :\n",
    "    string_list = [f\"\"\"define/named-expressions/add \\\"{named_expression}\\\" definition \"{definition} [{unit}]\" quit\"\"\"]\n",
    "    concatenate_and_write_to_file(string_list,fp_cmd+'\\\\create_named_expression.txt')\n",
    "    tui.file.read_journal(f'\"{fp_cmd}\\\\create_named_expression.txt\"')\n",
    "\n",
    "def create_field(tui, named_expression, definition) :\n",
    "    string_list = [f\"\"\"define/named-expressions/add \\\"{named_expression}\\\" definition \"{definition}\" quit\"\"\"]\n",
    "    concatenate_and_write_to_file(string_list,fp_cmd+'\\\\create_field.txt')\n",
    "    tui.file.read_journal(f'\"{fp_cmd}\\\\create_field.txt\"')\n",
    "\n",
    "def change_gravity(tui, theta): # theta en degrés\n",
    "    theta_rad = np.deg2rad(theta)\n",
    "    gravity_y = 9.81*np.sin(theta_rad)\n",
    "    gravity_z = 9.81*np.cos(theta_rad)\n",
    "    string_list = [f\"\"\"define/operating-conditions/gravity yes 0 {gravity_y} {gravity_z} quit\"\"\"]\n",
    "    concatenate_and_write_to_file(string_list,fp_cmd+'\\\\change_gravity.txt')\n",
    "    tui.file.read_journal(f'\"{fp_cmd}\\\\change_gravity.txt\"')"
   ]
  },
  {
   "cell_type": "code",
   "execution_count": 135,
   "metadata": {},
   "outputs": [],
   "source": [
    "## Initialisation des Inputs \n",
    "# On initialise les inputs avec l'excel pour créer toutes les variables et ensuite Inputs sera modifié via PVT-thermal-performance-model\n",
    "\n",
    "Inputs = pd.read_excel(folder_path + '\\\\' + 'Inputs_PyFluent.xlsx')\n",
    "# Input un tableau de 4 colonnes : named_expression, value, unit, comment\n",
    "\n",
    "nb_hx = int(Inputs[Inputs['named_expression'] == 'nb_hx'].iloc[0]['value'])"
   ]
  },
  {
   "cell_type": "code",
   "execution_count": null,
   "metadata": {},
   "outputs": [],
   "source": [
    "## Importation des données sur PyFluent\n",
    "\n",
    "for i in range(len(Inputs)):\n",
    "    named_expression = Inputs.iloc[i]['named_expression']\n",
    "    value = Inputs.iloc[i]['value']\n",
    "    unit = Inputs.iloc[i]['unit']\n",
    "    create_named_expression(tui, named_expression, value, unit)\n",
    "    print(str(100*i/len(Inputs)) + \"% des expressions créées\")\n",
    "\n",
    "print('Inputs importés')"
   ]
  },
  {
   "cell_type": "code",
   "execution_count": 136,
   "metadata": {},
   "outputs": [],
   "source": [
    "## Modification de la gravité\n",
    "\n",
    "# On modifie les composantes de la gravité en fonction de l'inclinaison du panneau\n",
    "theta = Inputs.loc[Inputs['named_expression'] == 'theta']['value'].values[0]\n",
    "change_gravity(tui, theta)"
   ]
  },
  {
   "cell_type": "code",
   "execution_count": null,
   "metadata": {},
   "outputs": [],
   "source": [
    "## Initialisation des champs des températures et des températures moyennes\n",
    "\n",
    "# Créé un champ de température pour toutes les parties de l'échangeur\n",
    "y0, z0 = 0, 0\n",
    "for i in range(1, nb_hx+1) :\n",
    "    theta_i = Inputs.loc[Inputs['named_expression'] == f'theta_{i}']['value'].values[0]\n",
    "    theta_i = np.deg2rad(theta_i)\n",
    "    L_i = Inputs.loc[Inputs['named_expression'] == f'L_{j}']['value'].values[0]\n",
    "    create_field(tui, f'T_field_{i}', f\"(T_fluid_in_{i} + (b_f_{i} / a_f_{i})) * exp(a_f_{i} * -{np.sin(theta_i)}*(Position.y-{y0}) + {np.cos(theta_i)}*(Position.z-{z0})) - (b_f_{i} / a_f_{i})\")\n",
    "    create_field(tui, f'T_mean_{i}', f'(T_fluid_in_{i} + (b_f_{i} / a_f_{i}))/(a_f_{i}*L_{i}) * exp(a_f_{i} * L_{i}) - (T_fluid_in_{i} + (b_f_{i} / a_f_{i}))/(a_f_{i}*L_{i})- (b_f_{i} / a_f_{i})')\n",
    "    y0 = y0 - L_i*np.sin(theta_i)\n",
    "    z0 = z0 + L_i*np.cos(theta_i)\n",
    "    print(str(100*i/(nb_hx+1)) + \"% des champs créées\")\n",
    "\n",
    "print('Initialisation terminée')"
   ]
  },
  {
   "cell_type": "code",
   "execution_count": 137,
   "metadata": {},
   "outputs": [],
   "source": [
    "## Température moyenne pour la partie centrale \n",
    "\n",
    "Inputs.loc[len(Inputs)+1] = ['T_mean_345', 0, 'K', 'Température moyenne de la partie centrale'] "
   ]
  },
  {
   "cell_type": "code",
   "execution_count": null,
   "metadata": {},
   "outputs": [],
   "source": [
    "## Initialisation des boundary conditions sur ANSYS\n",
    "\n",
    "# NB on pourrait les initialiser depuis Pyfluent mais ce serait se casser la tête pour rien"
   ]
  },
  {
   "cell_type": "markdown",
   "metadata": {},
   "source": [
    "Fin de l'initialisation"
   ]
  },
  {
   "cell_type": "markdown",
   "metadata": {},
   "source": [
    "# Début de la boucle"
   ]
  },
  {
   "cell_type": "code",
   "execution_count": null,
   "metadata": {},
   "outputs": [],
   "source": [
    "## Appel du PVT-thermal-performances-model\n",
    "\n",
    "# On initialise la première température avec le modèle et le transfert radiatif\n",
    "# Inputs[Inputs['named_expression']=='T_fluid_in_0'].iloc[0]['value'] = ht.\n",
    "# Inputs[Inputs['named_expression']=='Qdot_back_rad'].iloc[0]['value'] = ht.Qdot_back_rad\n",
    "\n",
    "# On initialise les a_f et b_f avec le modèle\n",
    "# for i in range(1, nb_hx+1):\n",
    "#     Inputs[Inputs['named_expression'] == f'a_f_{i}'].iloc[0]['value'] = ht.\n",
    "#     Inputs[Inputs['named_expression'] == f'b_f_{i}'].iloc[0]['value'] = ht."
   ]
  },
  {
   "cell_type": "code",
   "execution_count": 122,
   "metadata": {},
   "outputs": [],
   "source": [
    "## Fonctions pour calculer les températures\n",
    "\n",
    "def T_fluid_out(T_fluid_in, L, a_f, b_f):\n",
    "    T_fluid_out = (T_fluid_in + (b_f / a_f)) * np.exp(a_f * L) - (b_f / a_f)\n",
    "    return T_fluid_out\n",
    "\n",
    "def T_fluid_mean(T_fluid_in, L, a_f, b_f):\n",
    "    T_fluid_mean = (T_fluid_in + (b_f / a_f))/(a_f*L) * np.exp(a_f * L) - (T_fluid_in + (b_f / a_f))/(a_f*L)- (b_f / a_f)\n",
    "    return T_fluid_mean"
   ]
  },
  {
   "cell_type": "code",
   "execution_count": null,
   "metadata": {},
   "outputs": [],
   "source": [
    "## Création des champs de températures\n",
    "\n",
    "for i in range(1,nb_hx+1) :\n",
    "    T_fluid_in = Inputs[Inputs['named_expression'] == f'T_fluid_in_{i}'].iloc[0]['value']\n",
    "    L = Inputs[Inputs['named_expression'] == f'L_{i}'].iloc[0]['value']\n",
    "    a_f = Inputs[Inputs['named_expression'] == f'a_f_{i}'].iloc[0]['value']\n",
    "    b_f = Inputs[Inputs['named_expression'] == f'b_f_{i}'].iloc[0]['value']\n",
    "    Inputs[Inputs['named_expression'] == f'T_fluid_in_{i+1}'] = T_fluid_out(T_fluid_in, L, a_f, b_f)\n",
    "\n",
    "\n",
    "# Température moyenne pour la partie centrale\n",
    "T_fluid_in = Inputs[Inputs['named_expression'] == 'T_fluid_in_3'].iloc[0]['value']\n",
    "L_3 = Inputs[Inputs['named_expression'] == 'L_3'].iloc[0]['value']\n",
    "L_4 = Inputs[Inputs['named_expression'] == 'L_4'].iloc[0]['value']\n",
    "L_5 = Inputs[Inputs['named_expression'] == 'L_5'].iloc[0]['value']\n",
    "a_f_3 = Inputs[Inputs['named_expression'] == 'a_f_5'].iloc[0]['value']\n",
    "b_f_3 = Inputs[Inputs['named_expression'] == 'b_f_5'].iloc[0]['value']\n",
    "\n",
    "Inputs[Inputs['named_expression'] == f'T_mean_345'].iloc[0]['value'] = T_fluid_mean(T_fluid_in, L_3+L_4+L_5 , a_f_3, b_f_3)"
   ]
  },
  {
   "cell_type": "code",
   "execution_count": null,
   "metadata": {
    "metadata": {}
   },
   "outputs": [],
   "source": [
    "## Modification des paramètres dans ANSYS Fluent\n",
    "\n",
    "for i in range(len(Inputs)):\n",
    "    named_expression = Inputs.iloc[i]['named_expression']\n",
    "    value = Inputs.iloc[i]['value']\n",
    "    unit = Inputs.iloc[i]['unit']\n",
    "    jg.change_named_expression(tui, named_expression, value, unit)"
   ]
  },
  {
   "cell_type": "code",
   "execution_count": null,
   "metadata": {
    "metadata": {}
   },
   "outputs": [],
   "source": [
    "## Lancement de la simulation\n",
    "\n",
    "solver.solution.run_calculation.iterate(number_of_iterations=1)"
   ]
  },
  {
   "cell_type": "code",
   "execution_count": null,
   "metadata": {
    "metadata": {}
   },
   "outputs": [],
   "source": [
    "## Récupération des flux de transfert thermique\n",
    "\n",
    "df = jg.parse_report_to_dataframe(os.path.join(r'D:\\ANSYS Fluent Projects\\pvt_slice_outdoor\\gurvan_test','test.txt'),'heat_transfer')\n",
    "# df = jg.parse_report_to_dataframe(os.path.join(r'D:\\ANSYS Fluent Projects\\pvt_slice_outdoor\\Fluent_GMI\\Reports','Report_heat_transfer.txt'),'heat_transfer')\n",
    "\n",
    "hx_list =  ['hx_bend_mid_air' , 'hx_bend_mid_pv' , 'hx_bend_yd_air' , 'hx_bend_yd_pv' , 'hx_bend_yu_air' ,\n",
    "    'hx_bend_yu_pv' , 'hx_flat_yd_air' , 'hx_flat_yd_pv-pv_backsheet-cd-cd1-pv-corps' , 'hx_flat_yu_air' , \n",
    "    'hx_flat_yu_pv-pv_backsheet-cd-cd1-pv-corps' , 'hx_sides_1' , 'hx_sides_2' , 'hx_sides_3' , 'hx_sides_4']\n",
    "\n",
    "# exporter que radiativ + total pour choper le convectif\n",
    "\n",
    "heat_transfer_hx_df = df[df['Component'].isin(hx_list)]\n",
    "heat_transfer_hx_df"
   ]
  },
  {
   "cell_type": "code",
   "execution_count": 124,
   "metadata": {},
   "outputs": [],
   "source": [
    "## Envoi des flux au PVT-thermal-performance-model"
   ]
  },
  {
   "cell_type": "markdown",
   "metadata": {},
   "source": [
    "### Fin de la boucle"
   ]
  }
 ],
 "metadata": {
  "kernelspec": {
   "display_name": "venv_py_ansys",
   "language": "python",
   "name": "python3"
  },
  "language_info": {
   "codemirror_mode": {
    "name": "ipython",
    "version": 3
   },
   "file_extension": ".py",
   "mimetype": "text/x-python",
   "name": "python",
   "nbconvert_exporter": "python",
   "pygments_lexer": "ipython3",
   "version": "3.11.6"
  }
 },
 "nbformat": 4,
 "nbformat_minor": 2
}
