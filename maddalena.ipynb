{
 "cells": [
  {
   "cell_type": "code",
   "execution_count": null,
   "metadata": {},
   "outputs": [],
   "source": [
    "import numpy as np\n",
    "import pandas as pd\n",
    "import matplotlib.pyplot as plt\n",
    "\n",
    "import scipy.optimize as sco\n",
    "\n",
    "import hx_hydraulic as hxhy"
   ]
  },
  {
   "cell_type": "code",
   "execution_count": null,
   "metadata": {},
   "outputs": [],
   "source": [
    "df = pd.read_csv(r'C:\\Users\\valen\\Downloads\\PL_Maddalena.csv')"
   ]
  },
  {
   "cell_type": "code",
   "execution_count": null,
   "metadata": {},
   "outputs": [],
   "source": [
    "df.rename(columns={'x': 'Vdot', ' y': 'PL'}, inplace=True)\n",
    "df.sort_values(by='Vdot', inplace=True)\n",
    "df.reset_index(drop=True, inplace=True)"
   ]
  },
  {
   "cell_type": "code",
   "execution_count": null,
   "metadata": {},
   "outputs": [],
   "source": [
    "df['Vdot_m3s'] = df['Vdot']/3.6e6\n",
    "A = np.pi*0.0354**2/4\n",
    "df['V'] = df['Vdot_m3s']/A"
   ]
  },
  {
   "cell_type": "code",
   "execution_count": null,
   "metadata": {},
   "outputs": [],
   "source": [
    "bounds = ([0.],[np.inf])\n",
    "def polyn2(q,b):\n",
    "    return b*q**2\n",
    "popt, pcov = sco.curve_fit(polyn2, df['V'], df['PL'],bounds=bounds)\n",
    "\n",
    "q_array = np.arange(0,2,0.05)\n",
    "dfe = pd.DataFrame()\n",
    "dfe['V'] = q_array\n",
    "dfe['PL'] = polyn2(q_array,*popt)"
   ]
  },
  {
   "cell_type": "code",
   "execution_count": null,
   "metadata": {},
   "outputs": [],
   "source": [
    "df"
   ]
  },
  {
   "cell_type": "code",
   "execution_count": null,
   "metadata": {},
   "outputs": [],
   "source": [
    "dfe"
   ]
  },
  {
   "cell_type": "code",
   "execution_count": null,
   "metadata": {},
   "outputs": [],
   "source": [
    "popt"
   ]
  },
  {
   "cell_type": "code",
   "execution_count": null,
   "metadata": {},
   "outputs": [],
   "source": [
    "# D_poss = np.arange(0.0129,0.0135,0.0001)\n",
    "\n",
    "# for D in D_poss:\n",
    "#     print(D)\n",
    "#     duct = hxhy.duct(shape='tubular',D=D,L=0.130,k=1e-3)    \n",
    "#     df['PL_Di='+str(round(D*1000,2))+'mm'] = df['Vdot'].apply(lambda x : duct.regular_PL(x,fluid_dict={'name':'MPG','glycol_rate':0.4}, p=1e5, T=293.15))"
   ]
  },
  {
   "cell_type": "code",
   "execution_count": null,
   "metadata": {},
   "outputs": [],
   "source": [
    "def diff_D(D):\n",
    "    duct = hxhy.duct(shape='tubular',D=D,L=0.130,k=1e-3)\n",
    "    df['PL_D'] = df['Vdot'].apply(lambda x : duct.regular_PL(x,fluid_dict={'name':'MPG','glycol_rate':0.4}, p=1e5, T=293.15))\n",
    "    return np.sum((df['PL']-df['PL_D'])**2)"
   ]
  },
  {
   "cell_type": "code",
   "execution_count": null,
   "metadata": {},
   "outputs": [],
   "source": [
    "def diff_L(L):\n",
    "    duct = hxhy.duct(shape='tubular',D=0.0354,L=L,k=1e-3)\n",
    "    df['PL_D'] = df['Vdot'].apply(lambda x : duct.regular_PL(x,fluid_dict={'name':'MPG','glycol_rate':0.4}, p=1e5, T=293.15))\n",
    "    return np.sum((df['PL']-df['PL_D'])**2)"
   ]
  },
  {
   "cell_type": "code",
   "execution_count": null,
   "metadata": {},
   "outputs": [],
   "source": [
    "D_min = sco.minimize(diff_D,0.013,method='Nelder-Mead')['x'][0]"
   ]
  },
  {
   "cell_type": "code",
   "execution_count": null,
   "metadata": {},
   "outputs": [],
   "source": [
    "L_min = sco.minimize(diff_L, 0.5, method='Nelder-Mead')['x'][0]"
   ]
  },
  {
   "cell_type": "code",
   "execution_count": null,
   "metadata": {},
   "outputs": [],
   "source": [
    "L_min"
   ]
  },
  {
   "cell_type": "code",
   "execution_count": null,
   "metadata": {},
   "outputs": [],
   "source": [
    "duct = hxhy.duct(shape='tubular',D=D,L=0.130,k=1e-3)\n",
    "df['PL_D'] = df['Vdot'].apply(lambda x : duct.regular_PL(x,fluid_dict={'name':'MPG','glycol_rate':0.4}, p=1e5, T=293.15))"
   ]
  },
  {
   "cell_type": "code",
   "execution_count": null,
   "metadata": {},
   "outputs": [],
   "source": [
    "duct = hxhy.duct(shape='tubular',D=D_min,L=0.130,k=1e-3)\n",
    "df['PL_D'] = df['Vdot'].apply(lambda x : duct.regular_PL(x,fluid_dict={'name':'MPG','glycol_rate':0.4}, p=1e5, T=293.15))\n",
    "\n",
    "duct = hxhy.duct(shape='tubular',D=0.0354,L=L_min,k=1e-3)\n",
    "df['PL_L'] = df['Vdot'].apply(lambda x : duct.regular_PL(x,fluid_dict={'name':'MPG','glycol_rate':0.4}, p=1e5, T=293.15))"
   ]
  },
  {
   "cell_type": "code",
   "execution_count": null,
   "metadata": {},
   "outputs": [],
   "source": [
    "plt.plot(df['Vdot'],df['PL'],label='Data')\n",
    "plt.plot(dfe['Vdot'],dfe['PL'])\n",
    "\n",
    "plt.xlim(0,800)\n",
    "plt.ylim(0,2)"
   ]
  },
  {
   "cell_type": "code",
   "execution_count": null,
   "metadata": {},
   "outputs": [],
   "source": []
  },
  {
   "cell_type": "code",
   "execution_count": null,
   "metadata": {},
   "outputs": [],
   "source": [
    "\n",
    "\n"
   ]
  },
  {
   "cell_type": "code",
   "execution_count": null,
   "metadata": {},
   "outputs": [],
   "source": [
    "popt"
   ]
  },
  {
   "cell_type": "code",
   "execution_count": null,
   "metadata": {},
   "outputs": [],
   "source": [
    "plt.plot(df['Vdot'],df['PL'],label='Polynomial fit')\n",
    "plt.plot(df['Vdot'],df['PL_D'],label='D')\n",
    "plt.plot(df['Vdot'],df['PL_L'],label='L')\n",
    "plt.legend(loc='center left', bbox_to_anchor=(1, 0.5))\n",
    "\n",
    "plt.xlim(0,800)\n",
    "plt.ylim(0,2)"
   ]
  },
  {
   "cell_type": "code",
   "execution_count": null,
   "metadata": {},
   "outputs": [],
   "source": [
    "Di_DN20 = 0.020\n",
    "Di_DN25 = 0.026\n",
    "Di_DN32 = 0.033"
   ]
  }
 ],
 "metadata": {
  "kernelspec": {
   "display_name": "RD-env-24",
   "language": "python",
   "name": "python3"
  },
  "language_info": {
   "codemirror_mode": {
    "name": "ipython",
    "version": 3
   },
   "file_extension": ".py",
   "mimetype": "text/x-python",
   "name": "python",
   "nbconvert_exporter": "python",
   "pygments_lexer": "ipython3",
   "version": "3.10.5"
  }
 },
 "nbformat": 4,
 "nbformat_minor": 2
}
