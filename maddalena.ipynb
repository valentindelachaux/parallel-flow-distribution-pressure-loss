{
 "cells": [
  {
   "cell_type": "code",
   "execution_count": 1,
   "metadata": {},
   "outputs": [],
   "source": [
    "import numpy as np\n",
    "import pandas as pd\n",
    "import matplotlib.pyplot as plt\n",
    "\n",
    "import scipy.optimize as sco\n",
    "\n",
    "import hx_hydraulic as hxhy"
   ]
  },
  {
   "cell_type": "code",
   "execution_count": 2,
   "metadata": {},
   "outputs": [],
   "source": [
    "df = pd.read_csv(r'C:\\Users\\valen\\Downloads\\PL_Maddalena.csv')"
   ]
  },
  {
   "cell_type": "code",
   "execution_count": 5,
   "metadata": {},
   "outputs": [],
   "source": [
    "df.rename(columns={'x': 'Vdot', ' y': 'PL'}, inplace=True)\n",
    "df.sort_values(by='Vdot', inplace=True)\n",
    "df.reset_index(drop=True, inplace=True)\n",
    "\n",
    "df['Vdot_m3s'] = df['Vdot']/3.6e6\n",
    "A = (np.pi*0.0354**2)/4\n",
    "df['V'] = df['Vdot_m3s']/A"
   ]
  },
  {
   "cell_type": "code",
   "execution_count": 6,
   "metadata": {},
   "outputs": [
    {
     "data": {
      "text/html": [
       "<div>\n",
       "<style scoped>\n",
       "    .dataframe tbody tr th:only-of-type {\n",
       "        vertical-align: middle;\n",
       "    }\n",
       "\n",
       "    .dataframe tbody tr th {\n",
       "        vertical-align: top;\n",
       "    }\n",
       "\n",
       "    .dataframe thead th {\n",
       "        text-align: right;\n",
       "    }\n",
       "</style>\n",
       "<table border=\"1\" class=\"dataframe\">\n",
       "  <thead>\n",
       "    <tr style=\"text-align: right;\">\n",
       "      <th></th>\n",
       "      <th>Vdot</th>\n",
       "      <th>PL</th>\n",
       "      <th>Vdot_m3s</th>\n",
       "      <th>V</th>\n",
       "    </tr>\n",
       "  </thead>\n",
       "  <tbody>\n",
       "    <tr>\n",
       "      <th>0</th>\n",
       "      <td>1210.106486</td>\n",
       "      <td>2.766030</td>\n",
       "      <td>0.000336</td>\n",
       "      <td>0.341527</td>\n",
       "    </tr>\n",
       "    <tr>\n",
       "      <th>1</th>\n",
       "      <td>1542.553285</td>\n",
       "      <td>4.336081</td>\n",
       "      <td>0.000428</td>\n",
       "      <td>0.435353</td>\n",
       "    </tr>\n",
       "    <tr>\n",
       "      <th>2</th>\n",
       "      <td>1897.163205</td>\n",
       "      <td>6.803303</td>\n",
       "      <td>0.000527</td>\n",
       "      <td>0.535434</td>\n",
       "    </tr>\n",
       "    <tr>\n",
       "      <th>3</th>\n",
       "      <td>2251.773124</td>\n",
       "      <td>9.494818</td>\n",
       "      <td>0.000625</td>\n",
       "      <td>0.635515</td>\n",
       "    </tr>\n",
       "    <tr>\n",
       "      <th>4</th>\n",
       "      <td>2562.056804</td>\n",
       "      <td>12.186334</td>\n",
       "      <td>0.000712</td>\n",
       "      <td>0.723086</td>\n",
       "    </tr>\n",
       "    <tr>\n",
       "      <th>5</th>\n",
       "      <td>2916.666723</td>\n",
       "      <td>15.550728</td>\n",
       "      <td>0.000810</td>\n",
       "      <td>0.823167</td>\n",
       "    </tr>\n",
       "    <tr>\n",
       "      <th>6</th>\n",
       "      <td>3182.624163</td>\n",
       "      <td>18.690829</td>\n",
       "      <td>0.000884</td>\n",
       "      <td>0.898228</td>\n",
       "    </tr>\n",
       "    <tr>\n",
       "      <th>7</th>\n",
       "      <td>3470.744722</td>\n",
       "      <td>22.055223</td>\n",
       "      <td>0.000964</td>\n",
       "      <td>0.979544</td>\n",
       "    </tr>\n",
       "    <tr>\n",
       "      <th>8</th>\n",
       "      <td>3736.702162</td>\n",
       "      <td>25.643910</td>\n",
       "      <td>0.001038</td>\n",
       "      <td>1.054604</td>\n",
       "    </tr>\n",
       "    <tr>\n",
       "      <th>9</th>\n",
       "      <td>3980.496481</td>\n",
       "      <td>29.232597</td>\n",
       "      <td>0.001106</td>\n",
       "      <td>1.123410</td>\n",
       "    </tr>\n",
       "    <tr>\n",
       "      <th>10</th>\n",
       "      <td>4202.127681</td>\n",
       "      <td>32.821284</td>\n",
       "      <td>0.001167</td>\n",
       "      <td>1.185961</td>\n",
       "    </tr>\n",
       "    <tr>\n",
       "      <th>11</th>\n",
       "      <td>4445.922001</td>\n",
       "      <td>36.409972</td>\n",
       "      <td>0.001235</td>\n",
       "      <td>1.254767</td>\n",
       "    </tr>\n",
       "    <tr>\n",
       "      <th>12</th>\n",
       "      <td>4645.390081</td>\n",
       "      <td>39.998659</td>\n",
       "      <td>0.001290</td>\n",
       "      <td>1.311062</td>\n",
       "    </tr>\n",
       "    <tr>\n",
       "      <th>13</th>\n",
       "      <td>4867.021280</td>\n",
       "      <td>43.587346</td>\n",
       "      <td>0.001352</td>\n",
       "      <td>1.373613</td>\n",
       "    </tr>\n",
       "    <tr>\n",
       "      <th>14</th>\n",
       "      <td>5066.489360</td>\n",
       "      <td>47.400326</td>\n",
       "      <td>0.001407</td>\n",
       "      <td>1.429908</td>\n",
       "    </tr>\n",
       "    <tr>\n",
       "      <th>15</th>\n",
       "      <td>5265.957440</td>\n",
       "      <td>50.989013</td>\n",
       "      <td>0.001463</td>\n",
       "      <td>1.486204</td>\n",
       "    </tr>\n",
       "    <tr>\n",
       "      <th>16</th>\n",
       "      <td>5443.262399</td>\n",
       "      <td>54.577700</td>\n",
       "      <td>0.001512</td>\n",
       "      <td>1.536245</td>\n",
       "    </tr>\n",
       "    <tr>\n",
       "      <th>17</th>\n",
       "      <td>5620.567359</td>\n",
       "      <td>58.166387</td>\n",
       "      <td>0.001561</td>\n",
       "      <td>1.586285</td>\n",
       "    </tr>\n",
       "    <tr>\n",
       "      <th>18</th>\n",
       "      <td>5797.872319</td>\n",
       "      <td>61.755074</td>\n",
       "      <td>0.001611</td>\n",
       "      <td>1.636326</td>\n",
       "    </tr>\n",
       "    <tr>\n",
       "      <th>19</th>\n",
       "      <td>5953.014159</td>\n",
       "      <td>65.343761</td>\n",
       "      <td>0.001654</td>\n",
       "      <td>1.680111</td>\n",
       "    </tr>\n",
       "    <tr>\n",
       "      <th>20</th>\n",
       "      <td>6108.155998</td>\n",
       "      <td>68.932448</td>\n",
       "      <td>0.001697</td>\n",
       "      <td>1.723897</td>\n",
       "    </tr>\n",
       "    <tr>\n",
       "      <th>21</th>\n",
       "      <td>6263.297838</td>\n",
       "      <td>72.521136</td>\n",
       "      <td>0.001740</td>\n",
       "      <td>1.767682</td>\n",
       "    </tr>\n",
       "    <tr>\n",
       "      <th>22</th>\n",
       "      <td>6418.439678</td>\n",
       "      <td>76.109823</td>\n",
       "      <td>0.001783</td>\n",
       "      <td>1.811468</td>\n",
       "    </tr>\n",
       "    <tr>\n",
       "      <th>23</th>\n",
       "      <td>6573.581518</td>\n",
       "      <td>79.698510</td>\n",
       "      <td>0.001826</td>\n",
       "      <td>1.855253</td>\n",
       "    </tr>\n",
       "    <tr>\n",
       "      <th>24</th>\n",
       "      <td>6728.723357</td>\n",
       "      <td>83.287197</td>\n",
       "      <td>0.001869</td>\n",
       "      <td>1.899038</td>\n",
       "    </tr>\n",
       "    <tr>\n",
       "      <th>25</th>\n",
       "      <td>6861.702077</td>\n",
       "      <td>86.875884</td>\n",
       "      <td>0.001906</td>\n",
       "      <td>1.936569</td>\n",
       "    </tr>\n",
       "    <tr>\n",
       "      <th>26</th>\n",
       "      <td>7016.843917</td>\n",
       "      <td>90.464571</td>\n",
       "      <td>0.001949</td>\n",
       "      <td>1.980354</td>\n",
       "    </tr>\n",
       "    <tr>\n",
       "      <th>27</th>\n",
       "      <td>7149.822637</td>\n",
       "      <td>94.053258</td>\n",
       "      <td>0.001986</td>\n",
       "      <td>2.017885</td>\n",
       "    </tr>\n",
       "    <tr>\n",
       "      <th>28</th>\n",
       "      <td>7282.801357</td>\n",
       "      <td>97.641945</td>\n",
       "      <td>0.002023</td>\n",
       "      <td>2.055415</td>\n",
       "    </tr>\n",
       "    <tr>\n",
       "      <th>29</th>\n",
       "      <td>7415.780076</td>\n",
       "      <td>101.230632</td>\n",
       "      <td>0.002060</td>\n",
       "      <td>2.092946</td>\n",
       "    </tr>\n",
       "    <tr>\n",
       "      <th>30</th>\n",
       "      <td>7548.758796</td>\n",
       "      <td>104.819320</td>\n",
       "      <td>0.002097</td>\n",
       "      <td>2.130476</td>\n",
       "    </tr>\n",
       "  </tbody>\n",
       "</table>\n",
       "</div>"
      ],
      "text/plain": [
       "           Vdot          PL  Vdot_m3s         V\n",
       "0   1210.106486    2.766030  0.000336  0.341527\n",
       "1   1542.553285    4.336081  0.000428  0.435353\n",
       "2   1897.163205    6.803303  0.000527  0.535434\n",
       "3   2251.773124    9.494818  0.000625  0.635515\n",
       "4   2562.056804   12.186334  0.000712  0.723086\n",
       "5   2916.666723   15.550728  0.000810  0.823167\n",
       "6   3182.624163   18.690829  0.000884  0.898228\n",
       "7   3470.744722   22.055223  0.000964  0.979544\n",
       "8   3736.702162   25.643910  0.001038  1.054604\n",
       "9   3980.496481   29.232597  0.001106  1.123410\n",
       "10  4202.127681   32.821284  0.001167  1.185961\n",
       "11  4445.922001   36.409972  0.001235  1.254767\n",
       "12  4645.390081   39.998659  0.001290  1.311062\n",
       "13  4867.021280   43.587346  0.001352  1.373613\n",
       "14  5066.489360   47.400326  0.001407  1.429908\n",
       "15  5265.957440   50.989013  0.001463  1.486204\n",
       "16  5443.262399   54.577700  0.001512  1.536245\n",
       "17  5620.567359   58.166387  0.001561  1.586285\n",
       "18  5797.872319   61.755074  0.001611  1.636326\n",
       "19  5953.014159   65.343761  0.001654  1.680111\n",
       "20  6108.155998   68.932448  0.001697  1.723897\n",
       "21  6263.297838   72.521136  0.001740  1.767682\n",
       "22  6418.439678   76.109823  0.001783  1.811468\n",
       "23  6573.581518   79.698510  0.001826  1.855253\n",
       "24  6728.723357   83.287197  0.001869  1.899038\n",
       "25  6861.702077   86.875884  0.001906  1.936569\n",
       "26  7016.843917   90.464571  0.001949  1.980354\n",
       "27  7149.822637   94.053258  0.001986  2.017885\n",
       "28  7282.801357   97.641945  0.002023  2.055415\n",
       "29  7415.780076  101.230632  0.002060  2.092946\n",
       "30  7548.758796  104.819320  0.002097  2.130476"
      ]
     },
     "execution_count": 6,
     "metadata": {},
     "output_type": "execute_result"
    }
   ],
   "source": [
    "df"
   ]
  },
  {
   "cell_type": "code",
   "execution_count": null,
   "metadata": {},
   "outputs": [],
   "source": []
  },
  {
   "cell_type": "code",
   "execution_count": 13,
   "metadata": {},
   "outputs": [],
   "source": [
    "bounds = ([0.],[np.inf])\n",
    "def polyn2(q,b):\n",
    "    return b*q**2\n",
    "popt, pcov = sco.curve_fit(polyn2, df['V'], df['PL'],bounds=bounds)\n",
    "\n",
    "q_array = np.arange(0,3,0.05)\n",
    "dfe = pd.DataFrame()\n",
    "dfe['V'] = q_array\n",
    "dfe['PL'] = polyn2(q_array,*popt)"
   ]
  },
  {
   "cell_type": "code",
   "execution_count": 9,
   "metadata": {},
   "outputs": [
    {
     "data": {
      "text/plain": [
       "array([23.12814137])"
      ]
     },
     "execution_count": 9,
     "metadata": {},
     "output_type": "execute_result"
    }
   ],
   "source": [
    "popt"
   ]
  },
  {
   "cell_type": "code",
   "execution_count": 14,
   "metadata": {},
   "outputs": [
    {
     "data": {
      "text/plain": [
       "[<matplotlib.lines.Line2D at 0x22379317490>]"
      ]
     },
     "execution_count": 14,
     "metadata": {},
     "output_type": "execute_result"
    },
    {
     "data": {
      "image/png": "[encoded data removed]",
      "text/plain": [
       "<Figure size 640x480 with 1 Axes>"
      ]
     },
     "metadata": {},
     "output_type": "display_data"
    }
   ],
   "source": [
    "plt.plot(df['V'],df['PL'],'o')\n",
    "plt.plot(dfe['V'],dfe['PL'])"
   ]
  },
  {
   "cell_type": "code",
   "execution_count": 18,
   "metadata": {},
   "outputs": [
    {
     "data": {
      "text/plain": [
       "112.70000000000002"
      ]
     },
     "execution_count": 18,
     "metadata": {},
     "output_type": "execute_result"
    }
   ],
   "source": [
    "(23*(0.07)**2)*1000"
   ]
  },
  {
   "cell_type": "code",
   "execution_count": null,
   "metadata": {},
   "outputs": [],
   "source": [
    "df"
   ]
  },
  {
   "cell_type": "code",
   "execution_count": null,
   "metadata": {},
   "outputs": [],
   "source": [
    "dfe"
   ]
  },
  {
   "cell_type": "code",
   "execution_count": null,
   "metadata": {},
   "outputs": [],
   "source": [
    "popt"
   ]
  },
  {
   "cell_type": "code",
   "execution_count": null,
   "metadata": {},
   "outputs": [],
   "source": [
    "# D_poss = np.arange(0.0129,0.0135,0.0001)\n",
    "\n",
    "# for D in D_poss:\n",
    "#     print(D)\n",
    "#     duct = hxhy.duct(shape='tubular',D=D,L=0.130,k=1e-3)    \n",
    "#     df['PL_Di='+str(round(D*1000,2))+'mm'] = df['Vdot'].apply(lambda x : duct.regular_PL(x,fluid_dict={'name':'MPG','glycol_rate':0.4}, p=1e5, T=293.15))"
   ]
  },
  {
   "cell_type": "code",
   "execution_count": null,
   "metadata": {},
   "outputs": [],
   "source": [
    "def diff_D(D):\n",
    "    duct = hxhy.duct(shape='tubular',D=D,L=0.130,k=1e-3)\n",
    "    df['PL_D'] = df['Vdot'].apply(lambda x : duct.regular_PL(x,fluid_dict={'name':'MPG','glycol_rate':0.4}, p=1e5, T=293.15))\n",
    "    return np.sum((df['PL']-df['PL_D'])**2)"
   ]
  },
  {
   "cell_type": "code",
   "execution_count": null,
   "metadata": {},
   "outputs": [],
   "source": [
    "def diff_L(L):\n",
    "    duct = hxhy.duct(shape='tubular',D=0.0354,L=L,k=1e-3)\n",
    "    df['PL_D'] = df['Vdot'].apply(lambda x : duct.regular_PL(x,fluid_dict={'name':'MPG','glycol_rate':0.4}, p=1e5, T=293.15))\n",
    "    return np.sum((df['PL']-df['PL_D'])**2)"
   ]
  },
  {
   "cell_type": "code",
   "execution_count": null,
   "metadata": {},
   "outputs": [],
   "source": [
    "D_min = sco.minimize(diff_D,0.013,method='Nelder-Mead')['x'][0]"
   ]
  },
  {
   "cell_type": "code",
   "execution_count": null,
   "metadata": {},
   "outputs": [],
   "source": [
    "L_min = sco.minimize(diff_L, 0.5, method='Nelder-Mead')['x'][0]"
   ]
  },
  {
   "cell_type": "code",
   "execution_count": null,
   "metadata": {},
   "outputs": [],
   "source": [
    "L_min"
   ]
  },
  {
   "cell_type": "code",
   "execution_count": null,
   "metadata": {},
   "outputs": [],
   "source": [
    "duct = hxhy.duct(shape='tubular',D=D,L=0.130,k=1e-3)\n",
    "df['PL_D'] = df['Vdot'].apply(lambda x : duct.regular_PL(x,fluid_dict={'name':'MPG','glycol_rate':0.4}, p=1e5, T=293.15))"
   ]
  },
  {
   "cell_type": "code",
   "execution_count": null,
   "metadata": {},
   "outputs": [],
   "source": [
    "duct = hxhy.duct(shape='tubular',D=D_min,L=0.130,k=1e-3)\n",
    "df['PL_D'] = df['Vdot'].apply(lambda x : duct.regular_PL(x,fluid_dict={'name':'MPG','glycol_rate':0.4}, p=1e5, T=293.15))\n",
    "\n",
    "duct = hxhy.duct(shape='tubular',D=0.0354,L=L_min,k=1e-3)\n",
    "df['PL_L'] = df['Vdot'].apply(lambda x : duct.regular_PL(x,fluid_dict={'name':'MPG','glycol_rate':0.4}, p=1e5, T=293.15))"
   ]
  },
  {
   "cell_type": "code",
   "execution_count": null,
   "metadata": {},
   "outputs": [],
   "source": [
    "plt.plot(df['Vdot'],df['PL'],label='Data')\n",
    "plt.plot(dfe['Vdot'],dfe['PL'])\n",
    "\n",
    "plt.xlim(0,800)\n",
    "plt.ylim(0,2)"
   ]
  },
  {
   "cell_type": "code",
   "execution_count": null,
   "metadata": {},
   "outputs": [],
   "source": []
  },
  {
   "cell_type": "code",
   "execution_count": null,
   "metadata": {},
   "outputs": [],
   "source": [
    "\n",
    "\n"
   ]
  },
  {
   "cell_type": "code",
   "execution_count": null,
   "metadata": {},
   "outputs": [],
   "source": [
    "popt"
   ]
  },
  {
   "cell_type": "code",
   "execution_count": null,
   "metadata": {},
   "outputs": [],
   "source": [
    "plt.plot(df['Vdot'],df['PL'],label='Polynomial fit')\n",
    "plt.plot(df['Vdot'],df['PL_D'],label='D')\n",
    "plt.plot(df['Vdot'],df['PL_L'],label='L')\n",
    "plt.legend(loc='center left', bbox_to_anchor=(1, 0.5))\n",
    "\n",
    "plt.xlim(0,800)\n",
    "plt.ylim(0,2)"
   ]
  },
  {
   "cell_type": "code",
   "execution_count": null,
   "metadata": {},
   "outputs": [],
   "source": [
    "Di_DN20 = 0.020\n",
    "Di_DN25 = 0.026\n",
    "Di_DN32 = 0.033"
   ]
  }
 ],
 "metadata": {
  "kernelspec": {
   "display_name": "RD-env-24",
   "language": "python",
   "name": "python3"
  },
  "language_info": {
   "codemirror_mode": {
    "name": "ipython",
    "version": 3
   },
   "file_extension": ".py",
   "mimetype": "text/x-python",
   "name": "python",
   "nbconvert_exporter": "python",
   "pygments_lexer": "ipython3",
   "version": "3.10.5"
  }
 },
 "nbformat": 4,
 "nbformat_minor": 2
}
