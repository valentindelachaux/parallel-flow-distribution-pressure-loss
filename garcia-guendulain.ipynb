{
 "cells": [
  {
   "cell_type": "code",
   "execution_count": 78,
   "metadata": {},
   "outputs": [],
   "source": [
    "import sys\n",
    "\n",
    "import pandas as pd\n",
    "import numpy as np\n",
    "import matplotlib.pyplot as plt\n",
    "\n",
    "sys.path.append(\"../RD-systems-and-test-benches/utils\")\n",
    "import model_fsolve as modf\n",
    "import model_fsolve_v2 as modf2\n",
    "\n",
    "import scipy.optimize as sco\n",
    "import scipy.interpolate as sci\n",
    "\n",
    "import hx_hydraulic as hxhy\n",
    "import from_excel as fe\n",
    "import data_plots as dplt\n",
    "\n",
    "import fluids as fds\n",
    "from CoolProp.CoolProp import PropsSI\n",
    "\n",
    "import openpyxl as opxl\n",
    "from sklearn.ensemble import RandomForestRegressor\n",
    "\n",
    "import seaborn as sns\n",
    "import os\n",
    "import plotly.graph_objects as go\n",
    "\n",
    "import copy\n"
   ]
  },
  {
   "cell_type": "code",
   "execution_count": 79,
   "metadata": {},
   "outputs": [],
   "source": [
    "import repo_config as rconfig\n",
    "\n",
    "import matplotlib\n",
    "import matplotlib.pyplot as plt\n",
    "import matplotlib.ticker as mtick\n",
    "from matplotlib.ticker import FuncFormatter\n",
    "import scienceplots\n",
    "import matplotlib_inline\n",
    "matplotlib_inline.backend_inline.set_matplotlib_formats('retina')\n",
    "plt.style.use(['science'])\n",
    "\n",
    "def to_percent(y, _):\n",
    "    return f\"{y * 100:.0f}\\%\""
   ]
  },
  {
   "cell_type": "code",
   "execution_count": null,
   "metadata": {},
   "outputs": [],
   "source": [
    "path = r\"G:\\Drive partagés\\Cercle Hard\\R&D\\Modèles numériques PVT\\PVT-PL-model\\Inputs\"\n",
    "file_name = \"\\Garcia_Guendulain.xlsx\"\n",
    "hw, par, cond = fe.initialize(path, file_name)\n",
    "\n",
    "# hw.change_riser_diameter(0.0052)\n",
    "# hw.change_riser_diameter(0.0168)\n",
    "# hw.change_man_diameter(0.0052)\n",
    "par = hw.make_dict()\n",
    "\n",
    "cond['rho'] = 1000\n",
    "cond['eta'] = 0.001003\n",
    "cond[\"nu\"] = cond[\"eta\"]/cond[\"rho\"]\n",
    "\n",
    "cond['mdot'] = 0.035 # kg/s\n",
    "cond['Dv'] = (cond['mdot']/cond['rho']) # m3/s\n",
    "cond['Vdot'] = cond['Dv'] * 1000 * 3600 # L/h\n",
    "\n",
    "# cond['Vdot_Lmin'] = 480/60 # L/min\n",
    "# fe.change_Vdot(cond, cond['Vdot_Lmin'] * 60)\n",
    "\n",
    "tabl, res, PL, residuals = modf.PL_fsolve(par, cond) \n",
    "print('PL = ', res, ' Pa')"
   ]
  },
  {
   "cell_type": "code",
   "execution_count": 82,
   "metadata": {},
   "outputs": [],
   "source": [
    "K_range = [1,1.5,2]\n",
    "K_list = []\n",
    "\n",
    "for k in K_range:\n",
    "\n",
    "    hw.change_coeff(k,k,k,k)\n",
    "    par = hw.make_dict()\n",
    "\n",
    "    tabl, res, PL, residuals = modf.PL_fsolve(par, cond)\n",
    "\n",
    "    K_list.append({'tabl' : copy.deepcopy(tabl),\n",
    "                   'PL' : res,\n",
    "                   'PL_tabl' : copy.deepcopy(PL),\n",
    "                   'residuals' : copy.deepcopy(residuals)})"
   ]
  },
  {
   "cell_type": "code",
   "execution_count": 88,
   "metadata": {},
   "outputs": [],
   "source": [
    "garcia_ref = pd.read_csv(r\"G:\\Drive partagés\\Cercle Hard\\R&D\\Thèse VDE\\Manuscrit\\Partie II\\garcia_ref_exp.csv\")\n",
    "garcia_ref.drop(columns=['x'], inplace=True)\n",
    "garcia_ref.rename(columns={' y': 'gamma_r'}, inplace=True)\n",
    "garcia_ref['qx_norm'] = garcia_ref['gamma_r'] * hw.N\n",
    "\n",
    "garcia_numerical = pd.read_csv(r\"G:\\Drive partagés\\Cercle Hard\\R&D\\Thèse VDE\\Manuscrit\\Partie II\\garcia_ref_present_numerical.csv\")\n",
    "garcia_numerical.drop(columns=['x'], inplace=True)\n",
    "garcia_numerical.rename(columns={' y': 'gamma_r'}, inplace=True)\n",
    "garcia_numerical['qx_norm'] = garcia_numerical['gamma_r'] * hw.N\n",
    "\n",
    "garcia_analytical = pd.read_csv(r\"G:\\Drive partagés\\Cercle Hard\\R&D\\Thèse VDE\\Manuscrit\\Partie II\\garcia_ref_present_analytical.csv\")\n",
    "garcia_analytical.drop(columns=['x'], inplace=True)\n",
    "garcia_analytical.rename(columns={' y': 'gamma_r'}, inplace=True)\n",
    "garcia_analytical['qx_norm'] = garcia_analytical['gamma_r'] * hw.N\n",
    "\n",
    "facao_exp = pd.read_csv(r\"G:\\Drive partagés\\Cercle Hard\\R&D\\Thèse VDE\\Manuscrit\\Partie II\\facao_exp.csv\")\n",
    "facao_exp.drop(columns=['x'], inplace=True)\n",
    "facao_exp.rename(columns={' y': 'mdotx'}, inplace=True)\n",
    "facao_exp['gamma_r'] = facao_exp['mdotx'] / facao_exp['mdotx'].sum()\n",
    "facao_exp['qx_norm'] = facao_exp['gamma_r'] * hw.N\n",
    "\n",
    "facao_num = pd.read_csv(r\"G:\\Drive partagés\\Cercle Hard\\R&D\\Thèse VDE\\Manuscrit\\Partie II\\facao_corr_model.csv\")\n",
    "facao_num.drop(columns=['x'], inplace=True)\n",
    "facao_num.rename(columns={' y': 'mdotx'}, inplace=True)\n",
    "facao_num['gamma_r'] = facao_num['mdotx'] / facao_num['mdotx'].sum()\n",
    "facao_num['qx_norm'] = facao_num['gamma_r'] * hw.N"
   ]
  },
  {
   "cell_type": "code",
   "execution_count": null,
   "metadata": {},
   "outputs": [],
   "source": [
    "colors = ['olive', 'green', 'blue', 'orange', 'red', 'grey']\n",
    "colors_lighter = [rconfig.get_hex_code(color, 70) for color in colors]\n",
    "colors = [rconfig.get_hex_code(color, 100) for color in colors]\n",
    "linestyles = ['-', '--',  (5, (10, 3)), '-.', (0, (1, 1)), (0, (3, 5, 1, 5))]\n",
    "markers = ['o', 's', 'd', 'X', 'v', '^']\n",
    "\n",
    "# Main plot: plotting L_f0_range on x-axis\n",
    "fig, ax1 = plt.subplots(figsize=(rconfig.wcol_in, rconfig.hfig(0.3, unit=\"in\")))\n",
    "\n",
    "y_name = 'qx_norm'\n",
    "\n",
    "ax1.scatter(facao_exp.index, facao_exp[y_name], label='Facao - Exp.', marker=markers[0], color = colors[5])\n",
    "ax1.scatter(facao_num.index, facao_num[y_name], label='Facao - Corr. Model', marker=markers[1], color = colors[3])\n",
    "\n",
    "# ax1.plot(garcia_ref.index, garcia_ref[y_name], 'o', label='Garcia et al. (2019) - Exp.')\n",
    "ax1.scatter(garcia_analytical.index, garcia_analytical[y_name], label='Garcia - Analytical', marker=markers[3], color = colors[4])\n",
    "ax1.scatter(garcia_numerical.index, garcia_numerical[y_name], label='Garcia - CFD', marker=markers[2], color = colors[0])\n",
    "\n",
    "color_intensity = [70,100,150]\n",
    "\n",
    "for i, k in enumerate(K_list):\n",
    "    tabl = K_list[i]['tabl']\n",
    "    \n",
    "    tabl['gamma_r'] = tabl['qx'] / (tabl['qx'].sum())\n",
    "    tabl['qx_norm'] = tabl['gamma_r'] * hw.N\n",
    "\n",
    "    ax1.plot(tabl.index, tabl[y_name], label = f'K = {K_range[i]}', color = rconfig.get_hex_code('blue', color_intensity[i]), linestyle = linestyles[i])\n",
    "\n",
    "# # Create the first row of the legend (for the lines)\n",
    "# first_legend = fig.legend(loc='upper center', bbox_to_anchor=(0.5, 0.), ncol=3, frameon=False,\n",
    "#                           labels=['Model w/ MPG 20\\%', 'Model w/ MPG 30\\%', 'Model w/ MPG 40\\%'],\n",
    "#                           handles=[ax1.lines[0], ax1.lines[1], ax1.lines[2]])\n",
    "\n",
    "# # Create the second row of the legend (for the scatter plot)\n",
    "# second_legend = fig.legend(loc='upper center', bbox_to_anchor=(0.5, -0.08), ncol=1, frameon=False,\n",
    "#                            labels=['Measure'], handles=[ax1.collections[1]])\n",
    "\n",
    "# # Add the first legend back to the axes (to avoid being overwritten)\n",
    "# ax1.add_artist(first_legend)\n",
    "\n",
    "ax1.set_xlabel('Tube number')\n",
    "ax1.set_ylabel('Normalized flow rate [-]')\n",
    "\n",
    "ax1.set_ylim(0.92,1.12)\n",
    "\n",
    "ax1.grid(linewidth=0.5, color=rconfig.get_hex_code('grey', 70))\n",
    "\n",
    "fig.legend(loc='upper center', bbox_to_anchor=(0.5, 0.), ncol=2, frameon=False,)\n",
    "\n"
   ]
  },
  {
   "cell_type": "code",
   "execution_count": null,
   "metadata": {},
   "outputs": [],
   "source": []
  },
  {
   "cell_type": "code",
   "execution_count": null,
   "metadata": {},
   "outputs": [],
   "source": [
    "for i, k in enumerate(K_range):\n",
    "    tabl = K_list[i]['tabl']\n",
    "\n",
    "    plt.plot(tabl.index, tabl['Pin'], label = f'K = {k}')\n",
    "    # plt.plot(tabl.index, tabl['Pout'], label = f'K = {k}')\n",
    "\n",
    "plt.legend()"
   ]
  },
  {
   "cell_type": "code",
   "execution_count": null,
   "metadata": {},
   "outputs": [],
   "source": []
  },
  {
   "cell_type": "code",
   "execution_count": null,
   "metadata": {},
   "outputs": [],
   "source": [
    "for i, k in enumerate(K_range):\n",
    "    tabl = K_list[i]['tabl']\n",
    "\n",
    "    plt.plot(tabl.index, tabl['Pout'], label = f'K = {k}')\n",
    "\n",
    "plt.legend()"
   ]
  },
  {
   "cell_type": "code",
   "execution_count": 111,
   "metadata": {},
   "outputs": [],
   "source": [
    "garcia_analytical['own model'] = K_list[0]['tabl']['qx_norm']"
   ]
  },
  {
   "cell_type": "code",
   "execution_count": 118,
   "metadata": {},
   "outputs": [],
   "source": [
    "garcia_analytical['error'] = (garcia_analytical['own model'] - garcia_analytical['qx_norm'])\n",
    "garcia_analytical['relative_error'] = garcia_analytical['error'] / garcia_analytical['qx_norm']"
   ]
  },
  {
   "cell_type": "code",
   "execution_count": null,
   "metadata": {},
   "outputs": [],
   "source": [
    "garcia_analytical"
   ]
  },
  {
   "cell_type": "code",
   "execution_count": null,
   "metadata": {},
   "outputs": [],
   "source": [
    "mae = np.abs(garcia_analytical['error']).mean()\n",
    "mae/garcia_analytical['qx_norm'].mean()"
   ]
  },
  {
   "cell_type": "code",
   "execution_count": 107,
   "metadata": {},
   "outputs": [],
   "source": [
    "fig.savefig(r'G:\\Mon Drive\\GitHub\\VDE_thesis\\image\\Chapter_PL\\PL-2.3-Garcia-fit.png', dpi=600)"
   ]
  },
  {
   "cell_type": "code",
   "execution_count": null,
   "metadata": {},
   "outputs": [],
   "source": [
    "D_temp = 0.0273\n",
    "hw.change_man_diameter(D_temp)\n",
    "hw.compute_flow(10*60, {'name':'water'}, p=1.013e5, T=25+273.15)\n",
    "print('Re in manifold entrance',hw.man_in.Re)"
   ]
  },
  {
   "cell_type": "code",
   "execution_count": null,
   "metadata": {},
   "outputs": [],
   "source": [
    "cond['Vdot_Lmin'] = 12 # L/min\n",
    "\n",
    "D_temp = 0.0273/10\n",
    "hw.change_riser_diameter(D_temp)\n",
    "hw.change_man_diameter(D_temp)\n",
    "par = hw.make_dict()\n",
    "\n",
    "fe.change_Vdot(cond, cond['Vdot_Lmin'] * 60)\n",
    "\n",
    "tabl, res, PL, residuals = modf.PL_fsolve(par, cond) \n",
    "print('PL = ', res, ' Pa')"
   ]
  },
  {
   "cell_type": "code",
   "execution_count": 61,
   "metadata": {},
   "outputs": [],
   "source": [
    "eta = PropsSI('V', 'P', 1.013e5, 'T', 298.15, 'HEOS::Water')"
   ]
  },
  {
   "cell_type": "code",
   "execution_count": 67,
   "metadata": {},
   "outputs": [],
   "source": [
    "hw.compute_metrics()"
   ]
  },
  {
   "cell_type": "code",
   "execution_count": null,
   "metadata": {},
   "outputs": [],
   "source": [
    "hw.R_D"
   ]
  },
  {
   "cell_type": "code",
   "execution_count": null,
   "metadata": {},
   "outputs": [],
   "source": [
    "res"
   ]
  },
  {
   "cell_type": "code",
   "execution_count": 63,
   "metadata": {},
   "outputs": [],
   "source": [
    "hw.compute_flow(cond['Vdot'], {'name' : 'water'}, p=1.013e5, T=298.15)"
   ]
  }
 ],
 "metadata": {
  "kernelspec": {
   "display_name": "RD-env-24",
   "language": "python",
   "name": "python3"
  },
  "language_info": {
   "codemirror_mode": {
    "name": "ipython",
    "version": 3
   },
   "file_extension": ".py",
   "mimetype": "text/x-python",
   "name": "python",
   "nbconvert_exporter": "python",
   "pygments_lexer": "ipython3",
   "version": "3.10.5"
  }
 },
 "nbformat": 4,
 "nbformat_minor": 2
}
