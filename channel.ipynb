{
 "cells": [
  {
   "cell_type": "code",
   "execution_count": 67,
   "metadata": {},
   "outputs": [],
   "source": [
    "import os \n",
    "import sys\n",
    "\n",
    "import math\n",
    "import pandas as pd\n",
    "import numpy as np\n",
    "import matplotlib.pyplot as plt\n",
    "\n",
    "sys.path.append(\"../RD-systems-and-test-benches/utils\")\n",
    "import model_fsolve as modf\n",
    "import model_fsolve_v2 as modf2\n",
    "\n",
    "import scipy.optimize as sco\n",
    "import scipy.interpolate as sci\n",
    "import scipy.constants as scc\n",
    "from sklearn.linear_model import LinearRegression\n",
    "from sklearn.metrics import mean_absolute_error, mean_squared_error, r2_score\n",
    "\n",
    "import hx_hydraulic as hxhy\n",
    "import from_excel as fe\n",
    "import data_plots as dplt\n",
    "\n",
    "import fluids as fds\n",
    "from CoolProp.CoolProp import PropsSI\n",
    "\n",
    "import openpyxl as opxl\n",
    "from sklearn.ensemble import RandomForestRegressor\n",
    "\n",
    "import seaborn as sns\n",
    "import os\n",
    "import plotly.graph_objects as go\n",
    "\n",
    "sys.path.append('../RD-systems-and-test-benches/')\n",
    "import utils.data_processing as dp\n",
    "\n",
    "from tqdm import tqdm"
   ]
  },
  {
   "cell_type": "code",
   "execution_count": 92,
   "metadata": {},
   "outputs": [],
   "source": [
    "import repo_config as rconfig\n",
    "\n",
    "import matplotlib\n",
    "import matplotlib.pyplot as plt\n",
    "import matplotlib.ticker as mtick\n",
    "from matplotlib.ticker import FuncFormatter\n",
    "import matplotlib.gridspec as gridspec\n",
    "import matplotlib_inline\n",
    "\n",
    "import scienceplots\n",
    "\n",
    "matplotlib_inline.backend_inline.set_matplotlib_formats('retina')\n",
    "plt.style.use(['science'])\n",
    "\n",
    "def to_percent(y, _):\n",
    "    return f\"{y * 100:.0f}\\%\"\n",
    "\n",
    "# colors = ['olive', 'green', 'blue', 'orange', 'red', 'grey','yellow','bordeaux']\n",
    "colors = ['olive','orange','blue','red','green','grey']\n",
    "colors70 = [rconfig.get_hex_code(color, 70) for color in colors]\n",
    "colors = [rconfig.get_hex_code(color, 100) for color in colors]\n",
    "linestyles = ['-', '--',  (5, (10, 3)), '-.', (0, (1, 1)), (0, (3, 5, 1, 5)), (0, (3, 5, 1, 5)), (0, (3, 5, 1, 5))]\n",
    "markers = ['o', 's', 'd', 'X', 'v', '^', 'P', 'H']"
   ]
  },
  {
   "cell_type": "code",
   "execution_count": 3,
   "metadata": {},
   "outputs": [],
   "source": [
    "Vdot_list = [0.01, 0.025, 0.05, 0.1, 0.5, 1., 1.5, 2., 3., 5.] \n",
    "\n",
    "p_op = 1e5\n",
    "T_op = 25+273.15   \n",
    "\n",
    "# SR_fp = r'G:\\Drive partagés\\Cercle Hard\\R&D\\Modèles numériques PVT\\PVT-PL-model\\CFD\\V4.5_1channel_SR'\n",
    "SR_fp = r'D:\\ANSYS Fluent Projects\\Hydraulics\\V4.5\\V4.5_1channel\\SimulationResults'"
   ]
  },
  {
   "cell_type": "code",
   "execution_count": 5,
   "metadata": {},
   "outputs": [],
   "source": [
    "# Define your SSH and folder details here\n",
    "hostname = '10.9.8.7'\n",
    "port = 22\n",
    "username = 'seagu'\n",
    "password = 'Seagull_DS4'  # Use SSH key for better security if possible\n",
    "\n",
    "ssh = dp.create_ssh_client(hostname, port, username, password)"
   ]
  },
  {
   "cell_type": "code",
   "execution_count": 84,
   "metadata": {},
   "outputs": [],
   "source": [
    "Volume_channel = 8885.2644e-6 # mm^2\n",
    "Ac = 5.5427e-6 # m2\n",
    "L_channel = Volume_channel/Ac\n",
    "\n",
    "L_Bsection = 600e-3\n",
    "\n",
    "h = 0.002\n",
    "w = 0.00281\n",
    "\n",
    "Dh = 2*h*w/(h+w)\n",
    "\n",
    "alpha_star = h/w\n",
    "\n",
    "r_equivalent_tube = (Ac/math.pi)**(1/2)\n",
    "D_equivalent_tube = 2 * r_equivalent_tube"
   ]
  },
  {
   "cell_type": "code",
   "execution_count": 9,
   "metadata": {},
   "outputs": [
    {
     "name": "stderr",
     "output_type": "stream",
     "text": [
      " 25%|██▌       | 1/4 [00:03<00:10,  3.57s/it]"
     ]
    },
    {
     "name": "stdout",
     "output_type": "stream",
     "text": [
      "--\n"
     ]
    },
    {
     "name": "stderr",
     "output_type": "stream",
     "text": [
      " 50%|█████     | 2/4 [00:07<00:07,  3.59s/it]"
     ]
    },
    {
     "name": "stdout",
     "output_type": "stream",
     "text": [
      "--\n"
     ]
    },
    {
     "name": "stderr",
     "output_type": "stream",
     "text": [
      " 75%|███████▌  | 3/4 [00:10<00:03,  3.61s/it]"
     ]
    },
    {
     "name": "stdout",
     "output_type": "stream",
     "text": [
      "--\n"
     ]
    },
    {
     "name": "stderr",
     "output_type": "stream",
     "text": [
      "100%|██████████| 4/4 [00:14<00:00,  3.60s/it]"
     ]
    },
    {
     "name": "stdout",
     "output_type": "stream",
     "text": [
      "--\n"
     ]
    },
    {
     "name": "stderr",
     "output_type": "stream",
     "text": [
      "\n"
     ]
    }
   ],
   "source": [
    "sp_dict = {}\n",
    "channelPL_dict ={}\n",
    "\n",
    "for caoMeshName in tqdm(['V4.5_1chMid_M1', 'V4.5_1chMid_M2', 'V4.5_1chSide_M1', 'V4.5_1chSide_M2'], total=4):\n",
    "\n",
    "    res = []\n",
    "\n",
    "    for Vdot in Vdot_list:\n",
    "        # print('Vdot', Vdot)\n",
    "\n",
    "        folder_path_case = os.path.join(SR_fp, caoMeshName, 'parametric_laminar_try0', f'case_{str(Vdot)}Lh')\n",
    "\n",
    "        # report_names = ['report_outlet_sp', 'report_inlet_sp', 'report_outlet_mdot']\n",
    "        # for report_name in report_names:\n",
    "        #     jg.change_report_file_path(tui, report_name, os.path.join(folder_path_case, f\"{report_name}.out\"))\n",
    "\n",
    "        Vdot_m3s = Vdot * 1e-3 / 3600 # m3/s\n",
    "        \n",
    "        V = Vdot_m3s / Ac # m/s\n",
    "\n",
    "        sp_df = dp.read_csv_ssh(ssh, os.path.join(folder_path_case, 'sp_report.csv'), sep=',')\n",
    "\n",
    "        if 'chMid_M2' in caoMeshName:\n",
    "            inlet_name = 'int_b_tube'\n",
    "            outlet_name = 'int_h_tube'\n",
    "        else:\n",
    "            inlet_name = 'inlet'\n",
    "            outlet_name = 'outlet'\n",
    "\n",
    "        PL = sp_df.loc[sp_df['Component'] == inlet_name, 'sp'].values[0] - sp_df.loc[sp_df['Component'] == outlet_name, 'sp'].values[0]\n",
    "\n",
    "        sp_dict[caoMeshName, Vdot] = sp_df\n",
    "\n",
    "        res.append({'Vdot': Vdot, 'V': V, 'PL': PL})\n",
    "\n",
    "    channelPL_dict[caoMeshName] = pd.DataFrame(res)\n",
    "    print('--')"
   ]
  },
  {
   "cell_type": "code",
   "execution_count": 13,
   "metadata": {},
   "outputs": [],
   "source": [
    "B_PL_list = []\n",
    "\n",
    "for Vdot in Vdot_list:\n",
    "\n",
    "    local_df = sp_dict['V4.5_1chMid_M1', Vdot]\n",
    "    B_PL_list.append(local_df.loc[local_df['Component'] == 'ab', 'sp'].values[0] - local_df.loc[local_df['Component'] == 'bc', 'sp'].values[0])"
   ]
  },
  {
   "cell_type": "code",
   "execution_count": 90,
   "metadata": {},
   "outputs": [
    {
     "data": {
      "text/html": [
       "<div>\n",
       "<style scoped>\n",
       "    .dataframe tbody tr th:only-of-type {\n",
       "        vertical-align: middle;\n",
       "    }\n",
       "\n",
       "    .dataframe tbody tr th {\n",
       "        vertical-align: top;\n",
       "    }\n",
       "\n",
       "    .dataframe thead th {\n",
       "        text-align: right;\n",
       "    }\n",
       "</style>\n",
       "<table border=\"1\" class=\"dataframe\">\n",
       "  <thead>\n",
       "    <tr style=\"text-align: right;\">\n",
       "      <th></th>\n",
       "      <th>Component</th>\n",
       "      <th>sp</th>\n",
       "    </tr>\n",
       "  </thead>\n",
       "  <tbody>\n",
       "    <tr>\n",
       "      <th>0</th>\n",
       "      <td>ab</td>\n",
       "      <td>1.421948e+02</td>\n",
       "    </tr>\n",
       "    <tr>\n",
       "      <th>1</th>\n",
       "      <td>bc</td>\n",
       "      <td>8.606986e+01</td>\n",
       "    </tr>\n",
       "    <tr>\n",
       "      <th>2</th>\n",
       "      <td>cd</td>\n",
       "      <td>6.387319e+01</td>\n",
       "    </tr>\n",
       "    <tr>\n",
       "      <th>3</th>\n",
       "      <td>chmid_a:1</td>\n",
       "      <td>1.440386e+02</td>\n",
       "    </tr>\n",
       "    <tr>\n",
       "      <th>4</th>\n",
       "      <td>chmid_b:1</td>\n",
       "      <td>1.141327e+02</td>\n",
       "    </tr>\n",
       "    <tr>\n",
       "      <th>5</th>\n",
       "      <td>chmid_c:1</td>\n",
       "      <td>7.497150e+01</td>\n",
       "    </tr>\n",
       "    <tr>\n",
       "      <th>6</th>\n",
       "      <td>chmid_d:1</td>\n",
       "      <td>3.397010e+01</td>\n",
       "    </tr>\n",
       "    <tr>\n",
       "      <th>7</th>\n",
       "      <td>chmid_e:1</td>\n",
       "      <td>2.030929e+00</td>\n",
       "    </tr>\n",
       "    <tr>\n",
       "      <th>8</th>\n",
       "      <td>chmid_z:1</td>\n",
       "      <td>1.479190e+02</td>\n",
       "    </tr>\n",
       "    <tr>\n",
       "      <th>9</th>\n",
       "      <td>de</td>\n",
       "      <td>4.065661e+00</td>\n",
       "    </tr>\n",
       "    <tr>\n",
       "      <th>10</th>\n",
       "      <td>inlet</td>\n",
       "      <td>1.500532e+02</td>\n",
       "    </tr>\n",
       "    <tr>\n",
       "      <th>11</th>\n",
       "      <td>outlet</td>\n",
       "      <td>-3.591788e-16</td>\n",
       "    </tr>\n",
       "    <tr>\n",
       "      <th>12</th>\n",
       "      <td>za</td>\n",
       "      <td>1.458823e+02</td>\n",
       "    </tr>\n",
       "  </tbody>\n",
       "</table>\n",
       "</div>"
      ],
      "text/plain": [
       "    Component            sp\n",
       "0          ab  1.421948e+02\n",
       "1          bc  8.606986e+01\n",
       "2          cd  6.387319e+01\n",
       "3   chmid_a:1  1.440386e+02\n",
       "4   chmid_b:1  1.141327e+02\n",
       "5   chmid_c:1  7.497150e+01\n",
       "6   chmid_d:1  3.397010e+01\n",
       "7   chmid_e:1  2.030929e+00\n",
       "8   chmid_z:1  1.479190e+02\n",
       "9          de  4.065661e+00\n",
       "10      inlet  1.500532e+02\n",
       "11     outlet -3.591788e-16\n",
       "12         za  1.458823e+02"
      ]
     },
     "execution_count": 90,
     "metadata": {},
     "output_type": "execute_result"
    }
   ],
   "source": [
    "sp_dict['V4.5_1chMid_M1', 0.1]"
   ]
  },
  {
   "cell_type": "code",
   "execution_count": 58,
   "metadata": {},
   "outputs": [],
   "source": [
    "theo = []\n",
    "\n",
    "for Vdot in Vdot_list:\n",
    "\n",
    "    Vdot_m3s = Vdot * 1e-3 / 3600 # m3/s\n",
    "    V = Vdot_m3s / Ac # m/s\n",
    "\n",
    "    channel = hxhy.duct('rectangular', h = 0.002, w = 0.0028, L = L_Bsection) # kPa\n",
    "    PL_guess = 1000 * channel.regular_PL(Vdot, fluid_dict= {'name':'MPG', 'glycol_rate' : 0.4}, p=p_op, T=T_op) # Pa\n",
    "\n",
    "    theo.append(PL_guess)"
   ]
  },
  {
   "cell_type": "code",
   "execution_count": 57,
   "metadata": {},
   "outputs": [],
   "source": [
    "darcy_weisbach_poiseuille = []\n",
    "\n",
    "for Vdot in Vdot_list:\n",
    "\n",
    "    Vdot_m3s = Vdot * 1e-3 / 3600 # m3/s\n",
    "    V = Vdot_m3s / Ac # m/s\n",
    "\n",
    "    rho = PropsSI('D', 'T', T_op, 'P', p_op, 'INCOMP::MPG[0.4]') # kg/m3\n",
    "    mu = PropsSI('V', 'T', T_op, 'P', p_op, 'INCOMP::MPG[0.4]') # Pa.s\n",
    "    Re = fds.Reynolds(V, D=Dh, rho=rho, mu=mu)\n",
    "\n",
    "    Lambda = 64/Re\n",
    "\n",
    "    darcy_weisbach_poiseuille.append(Lambda * (L_Bsection/Dh) * rho * (V**2/2))"
   ]
  },
  {
   "cell_type": "code",
   "execution_count": 87,
   "metadata": {},
   "outputs": [],
   "source": [
    "dwp_equiv_tube = []\n",
    "\n",
    "for Vdot in Vdot_list:\n",
    "\n",
    "    Vdot_m3s = Vdot * 1e-3 / 3600 # m3/s\n",
    "    V = Vdot_m3s / Ac # m/s\n",
    "\n",
    "    rho = PropsSI('D', 'T', T_op, 'P', p_op, 'INCOMP::MPG[0.4]') # kg/m3\n",
    "    mu = PropsSI('V', 'T', T_op, 'P', p_op, 'INCOMP::MPG[0.4]') # Pa.s\n",
    "    Re = fds.Reynolds(V, D=D_equivalent_tube, rho=rho, mu=mu)\n",
    "\n",
    "    Lambda = 64/Re\n",
    "\n",
    "    dwp_equiv_tube.append(Lambda * (L_Bsection/D_equivalent_tube) * rho * (V**2/2))"
   ]
  },
  {
   "cell_type": "code",
   "execution_count": 54,
   "metadata": {},
   "outputs": [
    {
     "name": "stdout",
     "output_type": "stream",
     "text": [
      "0.3367236184809188\n",
      "0.8418090462022969\n",
      "1.6836180924045938\n",
      "3.3672361848091876\n",
      "16.836180924045937\n",
      "33.672361848091874\n",
      "50.50854277213781\n",
      "67.34472369618375\n",
      "101.01708554427562\n",
      "168.3618092404594\n"
     ]
    }
   ],
   "source": [
    "shah_london_shih = []\n",
    "tirunarayanan = []\n",
    "natarajan = []\n",
    "\n",
    "for Vdot in Vdot_list:\n",
    "\n",
    "    Vdot_m3s = Vdot * 1e-3 / 3600 # m3/s\n",
    "    V = Vdot_m3s / Ac # m/s\n",
    "\n",
    "    rho = PropsSI('D', 'T', T_op, 'P', p_op, 'INCOMP::MPG[0.4]') # kg/m3\n",
    "    mu = PropsSI('V', 'T', T_op, 'P', p_op, 'INCOMP::MPG[0.4]') # Pa.s\n",
    "    Re = fds.Reynolds(V, D=Dh, rho=rho, mu=mu)\n",
    "\n",
    "    f = ( 24 * (1 - 1.3553*alpha_star + 1.9467*alpha_star**2 - 1.7012*alpha_star**3 + 0.9564*alpha_star**4 - 0.2537*alpha_star**5) )/Re\n",
    "    shah_london_shih.append((f*L_Bsection/(Dh/2)) * (rho) * V**2 )\n",
    "\n",
    "    B_overline_divided_by_P = (1 + alpha_star*(2**(1/2) -1))/(4*(1+alpha_star))\n",
    "    f = ( 14.227 + 1402.5*(B_overline_divided_by_P - ((2**(1/2))/8))**1.9 )/Re\n",
    "    tirunarayanan.append( (f*L_Bsection/(Dh/2)) * (rho) * V**2 )\n",
    "\n",
    "    f = ( 8.968*((1+alpha_star)/(alpha_star**(1/2)))**0.75 )/Re\n",
    "    natarajan.append( (f*L_Bsection/(Dh/2)) * (rho) * V**2 )"
   ]
  },
  {
   "cell_type": "code",
   "execution_count": 150,
   "metadata": {},
   "outputs": [],
   "source": [
    "error = ( np.array(shah_london_shih) - np.array(B_PL_list) ) / np.array(B_PL_list)"
   ]
  },
  {
   "cell_type": "code",
   "execution_count": 151,
   "metadata": {},
   "outputs": [
    {
     "data": {
      "text/plain": [
       "array([0.02418519, 0.02413616, 0.02404834, 0.02387037, 0.02244036,\n",
       "       0.02070673, 0.01906872, 0.0175105 , 0.01462172, 0.00914201])"
      ]
     },
     "execution_count": 151,
     "metadata": {},
     "output_type": "execute_result"
    }
   ],
   "source": [
    "error"
   ]
  },
  {
   "cell_type": "code",
   "execution_count": 147,
   "metadata": {},
   "outputs": [],
   "source": [
    "mae = mean_absolute_error(B_PL_list, shah_london_shih)"
   ]
  },
  {
   "cell_type": "code",
   "execution_count": 153,
   "metadata": {},
   "outputs": [
    {
     "data": {
      "text/plain": [
       "10.723292729256176"
      ]
     },
     "execution_count": 153,
     "metadata": {},
     "output_type": "execute_result"
    }
   ],
   "source": [
    "mae"
   ]
  },
  {
   "cell_type": "code",
   "execution_count": 152,
   "metadata": {},
   "outputs": [
    {
     "data": {
      "text/plain": [
       "0.01435613019412472"
      ]
     },
     "execution_count": 152,
     "metadata": {},
     "output_type": "execute_result"
    }
   ],
   "source": [
    "mae/np.mean(B_PL_list)"
   ]
  },
  {
   "cell_type": "code",
   "execution_count": 106,
   "metadata": {},
   "outputs": [
    {
     "data": {
      "text/plain": [
       "<matplotlib.legend.Legend at 0x22493bf5f60>"
      ]
     },
     "execution_count": 106,
     "metadata": {},
     "output_type": "execute_result"
    },
    {
     "data": {
      "image/png": "[encoded data removed]",
      "text/plain": [
       "<Figure size 669.291x350.787 with 1 Axes>"
      ]
     },
     "metadata": {
      "image/png": {
       "height": 387,
       "width": 628
      }
     },
     "output_type": "display_data"
    }
   ],
   "source": [
    "fig, ax1 = plt.subplots(figsize=(rconfig.wcol_in, rconfig.hfig(0.3, unit=\"in\")))\n",
    "\n",
    "ax1.scatter(Vdot_list, B_PL_list, label='CFD', marker = markers[0], color=colors[0])\n",
    "ax1.scatter(Vdot_list, darcy_weisbach_poiseuille, label='Hagen-Poiseuille at hydraulic diameter', marker = markers[1], color=colors[1])\n",
    "ax1.scatter(Vdot_list, dwp_equiv_tube, label='Hagen-Poiseuille at circular-equivalent diameter', marker = markers[2], color=colors[2])\n",
    "# ax1scatter(Vdot_list, theo, label='theo')\n",
    "ax1.plot(Vdot_list, shah_london_shih, label='Shah and London, Shih', linestyle= linestyles[0], color=colors[3])\n",
    "ax1.plot(Vdot_list, tirunarayanan, label='Tirunarayanan and Ramachandran', linestyle = (0, (5, 10)), color=colors[4])\n",
    "ax1.plot(Vdot_list, natarajan, label='Natarajan and Lakshmanan', linestyle= linestyles[2], color=colors[5])\n",
    "\n",
    "ax1.grid(linewidth=0.5, color=rconfig.get_hex_code('grey', 70))\n",
    "\n",
    "ax1.set_xlabel('Vdot [L/h]')\n",
    "ax1.set_ylabel('Pressure loss [Pa]')\n",
    "\n",
    "ax1.set_xlim(0,5.1)\n",
    "ax1.set_ylim(0, 3200)\n",
    "\n",
    "fig.legend(loc='upper center', bbox_to_anchor=(0.5, 0.), ncol=2, frameon=False,)"
   ]
  },
  {
   "cell_type": "code",
   "execution_count": 107,
   "metadata": {},
   "outputs": [],
   "source": [
    "fig.savefig(r'G:\\Mon Drive\\GitHub\\VDE_thesis\\image\\Chapter_PL\\channel600mm.png', dpi=600)"
   ]
  },
  {
   "cell_type": "code",
   "execution_count": null,
   "metadata": {},
   "outputs": [],
   "source": []
  },
  {
   "cell_type": "code",
   "execution_count": 108,
   "metadata": {},
   "outputs": [],
   "source": [
    "V_array = (np.array(Vdot_list) * 1e-3 / 3600) / Ac"
   ]
  },
  {
   "cell_type": "code",
   "execution_count": 109,
   "metadata": {},
   "outputs": [
    {
     "data": {
      "text/plain": [
       "array([ 4,  9, 16, 25])"
      ]
     },
     "execution_count": 109,
     "metadata": {},
     "output_type": "execute_result"
    }
   ],
   "source": [
    "np.array([2,3,4,5])**2"
   ]
  },
  {
   "cell_type": "code",
   "execution_count": 116,
   "metadata": {},
   "outputs": [
    {
     "data": {
      "text/plain": [
       "10"
      ]
     },
     "execution_count": 116,
     "metadata": {},
     "output_type": "execute_result"
    }
   ],
   "source": [
    "len(y)"
   ]
  },
  {
   "cell_type": "code",
   "execution_count": 122,
   "metadata": {},
   "outputs": [
    {
     "name": "stdout",
     "output_type": "stream",
     "text": [
      "Slope: 11330.117659327627, Intercept: 0.0\n",
      "0.9999757608692588\n"
     ]
    },
    {
     "data": {
      "text/plain": [
       "[<matplotlib.lines.Line2D at 0x224977f2170>]"
      ]
     },
     "execution_count": 122,
     "metadata": {},
     "output_type": "execute_result"
    },
    {
     "data": {
      "image/png": "[encoded data removed]",
      "text/plain": [
       "<Figure size 350x262.5 with 1 Axes>"
      ]
     },
     "metadata": {
      "image/png": {
       "height": 229,
       "width": 313
      }
     },
     "output_type": "display_data"
    }
   ],
   "source": [
    "# Example data\n",
    "X = (V_array).reshape(-1, 1)\n",
    "y = np.array(B_PL_list)\n",
    "\n",
    "# Create and fit the model\n",
    "model = LinearRegression(fit_intercept=False)\n",
    "model.fit(X, y)\n",
    "\n",
    "# Get the coefficient (slope) and intercept\n",
    "slope = model.coef_[0]\n",
    "intercept = model.intercept_\n",
    "\n",
    "print(f\"Slope: {slope}, Intercept: {intercept}\")\n",
    "\n",
    "# r2 coefficient\n",
    "r2 = r2_score(y, model.predict(X))\n",
    "print(r2)\n",
    "\n",
    "plt.scatter(X, y, color=colors[0])\n",
    "plt.plot(X, model.predict(X), color=colors[1])"
   ]
  },
  {
   "cell_type": "code",
   "execution_count": 123,
   "metadata": {},
   "outputs": [],
   "source": [
    "Cons = slope / L_Bsection"
   ]
  },
  {
   "cell_type": "code",
   "execution_count": 127,
   "metadata": {},
   "outputs": [
    {
     "data": {
      "text/plain": [
       "1.6030570660508416"
      ]
     },
     "execution_count": 127,
     "metadata": {},
     "output_type": "execute_result"
    }
   ],
   "source": [
    "(L_channel/1000)"
   ]
  },
  {
   "cell_type": "code",
   "execution_count": 139,
   "metadata": {},
   "outputs": [],
   "source": [
    "channelPL_dict['V4.5_1chMid_M2']['PL_if_straight'] = Cons * (L_channel/1000) * channelPL_dict['V4.5_1chMid_M2']['V']"
   ]
  },
  {
   "cell_type": "code",
   "execution_count": null,
   "metadata": {},
   "outputs": [],
   "source": []
  },
  {
   "cell_type": "code",
   "execution_count": 140,
   "metadata": {},
   "outputs": [
    {
     "data": {
      "text/html": [
       "<div>\n",
       "<style scoped>\n",
       "    .dataframe tbody tr th:only-of-type {\n",
       "        vertical-align: middle;\n",
       "    }\n",
       "\n",
       "    .dataframe tbody tr th {\n",
       "        vertical-align: top;\n",
       "    }\n",
       "\n",
       "    .dataframe thead th {\n",
       "        text-align: right;\n",
       "    }\n",
       "</style>\n",
       "<table border=\"1\" class=\"dataframe\">\n",
       "  <thead>\n",
       "    <tr style=\"text-align: right;\">\n",
       "      <th></th>\n",
       "      <th>Vdot</th>\n",
       "      <th>V</th>\n",
       "      <th>PL</th>\n",
       "      <th>PL_if_straight</th>\n",
       "    </tr>\n",
       "  </thead>\n",
       "  <tbody>\n",
       "    <tr>\n",
       "      <th>0</th>\n",
       "      <td>0.010</td>\n",
       "      <td>0.000501</td>\n",
       "      <td>14.722501</td>\n",
       "      <td>15.170793</td>\n",
       "    </tr>\n",
       "    <tr>\n",
       "      <th>1</th>\n",
       "      <td>0.025</td>\n",
       "      <td>0.001253</td>\n",
       "      <td>36.806882</td>\n",
       "      <td>37.926982</td>\n",
       "    </tr>\n",
       "    <tr>\n",
       "      <th>2</th>\n",
       "      <td>0.050</td>\n",
       "      <td>0.002506</td>\n",
       "      <td>73.615880</td>\n",
       "      <td>75.853964</td>\n",
       "    </tr>\n",
       "    <tr>\n",
       "      <th>3</th>\n",
       "      <td>0.100</td>\n",
       "      <td>0.005012</td>\n",
       "      <td>147.240380</td>\n",
       "      <td>151.707929</td>\n",
       "    </tr>\n",
       "    <tr>\n",
       "      <th>4</th>\n",
       "      <td>0.500</td>\n",
       "      <td>0.025058</td>\n",
       "      <td>736.586220</td>\n",
       "      <td>758.539643</td>\n",
       "    </tr>\n",
       "    <tr>\n",
       "      <th>5</th>\n",
       "      <td>1.000</td>\n",
       "      <td>0.050116</td>\n",
       "      <td>1474.423500</td>\n",
       "      <td>1517.079286</td>\n",
       "    </tr>\n",
       "    <tr>\n",
       "      <th>6</th>\n",
       "      <td>1.500</td>\n",
       "      <td>0.075174</td>\n",
       "      <td>2214.298300</td>\n",
       "      <td>2275.618929</td>\n",
       "    </tr>\n",
       "    <tr>\n",
       "      <th>7</th>\n",
       "      <td>2.000</td>\n",
       "      <td>0.100232</td>\n",
       "      <td>2957.267100</td>\n",
       "      <td>3034.158572</td>\n",
       "    </tr>\n",
       "    <tr>\n",
       "      <th>8</th>\n",
       "      <td>3.000</td>\n",
       "      <td>0.150348</td>\n",
       "      <td>4455.789800</td>\n",
       "      <td>4551.237858</td>\n",
       "    </tr>\n",
       "    <tr>\n",
       "      <th>9</th>\n",
       "      <td>5.000</td>\n",
       "      <td>0.250580</td>\n",
       "      <td>7513.971600</td>\n",
       "      <td>7585.396429</td>\n",
       "    </tr>\n",
       "  </tbody>\n",
       "</table>\n",
       "</div>"
      ],
      "text/plain": [
       "    Vdot         V           PL  PL_if_straight\n",
       "0  0.010  0.000501    14.722501       15.170793\n",
       "1  0.025  0.001253    36.806882       37.926982\n",
       "2  0.050  0.002506    73.615880       75.853964\n",
       "3  0.100  0.005012   147.240380      151.707929\n",
       "4  0.500  0.025058   736.586220      758.539643\n",
       "5  1.000  0.050116  1474.423500     1517.079286\n",
       "6  1.500  0.075174  2214.298300     2275.618929\n",
       "7  2.000  0.100232  2957.267100     3034.158572\n",
       "8  3.000  0.150348  4455.789800     4551.237858\n",
       "9  5.000  0.250580  7513.971600     7585.396429"
      ]
     },
     "execution_count": 140,
     "metadata": {},
     "output_type": "execute_result"
    }
   ],
   "source": [
    "channelPL_dict['V4.5_1chMid_M2']"
   ]
  },
  {
   "cell_type": "code",
   "execution_count": 143,
   "metadata": {},
   "outputs": [
    {
     "data": {
      "text/plain": [
       "<matplotlib.legend.Legend at 0x2249894b550>"
      ]
     },
     "execution_count": 143,
     "metadata": {},
     "output_type": "execute_result"
    },
    {
     "data": {
      "image/png": "[encoded data removed]",
      "text/plain": [
       "<Figure size 350x262.5 with 1 Axes>"
      ]
     },
     "metadata": {
      "image/png": {
       "height": 229,
       "width": 313
      }
     },
     "output_type": "display_data"
    }
   ],
   "source": [
    "plt.plot(channelPL_dict['V4.5_1chMid_M1']['V'], channelPL_dict['V4.5_1chMid_M2']['PL'], color=colors[0], label='CFD')\n",
    "plt.plot(channelPL_dict['V4.5_1chMid_M1']['V'], channelPL_dict['V4.5_1chMid_M2']['PL_if_straight'], color=colors[1], label='Straight channel')\n",
    "plt.legend()"
   ]
  },
  {
   "cell_type": "code",
   "execution_count": 161,
   "metadata": {},
   "outputs": [
    {
     "data": {
      "text/plain": [
       "[0.01, 0.025, 0.05, 0.1, 0.5, 1.0, 1.5, 2.0, 3.0, 5.0]"
      ]
     },
     "execution_count": 161,
     "metadata": {},
     "output_type": "execute_result"
    }
   ],
   "source": [
    "Vdot_list"
   ]
  },
  {
   "cell_type": "code",
   "execution_count": 160,
   "metadata": {},
   "outputs": [
    {
     "data": {
      "text/plain": [
       "0   -0.011318\n",
       "1   -0.011256\n",
       "2   -0.011140\n",
       "3   -0.010907\n",
       "4   -0.009014\n",
       "5   -0.006546\n",
       "6   -0.003897\n",
       "7   -0.000988\n",
       "8    0.005531\n",
       "9    0.020369\n",
       "dtype: float64"
      ]
     },
     "execution_count": 160,
     "metadata": {},
     "output_type": "execute_result"
    }
   ],
   "source": [
    "((channelPL_dict['V4.5_1chMid_M1']['PL'] - channelPL_dict['V4.5_1chMid_M1']['PL_if_straight']) / channelPL_dict['V4.5_1chMid_M1']['PL_if_straight'])"
   ]
  },
  {
   "cell_type": "code",
   "execution_count": 50,
   "metadata": {},
   "outputs": [
    {
     "data": {
      "text/plain": [
       "array([3.90985504, 3.91004221, 3.91037754, 3.91105724, 3.91652736,\n",
       "       3.9231794 , 3.92948539, 3.93550302, 3.94670799, 3.96813885])"
      ]
     },
     "execution_count": 50,
     "metadata": {},
     "output_type": "execute_result"
    }
   ],
   "source": [
    "np.array(B_PL_list) / np.array(tirunarayanan)"
   ]
  },
  {
   "cell_type": "code",
   "execution_count": null,
   "metadata": {},
   "outputs": [],
   "source": [
    "channelPL_dict['V4.5_1chMid_M1']"
   ]
  },
  {
   "cell_type": "code",
   "execution_count": null,
   "metadata": {},
   "outputs": [],
   "source": [
    "channelPL_dict['V4.5_1chSide_M1']"
   ]
  },
  {
   "cell_type": "code",
   "execution_count": null,
   "metadata": {},
   "outputs": [],
   "source": [
    "channelPL_dict['V4.5_1chSide_M2']"
   ]
  },
  {
   "cell_type": "code",
   "execution_count": 6,
   "metadata": {},
   "outputs": [],
   "source": [
    "res = []\n",
    "\n",
    "for Vdot in Vdot_list:\n",
    "\n",
    "    Vdot_m3s = Vdot * 1e-3 / 3600 # m3/s\n",
    "    Ac = 0.0000055427 # m2\n",
    "    V = Vdot_m3s / Ac # m/s\n",
    "\n",
    "    channel = hxhy.duct('rectangular', h = 0.002, w = 0.0028, L = 1.603) # kPa\n",
    "    PL_guess = 1000 * channel.regular_PL(Vdot, fluid_dict= {'name':'MPG', 'glycol_rate' : 0.4}, p=p_op, T=T_op) # Pa\n",
    "\n",
    "    res.append({'Vdot': Vdot, 'V' : V, 'PL': PL_guess})\n",
    "\n",
    "channelPL_dict['theoretical'] = pd.DataFrame(res)"
   ]
  },
  {
   "cell_type": "code",
   "execution_count": null,
   "metadata": {},
   "outputs": [],
   "source": [
    "for key, df in channelPL_dict.items():\n",
    "    plt.plot(df['Vdot'], df['PL'], label=key)\n",
    "\n",
    "plt.legend()"
   ]
  },
  {
   "cell_type": "code",
   "execution_count": 14,
   "metadata": {},
   "outputs": [],
   "source": [
    "all_PL = pd.concat([df for key, df in channelPL_dict.items() if key != 'theoretical'])\n",
    "all_PL.sort_values(by='Vdot', inplace=True)"
   ]
  },
  {
   "cell_type": "code",
   "execution_count": null,
   "metadata": {},
   "outputs": [],
   "source": [
    "plt.scatter(all_PL['V'], all_PL['PL'])\n",
    "plt.plot(X, y_pred, color='red')"
   ]
  },
  {
   "cell_type": "code",
   "execution_count": null,
   "metadata": {},
   "outputs": [],
   "source": [
    "# Example data\n",
    "X = all_PL['V'].values.reshape(-1, 1)  # Feature (independent variable)\n",
    "y = all_PL['PL'].values  # Target (dependent variable)\n",
    "\n",
    "# Create and fit the model\n",
    "model = LinearRegression(fit_intercept=False)\n",
    "model.fit(X, y)\n",
    "\n",
    "# Get the coefficient (slope) and intercept\n",
    "slope = model.coef_[0]\n",
    "intercept = model.intercept_\n",
    "\n",
    "print(f\"Slope: {slope}, Intercept: {intercept}\")\n",
    "\n",
    "# Predict using the model\n",
    "y_pred = model.predict(X)\n",
    "# print(f\"Predicted values: {y_pred}\")\n",
    "\n",
    "# Compute MAE, RMSE, and R²\n",
    "mae = mean_absolute_error(y, y_pred)\n",
    "rmse = np.sqrt(mean_squared_error(y, y_pred))\n",
    "r2 = r2_score(y, y_pred)\n",
    "\n",
    "print(f\"MAE: {mae}\")\n",
    "print(f\"MAE/mean: {round((mae/np.mean(y))*100,1)}%\")\n",
    "print(f\"RMSE: {rmse}\")\n",
    "print(f\"R²: {r2}\")\n",
    "\n",
    "# Predict using the model\n",
    "y_pred = model.predict(X)\n",
    "\n",
    "# Calculate the error (residuals)\n",
    "error = y - y_pred\n",
    "\n",
    "# Calculate absolute error\n",
    "absolute_error = np.abs(error)\n",
    "\n",
    "# Calculate percentage error as a percentage of the true y value\n",
    "percentage_error = (y - y_pred)/y\n",
    "\n",
    "# Compute statistics for error\n",
    "error_stats = {\n",
    "    \"Error Mean\": np.mean(error),\n",
    "    \"Error Min\": np.min(error),\n",
    "    \"Error Max\": np.max(error),\n",
    "    \"Error Std Dev\": np.std(error)\n",
    "}\n",
    "\n",
    "# Compute statistics for absolute error\n",
    "absolute_error_stats = {\n",
    "    \"Absolute Error Mean\": np.mean(absolute_error),\n",
    "    \"Absolute Error Min\": np.min(absolute_error),\n",
    "    \"Absolute Error Max\": np.max(absolute_error),\n",
    "    \"Absolute Error Std Dev\": np.std(absolute_error)\n",
    "}\n",
    "\n",
    "# Compute statistics for percentage error\n",
    "percentage_error_stats = {\n",
    "    \"Percentage Error Mean\": np.mean(percentage_error),\n",
    "    \"Percentage Error Min\": np.min(percentage_error),\n",
    "    \"Percentage Error Max\": np.max(percentage_error),\n",
    "    \"Percentage Error Std Dev\": np.std(percentage_error)\n",
    "}\n",
    "\n",
    "# Display the results\n",
    "print(\"Error Statistics:\", error_stats)\n",
    "print(\"Absolute Error Statistics:\", absolute_error_stats)\n",
    "print(\"Percentage Error Statistics:\", percentage_error_stats)"
   ]
  },
  {
   "cell_type": "code",
   "execution_count": null,
   "metadata": {},
   "outputs": [],
   "source": [
    "PL = Slope * V"
   ]
  },
  {
   "cell_type": "code",
   "execution_count": 47,
   "metadata": {},
   "outputs": [],
   "source": [
    "channelPL_dict['V4.5_1chMid_M2']['PL_M1'] = channelPL_dict['V4.5_1chMid_M1']['PL']"
   ]
  },
  {
   "cell_type": "code",
   "execution_count": 50,
   "metadata": {},
   "outputs": [],
   "source": [
    "channelPL_dict['V4.5_1chMid_M2']['relative difference'] = (channelPL_dict['V4.5_1chMid_M2']['PL'] - channelPL_dict['V4.5_1chMid_M2']['PL_M1']) / channelPL_dict['V4.5_1chMid_M2']['PL_M1']"
   ]
  },
  {
   "cell_type": "code",
   "execution_count": null,
   "metadata": {},
   "outputs": [],
   "source": [
    "channelPL_dict['V4.5_1chMid_M2']"
   ]
  },
  {
   "cell_type": "code",
   "execution_count": 32,
   "metadata": {},
   "outputs": [],
   "source": [
    "# https://www.youtube.com/watch?v=I3GUOCTweCQ\n",
    "\n",
    "density = 1029.39624 # kg/m3\n",
    "viscosity = 0.0035801923 # kg/ms\n",
    "thickness = 0.010 # m\n",
    "\n",
    "a = 0\n",
    "\n",
    "inertial_resistance = a*2 / (density * thickness) # C2 = 0 if linear (laminar) inertial resistance\n",
    "viscous_resistance = slope / (viscosity * thickness) # viscous resistance"
   ]
  },
  {
   "cell_type": "code",
   "execution_count": null,
   "metadata": {},
   "outputs": [],
   "source": [
    "viscous_resistance"
   ]
  },
  {
   "cell_type": "code",
   "execution_count": null,
   "metadata": {},
   "outputs": [],
   "source": []
  }
 ],
 "metadata": {
  "kernelspec": {
   "display_name": "RD-env-24",
   "language": "python",
   "name": "python3"
  },
  "language_info": {
   "codemirror_mode": {
    "name": "ipython",
    "version": 3
   },
   "file_extension": ".py",
   "mimetype": "text/x-python",
   "name": "python",
   "nbconvert_exporter": "python",
   "pygments_lexer": "ipython3",
   "version": "3.10.5"
  }
 },
 "nbformat": 4,
 "nbformat_minor": 2
}
