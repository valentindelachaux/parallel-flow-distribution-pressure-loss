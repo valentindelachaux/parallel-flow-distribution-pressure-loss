{
 "cells": [
  {
   "cell_type": "code",
   "execution_count": 1,
   "metadata": {},
   "outputs": [],
   "source": [
    "import sys\n",
    "\n",
    "import pandas as pd\n",
    "import numpy as np\n",
    "import matplotlib.pyplot as plt\n",
    "\n",
    "sys.path.append(\"../RD-systems-and-test-benches/utils\")\n",
    "import model_fsolve as modf\n",
    "import model_fsolve_v2 as modf2\n",
    "\n",
    "import scipy.optimize as sco\n",
    "import scipy.interpolate as sci\n",
    "\n",
    "import hx_hydraulic as hxhy\n",
    "import from_excel as fe\n",
    "import data_plots as dplt\n",
    "\n",
    "import fluids as fds\n",
    "from CoolProp.CoolProp import PropsSI\n",
    "\n",
    "import openpyxl as opxl\n",
    "from sklearn.ensemble import RandomForestRegressor\n",
    "\n",
    "import seaborn as sns\n",
    "import os\n",
    "import plotly.graph_objects as go\n"
   ]
  },
  {
   "cell_type": "code",
   "execution_count": 3,
   "metadata": {},
   "outputs": [],
   "source": [
    "Vdot_list = [0.01, 0.05, 0.1, 0.5] \n",
    "\n",
    "SR_fp = r'G:\\Drive partagés\\Cercle Hard\\R&D\\Modèles numériques PVT\\PVT-PL-model\\CFD\\V4.5_1channel_SR'"
   ]
  },
  {
   "cell_type": "code",
   "execution_count": 13,
   "metadata": {},
   "outputs": [],
   "source": [
    "p_op = 1e5\n",
    "T_op = 25+273.15"
   ]
  },
  {
   "cell_type": "code",
   "execution_count": 15,
   "metadata": {},
   "outputs": [],
   "source": [
    "DP_list = []\n",
    "DP_theo_list = []\n",
    "\n",
    "for Vdot in Vdot_list:\n",
    "\n",
    "    folder_path_case = os.path.join(SR_fp, 'parametric_laminar_try0', f'case_{str(Vdot)}Lh')\n",
    "\n",
    "    # report_names = ['report_outlet_sp', 'report_inlet_sp', 'report_outlet_mdot']\n",
    "    # for report_name in report_names:\n",
    "    #     jg.change_report_file_path(tui, report_name, os.path.join(folder_path_case, f\"{report_name}.out\"))\n",
    "\n",
    "    Vdot_m3s = Vdot * 1e-3 / 3600 # m3/s\n",
    "    Ac = 0.0000055427 # m2\n",
    "    V = Vdot_m3s / Ac # m/s\n",
    "\n",
    "    sp_df = pd.read_csv(os.path.join(folder_path_case, 'sp_report.csv'), sep=',')\n",
    "\n",
    "    DP = sp_df.loc[sp_df['Component'] == 'inlet', 'sp'].values[0] - sp_df.loc[sp_df['Component'] == 'outlet', 'sp'].values[0]\n",
    "\n",
    "    DP_list.append(DP)\n",
    "\n",
    "    # jg.change_named_expression(tui, 'V_inlet', V, 'm/s')\n",
    "\n",
    "    channel = hxhy.duct('rectangular', h = 0.002, w = 0.0028, L = 1.603) # kPa\n",
    "    PL_guess = 1000 * channel.regular_PL(Vdot, fluid_dict= {'name':'MPG', 'glycol_rate' : 0.4}, p=p_op, T=T_op) # Pa\n",
    "\n",
    "    DP_theo_list.append(PL_guess)\n",
    "\n",
    "    # jg.standard_initialization(tui, 'inlet', PL_guess, coeff_x*V, coeff_y*V, coeff_z*V)\n",
    "\n",
    "    # solver.solution.run_calculation.iterate(number_of_iterations=nb_it)\n",
    "\n",
    "    # jg.write_report(tui, 'mdot', folder_path_case, 'mdot_report')\n",
    "    # jg.write_report(tui, 'sp', folder_path_case, 'sp_report')\n",
    "    # jg.write_residuals_file(tui, folder_path_case, 'residuals')\n",
    "    # jg.write_data(tui, folder_path_case, f'case_{str(Vdot)}Lh')"
   ]
  },
  {
   "cell_type": "code",
   "execution_count": null,
   "metadata": {},
   "outputs": [],
   "source": [
    "plt.plot(Vdot_list, DP_list, label='CFD')\n",
    "plt.plot(Vdot_list, DP_theo_list, label='Theoretical')\n",
    "plt.legend()"
   ]
  },
  {
   "cell_type": "code",
   "execution_count": null,
   "metadata": {},
   "outputs": [],
   "source": []
  }
 ],
 "metadata": {
  "kernelspec": {
   "display_name": "RD-env-24",
   "language": "python",
   "name": "python3"
  },
  "language_info": {
   "codemirror_mode": {
    "name": "ipython",
    "version": 3
   },
   "file_extension": ".py",
   "mimetype": "text/x-python",
   "name": "python",
   "nbconvert_exporter": "python",
   "pygments_lexer": "ipython3",
   "version": "3.10.5"
  }
 },
 "nbformat": 4,
 "nbformat_minor": 2
}
