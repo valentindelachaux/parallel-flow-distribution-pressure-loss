{
 "cells": [
  {
   "cell_type": "code",
   "execution_count": 17,
   "metadata": {},
   "outputs": [],
   "source": [
    "from CoolProp.CoolProp import PropsSI\n",
    "import matplotlib.pyplot as plt\n",
    "import numpy as np"
   ]
  },
  {
   "cell_type": "code",
   "execution_count": 2,
   "metadata": {},
   "outputs": [
    {
     "data": {
      "text/plain": [
       "4182.5875922152"
      ]
     },
     "execution_count": 2,
     "metadata": {},
     "output_type": "execute_result"
    }
   ],
   "source": [
    "PropsSI('C','T',275.15,'P',101325,'INCOMP::Water')"
   ]
  },
  {
   "cell_type": "code",
   "execution_count": 3,
   "metadata": {},
   "outputs": [
    {
     "data": {
      "text/plain": [
       "1003.0760636390639"
      ]
     },
     "execution_count": 3,
     "metadata": {},
     "output_type": "execute_result"
    }
   ],
   "source": [
    "PropsSI('D','T',275.15,'P',101325,'INCOMP::Water')"
   ]
  },
  {
   "cell_type": "code",
   "execution_count": 4,
   "metadata": {},
   "outputs": [
    {
     "data": {
      "text/plain": [
       "4182.5875922152"
      ]
     },
     "execution_count": 4,
     "metadata": {},
     "output_type": "execute_result"
    }
   ],
   "source": [
    "PropsSI('C','T',275.15,'P',101325,'INCOMP::Water')"
   ]
  },
  {
   "cell_type": "code",
   "execution_count": 5,
   "metadata": {},
   "outputs": [],
   "source": [
    "fp = [-10,-13,-18,-22,-30,-34]"
   ]
  },
  {
   "cell_type": "code",
   "execution_count": 6,
   "metadata": {},
   "outputs": [],
   "source": [
    "perc_glycol = [0.25,0.3,0.35,0.4,0.45,0.5]"
   ]
  },
  {
   "cell_type": "code",
   "execution_count": 35,
   "metadata": {},
   "outputs": [
    {
     "data": {
      "image/png": "[encoded data removed]",
      "text/plain": [
       "<Figure size 640x480 with 1 Axes>"
      ]
     },
     "metadata": {},
     "output_type": "display_data"
    }
   ],
   "source": [
    "plt.plot(fp,perc_glycol)\n",
    "plt.plot(np.array(Tf_list)-273.15,x_list)\n",
    "plt.show()"
   ]
  },
  {
   "cell_type": "code",
   "execution_count": 15,
   "metadata": {},
   "outputs": [
    {
     "name": "stdout",
     "output_type": "stream",
     "text": [
      "Density of 40% MPG at 298.15 K and 101325.00 Pa: 1029.40 kg/m^3\n",
      "Viscosity of 40% MPG at 298.15 K and 101325.00 Pa: 0.003580 Pa*s\n"
     ]
    }
   ],
   "source": [
    "# Define the fluid and the conditions\n",
    "fluid = 'MPG'\n",
    "x = 0.4  # mass fraction of glycol\n",
    "p = 101325  # pressure in Pa\n",
    "T = 298.15  # temperature in K (25°C)\n",
    "\n",
    "# Calculate the density and viscosity\n",
    "rho = PropsSI('D', 'P', p, 'T', T, f'INCOMP::{fluid}[{x}]')\n",
    "mu = PropsSI('V', 'P', p, 'T', T, f'INCOMP::{fluid}[{x}]')\n",
    "\n",
    "# Print the results\n",
    "print(f'Density of 40% MPG at {T:.2f} K and {p:.2f} Pa: {rho:.2f} kg/m^3')\n",
    "print(f'Viscosity of 40% MPG at {T:.2f} K and {p:.2f} Pa: {mu:.6f} Pa*s')"
   ]
  },
  {
   "cell_type": "code",
   "execution_count": 13,
   "metadata": {},
   "outputs": [],
   "source": [
    "rho = PropsSI('D', 'P', p, 'T', T, 'INCOMP::MPG[0.4]')"
   ]
  },
  {
   "cell_type": "code",
   "execution_count": 30,
   "metadata": {},
   "outputs": [],
   "source": [
    "x_list = np.linspace(0.,0.6,7)"
   ]
  },
  {
   "cell_type": "code",
   "execution_count": 31,
   "metadata": {},
   "outputs": [],
   "source": [
    "Tf_list = []"
   ]
  },
  {
   "cell_type": "code",
   "execution_count": 32,
   "metadata": {},
   "outputs": [],
   "source": [
    "for i,x in enumerate(x_list):\n",
    "    Tf_list.append(PropsSI('T_FREEZE', 'P', p, 'T', T, f'INCOMP::{fluid}[{x}]'))"
   ]
  },
  {
   "cell_type": "code",
   "execution_count": 33,
   "metadata": {},
   "outputs": [
    {
     "data": {
      "text/plain": [
       "[273.12492872393454,\n",
       " 270.28301268787516,\n",
       " 265.97710505710455,\n",
       " 260.3608959415299,\n",
       " 252.5817549530584,\n",
       " 240.9565312055972,\n",
       " 223.14735331505352]"
      ]
     },
     "execution_count": 33,
     "metadata": {},
     "output_type": "execute_result"
    }
   ],
   "source": [
    "Tf_list"
   ]
  },
  {
   "cell_type": "code",
   "execution_count": null,
   "metadata": {},
   "outputs": [],
   "source": []
  }
 ],
 "metadata": {
  "kernelspec": {
   "display_name": "model23",
   "language": "python",
   "name": "python3"
  },
  "language_info": {
   "codemirror_mode": {
    "name": "ipython",
    "version": 3
   },
   "file_extension": ".py",
   "mimetype": "text/x-python",
   "name": "python",
   "nbconvert_exporter": "python",
   "pygments_lexer": "ipython3",
   "version": "3.10.5"
  },
  "orig_nbformat": 4,
  "vscode": {
   "interpreter": {
    "hash": "d629700add7d13df99efa7b6ee1fc1a3d9f6e4ac2336389d6054d4e516eee861"
   }
  }
 },
 "nbformat": 4,
 "nbformat_minor": 2
}
