{
 "cells": [
  {
   "cell_type": "code",
   "execution_count": 1,
   "metadata": {},
   "outputs": [],
   "source": [
    "import math\n",
    "import pandas as pd\n",
    "import numpy as np\n",
    "import matplotlib.pyplot as plt\n",
    "import matplotlib.font_manager as fm\n",
    "import matplotlib.ticker as mtick\n",
    "from matplotlib.cm import get_cmap\n",
    "# import addcopyfighandler\n",
    "\n",
    "from IPython.core.display import HTML\n",
    "from IPython.display import display\n",
    "\n",
    "import model2 as mod\n",
    "import model_fsolve as modf\n",
    "\n",
    "import simu as sim\n",
    "\n",
    "import fluids as fds\n",
    "from CoolProp.CoolProp import PropsSI\n",
    "\n",
    "import plotly.graph_objects as go\n",
    "from plotly.subplots import make_subplots\n",
    "\n",
    "import tables\n",
    "\n",
    "import pprint\n"
   ]
  },
  {
   "cell_type": "code",
   "execution_count": 2,
   "metadata": {},
   "outputs": [],
   "source": [
    "# Define the fluid and the conditions\n",
    "fluid = 'MPG'\n",
    "\n",
    "p_bar = 2\n",
    "p = 101325*p_bar  # pressure in Pa\n",
    "T_C = 25\n",
    "T = 273.15 + T_C  # temperature in K (25°C)\n",
    "\n",
    "glycol_rate = 0.4\n",
    "\n",
    "par = {}\n",
    "\n",
    "par[\"eps\"] = 0.001\n",
    "\n",
    "par[\"rho\"] = PropsSI('D', 'P', p, 'T', T, f'INCOMP::{fluid}[{glycol_rate}]') # kg/m3\n",
    "\n",
    "par[\"eta\"] = PropsSI('V', 'P', p, 'T', T, f'INCOMP::{fluid}[{glycol_rate}]')\n",
    "par[\"nu\"] = par[\"eta\"]/par[\"rho\"]"
   ]
  },
  {
   "cell_type": "code",
   "execution_count": 25,
   "metadata": {},
   "outputs": [],
   "source": [
    "# Heat exchanger inputs --------------------------------------------------\n",
    "\n",
    "# V4.41\n",
    "# ------\n",
    "\n",
    "par[\"N\"] = 300\n",
    "\n",
    "par[\"Lx\"] = (2*(50+10+635)+100+2*(26+10+10))/1000 # m, not used in the system calculation\n",
    "par[\"inter_riser\"] = 0.0005\n",
    "\n",
    "par[\"EP\"] = 10\n",
    "par[\"N_per_EP\"] = int(par[\"N\"]/par[\"EP\"])\n",
    "\n",
    "petit = (par[\"N_per_EP\"]-1)*[par[\"inter_riser\"]]\n",
    "long = [0.013]\n",
    "par[\"Ly\"] = (par[\"EP\"]-1)*(petit+long)+petit # m\n",
    "\n",
    "par[\"tot_width\"] = 0.990\n",
    "# par[\"l_riser\"] = (par[\"tot_width\"]-par[\"inter_riser\"]*(par[\"N\"]-1))/par[\"N\"]\n",
    "par[\"l_riser\"] = 0.00284\n",
    "\n",
    "par[\"h_riser\"] = 0.0021\n",
    "\n",
    "par[\"Dx\"] = 2*(par[\"h_riser\"]*par[\"l_riser\"])/(par[\"h_riser\"]+par[\"l_riser\"]) # m, not used in the system calculation\n",
    "par[\"Din\"] = 0.018 # m\n",
    "par[\"Dout\"] = par[\"Din\"] # m\n",
    "\n",
    "par[\"manifold\"] = \"tubular\" # or rectangular\n",
    "\n",
    "coeff = 10.\n",
    "par[\"coeff_Kxin\"] = coeff\n",
    "par[\"coeff_Kxout\"] = coeff\n",
    "par[\"coeff_Kyin\"] = coeff\n",
    "par[\"coeff_Kyout\"] = coeff\n",
    "\n",
    "# Z-type or U-type\n",
    "\n",
    "# par[\"ref\"] = par[\"N\"]-1 # U\n",
    "par[\"ref\"] = 0 # Z \n",
    "\n",
    "# Parameters\n",
    "\n",
    "par[\"theta\"] = 90.\n",
    "\n",
    "par[\"rough\"] = 0.001 # aluminium = 0.001 mm\n",
    "# end of inputs\n",
    "\n",
    "par['Ax'] = math.pi*(par['Dx']/2)**2\n",
    "\n",
    "# Manifold tubulaire ou rectangulaire\n",
    "\n",
    "if par['manifold'] == 'tubular':\n",
    "    par['Ain'] = math.pi*(par['Din']/2)**2\n",
    "    par['Aout'] = math.pi*(par['Dout']/2)**2\n",
    "elif par['manifold'] == 'rectangular': # rectangulaire (SPRING ou autre)\n",
    "    par['Ain'] = par['h_man']*par['l_man']\n",
    "    par['Aout'] = par['Ain']\n",
    "\n",
    "par['sch'] = 'exchanger'\n",
    "\n",
    "# 'Crane' or 'perso'\n",
    "par['method'] = 'Crane'"
   ]
  },
  {
   "cell_type": "code",
   "execution_count": 43,
   "metadata": {},
   "outputs": [],
   "source": [
    "# Heat exchanger inputs --------------------------------------------------\n",
    "\n",
    "# V4.41, ligne de 8\n",
    "# ------\n",
    "par[\"N_panels\"] = 4\n",
    "par[\"N\"] = 300 * par[\"N_panels\"]\n",
    "par[\"N_per_panel\"] = int(par[\"N\"]/par[\"N_panels\"])\n",
    "\n",
    "par[\"Lx\"] = (2*(50+10+635)+100+2*(26+10+10))/1000 # m, not used in the system calculation\n",
    "par[\"inter_riser\"] = 0.00035\n",
    "\n",
    "par[\"EP\"] = 10\n",
    "par[\"N_per_EP\"] = int(par[\"N_per_panel\"]/par[\"EP\"])\n",
    "\n",
    "petit = (par[\"N_per_EP\"]-1)*[par[\"inter_riser\"]]\n",
    "long = [0.013]\n",
    "Ly_list = (par[\"EP\"]-1)*(petit+long)+petit # m\n",
    "\n",
    "\n",
    "long_field = [0.02]\n",
    "\n",
    "par[\"Ly\"] = (par[\"N_panels\"]-1)*(Ly_list+long_field)+Ly_list\n",
    "\n",
    "par[\"tot_width\"] = 0.990\n",
    "# par[\"l_riser\"] = (par[\"tot_width\"]-par[\"inter_riser\"]*(par[\"N\"]-1))/par[\"N\"]\n",
    "par[\"l_riser\"] = 0.003\n",
    "\n",
    "par[\"h_riser\"] = 0.002\n",
    "\n",
    "par[\"Dx\"] = 2*(par[\"h_riser\"]*par[\"l_riser\"])/(par[\"h_riser\"]+par[\"l_riser\"]) # m, not used in the system calculation\n",
    "par[\"Din\"] = 0.018 # m\n",
    "par[\"Dout\"] = par[\"Din\"] # m\n",
    "\n",
    "par[\"manifold\"] = \"tubular\" # or rectangular\n",
    "\n",
    "coeff = 10.\n",
    "par[\"coeff_Kxin\"] = coeff\n",
    "par[\"coeff_Kxout\"] = coeff\n",
    "par[\"coeff_Kyin\"] = coeff\n",
    "par[\"coeff_Kyout\"] = coeff\n",
    "\n",
    "# Z-type or U-type\n",
    "\n",
    "# par[\"ref\"] = par[\"N\"]-1 # U\n",
    "par[\"ref\"] = 0 # Z \n",
    "\n",
    "# Parameters\n",
    "\n",
    "par[\"theta\"] = 90.\n",
    "\n",
    "par[\"rough\"] = 0.001 # aluminium = 0.001 mm\n",
    "# end of inputs\n",
    "\n",
    "par['Ax'] = math.pi*(par['Dx']/2)**2\n",
    "\n",
    "# Manifold tubulaire ou rectangulaire\n",
    "\n",
    "if par['manifold'] == 'tubular':\n",
    "    par['Ain'] = math.pi*(par['Din']/2)**2\n",
    "    par['Aout'] = math.pi*(par['Dout']/2)**2\n",
    "elif par['manifold'] == 'rectangular': # rectangulaire (SPRING ou autre)\n",
    "    par['Ain'] = par['h_man']*par['l_man']\n",
    "    par['Aout'] = par['Ain']\n",
    "\n",
    "par['sch'] = 'exchanger'\n",
    "\n",
    "# 'Crane' or 'perso'\n",
    "par['method'] = 'Crane'"
   ]
  },
  {
   "cell_type": "code",
   "execution_count": 35,
   "metadata": {},
   "outputs": [
    {
     "data": {
      "text/plain": [
       "array([  60,  100,  300,  500,  800, 1000, 1300])"
      ]
     },
     "execution_count": 35,
     "metadata": {},
     "output_type": "execute_result"
    }
   ],
   "source": [
    "list_Q_L"
   ]
  },
  {
   "cell_type": "code",
   "execution_count": 36,
   "metadata": {},
   "outputs": [],
   "source": [
    "df_c = dic['V4.41'][1][1]"
   ]
  },
  {
   "cell_type": "code",
   "execution_count": 42,
   "metadata": {},
   "outputs": [
    {
     "data": {
      "text/plain": [
       "[<matplotlib.lines.Line2D at 0x20119d2f520>]"
      ]
     },
     "execution_count": 42,
     "metadata": {},
     "output_type": "execute_result"
    },
    {
     "data": {
      "image/png": "[encoded data removed]",
      "text/plain": [
       "<Figure size 640x480 with 1 Axes>"
      ]
     },
     "metadata": {},
     "output_type": "display_data"
    }
   ],
   "source": [
    "plt.plot(df_c['qx']/(1/3))"
   ]
  },
  {
   "cell_type": "code",
   "execution_count": 34,
   "metadata": {},
   "outputs": [
    {
     "data": {
      "text/plain": [
       "[            Pin          Pout        qx\n",
       " 0    401.469299  8.574853e-22  0.218457\n",
       " 1    401.469271  1.313465e-01  0.218215\n",
       " 2    401.469213  2.620959e-01  0.218009\n",
       " 3    401.469127  3.922605e-01  0.217824\n",
       " 4    401.469013  5.218479e-01  0.217649\n",
       " ..          ...           ...       ...\n",
       " 295  403.295573  1.931769e+01  0.187003\n",
       " 296  403.634597  1.931872e+01  0.187125\n",
       " 297  404.171043  1.931943e+01  0.187357\n",
       " 298  405.136580  1.931984e+01  0.187824\n",
       " 299  407.338706  1.931998e+01  0.188956\n",
       " \n",
       " [300 rows x 3 columns],\n",
       "             Pin          Pout        qx\n",
       " 0    686.519398 -6.589249e-23  0.384736\n",
       " 1    686.519230  3.748168e-01  0.384018\n",
       " 2    686.518934  7.476182e-01  0.383415\n",
       " 3    686.518511  1.118468e+00  0.382874\n",
       " 4    686.517960  1.487404e+00  0.382367\n",
       " ..          ...           ...       ...\n",
       " 295  688.805773  5.083036e+01  0.297713\n",
       " 296  689.736896  5.083290e+01  0.298050\n",
       " 297  691.214457  5.083464e+01  0.298688\n",
       " 298  693.881898  5.083562e+01  0.299973\n",
       " 299  699.991354  5.083596e+01  0.303096\n",
       " \n",
       " [300 rows x 3 columns],\n",
       "              Pin          Pout        qx\n",
       " 0    2370.685699  1.445744e-21  1.479821\n",
       " 1    2370.682101  4.181035e+00  1.470964\n",
       " 2    2370.676086  8.321416e+00  1.463806\n",
       " 3    2370.667686  1.242394e+01  1.457552\n",
       " 4    2370.656929  1.649030e+01  1.451817\n",
       " ..           ...           ...       ...\n",
       " 295  2366.292878  4.312101e+02  0.712786\n",
       " 296  2374.457828  4.312245e+02  0.715845\n",
       " 297  2387.435760  4.312345e+02  0.721456\n",
       " 298  2411.014858  4.312402e+02  0.732649\n",
       " 299  2465.973610  4.312421e+02  0.760212\n",
       " \n",
       " [300 rows x 3 columns],\n",
       "              Pin          Pout        qx\n",
       " 0    4591.431152 -4.393641e-22  3.036244\n",
       " 1    4591.415249  1.429494e+01  3.004099\n",
       " 2    4591.388959  2.838584e+01  2.979017\n",
       " 3    4591.352504  4.229185e+01  2.957652\n",
       " 4    4591.306074  5.602448e+01  2.938413\n",
       " ..           ...           ...       ...\n",
       " 295  4597.780310  1.191473e+03  0.966428\n",
       " 296  4619.942321  1.191501e+03  0.975015\n",
       " 297  4655.101410  1.191520e+03  0.990320\n",
       " 298  4719.330143  1.191531e+03  1.020616\n",
       " 299  4872.230745  1.191535e+03  1.096417\n",
       " \n",
       " [300 rows x 3 columns],\n",
       "              Pin          Pout        qx\n",
       " 0    9144.034980  3.200711e-20  6.221706\n",
       " 1    9143.967134  4.613148e+01  6.110556\n",
       " 2    9143.856194  9.129552e+01  6.027883\n",
       " 3    9143.703556  1.356128e+02  5.959891\n",
       " 4    9143.510406  1.791544e+02  5.900182\n",
       " ..           ...           ...       ...\n",
       " 295  9189.614161  3.035443e+03  1.156873\n",
       " 296  9242.708947  3.035485e+03  1.178218\n",
       " 297  9327.259360  3.035516e+03  1.215437\n",
       " 298  9484.348735  3.035535e+03  1.289281\n",
       " 299  9876.021756  3.035542e+03  1.481424\n",
       " \n",
       " [300 rows x 3 columns],\n",
       "               Pin          Pout        qx\n",
       " 0    13091.999846 -9.456454e-20  8.866030\n",
       " 1    13091.861993  8.140428e+01  8.664808\n",
       " 2    13091.637928  1.607582e+02  8.519252\n",
       " 3    13091.331029  2.383515e+02  8.401963\n",
       " 4    13090.944103  3.143532e+02  8.300456\n",
       " ..            ...           ...       ...\n",
       " 295  13173.017087  4.717867e+03  1.212387\n",
       " 296  13251.311608  4.717916e+03  1.244419\n",
       " 297  13376.552664  4.717953e+03  1.299887\n",
       " 298  13612.768623  4.717976e+03  1.410831\n",
       " 299  14224.921164  4.717986e+03  1.709634\n",
       " \n",
       " [300 rows x 3 columns],\n",
       "               Pin          Pout         qx\n",
       " 0    20499.461616 -8.432636e-20  13.502971\n",
       " 1    20499.143036  1.591515e+02  13.103913\n",
       " 2    20498.629282  3.133800e+02  12.825444\n",
       " 3    20497.929718  4.634810e+02  12.606851\n",
       " 4    20497.051925  6.099110e+02  12.421170\n",
       " ..            ...           ...        ...\n",
       " 295  20640.583246  7.921297e+03   1.243455\n",
       " 296  20759.977965  7.921355e+03   1.293180\n",
       " 297  20952.694192  7.921399e+03   1.379058\n",
       " 298  21326.102946  7.921430e+03   1.554217\n",
       " 299  22360.889102  7.921444e+03   2.055955\n",
       " \n",
       " [300 rows x 3 columns]]"
      ]
     },
     "execution_count": 34,
     "metadata": {},
     "output_type": "execute_result"
    }
   ],
   "source": [
    "df_c"
   ]
  },
  {
   "cell_type": "code",
   "execution_count": null,
   "metadata": {},
   "outputs": [],
   "source": [
    "# Test d'un seul débit\n",
    "\n",
    "# par['QF'] = 100/3600000 # m3/s (0.000278 m3/s = 1000 L/h) (le premier nombre est en L/h)\n",
    "# # Speed and Reynolds at inlet manifold\n",
    "# par['U'] = par['QF']/par['Ain']\n",
    "# par['Reman'] = par['U']*(par['rho']*par['Din'])/par['eta']\n",
    "# tabl,res = modf.PL_fsolve(par,par['sch'],True)"
   ]
  },
  {
   "cell_type": "code",
   "execution_count": 5,
   "metadata": {},
   "outputs": [],
   "source": [
    "dic = {}"
   ]
  },
  {
   "cell_type": "code",
   "execution_count": null,
   "metadata": {},
   "outputs": [],
   "source": []
  },
  {
   "cell_type": "code",
   "execution_count": 44,
   "metadata": {},
   "outputs": [
    {
     "name": "stdout",
     "output_type": "stream",
     "text": [
      "8.333333333333333e-05\n",
      "0.0001388888888888889\n",
      "0.00022222222222222223\n",
      "0.0002777777777777778\n"
     ]
    }
   ],
   "source": [
    "# list_Q_L = np.array([64,152,245,319,402,449,597,700,1000]) # L/h\n",
    "# list_Q_L = np.array([272,478,652,856,1094])\n",
    "list_Q_L = np.array([300,500,800,1000])\n",
    "list_Q = list_Q_L/3600000 # m3/s\n",
    "dic[\"V4.41_petit_mur_x4\"] = (sim.modf_parametric_flow_rates(par,list_Q))"
   ]
  },
  {
   "cell_type": "code",
   "execution_count": 45,
   "metadata": {},
   "outputs": [
    {
     "data": {
      "text/plain": [
       "4.766666666666667"
      ]
     },
     "execution_count": 45,
     "metadata": {},
     "output_type": "execute_result"
    }
   ],
   "source": [
    "286/60"
   ]
  },
  {
   "cell_type": "code",
   "execution_count": null,
   "metadata": {},
   "outputs": [],
   "source": [
    "list_PL_lin = []\n",
    "list_PL_bend = []\n",
    "list_Re = []\n",
    "\n",
    "for i in range(len(list_Q)):\n",
    "    u = (list_Q[i]/par[\"Ax\"])/par[\"N\"]\n",
    "\n",
    "    Re = fds.core.Reynolds(u,par[\"Dx\"],par[\"rho\"],mu=par[\"eta\"]) # viscosité dynamique mu ou eta\n",
    "\n",
    "    list_Re.append(Re)\n",
    "\n",
    "    f = fds.friction.friction_factor(Re = Re)\n",
    "    K = f*(par[\"Lx\"]/par[\"Dx\"])\n",
    "    list_PL_lin.append(((par[\"rho\"]/2)*K*u**2)/1000) # en kPa\n",
    "\n",
    "    # K2 = fds.fittings.bend_rounded_Crane(par[\"Dx\"],angle=90.,bend_diameters=2.)\n",
    "\n",
    "    # list_PL_bend.append((par[\"rho\"]/2)*K2*u**2)"
   ]
  },
  {
   "cell_type": "code",
   "execution_count": null,
   "metadata": {},
   "outputs": [],
   "source": [
    "list_Re = np.array(list_Re)"
   ]
  },
  {
   "cell_type": "code",
   "execution_count": null,
   "metadata": {},
   "outputs": [],
   "source": [
    "list_Q_M = [272,478,652,856,1094]\n",
    "list_PL_M = [0.485,0.977,1.336,1.941,2.8]"
   ]
  },
  {
   "cell_type": "code",
   "execution_count": 49,
   "metadata": {},
   "outputs": [
    {
     "data": {
      "application/vnd.plotly.v1+json": {
       "config": {
        "plotlyServerURL": "https://plot.ly"
       },
       "data": [
        {
         "mode": "markers",
         "name": "V4.41",
         "type": "scatter",
         "x": [
          300,
          500,
          800,
          1000
         ],
         "y": [
          0.4073387056054737,
          0.6999913538081304,
          2.4659736097704243,
          4.872230745325644,
          9.876021756307912,
          14.22492116366194,
          22.360889101740185
         ]
        },
        {
         "mode": "markers",
         "name": "4 V4.41",
         "type": "scatter",
         "x": [
          75,
          125,
          200,
          250
         ],
         "y": [
          1.2433844975308181,
          3.2407815699673264,
          7.974883663256609,
          12.29712775073815
         ]
        }
       ],
       "layout": {
        "annotations": [
         {
          "showarrow": false,
          "text": "Temperature = 25.0 °C, Pressure = 2 bar, glycol_level = 0.4%",
          "x": 0.05,
          "xref": "paper",
          "y": 0.9,
          "yref": "paper"
         }
        ],
        "autosize": false,
        "height": 500,
        "margin": {
         "b": 50,
         "l": 0,
         "pad": 1,
         "r": 0,
         "t": 50
        },
        "template": {
         "data": {
          "bar": [
           {
            "error_x": {
             "color": "#2a3f5f"
            },
            "error_y": {
             "color": "#2a3f5f"
            },
            "marker": {
             "line": {
              "color": "#E5ECF6",
              "width": 0.5
             },
             "pattern": {
              "fillmode": "overlay",
              "size": 10,
              "solidity": 0.2
             }
            },
            "type": "bar"
           }
          ],
          "barpolar": [
           {
            "marker": {
             "line": {
              "color": "#E5ECF6",
              "width": 0.5
             },
             "pattern": {
              "fillmode": "overlay",
              "size": 10,
              "solidity": 0.2
             }
            },
            "type": "barpolar"
           }
          ],
          "carpet": [
           {
            "aaxis": {
             "endlinecolor": "#2a3f5f",
             "gridcolor": "white",
             "linecolor": "white",
             "minorgridcolor": "white",
             "startlinecolor": "#2a3f5f"
            },
            "baxis": {
             "endlinecolor": "#2a3f5f",
             "gridcolor": "white",
             "linecolor": "white",
             "minorgridcolor": "white",
             "startlinecolor": "#2a3f5f"
            },
            "type": "carpet"
           }
          ],
          "choropleth": [
           {
            "colorbar": {
             "outlinewidth": 0,
             "ticks": ""
            },
            "type": "choropleth"
           }
          ],
          "contour": [
           {
            "colorbar": {
             "outlinewidth": 0,
             "ticks": ""
            },
            "colorscale": [
             [
              0,
              "#0d0887"
             ],
             [
              0.1111111111111111,
              "#46039f"
             ],
             [
              0.2222222222222222,
              "#7201a8"
             ],
             [
              0.3333333333333333,
              "#9c179e"
             ],
             [
              0.4444444444444444,
              "#bd3786"
             ],
             [
              0.5555555555555556,
              "#d8576b"
             ],
             [
              0.6666666666666666,
              "#ed7953"
             ],
             [
              0.7777777777777778,
              "#fb9f3a"
             ],
             [
              0.8888888888888888,
              "#fdca26"
             ],
             [
              1,
              "#f0f921"
             ]
            ],
            "type": "contour"
           }
          ],
          "contourcarpet": [
           {
            "colorbar": {
             "outlinewidth": 0,
             "ticks": ""
            },
            "type": "contourcarpet"
           }
          ],
          "heatmap": [
           {
            "colorbar": {
             "outlinewidth": 0,
             "ticks": ""
            },
            "colorscale": [
             [
              0,
              "#0d0887"
             ],
             [
              0.1111111111111111,
              "#46039f"
             ],
             [
              0.2222222222222222,
              "#7201a8"
             ],
             [
              0.3333333333333333,
              "#9c179e"
             ],
             [
              0.4444444444444444,
              "#bd3786"
             ],
             [
              0.5555555555555556,
              "#d8576b"
             ],
             [
              0.6666666666666666,
              "#ed7953"
             ],
             [
              0.7777777777777778,
              "#fb9f3a"
             ],
             [
              0.8888888888888888,
              "#fdca26"
             ],
             [
              1,
              "#f0f921"
             ]
            ],
            "type": "heatmap"
           }
          ],
          "heatmapgl": [
           {
            "colorbar": {
             "outlinewidth": 0,
             "ticks": ""
            },
            "colorscale": [
             [
              0,
              "#0d0887"
             ],
             [
              0.1111111111111111,
              "#46039f"
             ],
             [
              0.2222222222222222,
              "#7201a8"
             ],
             [
              0.3333333333333333,
              "#9c179e"
             ],
             [
              0.4444444444444444,
              "#bd3786"
             ],
             [
              0.5555555555555556,
              "#d8576b"
             ],
             [
              0.6666666666666666,
              "#ed7953"
             ],
             [
              0.7777777777777778,
              "#fb9f3a"
             ],
             [
              0.8888888888888888,
              "#fdca26"
             ],
             [
              1,
              "#f0f921"
             ]
            ],
            "type": "heatmapgl"
           }
          ],
          "histogram": [
           {
            "marker": {
             "pattern": {
              "fillmode": "overlay",
              "size": 10,
              "solidity": 0.2
             }
            },
            "type": "histogram"
           }
          ],
          "histogram2d": [
           {
            "colorbar": {
             "outlinewidth": 0,
             "ticks": ""
            },
            "colorscale": [
             [
              0,
              "#0d0887"
             ],
             [
              0.1111111111111111,
              "#46039f"
             ],
             [
              0.2222222222222222,
              "#7201a8"
             ],
             [
              0.3333333333333333,
              "#9c179e"
             ],
             [
              0.4444444444444444,
              "#bd3786"
             ],
             [
              0.5555555555555556,
              "#d8576b"
             ],
             [
              0.6666666666666666,
              "#ed7953"
             ],
             [
              0.7777777777777778,
              "#fb9f3a"
             ],
             [
              0.8888888888888888,
              "#fdca26"
             ],
             [
              1,
              "#f0f921"
             ]
            ],
            "type": "histogram2d"
           }
          ],
          "histogram2dcontour": [
           {
            "colorbar": {
             "outlinewidth": 0,
             "ticks": ""
            },
            "colorscale": [
             [
              0,
              "#0d0887"
             ],
             [
              0.1111111111111111,
              "#46039f"
             ],
             [
              0.2222222222222222,
              "#7201a8"
             ],
             [
              0.3333333333333333,
              "#9c179e"
             ],
             [
              0.4444444444444444,
              "#bd3786"
             ],
             [
              0.5555555555555556,
              "#d8576b"
             ],
             [
              0.6666666666666666,
              "#ed7953"
             ],
             [
              0.7777777777777778,
              "#fb9f3a"
             ],
             [
              0.8888888888888888,
              "#fdca26"
             ],
             [
              1,
              "#f0f921"
             ]
            ],
            "type": "histogram2dcontour"
           }
          ],
          "mesh3d": [
           {
            "colorbar": {
             "outlinewidth": 0,
             "ticks": ""
            },
            "type": "mesh3d"
           }
          ],
          "parcoords": [
           {
            "line": {
             "colorbar": {
              "outlinewidth": 0,
              "ticks": ""
             }
            },
            "type": "parcoords"
           }
          ],
          "pie": [
           {
            "automargin": true,
            "type": "pie"
           }
          ],
          "scatter": [
           {
            "fillpattern": {
             "fillmode": "overlay",
             "size": 10,
             "solidity": 0.2
            },
            "type": "scatter"
           }
          ],
          "scatter3d": [
           {
            "line": {
             "colorbar": {
              "outlinewidth": 0,
              "ticks": ""
             }
            },
            "marker": {
             "colorbar": {
              "outlinewidth": 0,
              "ticks": ""
             }
            },
            "type": "scatter3d"
           }
          ],
          "scattercarpet": [
           {
            "marker": {
             "colorbar": {
              "outlinewidth": 0,
              "ticks": ""
             }
            },
            "type": "scattercarpet"
           }
          ],
          "scattergeo": [
           {
            "marker": {
             "colorbar": {
              "outlinewidth": 0,
              "ticks": ""
             }
            },
            "type": "scattergeo"
           }
          ],
          "scattergl": [
           {
            "marker": {
             "colorbar": {
              "outlinewidth": 0,
              "ticks": ""
             }
            },
            "type": "scattergl"
           }
          ],
          "scattermapbox": [
           {
            "marker": {
             "colorbar": {
              "outlinewidth": 0,
              "ticks": ""
             }
            },
            "type": "scattermapbox"
           }
          ],
          "scatterpolar": [
           {
            "marker": {
             "colorbar": {
              "outlinewidth": 0,
              "ticks": ""
             }
            },
            "type": "scatterpolar"
           }
          ],
          "scatterpolargl": [
           {
            "marker": {
             "colorbar": {
              "outlinewidth": 0,
              "ticks": ""
             }
            },
            "type": "scatterpolargl"
           }
          ],
          "scatterternary": [
           {
            "marker": {
             "colorbar": {
              "outlinewidth": 0,
              "ticks": ""
             }
            },
            "type": "scatterternary"
           }
          ],
          "surface": [
           {
            "colorbar": {
             "outlinewidth": 0,
             "ticks": ""
            },
            "colorscale": [
             [
              0,
              "#0d0887"
             ],
             [
              0.1111111111111111,
              "#46039f"
             ],
             [
              0.2222222222222222,
              "#7201a8"
             ],
             [
              0.3333333333333333,
              "#9c179e"
             ],
             [
              0.4444444444444444,
              "#bd3786"
             ],
             [
              0.5555555555555556,
              "#d8576b"
             ],
             [
              0.6666666666666666,
              "#ed7953"
             ],
             [
              0.7777777777777778,
              "#fb9f3a"
             ],
             [
              0.8888888888888888,
              "#fdca26"
             ],
             [
              1,
              "#f0f921"
             ]
            ],
            "type": "surface"
           }
          ],
          "table": [
           {
            "cells": {
             "fill": {
              "color": "#EBF0F8"
             },
             "line": {
              "color": "white"
             }
            },
            "header": {
             "fill": {
              "color": "#C8D4E3"
             },
             "line": {
              "color": "white"
             }
            },
            "type": "table"
           }
          ]
         },
         "layout": {
          "annotationdefaults": {
           "arrowcolor": "#2a3f5f",
           "arrowhead": 0,
           "arrowwidth": 1
          },
          "autotypenumbers": "strict",
          "coloraxis": {
           "colorbar": {
            "outlinewidth": 0,
            "ticks": ""
           }
          },
          "colorscale": {
           "diverging": [
            [
             0,
             "#8e0152"
            ],
            [
             0.1,
             "#c51b7d"
            ],
            [
             0.2,
             "#de77ae"
            ],
            [
             0.3,
             "#f1b6da"
            ],
            [
             0.4,
             "#fde0ef"
            ],
            [
             0.5,
             "#f7f7f7"
            ],
            [
             0.6,
             "#e6f5d0"
            ],
            [
             0.7,
             "#b8e186"
            ],
            [
             0.8,
             "#7fbc41"
            ],
            [
             0.9,
             "#4d9221"
            ],
            [
             1,
             "#276419"
            ]
           ],
           "sequential": [
            [
             0,
             "#0d0887"
            ],
            [
             0.1111111111111111,
             "#46039f"
            ],
            [
             0.2222222222222222,
             "#7201a8"
            ],
            [
             0.3333333333333333,
             "#9c179e"
            ],
            [
             0.4444444444444444,
             "#bd3786"
            ],
            [
             0.5555555555555556,
             "#d8576b"
            ],
            [
             0.6666666666666666,
             "#ed7953"
            ],
            [
             0.7777777777777778,
             "#fb9f3a"
            ],
            [
             0.8888888888888888,
             "#fdca26"
            ],
            [
             1,
             "#f0f921"
            ]
           ],
           "sequentialminus": [
            [
             0,
             "#0d0887"
            ],
            [
             0.1111111111111111,
             "#46039f"
            ],
            [
             0.2222222222222222,
             "#7201a8"
            ],
            [
             0.3333333333333333,
             "#9c179e"
            ],
            [
             0.4444444444444444,
             "#bd3786"
            ],
            [
             0.5555555555555556,
             "#d8576b"
            ],
            [
             0.6666666666666666,
             "#ed7953"
            ],
            [
             0.7777777777777778,
             "#fb9f3a"
            ],
            [
             0.8888888888888888,
             "#fdca26"
            ],
            [
             1,
             "#f0f921"
            ]
           ]
          },
          "colorway": [
           "#636efa",
           "#EF553B",
           "#00cc96",
           "#ab63fa",
           "#FFA15A",
           "#19d3f3",
           "#FF6692",
           "#B6E880",
           "#FF97FF",
           "#FECB52"
          ],
          "font": {
           "color": "#2a3f5f"
          },
          "geo": {
           "bgcolor": "white",
           "lakecolor": "white",
           "landcolor": "#E5ECF6",
           "showlakes": true,
           "showland": true,
           "subunitcolor": "white"
          },
          "hoverlabel": {
           "align": "left"
          },
          "hovermode": "closest",
          "mapbox": {
           "style": "light"
          },
          "paper_bgcolor": "white",
          "plot_bgcolor": "#E5ECF6",
          "polar": {
           "angularaxis": {
            "gridcolor": "white",
            "linecolor": "white",
            "ticks": ""
           },
           "bgcolor": "#E5ECF6",
           "radialaxis": {
            "gridcolor": "white",
            "linecolor": "white",
            "ticks": ""
           }
          },
          "scene": {
           "xaxis": {
            "backgroundcolor": "#E5ECF6",
            "gridcolor": "white",
            "gridwidth": 2,
            "linecolor": "white",
            "showbackground": true,
            "ticks": "",
            "zerolinecolor": "white"
           },
           "yaxis": {
            "backgroundcolor": "#E5ECF6",
            "gridcolor": "white",
            "gridwidth": 2,
            "linecolor": "white",
            "showbackground": true,
            "ticks": "",
            "zerolinecolor": "white"
           },
           "zaxis": {
            "backgroundcolor": "#E5ECF6",
            "gridcolor": "white",
            "gridwidth": 2,
            "linecolor": "white",
            "showbackground": true,
            "ticks": "",
            "zerolinecolor": "white"
           }
          },
          "shapedefaults": {
           "line": {
            "color": "#2a3f5f"
           }
          },
          "ternary": {
           "aaxis": {
            "gridcolor": "white",
            "linecolor": "white",
            "ticks": ""
           },
           "baxis": {
            "gridcolor": "white",
            "linecolor": "white",
            "ticks": ""
           },
           "bgcolor": "#E5ECF6",
           "caxis": {
            "gridcolor": "white",
            "linecolor": "white",
            "ticks": ""
           }
          },
          "title": {
           "x": 0.05
          },
          "xaxis": {
           "automargin": true,
           "gridcolor": "white",
           "linecolor": "white",
           "ticks": "",
           "title": {
            "standoff": 15
           },
           "zerolinecolor": "white",
           "zerolinewidth": 2
          },
          "yaxis": {
           "automargin": true,
           "gridcolor": "white",
           "linecolor": "white",
           "ticks": "",
           "title": {
            "standoff": 15
           },
           "zerolinecolor": "white",
           "zerolinewidth": 2
          }
         }
        },
        "width": 1000,
        "xaxis": {
         "title": {
          "text": "Flow rate (L/h)"
         }
        },
        "xaxis2": {
         "anchor": "y",
         "overlaying": "x",
         "side": "top",
         "title": {
          "text": "Reynolds"
         }
        },
        "yaxis": {
         "title": {
          "text": "Pressure loss (kPa)"
         }
        }
       }
      }
     },
     "metadata": {},
     "output_type": "display_data"
    }
   ],
   "source": [
    "fig = go.Figure()\n",
    "\n",
    "# Add traces\n",
    "fig.add_trace(go.Scatter(x=list_Q_L, y=np.array(dic[\"V4.41\"][0]),\n",
    "                    mode='markers',\n",
    "                    name='V4.41'))\n",
    "\n",
    "fig.add_trace(go.Scatter(x=list_Q_L/4, y=np.array(dic[\"V4.41_petit_mur_x4\"][0]),\n",
    "                    mode='markers',\n",
    "                    name='4 V4.41'))\n",
    "# fig.add_trace(go.Scatter(x=list_Q_L, y=list_PL_M,\n",
    "#                     mode='markers',\n",
    "#                     name='MICOE datasheet'))\n",
    "# fig.add_trace(go.Scatter(x=list_Re, y=np.array(list_PL_lin),\n",
    "#                     mode='markers',\n",
    "#                     name='MICOE lin',xaxis='x2'))\n",
    "\n",
    "    # Set x-axis title\n",
    "fig.update_xaxes(title_text=\"Time\")\n",
    "\n",
    "fig.update_layout(\n",
    "    \n",
    "    yaxis=dict(\n",
    "    title='Pressure loss (kPa)'),\n",
    "    \n",
    "    xaxis=dict(title=\"Flow rate (L/h)\"),\n",
    "\n",
    "    xaxis2={'title':'Reynolds','anchor': 'y', 'overlaying': 'x', 'side': 'top'}\n",
    "    \n",
    "    )\n",
    "\n",
    "# fig.update_layout(\n",
    "#     xaxis1=dict(range=[list_Q_L.min(), list_Q_L.max()]),\n",
    "#     xaxis2=dict(range=[list_Re.min(), list_Re.max()]),\n",
    "#     )\n",
    "\n",
    "fig.update_layout(\n",
    "    autosize=False,\n",
    "    width=1000,\n",
    "    height=500,\n",
    "    margin=dict(\n",
    "        l=0,\n",
    "        r=0,\n",
    "        b=50,\n",
    "        t=50,\n",
    "        pad=1\n",
    "    ),\n",
    ")\n",
    "\n",
    "fig.add_annotation(text=f\"Temperature = {T-273.15} °C, Pressure = {p_bar} bar, glycol_level = {glycol_rate}%\",\n",
    "                  xref=\"paper\", yref=\"paper\",\n",
    "                  x=0.05, y=0.9, showarrow=False)\n",
    "\n",
    "fig.show()"
   ]
  },
  {
   "cell_type": "code",
   "execution_count": 46,
   "metadata": {},
   "outputs": [],
   "source": [
    "df = pd.DataFrame()\n",
    "df['Flow_rate_nom'] = list_Q_L\n",
    "df['DP'] = dic['V4.41_petit_mur_x4'][0]"
   ]
  },
  {
   "cell_type": "code",
   "execution_count": 47,
   "metadata": {},
   "outputs": [],
   "source": [
    "df.to_csv('modelV4_petit_mur_x4.csv')"
   ]
  },
  {
   "cell_type": "code",
   "execution_count": null,
   "metadata": {},
   "outputs": [],
   "source": [
    "pprint.pprint(par)"
   ]
  }
 ],
 "metadata": {
  "kernelspec": {
   "display_name": "model23",
   "language": "python",
   "name": "python3"
  },
  "language_info": {
   "codemirror_mode": {
    "name": "ipython",
    "version": 3
   },
   "file_extension": ".py",
   "mimetype": "text/x-python",
   "name": "python",
   "nbconvert_exporter": "python",
   "pygments_lexer": "ipython3",
   "version": "3.10.5"
  },
  "orig_nbformat": 4
 },
 "nbformat": 4,
 "nbformat_minor": 2
}
