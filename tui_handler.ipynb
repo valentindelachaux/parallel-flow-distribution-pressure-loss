{
 "cells": [
  {
   "cell_type": "code",
   "execution_count": 1,
   "metadata": {},
   "outputs": [],
   "source": [
    "import os \n",
    "import numpy as np\n",
    "import pandas as pd\n",
    "\n",
    "import openpyxl\n",
    "\n",
    "import jou_gen as jg"
   ]
  },
  {
   "cell_type": "code",
   "execution_count": null,
   "metadata": {},
   "outputs": [],
   "source": [
    "report_type = 'mdot'\n",
    "name = 'create_report_'+report_type+'_2'"
   ]
  },
  {
   "cell_type": "code",
   "execution_count": null,
   "metadata": {},
   "outputs": [],
   "source": [
    "bc_df = pd.read_csv(r'D:\\ANSYS Fluent Projects\\Hydraulics\\V4.5\\3MPE_woch\\TUI\\bc_list.csv', sep=';')\n",
    "bc_df['BC_ID'] = bc_df.index.astype(str)\n",
    "bc_df['REPORT_NAME'] = bc_df['name'] + \"_\"+report_type"
   ]
  },
  {
   "cell_type": "code",
   "execution_count": null,
   "metadata": {},
   "outputs": [],
   "source": [
    "selected_rows = bc_df[bc_df['name'].str.startswith('coll_ch')]\n",
    "selected_rows = selected_rows[~selected_rows['name'].str.contains('coll_channels')]"
   ]
  },
  {
   "cell_type": "code",
   "execution_count": null,
   "metadata": {},
   "outputs": [],
   "source": [
    "len(selected_rows)"
   ]
  },
  {
   "cell_type": "code",
   "execution_count": null,
   "metadata": {},
   "outputs": [],
   "source": [
    "jg.create_folder(r'D:\\ANSYS Fluent Projects\\Hydraulics\\V4.5\\3MPE_woch\\TUI'+'\\\\'+name)"
   ]
  },
  {
   "cell_type": "code",
   "execution_count": null,
   "metadata": {},
   "outputs": [],
   "source": [
    "for index, row in selected_rows.iterrows():\n",
    "    # Access the values of each row using row['column_name']\n",
    "    input_file = r'D:\\ANSYS Fluent Projects\\Hydraulics\\V4.5\\3MPE_woch\\TUI'+'\\\\'+f'{name}_template.txt'\n",
    "    output_file = r'D:\\ANSYS Fluent Projects\\Hydraulics\\V4.5\\3MPE_woch\\TUI'+'\\\\'+name+'\\\\'+f'{name}_' + str(index) + '.txt'\n",
    "    jg.process_file(input_file, output_file, bc_df, index)"
   ]
  },
  {
   "cell_type": "code",
   "execution_count": null,
   "metadata": {},
   "outputs": [],
   "source": [
    "folder_path = r'D:\\ANSYS Fluent Projects\\Hydraulics\\V4.5\\3MPE_woch\\TUI'+'\\\\'+name\n",
    "output_file = r'D:\\ANSYS Fluent Projects\\Hydraulics\\V4.5\\3MPE_woch'+'\\\\'+'tui_'+name+'.txt'\n",
    "jg.concatenate_txt_files(folder_path, output_file)"
   ]
  },
  {
   "cell_type": "code",
   "execution_count": null,
   "metadata": {},
   "outputs": [],
   "source": [
    "jg.delete_folder(r'D:\\ANSYS Fluent Projects\\Hydraulics\\V4.5\\3MPE_woch\\TUI'+'\\\\'+name)"
   ]
  },
  {
   "cell_type": "code",
   "execution_count": null,
   "metadata": {},
   "outputs": [],
   "source": [
    "df = jg.create_dataframe_from_complex_text_file(r'D:\\ANSYS Fluent Projects\\Hydraulics\\V4.5\\3MPE_woch\\bc_table.txt')"
   ]
  },
  {
   "cell_type": "code",
   "execution_count": null,
   "metadata": {},
   "outputs": [],
   "source": [
    "file_path = r'D:\\ANSYS Fluent Projects\\Hydraulics\\V4.5\\3MPE_woch\\tui_bc_mdot.txt'\n",
    "\n",
    "with open(file_path, 'w') as file:\n",
    "    for i in range(1, 49):\n",
    "        line = f'define/boundary-conditions/mass-flow-inlet mass-flow-inlet coll_ch{i} yes yes no \"distrib_ch{i}_mdot * (-1)\" no 0 no yes\\n'\n",
    "        file.write(line)"
   ]
  },
  {
   "cell_type": "code",
   "execution_count": null,
   "metadata": {},
   "outputs": [],
   "source": [
    "file_path = r'D:\\ANSYS Fluent Projects\\Hydraulics\\V4.5\\3MPE_woch\\tui_bc_pressure-outlet.txt'\n",
    "\n",
    "with open(file_path, 'w') as file:\n",
    "    for i in range(1, 49):\n",
    "        line = f'define/boundary-conditions/pressure-outlet distrib_ch{i} yes no \"coll_ch{i}_sp\" no yes yes no no no\\n'\n",
    "        file.write(line)"
   ]
  },
  {
   "cell_type": "code",
   "execution_count": null,
   "metadata": {},
   "outputs": [],
   "source": [
    "\"define/boundary-conditions/pressure-outlet distrib_ch1 yes no \\\" \\{\""
   ]
  },
  {
   "cell_type": "code",
   "execution_count": null,
   "metadata": {},
   "outputs": [],
   "source": [
    "file_path = r'D:\\ANSYS Fluent Projects\\Hydraulics\\V4.5\\3MPE_woch\\tui_bc_pressure-outlet_with_regular_PL.txt'\n",
    "\n",
    "with open(file_path, 'w') as file:\n",
    "    for i in range(1, 49):\n",
    "        line = f\"define/boundary-conditions/pressure-outlet distrib_ch{i} yes no \\\"{{coll_ch{i}_sp}} + 1323000 [Pa s / kg] * {{coll_ch{i}_mdot}}\\\" no yes yes no no no\\n\"\n",
    "        file.write(line)"
   ]
  },
  {
   "cell_type": "code",
   "execution_count": null,
   "metadata": {},
   "outputs": [],
   "source": [
    "string = \"\"\n",
    "for i in range(1, 49):\n",
    "    string += \"{\" + f\"distrib_ch{i}_mdot\" + \"} + \"\n",
    "string = string.rstrip(\" + \")"
   ]
  },
  {
   "cell_type": "code",
   "execution_count": null,
   "metadata": {},
   "outputs": [],
   "source": [
    "string"
   ]
  },
  {
   "cell_type": "code",
   "execution_count": null,
   "metadata": {},
   "outputs": [],
   "source": [
    "string = \"\"\n",
    "for i in range(1, 49):\n",
    "    string += \"{\" + f\"coll_ch{i}_mdot\" + \"} + \"\n",
    "string = string.rstrip(\" + \")"
   ]
  },
  {
   "cell_type": "code",
   "execution_count": 2,
   "metadata": {},
   "outputs": [],
   "source": [
    "df = pd.read_excel(r'D:\\ANSYS Fluent Projects\\Hydraulics\\V4.5\\1MPE\\tui-parametric.xlsx')"
   ]
  },
  {
   "cell_type": "code",
   "execution_count": 10,
   "metadata": {},
   "outputs": [],
   "source": [
    "df.rename(columns={x : f'VAR_{x}' for x in list(df.columns)[5:]},inplace=True)"
   ]
  },
  {
   "cell_type": "code",
   "execution_count": 11,
   "metadata": {},
   "outputs": [
    {
     "data": {
      "text/html": [
       "<div>\n",
       "<style scoped>\n",
       "    .dataframe tbody tr th:only-of-type {\n",
       "        vertical-align: middle;\n",
       "    }\n",
       "\n",
       "    .dataframe tbody tr th {\n",
       "        vertical-align: top;\n",
       "    }\n",
       "\n",
       "    .dataframe thead th {\n",
       "        text-align: right;\n",
       "    }\n",
       "</style>\n",
       "<table border=\"1\" class=\"dataframe\">\n",
       "  <thead>\n",
       "    <tr style=\"text-align: right;\">\n",
       "      <th></th>\n",
       "      <th>Name</th>\n",
       "      <th>Vdot_max</th>\n",
       "      <th>Q_max</th>\n",
       "      <th>distrib_inlet_mdot/Q_max</th>\n",
       "      <th>alpha</th>\n",
       "      <th>VAR_distrib_inlet_mdot</th>\n",
       "      <th>VAR_coll_inlet_mdot</th>\n",
       "      <th>VAR_distrib_outlet_mdot</th>\n",
       "      <th>VAR_nb_it</th>\n",
       "      <th>VAR_pressure_report</th>\n",
       "      <th>VAR_mdot_report</th>\n",
       "      <th>VAR_residuals_report</th>\n",
       "      <th>VAR_datafile_name</th>\n",
       "    </tr>\n",
       "  </thead>\n",
       "  <tbody>\n",
       "    <tr>\n",
       "      <th>0</th>\n",
       "      <td>DP1</td>\n",
       "      <td>100</td>\n",
       "      <td>0.027778</td>\n",
       "      <td>0.1</td>\n",
       "      <td>0.05</td>\n",
       "      <td>0.002778</td>\n",
       "      <td>0.025000</td>\n",
       "      <td>0.002639</td>\n",
       "      <td>200</td>\n",
       "      <td>DP1_pressure_report</td>\n",
       "      <td>DP1_mdot_report</td>\n",
       "      <td>DP1_residuals_report</td>\n",
       "      <td>DP1_datafile</td>\n",
       "    </tr>\n",
       "    <tr>\n",
       "      <th>1</th>\n",
       "      <td>DP2</td>\n",
       "      <td>100</td>\n",
       "      <td>0.027778</td>\n",
       "      <td>0.1</td>\n",
       "      <td>0.25</td>\n",
       "      <td>0.002778</td>\n",
       "      <td>0.025000</td>\n",
       "      <td>0.002083</td>\n",
       "      <td>200</td>\n",
       "      <td>DP2_pressure_report</td>\n",
       "      <td>DP2_mdot_report</td>\n",
       "      <td>DP2_residuals_report</td>\n",
       "      <td>DP2_datafile</td>\n",
       "    </tr>\n",
       "    <tr>\n",
       "      <th>2</th>\n",
       "      <td>DP3</td>\n",
       "      <td>100</td>\n",
       "      <td>0.027778</td>\n",
       "      <td>0.1</td>\n",
       "      <td>0.50</td>\n",
       "      <td>0.002778</td>\n",
       "      <td>0.025000</td>\n",
       "      <td>0.001389</td>\n",
       "      <td>200</td>\n",
       "      <td>DP3_pressure_report</td>\n",
       "      <td>DP3_mdot_report</td>\n",
       "      <td>DP3_residuals_report</td>\n",
       "      <td>DP3_datafile</td>\n",
       "    </tr>\n",
       "    <tr>\n",
       "      <th>3</th>\n",
       "      <td>DP4</td>\n",
       "      <td>100</td>\n",
       "      <td>0.027778</td>\n",
       "      <td>0.1</td>\n",
       "      <td>0.75</td>\n",
       "      <td>0.002778</td>\n",
       "      <td>0.025000</td>\n",
       "      <td>0.000694</td>\n",
       "      <td>200</td>\n",
       "      <td>DP4_pressure_report</td>\n",
       "      <td>DP4_mdot_report</td>\n",
       "      <td>DP4_residuals_report</td>\n",
       "      <td>DP4_datafile</td>\n",
       "    </tr>\n",
       "    <tr>\n",
       "      <th>4</th>\n",
       "      <td>DP5</td>\n",
       "      <td>100</td>\n",
       "      <td>0.027778</td>\n",
       "      <td>0.1</td>\n",
       "      <td>0.95</td>\n",
       "      <td>0.002778</td>\n",
       "      <td>0.025000</td>\n",
       "      <td>0.000139</td>\n",
       "      <td>200</td>\n",
       "      <td>DP5_pressure_report</td>\n",
       "      <td>DP5_mdot_report</td>\n",
       "      <td>DP5_residuals_report</td>\n",
       "      <td>DP5_datafile</td>\n",
       "    </tr>\n",
       "    <tr>\n",
       "      <th>...</th>\n",
       "      <td>...</td>\n",
       "      <td>...</td>\n",
       "      <td>...</td>\n",
       "      <td>...</td>\n",
       "      <td>...</td>\n",
       "      <td>...</td>\n",
       "      <td>...</td>\n",
       "      <td>...</td>\n",
       "      <td>...</td>\n",
       "      <td>...</td>\n",
       "      <td>...</td>\n",
       "      <td>...</td>\n",
       "      <td>...</td>\n",
       "    </tr>\n",
       "    <tr>\n",
       "      <th>95</th>\n",
       "      <td>DP96</td>\n",
       "      <td>600</td>\n",
       "      <td>0.166667</td>\n",
       "      <td>0.9</td>\n",
       "      <td>0.05</td>\n",
       "      <td>0.150000</td>\n",
       "      <td>0.016667</td>\n",
       "      <td>0.142500</td>\n",
       "      <td>350</td>\n",
       "      <td>DP96_pressure_report</td>\n",
       "      <td>DP96_mdot_report</td>\n",
       "      <td>DP96_residuals_report</td>\n",
       "      <td>DP96_datafile</td>\n",
       "    </tr>\n",
       "    <tr>\n",
       "      <th>96</th>\n",
       "      <td>DP97</td>\n",
       "      <td>600</td>\n",
       "      <td>0.166667</td>\n",
       "      <td>0.9</td>\n",
       "      <td>0.25</td>\n",
       "      <td>0.150000</td>\n",
       "      <td>0.016667</td>\n",
       "      <td>0.112500</td>\n",
       "      <td>350</td>\n",
       "      <td>DP97_pressure_report</td>\n",
       "      <td>DP97_mdot_report</td>\n",
       "      <td>DP97_residuals_report</td>\n",
       "      <td>DP97_datafile</td>\n",
       "    </tr>\n",
       "    <tr>\n",
       "      <th>97</th>\n",
       "      <td>DP98</td>\n",
       "      <td>600</td>\n",
       "      <td>0.166667</td>\n",
       "      <td>0.9</td>\n",
       "      <td>0.50</td>\n",
       "      <td>0.150000</td>\n",
       "      <td>0.016667</td>\n",
       "      <td>0.075000</td>\n",
       "      <td>350</td>\n",
       "      <td>DP98_pressure_report</td>\n",
       "      <td>DP98_mdot_report</td>\n",
       "      <td>DP98_residuals_report</td>\n",
       "      <td>DP98_datafile</td>\n",
       "    </tr>\n",
       "    <tr>\n",
       "      <th>98</th>\n",
       "      <td>DP99</td>\n",
       "      <td>600</td>\n",
       "      <td>0.166667</td>\n",
       "      <td>0.9</td>\n",
       "      <td>0.75</td>\n",
       "      <td>0.150000</td>\n",
       "      <td>0.016667</td>\n",
       "      <td>0.037500</td>\n",
       "      <td>350</td>\n",
       "      <td>DP99_pressure_report</td>\n",
       "      <td>DP99_mdot_report</td>\n",
       "      <td>DP99_residuals_report</td>\n",
       "      <td>DP99_datafile</td>\n",
       "    </tr>\n",
       "    <tr>\n",
       "      <th>99</th>\n",
       "      <td>DP100</td>\n",
       "      <td>600</td>\n",
       "      <td>0.166667</td>\n",
       "      <td>0.9</td>\n",
       "      <td>0.95</td>\n",
       "      <td>0.150000</td>\n",
       "      <td>0.016667</td>\n",
       "      <td>0.007500</td>\n",
       "      <td>350</td>\n",
       "      <td>DP100_pressure_report</td>\n",
       "      <td>DP100_mdot_report</td>\n",
       "      <td>DP100_residuals_report</td>\n",
       "      <td>DP100_datafile</td>\n",
       "    </tr>\n",
       "  </tbody>\n",
       "</table>\n",
       "<p>100 rows × 13 columns</p>\n",
       "</div>"
      ],
      "text/plain": [
       "     Name  Vdot_max     Q_max  distrib_inlet_mdot/Q_max  alpha  \\\n",
       "0     DP1       100  0.027778                       0.1   0.05   \n",
       "1     DP2       100  0.027778                       0.1   0.25   \n",
       "2     DP3       100  0.027778                       0.1   0.50   \n",
       "3     DP4       100  0.027778                       0.1   0.75   \n",
       "4     DP5       100  0.027778                       0.1   0.95   \n",
       "..    ...       ...       ...                       ...    ...   \n",
       "95   DP96       600  0.166667                       0.9   0.05   \n",
       "96   DP97       600  0.166667                       0.9   0.25   \n",
       "97   DP98       600  0.166667                       0.9   0.50   \n",
       "98   DP99       600  0.166667                       0.9   0.75   \n",
       "99  DP100       600  0.166667                       0.9   0.95   \n",
       "\n",
       "    VAR_distrib_inlet_mdot  VAR_coll_inlet_mdot  VAR_distrib_outlet_mdot  \\\n",
       "0                 0.002778             0.025000                 0.002639   \n",
       "1                 0.002778             0.025000                 0.002083   \n",
       "2                 0.002778             0.025000                 0.001389   \n",
       "3                 0.002778             0.025000                 0.000694   \n",
       "4                 0.002778             0.025000                 0.000139   \n",
       "..                     ...                  ...                      ...   \n",
       "95                0.150000             0.016667                 0.142500   \n",
       "96                0.150000             0.016667                 0.112500   \n",
       "97                0.150000             0.016667                 0.075000   \n",
       "98                0.150000             0.016667                 0.037500   \n",
       "99                0.150000             0.016667                 0.007500   \n",
       "\n",
       "    VAR_nb_it    VAR_pressure_report    VAR_mdot_report  \\\n",
       "0         200    DP1_pressure_report    DP1_mdot_report   \n",
       "1         200    DP2_pressure_report    DP2_mdot_report   \n",
       "2         200    DP3_pressure_report    DP3_mdot_report   \n",
       "3         200    DP4_pressure_report    DP4_mdot_report   \n",
       "4         200    DP5_pressure_report    DP5_mdot_report   \n",
       "..        ...                    ...                ...   \n",
       "95        350   DP96_pressure_report   DP96_mdot_report   \n",
       "96        350   DP97_pressure_report   DP97_mdot_report   \n",
       "97        350   DP98_pressure_report   DP98_mdot_report   \n",
       "98        350   DP99_pressure_report   DP99_mdot_report   \n",
       "99        350  DP100_pressure_report  DP100_mdot_report   \n",
       "\n",
       "      VAR_residuals_report VAR_datafile_name  \n",
       "0     DP1_residuals_report      DP1_datafile  \n",
       "1     DP2_residuals_report      DP2_datafile  \n",
       "2     DP3_residuals_report      DP3_datafile  \n",
       "3     DP4_residuals_report      DP4_datafile  \n",
       "4     DP5_residuals_report      DP5_datafile  \n",
       "..                     ...               ...  \n",
       "95   DP96_residuals_report     DP96_datafile  \n",
       "96   DP97_residuals_report     DP97_datafile  \n",
       "97   DP98_residuals_report     DP98_datafile  \n",
       "98   DP99_residuals_report     DP99_datafile  \n",
       "99  DP100_residuals_report    DP100_datafile  \n",
       "\n",
       "[100 rows x 13 columns]"
      ]
     },
     "execution_count": 11,
     "metadata": {},
     "output_type": "execute_result"
    }
   ],
   "source": [
    "df"
   ]
  },
  {
   "cell_type": "code",
   "execution_count": 17,
   "metadata": {},
   "outputs": [
    {
     "data": {
      "text/plain": [
       "Name                         object\n",
       "Vdot_max                      int64\n",
       "Q_max                       float64\n",
       "distrib_inlet_mdot/Q_max    float64\n",
       "alpha                       float64\n",
       "VAR_distrib_inlet_mdot      float64\n",
       "VAR_coll_inlet_mdot         float64\n",
       "VAR_distrib_outlet_mdot     float64\n",
       "VAR_nb_it                     int64\n",
       "VAR_pressure_report          object\n",
       "VAR_mdot_report              object\n",
       "VAR_residuals_report         object\n",
       "VAR_datafile_name            object\n",
       "dtype: object"
      ]
     },
     "execution_count": 17,
     "metadata": {},
     "output_type": "execute_result"
    }
   ],
   "source": [
    "df.dtypes"
   ]
  },
  {
   "cell_type": "code",
   "execution_count": 28,
   "metadata": {},
   "outputs": [],
   "source": [
    "def generate_script(df, template, output_filename):\n",
    "    with open(output_filename, 'w') as file:\n",
    "        flag=0\n",
    "        for index, row in df.iterrows():\n",
    "            paragraph = template\n",
    "\n",
    "            for var in ['VAR_coll_inlet_mdot', 'VAR_distrib_inlet_mdot', 'VAR_distrib_outlet_mdot', 'VAR_nb_it', 'VAR_pressure_report', 'VAR_mdot_report', 'VAR_residuals_report', 'VAR_datafile_name']:\n",
    "                paragraph = paragraph.replace(var, str(row[var]))\n",
    "            file.write(paragraph + '\\n\\n')\n",
    "\n",
    "            if index >= 1 and df.loc[index]['Q_max'] > df.loc[index-1]['Q_max']:\n",
    "                file.write(f\"solve/initialize/hyb-initialization yes\\n\\n\")\n",
    "            else:\n",
    "                pass\n",
    "\n",
    "            if df.loc[index]['Vdot_max'] > 100 and flag == 0:\n",
    "                flag = 1\n",
    "                file.write(f\"/define/models/viscous/kw-sst yes\\n\\n\")\n",
    "            else:\n",
    "                pass           "
   ]
  },
  {
   "cell_type": "code",
   "execution_count": 27,
   "metadata": {},
   "outputs": [],
   "source": [
    "# Template paragraph with placeholders for variables\n",
    "paragraph_template = \"\"\"\n",
    "/define/named-expressions/edit coll_inlet_mdot definition \"VAR_coll_inlet_mdot [kg/s]\" quit\n",
    "/define/named-expressions/edit distrib_inlet_mdot definition \"VAR_distrib_inlet_mdot [kg/s]\" quit\n",
    "/define/named-expressions/edit distrib_outlet_mdot definition \"VAR_distrib_outlet_mdot [kg/s]\" quit\n",
    "\n",
    "solve/iterate VAR_nb_it\n",
    "\n",
    "/file/set-tui-version \"22.2\"\n",
    "(cx-gui-do cx-activate-item \"Ribbon*Frame1*Frame6(Results)*Table1*Table3(Reports)*PushButton4(Surface Integrals)\")\n",
    "(cx-gui-do cx-set-list-selections \"Surface Integrals*Table1*DropDownList1(Report Type)\" '( 1))\n",
    "(cx-gui-do cx-activate-item \"Surface Integrals*Table1*DropDownList1(Report Type)\")\n",
    "(cx-gui-do cx-activate-item \"Surface Integrals*Table2*Table4*List1(Surfaces)\")\n",
    "(cx-gui-do cx-set-list-selections \"Surface Integrals*Table2*Table4*List1(Surfaces)\" '( 0 1 2 3 4 5 6 7 8 9))\n",
    "(cx-gui-do cx-activate-item \"Surface Integrals*Table2*Table4*List1(Surfaces)\")\n",
    "(cx-gui-do cx-activate-item \"Surface Integrals*PanelButtons*PushButton4(Write)\")\n",
    "(cx-gui-do cx-set-file-dialog-entries \"Select File\" '( \"VAR_pressure_report\") \"Surface Report Files (*.srp)\")\n",
    "(cx-gui-do cx-activate-item \"Surface Integrals*PanelButtons*PushButton2(Cancel)\")\n",
    "\n",
    "/file/set-tui-version \"22.2\"\n",
    "(cx-gui-do cx-activate-item \"Ribbon*Frame1*Frame6(Results)*Table1*Table3(Reports)*PushButton2(Fluxes)\")\n",
    "(cx-gui-do cx-activate-item \"Flux Reports*Table2*Table2*List2(Boundaries)\")\n",
    "(cx-gui-do cx-set-list-selections \"Flux Reports*Table2*Table2*List2(Boundaries)\" '( 0 1 2 3 4 5 6))\n",
    "(cx-gui-do cx-activate-item \"Flux Reports*Table2*Table2*List2(Boundaries)\")\n",
    "(cx-gui-do cx-activate-item \"Flux Reports*PanelButtons*PushButton4(Write)\")\n",
    "(cx-gui-do cx-set-file-dialog-entries \"Select File\" '( \"D:\\\\ANSYS Fluent Projects\\\\Hydraulics\\\\V4.5\\\\1MPE\\\\tui-parametric\\\\VAR_mdot_report\") \"Flux Report Files (*.flp)\")\n",
    "(cx-gui-do cx-activate-item \"Flux Reports*PanelButtons*PushButton2(Cancel)\")\n",
    "\n",
    "plot/residuals-set/plot-to-file \"D:\\\\ANSYS Fluent Projects\\\\Hydraulics\\\\V4.5\\\\1MPE\\\\tui-parametric\\\\VAR_residuals_report.txt\"\n",
    "solve/iterate 1\n",
    "plot/residuals-set/end-plot-to-file\n",
    "\n",
    "file/write-data \"D:\\\\ANSYS Fluent Projects\\\\Hydraulics\\\\V4.5\\\\1MPE\\\\tui-parametric\\\\VAR_datafile_name\"\n",
    "\"\"\""
   ]
  },
  {
   "cell_type": "code",
   "execution_count": 29,
   "metadata": {},
   "outputs": [
    {
     "name": "stdout",
     "output_type": "stream",
     "text": [
      "Script generated successfully.\n"
     ]
    }
   ],
   "source": [
    "# Call the function to generate the script file\n",
    "generate_script(df, paragraph_template, r'D:\\ANSYS Fluent Projects\\Hydraulics\\V4.5\\1MPE\\tui-parametric-script.txt')\n",
    "\n",
    "print(\"Script generated successfully.\")"
   ]
  },
  {
   "cell_type": "code",
   "execution_count": null,
   "metadata": {},
   "outputs": [],
   "source": [
    "\"solve/initialize/hyb-initialization yes\""
   ]
  }
 ],
 "metadata": {
  "kernelspec": {
   "display_name": "venv_py_ansys",
   "language": "python",
   "name": "python3"
  },
  "language_info": {
   "codemirror_mode": {
    "name": "ipython",
    "version": 3
   },
   "file_extension": ".py",
   "mimetype": "text/x-python",
   "name": "python",
   "nbconvert_exporter": "python",
   "pygments_lexer": "ipython3",
   "version": "3.11.6"
  }
 },
 "nbformat": 4,
 "nbformat_minor": 2
}
