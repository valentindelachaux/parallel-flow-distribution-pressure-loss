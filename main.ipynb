{
 "cells": [
  {
   "cell_type": "code",
   "execution_count": null,
   "metadata": {},
   "outputs": [],
   "source": [
    "%load_ext autoreload\n",
    "%autoreload 2"
   ]
  },
  {
   "cell_type": "code",
   "execution_count": null,
   "metadata": {},
   "outputs": [],
   "source": [
    "import sys\n",
    "\n",
    "import pandas as pd\n",
    "import numpy as np\n",
    "import matplotlib.pyplot as plt\n",
    "\n",
    "sys.path.append(\"../RD-systems-and-test-benches/utils\")\n",
    "import model_fsolve as modf\n",
    "\n",
    "import scipy.optimize as sco\n",
    "import scipy.interpolate as sci\n",
    "\n",
    "import simu as sim\n",
    "\n",
    "import hx_hydraulic as hxhy\n",
    "import from_excel as fe\n",
    "import data_plots as dplt\n",
    "\n",
    "import fluids as fds\n",
    "from CoolProp.CoolProp import PropsSI\n",
    "\n",
    "import openpyxl as opxl\n",
    "from sklearn.ensemble import RandomForestRegressor\n"
   ]
  },
  {
   "cell_type": "code",
   "execution_count": null,
   "metadata": {},
   "outputs": [],
   "source": [
    "path = r\"G:\\Drive partagés\\Cercle Hard\\Innovation\\PVT-PL-model\\Inputs\"\n",
    "file_name = \"\\V4.5_1MPE.xlsx\""
   ]
  },
  {
   "cell_type": "code",
   "execution_count": null,
   "metadata": {},
   "outputs": [],
   "source": [
    "hw, par, cond = fe.initialize(path, file_name)\n",
    "tabl, res, PL, testings = modf.PL_fsolve(par, cond)"
   ]
  },
  {
   "cell_type": "code",
   "execution_count": null,
   "metadata": {},
   "outputs": [],
   "source": [
    "import model_fsolve_v2 as modf2\n",
    "dic_cond = {\"alpha\":1, \"eta\":0.001, \"rho\":1000, \"Qin_c\":0, \"Qin_d\":2.5e-5}\n",
    "cond2 = modf2.condition(dic_cond)"
   ]
  },
  {
   "cell_type": "code",
   "execution_count": null,
   "metadata": {},
   "outputs": [],
   "source": [
    "tabl2, Xsol = modf2.PL_fsolve(par, cond2)\n",
    "tabl, tabl2"
   ]
  },
  {
   "cell_type": "code",
   "execution_count": null,
   "metadata": {},
   "outputs": [],
   "source": []
  },
  {
   "cell_type": "code",
   "execution_count": null,
   "metadata": {},
   "outputs": [],
   "source": [
    "tabl, res, PL, testings, fun = modf.PL_fsolve(par, cond, series=[])"
   ]
  },
  {
   "cell_type": "code",
   "execution_count": null,
   "metadata": {},
   "outputs": [],
   "source": [
    "# Qmax = 2.5e-5\n",
    "# list_Qin = np.array([0.1, 0.2, 0.3, 0.4, 0.5, 0.6, 0.7, 0.8, 0.9, 1.])*Qmax\n",
    "# list_alpha = np.array([0.1, 0.2, 0.3, 0.4, 0.5, 0.6, .7, .8, .9, 1.])\n",
    "# df_testings = fe.testing_series_Qmax(Qmax, list_Qin, list_alpha, par, cond)\n",
    "# df_testings.to_excel(r\"G:\\Drive partagés\\Cercle Hard\\Innovation\\PVT-PL-model\\Outputs\\Tests-model-simplification\" + file_name[:-5]+\"_test.xlsx\", index=False)"
   ]
  },
  {
   "cell_type": "code",
   "execution_count": null,
   "metadata": {},
   "outputs": [],
   "source": [
    "import seaborn as sns\n",
    "df_testings = pd.read_excel(r\"G:\\Drive partagés\\Cercle Hard\\Innovation\\PVT-PL-model\\Outputs\\Tests-model-simplification\" + file_name[:-5]+\"_test.xlsx\")\n",
    "# plots df_testings.plot(x='alpha', y = 'Pin collect') colored by Qin\n",
    "df_testings['DPin'] = df_testings['Pout distrib'] - df_testings['Pin distrib']\n",
    "sns.relplot(data=df_testings, x='alpha', y='DPin', hue='Qin distrib', aspect=1.61)\n",
    "# plt.plot(list_alpha, [Pin(2.5e-5, alpha) for alpha in list_alpha])\n",
    "plt.show()"
   ]
  },
  {
   "cell_type": "code",
   "execution_count": null,
   "metadata": {},
   "outputs": [],
   "source": [
    "\n"
   ]
  },
  {
   "cell_type": "code",
   "execution_count": null,
   "metadata": {},
   "outputs": [],
   "source": [
    "def MATRIX(df_testings):\n",
    "    Qin_list = df_testings['Qin distrib'].unique()\n",
    "    df_coefficients = pd.DataFrame(columns=['Qin distrib', 'a_in', 'b_in', 'c_in', 'a_out', 'b_out', 'c_out', 'a_x', 'b_x', 'c_x'])\n",
    "    for Qin in Qin_list:\n",
    "        mask = df_testings['Qin distrib'] == Qin\n",
    "        alpha = np.array(df_testings[mask]['alpha'])  \n",
    "        DPin = np.array(df_testings[mask]['DPin']) \n",
    "        DPout = np.array(df_testings[mask]['Pin collect'])\n",
    "        DPx = np.array(df_testings[mask]['Pout distrib'])\n",
    "        coefficients_in = np.polyfit(alpha, DPin, 2)\n",
    "        a_in = coefficients_in[0]\n",
    "        b_in = coefficients_in[1]\n",
    "        c_in = coefficients_in[2]\n",
    "        coefficients_out = np.polyfit(alpha, DPout, 2)\n",
    "        a_out = coefficients_out[0]\n",
    "        b_out = coefficients_out[1]\n",
    "        c_out = coefficients_out[2]\n",
    "        coefficients_x = np.polyfit(alpha, DPx, 2)\n",
    "        a_x = coefficients_x[0]\n",
    "        b_x = coefficients_x[1]\n",
    "        c_x = coefficients_x[2]\n",
    "        df_coefficients.loc[len(df_coefficients)] = [Qin, a_in, b_in, c_in, a_out, b_out, c_out, a_x, b_x, c_x]\n",
    "\n",
    "    a_in = np.array(df_coefficients['a_in']) \n",
    "    b_in = np.array(df_coefficients['b_in'])\n",
    "    c_in = np.array(df_coefficients['c_in'])\n",
    "    a_out = np.array(df_coefficients['a_out'])\n",
    "    b_out = np.array(df_coefficients['b_out'])\n",
    "    c_out = np.array(df_coefficients['c_out'])\n",
    "    a_x = np.array(df_coefficients['a_x'])\n",
    "    b_x = np.array(df_coefficients['b_x'])\n",
    "    c_x = np.array(df_coefficients['c_x'])\n",
    "\n",
    "    def M(Qin_list, a, b, c):\n",
    "        matrix = pd.DataFrame(columns=['A', 'B', 'C'])\n",
    "        COEFF = np.polyfit(Qin_list, a, 2)\n",
    "        matrix.loc[len(matrix)] = [COEFF[0], COEFF[1], COEFF[2]]\n",
    "        COEFF = np.polyfit(Qin_list, b, 2)\n",
    "        matrix.loc[len(matrix)] = [COEFF[0], COEFF[1], COEFF[2]]\n",
    "        COEFF = np.polyfit(Qin_list, c, 2)\n",
    "        matrix.loc[len(matrix)] = [COEFF[0], COEFF[1], COEFF[2]]\n",
    "        return matrix\n",
    "\n",
    "    MATRIX_in = M(Qin_list, a_in, b_in, c_in)\n",
    "    MATRIX_out = M(Qin_list, a_out, b_out, c_out)\n",
    "    MATRIX_x = M(Qin_list, a_x, b_x, c_x)\n",
    "\n",
    "    return MATRIX_in, MATRIX_out, MATRIX_x\n",
    "\n",
    "MATRIX_in, MATRIX_out, MATRIX_x = MATRIX(df_testings)\n",
    "\n",
    "def DPin(Qin, alpha):\n",
    "    coeffs = np.matmul(MATRIX_in, np.array([Qin**2, Qin, 1]))\n",
    "    return np.matmul(coeffs, np.array([alpha**2, alpha, 1]))\n",
    "\n",
    "def DPout(Qin, alpha):\n",
    "    coeffs = np.matmul(MATRIX_out, np.array([Qin**2, Qin, 1]))\n",
    "    return np.matmul(coeffs, np.array([alpha**2, alpha, 1]))\n",
    "\n",
    "def DPx(Qin, alpha):\n",
    "    coeffs = np.matmul(MATRIX_x, np.array([Qin**2, Qin, 1]))\n",
    "    return np.matmul(coeffs, np.array([alpha**2, alpha, 1]))"
   ]
  },
  {
   "cell_type": "code",
   "execution_count": null,
   "metadata": {},
   "outputs": [],
   "source": []
  },
  {
   "cell_type": "code",
   "execution_count": null,
   "metadata": {},
   "outputs": [],
   "source": [
    "DPx(2.5e-5, 1.)"
   ]
  },
  {
   "cell_type": "code",
   "execution_count": null,
   "metadata": {},
   "outputs": [],
   "source": [
    "Pin_c = []\n",
    "Pin_d = []\n",
    "Pout_d = []\n",
    "for i in range(len(df_testings)):\n",
    "    Qin = df_testings['Qin distrib'][i]\n",
    "    alpha = df_testings['alpha'][i]\n",
    "    Pin_c.append(DPout(Qin, alpha))\n",
    "    Pin_d.append(DPx(Qin, alpha) - DPin(Qin, alpha))\n",
    "    Pout_d.append(DPx(Qin, alpha))\n",
    "\n",
    "\n",
    "df_testings['Pin distrib try'] = Pin_d\n",
    "df_testings['Pout distrib try'] = Pout_d\n",
    "df_testings['Pin collect try'] = Pin_c\n",
    "\n",
    "(abs(df_testings['Pout distrib try'] - df_testings['Pout distrib'])*100/df_testings['Pout distrib']).max()"
   ]
  },
  {
   "cell_type": "code",
   "execution_count": null,
   "metadata": {},
   "outputs": [],
   "source": [
    "df_testings[df_testings['Qin distrib']==2.5e-5]['Pin distrib'] - df_testings[df_testings['Qin distrib']==2.5e-5]['Pout distrib'] "
   ]
  },
  {
   "cell_type": "code",
   "execution_count": null,
   "metadata": {},
   "outputs": [],
   "source": [
    "df_testings[df_testings['alpha']==0.5].plot(x='Qin distrib', y = 'Pin distrib')\n",
    "# plt.plot([0,2.5e-5],[0,2440*0.5])\n",
    "plt.show()"
   ]
  },
  {
   "cell_type": "code",
   "execution_count": null,
   "metadata": {},
   "outputs": [],
   "source": [
    "df_testings[df_testings['alpha']==0.5]"
   ]
  },
  {
   "cell_type": "code",
   "execution_count": null,
   "metadata": {},
   "outputs": [],
   "source": [
    "tabl, res, PL, testings, fun = modf.PL_fsolve(par, cond)"
   ]
  },
  {
   "cell_type": "code",
   "execution_count": null,
   "metadata": {},
   "outputs": [],
   "source": [
    "tabl"
   ]
  },
  {
   "cell_type": "code",
   "execution_count": null,
   "metadata": {},
   "outputs": [],
   "source": [
    "list_QF = np.array([0, 50, 100, 150, 200, 250, 300, 350])/3600000\n",
    "list_QF_out = np.array([0, 50, 100, 150, 200, 250, 300])/3600000\n",
    "list_alpha = np.array([0.1, 0.3, 0.5, 0.7, 0.9])\n",
    "fe.testing_series(path+file_name, list_QF, list_QF_out, list_alpha, par, cond)"
   ]
  },
  {
   "cell_type": "code",
   "execution_count": null,
   "metadata": {},
   "outputs": [],
   "source": [
    "from sklearn.model_selection import train_test_split\n",
    "from sklearn.metrics import r2_score\n",
    "\n",
    "df_testings = pd.read_excel(r\"G:\\Drive partagés\\Cercle Hard\\Innovation\\PVT-PL-model\\Outputs\\Tests-model-simplification\\MICOE_risers_x6_testings.xlsx\").drop(columns=['Unnamed: 0'])\n",
    "X = df_testings[['QF', 'QF_out', 'alpha']].to_numpy()\n",
    "yin = df_testings['DPin'].to_numpy()\n",
    "yout = df_testings['DPout'].to_numpy()\n",
    "yx = df_testings['DPx'].to_numpy()\n",
    "\n",
    "### Cette func fait un split aléatoire des datas : le même pour les 3 modèles. random\n",
    "X_train, X_test, yin_train, yin_test, yout_train, yout_test, yx_train, yx_test = train_test_split(X, yin, yout, yx, test_size=0.2)\n",
    "\n",
    "model_in = RandomForestRegressor() \n",
    "model_in.fit(X_train, yin_train)\n",
    "\n",
    "model_out = RandomForestRegressor() \n",
    "model_out.fit(X_train, yout_train)\n",
    "\n",
    "model_x = RandomForestRegressor() \n",
    "model_x.fit(X_train, yx_train)\n",
    "\n",
    "yin_pred = model_in.predict(X_test)\n",
    "yout_pred = model_out.predict(X_test)\n",
    "yx_pred = model_x.predict(X_test)\n",
    "\n",
    "r2_in = r2_score(yin_test, yin_pred)\n",
    "r2_out = r2_score(yout_test, yout_pred)\n",
    "r2_x = r2_score(yx_test, yx_pred)\n",
    "\n",
    "\n",
    "print(f\"R² du modèle 'DPin': {r2_in :.5f}\")\n",
    "print(f\"R² du modèle 'DPout': {r2_out :.5f}\")\n",
    "print(f\"R² du modèle 'DPx': {r2_x :.5f}\")\n",
    "\n",
    "i = 0\n",
    "print(model_in.predict([[list_QF[i], list_QF_out[0], list_alpha[i]]])[0]/model_in.predict([[list_QF[i], list_QF_out[-1], list_alpha[i]]])[0])\n",
    "print(model_x.predict([[list_QF[i], list_QF_out[0], list_alpha[i]]])[0]/model_x.predict([[list_QF[i], list_QF_out[-1], list_alpha[i]]])[0])\n",
    "print(model_out.predict([[list_QF[i], list_QF_out[0], list_alpha[i]]])[0]/model_out.predict([[list_QF[i], list_QF_out[-1], list_alpha[i]]])[0])\n"
   ]
  },
  {
   "cell_type": "code",
   "execution_count": null,
   "metadata": {},
   "outputs": [],
   "source": []
  },
  {
   "cell_type": "code",
   "execution_count": null,
   "metadata": {},
   "outputs": [],
   "source": [
    "hw, par, cond = fe.initialize(path, \"\\MICOE_simplified.xlsx\")\n",
    "tabl, res, df_PL, testings, f = modf.PL_fsolve(par, cond, simplified=True)\n",
    "f"
   ]
  },
  {
   "cell_type": "code",
   "execution_count": null,
   "metadata": {},
   "outputs": [],
   "source": [
    "tabl"
   ]
  },
  {
   "cell_type": "code",
   "execution_count": null,
   "metadata": {},
   "outputs": [],
   "source": [
    "hw, par, cond = fe.initialize(path, \"\\MICOE.xlsx\")\n",
    "tabl, res, df_PL, testings = modf.PL_fsolve(par, cond)\n",
    "tabl"
   ]
  },
  {
   "cell_type": "code",
   "execution_count": null,
   "metadata": {},
   "outputs": [],
   "source": [
    "tabl, res, df_PL, testings = modf.PL_fsolve(par, cond)"
   ]
  },
  {
   "cell_type": "code",
   "execution_count": null,
   "metadata": {},
   "outputs": [],
   "source": [
    "list_PL_U, list_tabl_U = modf.PL_fsolve_range(par, cond, np.array([50, 200, 350, 500, 650])/3600000)"
   ]
  },
  {
   "cell_type": "code",
   "execution_count": null,
   "metadata": {},
   "outputs": [],
   "source": [
    "list_PL_Z, list_tabl_Z = modf.PL_fsolve_range(par, cond, np.array([50, 200, 350, 500, 650])/3600000)"
   ]
  },
  {
   "cell_type": "code",
   "execution_count": null,
   "metadata": {},
   "outputs": [],
   "source": [
    "### plot les pertes de charges dans l'échangeur list_PL_U et list_PL_Z en fonction du débit en L/h Vdot = [50, 200, 350, 500, 650]\n",
    "\n",
    "plt.figure()\n",
    "plt.plot(np.array([50, 200, 350, 500, 650]), list_PL_U, label=\"PL_U\")\n",
    "plt.plot(np.array([50, 200, 350, 500, 650]), list_PL_Z, label=\"PL_Z\")\n",
    "plt.xlabel(\"Vdot [L/h]\")\n",
    "plt.ylabel(\"Pertes de charge [bar]\")\n",
    "plt.legend()\n",
    "plt.show()\n"
   ]
  },
  {
   "cell_type": "code",
   "execution_count": null,
   "metadata": {},
   "outputs": [],
   "source": [
    "dplt.solve_plot(path, file_name)"
   ]
  },
  {
   "cell_type": "code",
   "execution_count": null,
   "metadata": {},
   "outputs": [],
   "source": [
    "cond[\"Dv\"] = 0.165e-3\n",
    "cond[\"Vdot\"] = cond[\"Dv\"]*3600000\n",
    "tabl, res, df_PL, testings, df_Re = modf.PL_fsolve(par, cond)"
   ]
  },
  {
   "cell_type": "code",
   "execution_count": null,
   "metadata": {},
   "outputs": [],
   "source": [
    "df_Re.to_excel(r\"G:\\Drive partagés\\Cercle Hard\\Innovation\\PVT-PL-model\\Outputs\\Re_0.165.xlsx\")"
   ]
  },
  {
   "cell_type": "code",
   "execution_count": null,
   "metadata": {},
   "outputs": [],
   "source": [
    "list_Dv = [0.027e-3, 0.055e-3, 0.110e-3, 0.165e-3, 0.220e-3]\n",
    "list_Vdot = np.array(list_Dv)*3600000\n",
    "list_PL_CFD = np.array([1067, 1279, 3861, 5072, 9573])\n",
    "list_PL_model ,list_tabl = modf.PL_fsolve_range(par, cond, list_Dv, 1.1/4)\n",
    "list_ratio = list_PL_CFD/list_PL_model\n",
    "plt.plot(list_Vdot, list_ratio)\n",
    "# plot une ligne égale à 1 en pointillé\n",
    "plt.plot([list_Vdot[0], list_Vdot[-1]], [1, 1], 'k--')\n",
    "plt.xlabel('Vdot (L/h)')\n",
    "plt.ylabel('ratio PL_CFD/PL_model')\n",
    "plt.show()"
   ]
  },
  {
   "cell_type": "code",
   "execution_count": null,
   "metadata": {},
   "outputs": [],
   "source": [
    "cond['Dv'] = 0.055e-3 \n",
    "cond['Vdot'] = cond['Dv']*3600000 \n",
    "tabl, res, df_PL, t, f = modf.PL_fsolve(par, cond)"
   ]
  },
  {
   "cell_type": "code",
   "execution_count": null,
   "metadata": {},
   "outputs": [],
   "source": [
    "df = pd.read_csv(r\"G:\\Drive partagés\\Cercle Hard\\Innovation\\PVT-PL-model\\CFD\\V4.5_MPEx4\\processed\\0.055_exhaust_pressure.csv\")\n",
    "last = df[\"Position\"].max() - 0.07\n",
    "df[\"riser\"] = [(df.loc[i][\"Position\"])*len(tabl)/last for i in range(len(df))]\n",
    "df[df[\"Position\"]<last].plot(x=\"riser\", y=\"Pressure\")\n",
    "tabl[\"Pout\"].plot(x=tabl.index)\n",
    "point2 = df[df[\"Position\"]<last].iloc[-1][\"Pressure\"]\n",
    "df2=df[df[\"Position\"]<last]"
   ]
  },
  {
   "cell_type": "code",
   "execution_count": null,
   "metadata": {},
   "outputs": [],
   "source": [
    "df = pd.read_csv(r\"G:\\Drive partagés\\Cercle Hard\\Innovation\\PVT-PL-model\\CFD\\V4.5_MPEx4\\processed\\0.055_intake_pressure.csv\")\n",
    "last = df[\"Position\"].max()\n",
    "df[\"riser\"] = [(df.loc[i][\"Position\"] - 0.074)*len(tabl)/(last- 0.074) for i in range(len(df))]\n",
    "df[df[\"Position\"]>0.074].plot(x=\"riser\", y=\"Pressure\")\n",
    "tabl[\"Pin\"].plot(x=tabl.index)\n",
    "point1 = df[df[\"Position\"]>0.074].iloc[0][\"Pressure\"]\n",
    "df1=df[df[\"Position\"]>0.074]"
   ]
  },
  {
   "cell_type": "code",
   "execution_count": null,
   "metadata": {},
   "outputs": [],
   "source": [
    "df1.reset_index(inplace=True)\n",
    "df2.reset_index(inplace=True)\n",
    "df1-df2"
   ]
  },
  {
   "cell_type": "code",
   "execution_count": null,
   "metadata": {},
   "outputs": [],
   "source": [
    "D = '0.055'\n",
    "df1 = pd.read_csv(\"G:/Drive partagés/BU04-Innovation/PVT-PL-model/CFD/V4.5_MPEx4/processed/\" +D+ \"_risers_entry_pressure_per_riser.csv\")\n",
    "df2 = pd.read_csv(\"G:/Drive partagés/BU04-Innovation/PVT-PL-model/CFD\\V4.5_MPEx4/processed/\"+D+\"_risers_entry+0.050_pressure_per_riser.csv\")\n",
    "df3 = pd.read_csv(\"G:/Drive partagés/BU04-Innovation/PVT-PL-model/CFD/V4.5_MPEx4/processed/\"+D+\"_risers_after_first_bend_pressure_per_riser.csv\")\n",
    "df4 = pd.read_csv(\"G:/Drive partagés/BU04-Innovation/PVT-PL-model/CFD/V4.5_MPEx4/processed/\"+D+\"_risers_before_bj_pressure_per_riser.csv\")   \n",
    "df5 = pd.read_csv(\"G:/Drive partagés/BU04-Innovation/PVT-PL-model/CFD/V4.5_MPEx4/processed/\"+D+\"_risers_before_exhaust_pressure_per_riser.csv\")\n",
    "\n",
    "(df1[\"Pressure\"]-df5[\"Pressure\"]).plot(x=\"Group\")\n",
    "df_PL[\"RPL riser\"].plot()"
   ]
  },
  {
   "cell_type": "code",
   "execution_count": null,
   "metadata": {},
   "outputs": [],
   "source": [
    "df3"
   ]
  },
  {
   "cell_type": "code",
   "execution_count": null,
   "metadata": {},
   "outputs": [],
   "source": [
    "PL = point1 - point2\n",
    "PL"
   ]
  },
  {
   "cell_type": "code",
   "execution_count": null,
   "metadata": {},
   "outputs": [],
   "source": [
    "((df1-df2)['Pressure']* (67/5)/(df3-df4)['Pressure']).mean()"
   ]
  },
  {
   "cell_type": "code",
   "execution_count": null,
   "metadata": {},
   "outputs": [],
   "source": [
    "entry_5cm = np.array([0.7396875 - 0.7404128, 0.003751432 - 0.004154148, -0.3049988 + 0.5200261])\n",
    "entry = np.array([0.7785593-0.7787191, 0.03597014-0.03598411, -0.5199889+0.3049711])\n",
    "entry_5cm/entry"
   ]
  },
  {
   "cell_type": "code",
   "execution_count": null,
   "metadata": {},
   "outputs": [],
   "source": []
  },
  {
   "cell_type": "code",
   "execution_count": null,
   "metadata": {},
   "outputs": [],
   "source": [
    "hx, par, cond = fe.initialize(r\"G:\\Drive partagés\\Cercle Hard\\Innovation\\PVT-PL-model\\Inputs\",r\"\\V4.5_1MPE.xlsx\")\n",
    "list_QF = np.array([50,200,350,500,650,800])/3600000\n",
    "list_QF_out = np.array([50,200,350,500])/3600000\n",
    "list_alpha = [0.01, 0.05, 0.1, 0.4, 0.7, 1]\n",
    "df = fe.testing_series(r\"G:\\Drive partagés\\Cercle Hard\\Innovation\\PVT-PL-model\\Outputs\\Tests-model-simplification\\V4.5_1MPE_testings.xlsx\", list_QF, list_QF_out, list_alpha, par, cond)"
   ]
  },
  {
   "cell_type": "code",
   "execution_count": null,
   "metadata": {},
   "outputs": [],
   "source": [
    "from sklearn.ensemble import RandomForestRegressor\n",
    "\n",
    "df_testings = pd.read_excel(\"G:\\Drive partagés\\Cercle Hard\\Innovation\\PVT-PL-model\\Outputs\\Tests-model-simplification\\V4.5_1MPE_testings.xlsx\")\n",
    "X = df_testings[['QF', 'QF_out', 'alpha']].to_numpy()\n",
    "yin = df_testings['DPin'].to_numpy()\n",
    "yout = df_testings['DPout'].to_numpy()\n",
    "yx = df_testings['DPx'].to_numpy()\n",
    "\n",
    "model_in = RandomForestRegressor() \n",
    "model_in.fit(X, yin)\n",
    "\n",
    "model_out = RandomForestRegressor() \n",
    "model_out.fit(X, yout)\n",
    "\n",
    "model_x = RandomForestRegressor() \n",
    "model_x.fit(X, yx)\n",
    "\n",
    "df_testings['DPin_test'] = model_in.predict(X)\n",
    "df_testings['DPout_test'] = model_out.predict(X)\n",
    "df_testings['DPx_test'] = model_x.predict(X)"
   ]
  },
  {
   "cell_type": "code",
   "execution_count": null,
   "metadata": {},
   "outputs": [],
   "source": [
    "dplt.K_abaque(df_testings, 'DPout')"
   ]
  },
  {
   "cell_type": "code",
   "execution_count": null,
   "metadata": {},
   "outputs": [],
   "source": [
    "hx, par, cond = fe.initialize(path, file_name)\n",
    "list_Vdot = np.array([150, 300, 450, 600])\n",
    "list_Dv = list_Vdot/3600000\n",
    "for coef in [1, 1.1, 1.2, 1.4] :\n",
    "    list_PL, list_tabl = modf.PL_fsolve_range(par, cond, list_Dv, 0.25*coef)\n",
    "    plt.plot(list_Vdot, list_PL/1000, label = f'f *= {coef}')\n",
    "plt.legend()\n",
    "plt.show()\n",
    "    \n"
   ]
  },
  {
   "cell_type": "code",
   "execution_count": null,
   "metadata": {},
   "outputs": [],
   "source": [
    "df2 = pd.DataFrame(modf.calc(df['qx'], par, cond)).transpose()\n",
    "df2.columns = [\"Qin\", \"Qout\", \"uin\", \"ux\", \"uout\", \"Rein\", \"Rex\", \"Reout\", \"fin\", \"fx\", \"fout\", \"Kx_in\", \"Ky_in\", \"Kx_out\", \"Ky_out\", \"K_se\", \"Lex\"]\n",
    "df = df.join(df2)\n",
    "df = df.join(df_PL)\n"
   ]
  },
  {
   "cell_type": "code",
   "execution_count": null,
   "metadata": {},
   "outputs": [],
   "source": [
    "path = 'G:\\Drive partagés\\Cercle Hard\\Innovation\\PVT-PL-model\\Outputs\\Simulation_outputs'\n",
    "path_inputs = 'G:\\Drive partagés\\Cercle Hard\\Innovation\\PVT-PL-model\\Inputs'\n",
    "name = '\\V4.41.xlsx'\n",
    "list_Vdot = np.array([150, 300, 450, 600])\n",
    "hx, par, cond = fe.initialize(path_inputs, name)\n",
    "\n",
    "writer = pd.ExcelWriter(path+name, engine = 'openpyxl')\n",
    "for Vdot in list_Vdot :\n",
    "    cond['Vdot'] = Vdot\n",
    "    cond['Dv'] = Vdot/3600000\n",
    "    df, PL, df_PL, testings = modf.PL_fsolve(par, cond)\n",
    "    df2 = pd.DataFrame(modf.calc(df['qx'], par, cond)).transpose()\n",
    "    df2.columns = [\"Qin\", \"Qout\", \"uin\", \"ux\", \"uout\", \"Rein\", \"Rex\", \"Reout\", \"fin\", \"fx\", \"fout\", \"Kx_in\", \"Ky_in\", \"Kx_out\", \"Ky_out\", \"K_se\", \"Lex\"]\n",
    "    df = df.join(df2)\n",
    "    df = df.join(df_PL)\n",
    "    df.to_excel(writer, sheet_name= f\"Vdot={Vdot}\", index=False)\n",
    "\n",
    "writer.close()\n"
   ]
  },
  {
   "cell_type": "code",
   "execution_count": null,
   "metadata": {},
   "outputs": [],
   "source": [
    "dplt.solve_plot(path, file_name)"
   ]
  },
  {
   "cell_type": "code",
   "execution_count": null,
   "metadata": {},
   "outputs": [],
   "source": []
  },
  {
   "cell_type": "code",
   "execution_count": null,
   "metadata": {},
   "outputs": [],
   "source": []
  },
  {
   "cell_type": "code",
   "execution_count": null,
   "metadata": {},
   "outputs": [],
   "source": [
    "df_K = pd.read_excel(\"G:\\Drive partagés\\Cercle Hard\\Innovation\\PVT-PL-model\\Outputs\\Tests-model-simplification\\V4.5_1MPE_testings.xlsx\")"
   ]
  },
  {
   "cell_type": "code",
   "execution_count": null,
   "metadata": {},
   "outputs": [],
   "source": [
    "df_A = df_K[['QF', 'QF_out','alpha']]\n",
    "df_A['constant']=1\n",
    "df_A['sqrt'] = np.sqrt(df_A['QF'])\n",
    "df_A['QF*alpha'] = df_A['alpha']*df_A['QF']\n",
    "df_A['sqrt_alpha'] = df_A['alpha']*np.sqrt(df_A['QF'])\n",
    "df_A['QF_out*alpha'] = df_A['alpha']*df_A['QF_out']\n",
    "df_A['alpha2'] = df_A['alpha']**2\n",
    "df_A['QF*alpha2'] = df_A['alpha2']*df_A['QF']\n",
    "df_A['sqrt_alpha2'] = df_A['alpha2']*np.sqrt(df_A['QF'])\n",
    "df_A['QF_out*alpha2'] = df_A['alpha2']*df_A['QF_out']\n",
    "df_A = df_A[['constant', 'QF', 'sqrt', 'QF_out', 'alpha', 'QF*alpha', 'QF_out*alpha', 'sqrt_alpha', 'alpha2', 'QF*alpha2','QF_out*alpha2', 'sqrt_alpha2']]"
   ]
  },
  {
   "cell_type": "code",
   "execution_count": null,
   "metadata": {},
   "outputs": [],
   "source": [
    "A = df_A.to_numpy()\n",
    "B = df_K[['Kyin']].to_numpy()\n",
    "X = np.linalg.lstsq(A,B)[0]\n",
    "\n",
    "err = (A.dot(X)-B)*100/B\n",
    "np.abs(err.round()).mean()"
   ]
  },
  {
   "cell_type": "code",
   "execution_count": null,
   "metadata": {},
   "outputs": [],
   "source": [
    "X.transpose()*(df_A.mean().to_numpy())"
   ]
  },
  {
   "cell_type": "code",
   "execution_count": null,
   "metadata": {},
   "outputs": [],
   "source": [
    "df = pd.DataFrame(X.transpose())\n",
    "df.to_excel(\"G:\\Drive partagés\\Cercle Hard\\Innovation\\PVT-PL-model\\Inputs\\V4.5_1MPE_Kyin.xlsx\", index=False)"
   ]
  },
  {
   "cell_type": "code",
   "execution_count": null,
   "metadata": {},
   "outputs": [],
   "source": [
    "df_K['Kyin_test'] = A.dot(X)"
   ]
  },
  {
   "cell_type": "code",
   "execution_count": null,
   "metadata": {},
   "outputs": [],
   "source": [
    "dplt.K_abaque(df_K,'Kyin')"
   ]
  },
  {
   "cell_type": "code",
   "execution_count": null,
   "metadata": {},
   "outputs": [],
   "source": [
    "TUV = pd.read_excel('G:\\Drive partagés\\Cercle Hard\\Innovation\\Hydraulique\\PL_database\\\\230727_TUV_V4.41_x1_Z_water.xlsx')\n",
    "path = r\"G:\\Drive partagés\\Cercle Hard\\Innovation\\PVT-PL-model\\Inputs\"\n",
    "file_name = r\"\\V4.41.xlsx\"\n",
    "hx, par, cond = fe.initialize(path, file_name)"
   ]
  },
  {
   "cell_type": "code",
   "execution_count": null,
   "metadata": {},
   "outputs": [],
   "source": [
    "list_Vdot = np.array(list(TUV['Vdot']))[::2]\n",
    "list_Dv = list_Vdot/3600000\n",
    "f = 20\n",
    "list_PL,list_tabl = modf.PL_fsolve_range(par, cond, list_Dv, f)\n",
    "plt.plot(list_Vdot, list_PL/1000, label = f'fapp = {f}')\n",
    "plt.plot(list(TUV['Vdot']), list(TUV['PL']), label = 'TÜV')\n",
    "plt.legend()\n",
    "plt.show()\n",
    "\n"
   ]
  },
  {
   "cell_type": "code",
   "execution_count": null,
   "metadata": {},
   "outputs": [],
   "source": [
    "# read excel file\n",
    "excel_file = pd.ExcelFile(r'G:\\Drive partagés\\Cercle Hard\\Innovation\\Hydraulique\\components\\230725_PL_V4.41.xlsx')\n",
    "\n",
    "# create dictionary with dataframes\n",
    "df_dict = {}\n",
    "for sheet_name in excel_file.sheet_names:\n",
    "    df_dict[sheet_name] = excel_file.parse(sheet_name)\n",
    "    df_dict[sheet_name].drop(columns='Unnamed: 0',inplace=True)"
   ]
  },
  {
   "cell_type": "code",
   "execution_count": null,
   "metadata": {},
   "outputs": [],
   "source": [
    "for i in range(4):\n",
    "    key = list(df_dict.keys())[i]\n",
    "    list_Vdot = np.array(df_dict[key]['Vdot_per_panel'])\n",
    "    list_Dv = list_Vdot*(i+1)/3600000\n",
    "\n",
    "    path = r\"G:\\Drive partagés\\Cercle Hard\\Innovation\\PVT-PL-model\\Inputs\"\n",
    "    file_name = f\"\\V4.41_x{i+1}.xlsx\"\n",
    "    hx, par, cond = fe.initialize(path, file_name)\n",
    "    list_PL, list_tabl = modf.PL_fsolve_range(par, cond, list_Dv[1::39], 20)\n",
    "\n",
    "    plt.plot(list_Vdot[1::39], list_PL/1000, label='Simulation')\n",
    "    plt.plot(list_Vdot, np.array(df_dict[key]['PL']), label='Experiments')\n",
    "    plt.xlabel('Vdot par panneau [L/h]')\n",
    "    plt.ylabel('PL [kPa]')\n",
    "    plt.legend()\n",
    "    plt.show()\n",
    "\n"
   ]
  },
  {
   "cell_type": "code",
   "execution_count": null,
   "metadata": {},
   "outputs": [],
   "source": [
    "list(df_dict.keys())"
   ]
  },
  {
   "cell_type": "code",
   "execution_count": null,
   "metadata": {},
   "outputs": [],
   "source": [
    "tabl, res, PL, testings, fun = modf.PL_fsolve(par, cond)"
   ]
  },
  {
   "cell_type": "code",
   "execution_count": null,
   "metadata": {},
   "outputs": [],
   "source": [
    "res"
   ]
  },
  {
   "cell_type": "code",
   "execution_count": null,
   "metadata": {},
   "outputs": [],
   "source": []
  },
  {
   "cell_type": "code",
   "execution_count": null,
   "metadata": {},
   "outputs": [],
   "source": [
    "path = r\"G:\\Drive partagés\\Cercle Hard\\Innovation\\PVT-PL-model\\Inputs\"\n",
    "file_name = \"\\V4.41_x2.xlsx\"\n",
    "hw, par_41, cond = fe.initialize(path, file_name)\n",
    "file_name = \"\\V4.6_x2.xlsx\"\n",
    "hw, par_6, cond = fe.initialize(path, file_name)\n"
   ]
  },
  {
   "cell_type": "code",
   "execution_count": null,
   "metadata": {},
   "outputs": [],
   "source": [
    "path = r\"G:\\Drive partagés\\Cercle Hard\\Innovation\\PVT-PL-model\\Inputs\"\n",
    "file_name = \"\\V4.41.xlsx\"\n",
    "hw, par_41, cond = fe.initialize(path, file_name)\n",
    "file_name = \"\\V4.6.xlsx\"\n",
    "hw, par_6, cond = fe.initialize(path, file_name)\n",
    "\n",
    "list_res_41_1 = []\n",
    "list_res_6_1 = []\n",
    "\n",
    "for Vdot in [25, 50, 75, 100, 150, 200, 400, 600]:\n",
    "    cond['Vdot'] = Vdot\n",
    "    cond['Dv'] = Vdot/3600000\n",
    "    tabl, res, PL, testings, fun = modf.PL_fsolve(par_41, cond)\n",
    "    list_res_41_1.append(res)\n",
    "    tabl, res, PL, testings, fun = modf.PL_fsolve(par_6, cond)\n",
    "    list_res_6_1.append(res)\n",
    "\n",
    "plt.plot([25, 50, 75, 100, 150, 200, 400, 600], list_res_41_1, label='V4.41 x1')\n",
    "plt.plot([25, 50, 75, 100, 150, 200, 400, 600], list_res_6_1, label='V4.6 x1')\n",
    "plt.xlabel('Vdot [L/h]')\n",
    "plt.ylabel('Pertes de charge [bar]')\n",
    "plt.legend()\n",
    "plt.show()"
   ]
  },
  {
   "cell_type": "code",
   "execution_count": null,
   "metadata": {},
   "outputs": [],
   "source": [
    "plt.plot([25, 50, 75, 100, 150, 200, 400, 600], [list_res_41_1[i]/list_res_6_1[i] for i in range(len(list_res_41_1))], label='PL ratio V4.41/V4.6 : x1')\n",
    "plt.xlabel('Vdot [L/h]')\n",
    "plt.ylabel('PL ratio')\n",
    "plt.legend()\n",
    "plt.show()"
   ]
  },
  {
   "cell_type": "code",
   "execution_count": null,
   "metadata": {},
   "outputs": [],
   "source": [
    "path = r\"G:\\Drive partagés\\Cercle Hard\\Innovation\\PVT-PL-model\\Inputs\"\n",
    "file_name = \"\\V4.41_x2.xlsx\"\n",
    "hw, par_41, cond = fe.initialize(path, file_name)\n",
    "file_name = \"\\V4.6_x2.xlsx\"\n",
    "hw, par_6, cond = fe.initialize(path, file_name)\n",
    "\n",
    "list_res_41_2 = []\n",
    "list_res_6_2 = []\n",
    "\n",
    "for Vdot in [25, 50, 75, 100, 150, 200]:\n",
    "    cond['Vdot'] = Vdot\n",
    "    cond['Dv'] = Vdot/3600000\n",
    "    tabl, res, PL, testings, fun = modf.PL_fsolve(par_41, cond)\n",
    "    list_res_41_2.append(res)\n",
    "    tabl, res, PL, testings, fun = modf.PL_fsolve(par_6, cond)\n",
    "    list_res_6_2.append(res)\n",
    "\n",
    "plt.plot([25, 50, 75, 100, 150, 200, 400, 600], list_res_41_2, label='V4.41 x2')\n",
    "plt.plot([25, 50, 75, 100, 150, 200, 400, 600], list_res_6_2, label='V4.6 x2')\n",
    "plt.xlabel('Vdot [L/h]')\n",
    "plt.ylabel('Pertes de charge [bar]')\n",
    "plt.legend()\n",
    "plt.show()"
   ]
  },
  {
   "cell_type": "code",
   "execution_count": null,
   "metadata": {},
   "outputs": [],
   "source": [
    "for Vdot in [400, 600]:\n",
    "    cond['Vdot'] = Vdot\n",
    "    cond['Dv'] = Vdot/3600000\n",
    "    tabl, res, PL, testings, fun = modf.PL_fsolve(par_41, cond)\n",
    "    list_res_41_2.append(res)\n",
    "    tabl, res, PL, testings, fun = modf.PL_fsolve(par_6, cond)\n",
    "    list_res_6_2.append(res)"
   ]
  },
  {
   "cell_type": "code",
   "execution_count": null,
   "metadata": {},
   "outputs": [],
   "source": [
    "plt.plot([25, 50, 75, 100, 150, 200, 400, 600], list_res_41_2, label='V4.41 x2')\n",
    "plt.plot([25, 50, 75, 100, 150, 200, 400, 600], list_res_6_2, label='V4.6 x2')\n",
    "plt.xlabel('Vdot [L/h]')\n",
    "plt.ylabel('Pertes de charge [bar]')\n",
    "plt.legend()\n",
    "plt.show()"
   ]
  },
  {
   "cell_type": "code",
   "execution_count": null,
   "metadata": {},
   "outputs": [],
   "source": [
    "plt.plot([25, 50, 75, 100, 150, 200, 400, 600], [list_res_41_2[i]/list_res_6_2[i] for i in range(len(list_res_41_1))], label='PL ratio V4.41/V4.6 : x2')\n",
    "plt.xlabel('Vdot [L/h]')\n",
    "plt.ylabel('PL ratio')\n",
    "plt.legend()\n",
    "plt.show()"
   ]
  },
  {
   "cell_type": "code",
   "execution_count": null,
   "metadata": {},
   "outputs": [],
   "source": [
    "path = r\"G:\\Drive partagés\\Cercle Hard\\Innovation\\PVT-PL-model\\Inputs\"\n",
    "file_name = \"\\V4.41_x3.xlsx\"\n",
    "hw, par_41, cond = fe.initialize(path, file_name)\n",
    "file_name = \"\\V4.6_x3.xlsx\"\n",
    "hw, par_6, cond = fe.initialize(path, file_name)\n",
    "\n",
    "list_res_41_3 = []\n",
    "list_res_6_3 = []\n",
    "\n",
    "for Vdot in [25, 50, 75, 100, 150, 200, 400, 600]:\n",
    "    cond['Vdot'] = Vdot\n",
    "    cond['Dv'] = Vdot/3600000\n",
    "    tabl, res, PL, testings, fun = modf.PL_fsolve(par_41, cond)\n",
    "    list_res_41_3.append(res)\n",
    "    tabl, res, PL, testings, fun = modf.PL_fsolve(par_6, cond)\n",
    "    list_res_6_3.append(res)\n",
    "\n",
    "plt.plot([25, 50, 75, 100, 150, 200, 400, 600], list_res_41_3, label='V4.41 x3')\n",
    "plt.plot([25, 50, 75, 100, 150, 200, 400, 600], list_res_6_3, label='V4.6 x3')\n",
    "plt.xlabel('Vdot [L/h]')\n",
    "plt.ylabel('Pertes de charge [bar]')\n",
    "plt.legend()\n",
    "plt.show()"
   ]
  },
  {
   "cell_type": "code",
   "execution_count": null,
   "metadata": {},
   "outputs": [],
   "source": [
    "plt.plot([25, 50, 75, 100, 150, 200, 400, 600], list_res_41_3, label='V4.41 x3')\n",
    "plt.plot([25, 50, 75, 100, 150, 200, 400, 600], list_res_6_3, label='V4.6 x3')\n",
    "plt.xlabel('Vdot [L/h]')\n",
    "plt.ylabel('Pertes de charge [bar]')\n",
    "plt.legend()\n",
    "plt.show()"
   ]
  },
  {
   "cell_type": "code",
   "execution_count": null,
   "metadata": {},
   "outputs": [],
   "source": [
    "plt.plot([25, 50, 75, 100, 150, 200, 400, 600], [list_res_41_3[i]/list_res_6_3[i] for i in range(len(list_res_41_3))], label='PL ratio V4.41/V4.6 : x3')\n",
    "plt.xlabel('Vdot [L/h]')\n",
    "plt.ylabel('PL ratio')\n",
    "plt.legend()\n",
    "plt.show()"
   ]
  },
  {
   "cell_type": "code",
   "execution_count": null,
   "metadata": {},
   "outputs": [],
   "source": [
    "import os\n",
    "\n",
    "DP_export = []\n",
    "for Vdot in [10, 30, 60, 100, 150]:\n",
    "    df = pd.read_csv(f'G:\\Drive partagés\\Cercle Hard\\Innovation\\Hydraulique\\PL_1_riser\\processed\\\\line_{Vdot}.csv')\n",
    "    DP_export.append(df['Static Pressure'].iloc[-1]-df['Static Pressure'].iloc[0])\n",
    "    plt.plot(df['Position'], df['Static Pressure'], label=f'Vdot = {Vdot} L/h')\n",
    "\n",
    "plt.xlabel('Position [m]')\n",
    "plt.ylabel('Pressure [Pa]')\n",
    "plt.legend()\n",
    "plt.show()"
   ]
  },
  {
   "cell_type": "code",
   "execution_count": null,
   "metadata": {},
   "outputs": [],
   "source": [
    "DP_list = [-0.744-13.85, 0.0645 +4.6, -0.07+71.6, 122.9+0.18, 188+0.36]\n",
    "Vdot_list = [10, 30, 60, 100, 150]\n",
    "mdot_list= np.array(Vdot_list)*1e3/3600000/304\n",
    "plt.plot(mdot_list, DP_list, label='method = surface integral')\n",
    "#plt.plot(mdot_list, DP_export, label='method = line-to-export')\n",
    "plt.xlabel('mdot [kg/s]')\n",
    "plt.ylabel('DP [Pa]')\n",
    "plt.show()"
   ]
  }
 ],
 "metadata": {
  "kernelspec": {
   "display_name": "Python 3.10.5 ('model22')",
   "language": "python",
   "name": "python3"
  },
  "language_info": {
   "codemirror_mode": {
    "name": "ipython",
    "version": 3
   },
   "file_extension": ".py",
   "mimetype": "text/x-python",
   "name": "python",
   "nbconvert_exporter": "python",
   "pygments_lexer": "ipython3",
   "version": "3.11.6"
  },
  "orig_nbformat": 4,
  "vscode": {
   "interpreter": {
    "hash": "56caf856595f51be9bcc433b83ab5dc09086f65ad2b944386d7aaceab52f3078"
   }
  }
 },
 "nbformat": 4,
 "nbformat_minor": 2
}
