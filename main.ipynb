{
 "cells": [
  {
   "cell_type": "code",
   "execution_count": 1,
   "metadata": {},
   "outputs": [],
   "source": [
    "%load_ext autoreload\n",
    "%autoreload 2"
   ]
  },
  {
   "cell_type": "code",
   "execution_count": 2,
   "metadata": {},
   "outputs": [],
   "source": [
    "import sys\n",
    "\n",
    "import pandas as pd\n",
    "import numpy as np\n",
    "import matplotlib.pyplot as plt\n",
    "\n",
    "sys.path.append(\"../RD-systems-and-test-benches/utils\")\n",
    "import model_fsolve as modf\n",
    "\n",
    "import scipy.optimize as sco\n",
    "import scipy.interpolate as sci\n",
    "\n",
    "\n",
    "import hx_hydraulic as hxhy\n",
    "import from_excel as fe\n",
    "import data_plots as dplt\n",
    "\n",
    "import fluids as fds\n",
    "from CoolProp.CoolProp import PropsSI\n",
    "\n",
    "import openpyxl as opxl"
   ]
  },
  {
   "cell_type": "code",
   "execution_count": 3,
   "metadata": {},
   "outputs": [],
   "source": [
    "path = r\"G:\\Drive partagés\\BU04-Innovation\\PVT-PL-model\\Inputs\"\n",
    "file_name = \"\\V4.5_MPEx4.xlsx\"\n",
    "hw, par, cond = fe.initialize(path, file_name)"
   ]
  },
  {
   "cell_type": "code",
   "execution_count": 4,
   "metadata": {},
   "outputs": [],
   "source": [
    "Xsol , df,PL, df_PL, testings = modf.PL_fsolve(par,cond, q_init=[],show=False, series=None, simplified = False)"
   ]
  },
  {
   "cell_type": "code",
   "execution_count": 6,
   "metadata": {},
   "outputs": [
    {
     "data": {
      "text/plain": [
       "array([1.58630099e+03, 1.58628546e+03, 1.58627887e+03, 1.58629695e+03,\n",
       "       1.58635472e+03, 1.58646660e+03, 1.58664636e+03, 1.58690725e+03,\n",
       "       1.58726198e+03, 1.58772280e+03, 1.58830148e+03, 1.58900942e+03,\n",
       "       1.58985761e+03, 1.59085671e+03, 1.59201707e+03, 1.59334876e+03,\n",
       "       1.59488532e+03, 1.59658887e+03, 1.59849252e+03, 1.60060548e+03,\n",
       "       1.60293684e+03, 1.60549554e+03, 1.60829044e+03, 1.61133034e+03,\n",
       "       1.61462398e+03, 1.61818008e+03, 1.62200736e+03, 1.62611457e+03,\n",
       "       1.63051047e+03, 1.63520582e+03, 1.64020782e+03, 1.64552553e+03,\n",
       "       1.65124081e+03, 1.65721767e+03, 1.66353827e+03, 1.67021232e+03,\n",
       "       1.67724975e+03, 1.68466072e+03, 1.69245566e+03, 1.70064526e+03,\n",
       "       1.70924055e+03, 1.71825285e+03, 1.72769387e+03, 1.73757566e+03,\n",
       "       1.74791069e+03, 1.75871185e+03, 1.76999249e+03, 1.78176640e+03,\n",
       "       1.79418446e+03, 1.80698841e+03, 1.82033026e+03, 1.83422598e+03,\n",
       "       1.84869220e+03, 1.86374616e+03, 1.87940580e+03, 1.89568978e+03,\n",
       "       1.91261748e+03, 1.93020910e+03, 1.94848561e+03, 1.96746890e+03,\n",
       "       1.98836954e+03, 2.01121117e+03, 2.03839468e+03, 2.07469809e+03,\n",
       "       1.31141532e-22, 2.46575697e+01, 4.84148072e+01, 7.13017751e+01,\n",
       "       9.33473081e+01, 1.14579067e+02, 1.35023589e+02, 1.54706339e+02,\n",
       "       1.73651756e+02, 1.91883299e+02, 2.09423488e+02, 2.26293952e+02,\n",
       "       2.42515464e+02, 2.58107981e+02, 2.73090685e+02, 2.87482013e+02,\n",
       "       3.01430899e+02, 3.14691955e+02, 3.27412891e+02, 3.39609511e+02,\n",
       "       3.51297044e+02, 3.62490166e+02, 3.73203032e+02, 3.83449306e+02,\n",
       "       3.93242180e+02, 4.02594411e+02, 4.11518336e+02, 4.20025903e+02,\n",
       "       4.28128696e+02, 4.35837952e+02, 4.43164594e+02, 4.50119246e+02,\n",
       "       4.56780850e+02, 4.63022323e+02, 4.68922125e+02, 4.74488238e+02,\n",
       "       4.79731972e+02, 4.84662635e+02, 4.89289394e+02, 4.93621294e+02,\n",
       "       4.97667281e+02, 5.01436224e+02, 5.04936936e+02, 5.08178197e+02,\n",
       "       5.11168776e+02, 5.13917451e+02, 5.16433036e+02, 5.18724399e+02,\n",
       "       5.20822742e+02, 5.22692639e+02, 5.24365489e+02, 5.25850635e+02,\n",
       "       5.27157601e+02, 5.28296116e+02, 5.29276148e+02, 5.30107925e+02,\n",
       "       5.30801971e+02, 5.31369131e+02, 5.31820604e+02, 5.32167976e+02,\n",
       "       5.32423254e+02, 5.32598938e+02, 5.32707930e+02, 5.32763651e+02,\n",
       "       1.02728407e-06, 1.01197506e-06, 9.97234534e-07, 9.83054489e-07,\n",
       "       9.69427215e-07, 9.56345290e-07, 9.43801580e-07, 9.31789231e-07,\n",
       "       9.20301669e-07, 9.09332599e-07, 8.98875997e-07, 8.88926111e-07,\n",
       "       8.79477459e-07, 8.70524826e-07, 8.62063258e-07, 8.54088065e-07,\n",
       "       8.46523075e-07, 8.39507570e-07, 8.32965879e-07, 8.26894341e-07,\n",
       "       8.21289542e-07, 8.16148324e-07, 8.11467775e-07, 8.07245233e-07,\n",
       "       8.03478280e-07, 8.00164745e-07, 7.97302703e-07, 7.94890469e-07,\n",
       "       7.92926604e-07, 7.91411157e-07, 7.90342030e-07, 7.89718511e-07,\n",
       "       7.89542849e-07, 7.89809368e-07, 7.90520800e-07, 7.91678513e-07,\n",
       "       7.93281772e-07, 7.95331308e-07, 7.97828094e-07, 8.00773339e-07,\n",
       "       8.04168497e-07, 8.08015261e-07, 8.12315566e-07, 8.17071593e-07,\n",
       "       8.22285762e-07, 8.27960740e-07, 8.34099440e-07, 8.40705021e-07,\n",
       "       8.47857204e-07, 8.55407027e-07, 8.63434745e-07, 8.71944517e-07,\n",
       "       8.80940759e-07, 8.90428139e-07, 9.00411587e-07, 9.10896290e-07,\n",
       "       9.21887698e-07, 9.33391524e-07, 9.45413749e-07, 9.57960621e-07,\n",
       "       9.71831656e-07, 9.87033639e-07, 1.00516001e-06, 1.02939078e-06])"
      ]
     },
     "execution_count": 6,
     "metadata": {},
     "output_type": "execute_result"
    }
   ],
   "source": [
    "Xsol"
   ]
  },
  {
   "cell_type": "code",
   "execution_count": 5,
   "metadata": {},
   "outputs": [
    {
     "data": {
      "text/plain": [
       "[-2.2737367544323206e-13,\n",
       " -7.721080719225171e-14,\n",
       " 4.263256414560601e-14,\n",
       " -2.2737367544323206e-13,\n",
       " -1.42484982146307e-13,\n",
       " -4.618527782440651e-14,\n",
       " 2.2737367544323206e-13,\n",
       " -3.634072209823813e-13,\n",
       " -2.1316282072803006e-13,\n",
       " 2.2737367544323206e-13,\n",
       " -8.346101587619614e-14,\n",
       " -3.019806626980426e-13,\n",
       " 9.094947017729282e-13,\n",
       " 2.907535323615207e-13,\n",
       " -2.2382096176443156e-13,\n",
       " 2.7284841053187847e-12,\n",
       " 1.209365940724183e-12,\n",
       " 2.7711166694643907e-13,\n",
       " 6.59383658785373e-12,\n",
       " 2.480959881978606e-12,\n",
       " 1.2256862191861728e-12,\n",
       " 8.640199666842818e-12,\n",
       " 4.312383783400264e-12,\n",
       " 2.5792701308091637e-12,\n",
       " 1.2278178473934531e-11,\n",
       " 6.372569139045936e-12,\n",
       " 4.348521542851813e-12,\n",
       " 1.6143530956469476e-11,\n",
       " 8.247846849940288e-12,\n",
       " 6.245670647331281e-12,\n",
       " 2.000888343900442e-11,\n",
       " 9.954814750301466e-12,\n",
       " 8.217426739065559e-12,\n",
       " 2.1827872842550278e-11,\n",
       " 1.1285306023012254e-11,\n",
       " 1.0025758001575014e-11,\n",
       " 2.3419488570652902e-11,\n",
       " 1.2346235145344053e-11,\n",
       " 1.1311840353300795e-11,\n",
       " 2.4101609596982598e-11,\n",
       " 1.2931211657019048e-11,\n",
       " 1.2327916465437738e-11,\n",
       " 2.3646862246096134e-11,\n",
       " 1.251554415659939e-11,\n",
       " 1.2859047160418413e-11,\n",
       " 2.2737367544323206e-11,\n",
       " 1.1936451826954908e-11,\n",
       " 1.2683187833317788e-11,\n",
       " 2.000888343900442e-11,\n",
       " 1.0086820267929397e-11,\n",
       " 1.1798562127296464e-11,\n",
       " 1.6143530956469476e-11,\n",
       " 8.44080361162014e-12,\n",
       " 1.0242473535981844e-11,\n",
       " 1.2732925824820995e-11,\n",
       " 6.4650507169972116e-12,\n",
       " 8.44480041450879e-12,\n",
       " 8.185452315956354e-12,\n",
       " 3.910205492729801e-12,\n",
       " 6.448175327022909e-12,\n",
       " 3.865352482534945e-12,\n",
       " 1.7843504451775516e-12,\n",
       " 3.799627279477136e-12,\n",
       " -4.547473508864641e-13,\n",
       " -5.684341886080801e-13,\n",
       " 1.8243184740640572e-12,\n",
       " -4.092726157978177e-12,\n",
       " -1.8025581027814042e-12,\n",
       " -4.583000645652646e-13,\n",
       " -6.821210263296962e-12,\n",
       " -3.709033080667723e-12,\n",
       " -1.9806378759312793e-12,\n",
       " -8.86757334228605e-12,\n",
       " -4.914735285410643e-12,\n",
       " -3.623767952376511e-12,\n",
       " -1.0459189070388675e-11,\n",
       " -5.740297126521909e-12,\n",
       " -4.872546810474887e-12,\n",
       " -1.1141310096718371e-11,\n",
       " -5.894840171549731e-12,\n",
       " -5.714539952350606e-12,\n",
       " -1.1368683772161603e-11,\n",
       " -5.88595838735273e-12,\n",
       " -5.88507020893303e-12,\n",
       " -1.000444171950221e-11,\n",
       " -5.24646992516864e-12,\n",
       " -5.841549466367724e-12,\n",
       " -8.640199666842818e-12,\n",
       " -4.581224288813246e-12,\n",
       " -5.302425165609748e-12,\n",
       " -7.503331289626658e-12,\n",
       " -3.4843239404835913e-12,\n",
       " -4.4995118742008344e-12,\n",
       " -4.547473508864641e-12,\n",
       " -2.4797941478027496e-12,\n",
       " -3.6415315207705135e-12,\n",
       " -2.0463630789890885e-12,\n",
       " -1.2967404927621828e-12,\n",
       " -2.4780177909633494e-12,\n",
       " -2.2737367544323206e-13,\n",
       " -2.1671553440683056e-13,\n",
       " -1.3011813848606835e-12,\n",
       " 1.3642420526593924e-12,\n",
       " 9.894307595459395e-13,\n",
       " -2.779998453661392e-13,\n",
       " 5.002220859751105e-12,\n",
       " 2.1822543772032077e-12,\n",
       " 1.0444978215673473e-12,\n",
       " 6.821210263296962e-12,\n",
       " 3.674394122299418e-12,\n",
       " 2.2373214392246155e-12,\n",
       " 1.000444171950221e-11,\n",
       " 4.67803573656056e-12,\n",
       " 3.61577434659921e-12,\n",
       " 1.1823431123048067e-11,\n",
       " 5.995204332975845e-12,\n",
       " 4.789058039023075e-12,\n",
       " 1.432454155292362e-11,\n",
       " 7.220890552162018e-12,\n",
       " 5.871747532637528e-12,\n",
       " 1.7280399333685637e-11,\n",
       " 8.15525424968655e-12,\n",
       " 7.31015248334188e-12,\n",
       " 1.9326762412674725e-11,\n",
       " 9.71311919784057e-12,\n",
       " 8.106848525812893e-12,\n",
       " 2.1827872842550278e-11,\n",
       " 1.1233680652367184e-11,\n",
       " 9.85567183420244e-12,\n",
       " 2.4101609596982598e-11,\n",
       " 1.184474740512087e-11,\n",
       " 1.09952047466777e-11,\n",
       " 2.6830093702301383e-11,\n",
       " 1.3606893389805919e-11,\n",
       " 1.1896261753463477e-11,\n",
       " 2.9103830456733704e-11,\n",
       " 1.4866330388940696e-11,\n",
       " 1.3667289522345527e-11,\n",
       " 3.0468072509393096e-11,\n",
       " 1.5726087099210417e-11,\n",
       " 1.4910739309925702e-11,\n",
       " 3.115019353572279e-11,\n",
       " 1.574207431076502e-11,\n",
       " 1.5730972080518768e-11,\n",
       " 3.069544618483633e-11,\n",
       " 1.5333512237702962e-11,\n",
       " 1.5450973833708304e-11,\n",
       " 3.001332515850663e-11,\n",
       " 1.5017320720289717e-11,\n",
       " 1.5507595207964187e-11,\n",
       " 2.8421709430404007e-11,\n",
       " 1.5191403690550942e-11,\n",
       " 1.5024648192252243e-11,\n",
       " 2.8194335754960775e-11,\n",
       " 1.4937384662516706e-11,\n",
       " 1.503286384263447e-11,\n",
       " 2.5693225325085223e-11,\n",
       " 1.3294254586071474e-11,\n",
       " 1.5128787111962083e-11,\n",
       " 2.0236257114447653e-11,\n",
       " 1.049293985033728e-11,\n",
       " 1.3144929589259391e-11,\n",
       " 1.659827830735594e-11,\n",
       " 8.050449196161935e-12,\n",
       " 1.0615508472255897e-11,\n",
       " 1.2050804798491299e-11,\n",
       " 5.236699962551938e-12,\n",
       " 7.852274386266345e-12,\n",
       " 7.275957614183426e-12,\n",
       " 2.6574298317427747e-12,\n",
       " 5.172307027123679e-12,\n",
       " 2.5011104298755527e-12,\n",
       " 1.3216094885137863e-12,\n",
       " 2.768618667658984e-12,\n",
       " 9.094947017729282e-13,\n",
       " 7.105427357601002e-14,\n",
       " 1.3248291352851993e-12,\n",
       " -1.8189894035458565e-12,\n",
       " -1.3393730569077889e-12,\n",
       " 1.3494760864318778e-13,\n",
       " -2.5011104298755527e-12,\n",
       " -1.98596694644948e-12,\n",
       " -1.220135104063047e-12,\n",
       " -2.2737367544323206e-12,\n",
       " -1.1617373729677638e-12,\n",
       " -2.0129176103722557e-12,\n",
       " -1.3642420526593924e-12,\n",
       " -2.6290081223123707e-13,\n",
       " -1.2561410245304216e-12,\n",
       " 2.2737367544323206e-13,\n",
       " -6.776263578034403e-21,\n",
       " 1.3114153207336935e-22]"
      ]
     },
     "execution_count": 5,
     "metadata": {},
     "output_type": "execute_result"
    }
   ],
   "source": [
    "modf.fun(Xsol, par, cond)"
   ]
  },
  {
   "cell_type": "code",
   "execution_count": null,
   "metadata": {},
   "outputs": [],
   "source": [
    "list_Dv = [0.027e-3, 0.055e-3, 0.110e-3, 0.165e-3, 0.220e-3]\n",
    "list_Vdot = np.array(list_Dv)*3600000\n",
    "list_PL_CFD = [1067, 1279, 3861, 5072, 9573]\n",
    "list_PL_model ,list_tabl = modf.PL_fsolve_range(par, cond, list_Dv, 1.1/4)\n",
    "plt.plot(list_Vdot, np.array(list_PL_CFD)/1000, label = 'CFD')\n",
    "plt.plot(list_Vdot, np.array(list_PL_model)/1000, label = 'model')\n",
    "plt.xlabel('Vdot (L/h)')\n",
    "plt.ylabel('PL (kPa)')\n",
    "         \n",
    "plt.xlim(0, 850)\n",
    "plt.ylim(0, 11)\n",
    "\n",
    "plt.legend()\n",
    "plt.show()"
   ]
  },
  {
   "cell_type": "code",
   "execution_count": null,
   "metadata": {},
   "outputs": [],
   "source": [
    "cond['Dv'] = 0.055e-3 \n",
    "cond['Vdot'] = cond['Dv']*3600000 \n",
    "tabl, res, df_PL, t, f = modf.PL_fsolve(par, cond)"
   ]
  },
  {
   "cell_type": "code",
   "execution_count": null,
   "metadata": {},
   "outputs": [],
   "source": [
    "df = pd.read_csv(r\"G:\\Drive partagés\\BU04-Innovation\\PVT-PL-model\\CFD\\V4.5_MPEx4\\processed\\0.055_exhaust_pressure.csv\")\n",
    "last = df[\"Position\"].max() - 0.07\n",
    "df[\"riser\"] = [(df.loc[i][\"Position\"])*len(tabl)/last for i in range(len(df))]\n",
    "df[df[\"Position\"]<last].plot(x=\"riser\", y=\"Pressure\")\n",
    "tabl[\"Pout\"].plot(x=tabl.index)\n",
    "point2 = df[df[\"Position\"]<last].iloc[-1][\"Pressure\"]\n",
    "df2=df[df[\"Position\"]<last]"
   ]
  },
  {
   "cell_type": "code",
   "execution_count": null,
   "metadata": {},
   "outputs": [],
   "source": [
    "df = pd.read_csv(r\"G:\\Drive partagés\\BU04-Innovation\\PVT-PL-model\\CFD\\V4.5_MPEx4\\processed\\0.055_intake_pressure.csv\")\n",
    "last = df[\"Position\"].max()\n",
    "df[\"riser\"] = [(df.loc[i][\"Position\"] - 0.074)*len(tabl)/(last- 0.074) for i in range(len(df))]\n",
    "df[df[\"Position\"]>0.074].plot(x=\"riser\", y=\"Pressure\")\n",
    "tabl[\"Pin\"].plot(x=tabl.index)\n",
    "point1 = df[df[\"Position\"]>0.074].iloc[0][\"Pressure\"]\n",
    "df1=df[df[\"Position\"]>0.074]"
   ]
  },
  {
   "cell_type": "code",
   "execution_count": null,
   "metadata": {},
   "outputs": [],
   "source": [
    "df1.reset_index(inplace=True)\n",
    "df2.reset_index(inplace=True)\n",
    "df1-df2"
   ]
  },
  {
   "cell_type": "code",
   "execution_count": null,
   "metadata": {},
   "outputs": [],
   "source": [
    "D = '0.055'\n",
    "df1 = pd.read_csv(\"G:/Drive partagés/BU04-Innovation/PVT-PL-model/CFD/V4.5_MPEx4/processed/\" +D+ \"_risers_entry_pressure_per_riser.csv\")\n",
    "df2 = pd.read_csv(\"G:/Drive partagés/BU04-Innovation/PVT-PL-model/CFD\\V4.5_MPEx4/processed/\"+D+\"_risers_entry+0.050_pressure_per_riser.csv\")\n",
    "df3 = pd.read_csv(\"G:/Drive partagés/BU04-Innovation/PVT-PL-model/CFD/V4.5_MPEx4/processed/\"+D+\"_risers_after_first_bend_pressure_per_riser.csv\")\n",
    "df4 = pd.read_csv(\"G:/Drive partagés/BU04-Innovation/PVT-PL-model/CFD/V4.5_MPEx4/processed/\"+D+\"_risers_before_bj_pressure_per_riser.csv\")   \n",
    "df5 = pd.read_csv(\"G:/Drive partagés/BU04-Innovation/PVT-PL-model/CFD/V4.5_MPEx4/processed/\"+D+\"_risers_before_exhaust_pressure_per_riser.csv\")\n",
    "\n",
    "(df1[\"Pressure\"]-df5[\"Pressure\"]).plot(x=\"Group\")\n",
    "df_PL[\"RPL riser\"].plot()"
   ]
  },
  {
   "cell_type": "code",
   "execution_count": null,
   "metadata": {},
   "outputs": [],
   "source": [
    "df3"
   ]
  },
  {
   "cell_type": "code",
   "execution_count": null,
   "metadata": {},
   "outputs": [],
   "source": [
    "PL = point1 - point2\n",
    "PL"
   ]
  },
  {
   "cell_type": "code",
   "execution_count": null,
   "metadata": {},
   "outputs": [],
   "source": [
    "((df1-df2)['Pressure']* (67/5)/(df3-df4)['Pressure']).mean()"
   ]
  },
  {
   "cell_type": "code",
   "execution_count": null,
   "metadata": {},
   "outputs": [],
   "source": [
    "entry_5cm = np.array([0.7396875 - 0.7404128, 0.003751432 - 0.004154148, -0.3049988 + 0.5200261])\n",
    "entry = np.array([0.7785593-0.7787191, 0.03597014-0.03598411, -0.5199889+0.3049711])\n",
    "entry_5cm/entry"
   ]
  },
  {
   "cell_type": "code",
   "execution_count": null,
   "metadata": {},
   "outputs": [],
   "source": []
  },
  {
   "cell_type": "code",
   "execution_count": null,
   "metadata": {},
   "outputs": [],
   "source": [
    "hx, par, cond = fe.initialize(r\"G:\\Drive partagés\\BU04-Innovation\\PVT-PL-model\\Inputs\",r\"\\V4.5_1MPE.xlsx\")\n",
    "list_QF = np.array([50,200,350,500,650,800])/3600000\n",
    "list_QF_out = np.array([50,200,350,500])/3600000\n",
    "list_alpha = [0.01, 0.05, 0.1, 0.4, 0.7, 1]\n",
    "df = fe.testing_series(r\"G:\\Drive partagés\\BU04-Innovation\\PVT-PL-model\\Outputs\\Tests-model-simplification\\V4.5_1MPE_testings.xlsx\", list_QF, list_QF_out, list_alpha, par, cond)"
   ]
  },
  {
   "cell_type": "code",
   "execution_count": null,
   "metadata": {},
   "outputs": [],
   "source": [
    "from sklearn.ensemble import RandomForestRegressor\n",
    "\n",
    "df_testings = pd.read_excel(\"G:\\Drive partagés\\BU04-Innovation\\PVT-PL-model\\Outputs\\Tests-model-simplification\\V4.5_1MPE_testings.xlsx\")\n",
    "X = df_testings[['QF', 'QF_out', 'alpha']].to_numpy()\n",
    "yin = df_testings['DPin'].to_numpy()\n",
    "yout = df_testings['DPout'].to_numpy()\n",
    "yx = df_testings['DPx'].to_numpy()\n",
    "\n",
    "model_in = RandomForestRegressor() \n",
    "model_in.fit(X, yin)\n",
    "\n",
    "model_out = RandomForestRegressor() \n",
    "model_out.fit(X, yout)\n",
    "\n",
    "model_x = RandomForestRegressor() \n",
    "model_x.fit(X, yx)\n",
    "\n",
    "df_testings['DPin_test'] = model_in.predict(X)\n",
    "df_testings['DPout_test'] = model_out.predict(X)\n",
    "df_testings['DPx_test'] = model_x.predict(X)"
   ]
  },
  {
   "cell_type": "code",
   "execution_count": null,
   "metadata": {},
   "outputs": [],
   "source": [
    "dplt.K_abaque(df_testings, 'DPout')"
   ]
  },
  {
   "cell_type": "code",
   "execution_count": null,
   "metadata": {},
   "outputs": [],
   "source": [
    "hx, par, cond = fe.initialize(path, file_name)\n",
    "list_Vdot = np.array([150, 300, 450, 600])\n",
    "list_Dv = list_Vdot/3600000\n",
    "for coef in [1, 1.1, 1.2, 1.4] :\n",
    "    list_PL, list_tabl = modf.PL_fsolve_range(par, cond, list_Dv, 0.25*coef)\n",
    "    plt.plot(list_Vdot, list_PL/1000, label = f'f *= {coef}')\n",
    "plt.legend()\n",
    "plt.show()\n",
    "    \n"
   ]
  },
  {
   "cell_type": "code",
   "execution_count": null,
   "metadata": {},
   "outputs": [],
   "source": [
    "df2 = pd.DataFrame(modf.calc(df['qx'], par, cond)).transpose()\n",
    "df2.columns = [\"Qin\", \"Qout\", \"uin\", \"ux\", \"uout\", \"Rein\", \"Rex\", \"Reout\", \"fin\", \"fx\", \"fout\", \"Kx_in\", \"Ky_in\", \"Kx_out\", \"Ky_out\", \"K_se\", \"Lex\"]\n",
    "df = df.join(df2)\n",
    "df = df.join(df_PL)\n"
   ]
  },
  {
   "cell_type": "code",
   "execution_count": null,
   "metadata": {},
   "outputs": [],
   "source": [
    "path = 'G:\\Drive partagés\\BU04-Innovation\\PVT-PL-model\\Outputs\\Simulation_outputs'\n",
    "path_inputs = 'G:\\Drive partagés\\BU04-Innovation\\PVT-PL-model\\Inputs'\n",
    "name = '\\V4.41.xlsx'\n",
    "list_Vdot = np.array([150, 300, 450, 600])\n",
    "hx, par, cond = fe.initialize(path_inputs, name)\n",
    "\n",
    "writer = pd.ExcelWriter(path+name, engine = 'openpyxl')\n",
    "for Vdot in list_Vdot :\n",
    "    cond['Vdot'] = Vdot\n",
    "    cond['Dv'] = Vdot/3600000\n",
    "    df, PL, df_PL, testings = modf.PL_fsolve(par, cond)\n",
    "    df2 = pd.DataFrame(modf.calc(df['qx'], par, cond)).transpose()\n",
    "    df2.columns = [\"Qin\", \"Qout\", \"uin\", \"ux\", \"uout\", \"Rein\", \"Rex\", \"Reout\", \"fin\", \"fx\", \"fout\", \"Kx_in\", \"Ky_in\", \"Kx_out\", \"Ky_out\", \"K_se\", \"Lex\"]\n",
    "    df = df.join(df2)\n",
    "    df = df.join(df_PL)\n",
    "    df.to_excel(writer, sheet_name= f\"Vdot={Vdot}\", index=False)\n",
    "\n",
    "writer.close()\n"
   ]
  },
  {
   "cell_type": "code",
   "execution_count": null,
   "metadata": {},
   "outputs": [],
   "source": [
    "dplt.solve_plot(path, file_name)"
   ]
  },
  {
   "cell_type": "code",
   "execution_count": null,
   "metadata": {},
   "outputs": [],
   "source": []
  },
  {
   "cell_type": "code",
   "execution_count": null,
   "metadata": {},
   "outputs": [],
   "source": []
  },
  {
   "cell_type": "code",
   "execution_count": null,
   "metadata": {},
   "outputs": [],
   "source": [
    "df_K = pd.read_excel(\"G:\\Drive partagés\\BU04-Innovation\\PVT-PL-model\\Outputs\\Tests-model-simplification\\V4.5_1MPE_testings.xlsx\")"
   ]
  },
  {
   "cell_type": "code",
   "execution_count": null,
   "metadata": {},
   "outputs": [],
   "source": [
    "df_A = df_K[['QF', 'QF_out','alpha']]\n",
    "df_A['constant']=1\n",
    "df_A['sqrt'] = np.sqrt(df_A['QF'])\n",
    "df_A['QF*alpha'] = df_A['alpha']*df_A['QF']\n",
    "df_A['sqrt_alpha'] = df_A['alpha']*np.sqrt(df_A['QF'])\n",
    "df_A['QF_out*alpha'] = df_A['alpha']*df_A['QF_out']\n",
    "df_A['alpha2'] = df_A['alpha']**2\n",
    "df_A['QF*alpha2'] = df_A['alpha2']*df_A['QF']\n",
    "df_A['sqrt_alpha2'] = df_A['alpha2']*np.sqrt(df_A['QF'])\n",
    "df_A['QF_out*alpha2'] = df_A['alpha2']*df_A['QF_out']\n",
    "df_A = df_A[['constant', 'QF', 'sqrt', 'QF_out', 'alpha', 'QF*alpha', 'QF_out*alpha', 'sqrt_alpha', 'alpha2', 'QF*alpha2','QF_out*alpha2', 'sqrt_alpha2']]"
   ]
  },
  {
   "cell_type": "code",
   "execution_count": null,
   "metadata": {},
   "outputs": [],
   "source": [
    "A = df_A.to_numpy()\n",
    "B = df_K[['Kyin']].to_numpy()\n",
    "X = np.linalg.lstsq(A,B)[0]\n",
    "\n",
    "err = (A.dot(X)-B)*100/B\n",
    "np.abs(err.round()).mean()"
   ]
  },
  {
   "cell_type": "code",
   "execution_count": null,
   "metadata": {},
   "outputs": [],
   "source": [
    "X.transpose()*(df_A.mean().to_numpy())"
   ]
  },
  {
   "cell_type": "code",
   "execution_count": null,
   "metadata": {},
   "outputs": [],
   "source": [
    "df = pd.DataFrame(X.transpose())\n",
    "df.to_excel(\"G:\\Drive partagés\\BU04-Innovation\\PVT-PL-model\\Inputs\\V4.5_1MPE_Kyin.xlsx\", index=False)"
   ]
  },
  {
   "cell_type": "code",
   "execution_count": null,
   "metadata": {},
   "outputs": [],
   "source": [
    "df_K['Kyin_test'] = A.dot(X)"
   ]
  },
  {
   "cell_type": "code",
   "execution_count": null,
   "metadata": {},
   "outputs": [],
   "source": [
    "dplt.K_abaque(df_K,'Kyin')"
   ]
  },
  {
   "cell_type": "code",
   "execution_count": null,
   "metadata": {},
   "outputs": [],
   "source": [
    "TUV = pd.read_excel('G:\\Drive partagés\\BU04-Innovation\\Hydraulique\\PL_database\\\\230727_TUV_V4.41_x1_Z_water.xlsx')\n",
    "path = r\"G:\\Drive partagés\\BU04-Innovation\\PVT-PL-model\\Inputs\"\n",
    "file_name = r\"\\V4.41.xlsx\"\n",
    "hx, par, cond = fe.initialize(path, file_name)"
   ]
  },
  {
   "cell_type": "code",
   "execution_count": null,
   "metadata": {},
   "outputs": [],
   "source": [
    "list_Vdot = np.array(list(TUV['Vdot']))[::2]\n",
    "list_Dv = list_Vdot/3600000\n",
    "f = 20\n",
    "list_PL,list_tabl = modf.PL_fsolve_range(par, cond, list_Dv, f)\n",
    "plt.plot(list_Vdot, list_PL/1000, label = f'fapp = {f}')\n",
    "plt.plot(list(TUV['Vdot']), list(TUV['PL']), label = 'TÜV')\n",
    "plt.legend()\n",
    "plt.show()\n",
    "\n"
   ]
  },
  {
   "cell_type": "code",
   "execution_count": null,
   "metadata": {},
   "outputs": [],
   "source": [
    "# read excel file\n",
    "excel_file = pd.ExcelFile(r'G:\\Drive partagés\\BU04-Innovation\\Hydraulique\\components\\230725_PL_V4.41.xlsx')\n",
    "\n",
    "# create dictionary with dataframes\n",
    "df_dict = {}\n",
    "for sheet_name in excel_file.sheet_names:\n",
    "    df_dict[sheet_name] = excel_file.parse(sheet_name)\n",
    "    df_dict[sheet_name].drop(columns='Unnamed: 0',inplace=True)"
   ]
  },
  {
   "cell_type": "code",
   "execution_count": null,
   "metadata": {},
   "outputs": [],
   "source": [
    "for i in range(4):\n",
    "    key = list(df_dict.keys())[i]\n",
    "    list_Vdot = np.array(df_dict[key]['Vdot_per_panel'])\n",
    "    list_Dv = list_Vdot*(i+1)/3600000\n",
    "\n",
    "    path = r\"G:\\Drive partagés\\BU04-Innovation\\PVT-PL-model\\Inputs\"\n",
    "    file_name = f\"\\V4.41_x{i+1}.xlsx\"\n",
    "    hx, par, cond = fe.initialize(path, file_name)\n",
    "    list_PL, list_tabl = modf.PL_fsolve_range(par, cond, list_Dv[1::39], 20)\n",
    "\n",
    "    plt.plot(list_Vdot[1::39], list_PL/1000, label='Simulation')\n",
    "    plt.plot(list_Vdot, np.array(df_dict[key]['PL']), label='Experiments')\n",
    "    plt.xlabel('Vdot par panneau [L/h]')\n",
    "    plt.ylabel('PL [kPa]')\n",
    "    plt.legend()\n",
    "    plt.show()\n",
    "\n"
   ]
  },
  {
   "cell_type": "code",
   "execution_count": null,
   "metadata": {},
   "outputs": [],
   "source": [
    "list(df_dict.keys())"
   ]
  },
  {
   "cell_type": "code",
   "execution_count": null,
   "metadata": {},
   "outputs": [],
   "source": [
    "for k in df_dict.keys():\n",
    "    print(df_dict[k]['PL'])"
   ]
  }
 ],
 "metadata": {
  "kernelspec": {
   "display_name": "Python 3.10.5 ('model22')",
   "language": "python",
   "name": "python3"
  },
  "language_info": {
   "codemirror_mode": {
    "name": "ipython",
    "version": 3
   },
   "file_extension": ".py",
   "mimetype": "text/x-python",
   "name": "python",
   "nbconvert_exporter": "python",
   "pygments_lexer": "ipython3",
   "version": "3.10.5"
  },
  "orig_nbformat": 4,
  "vscode": {
   "interpreter": {
    "hash": "56caf856595f51be9bcc433b83ab5dc09086f65ad2b944386d7aaceab52f3078"
   }
  }
 },
 "nbformat": 4,
 "nbformat_minor": 2
}
