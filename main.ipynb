{
 "cells": [
  {
   "cell_type": "code",
   "execution_count": null,
   "metadata": {},
   "outputs": [],
   "source": [
    "print(sys.executable)"
   ]
  },
  {
   "cell_type": "code",
   "execution_count": null,
   "metadata": {},
   "outputs": [],
   "source": [
    "import math\n",
    "import pandas as pd\n",
    "import numpy as np\n",
    "import matplotlib.pyplot as plt\n",
    "import matplotlib.font_manager as fm\n",
    "import matplotlib.ticker as mtick\n",
    "from matplotlib.cm import get_cmap\n",
    "import addcopyfighandler\n",
    "\n",
    "from IPython.core.display import HTML\n",
    "from IPython.display import display\n",
    "\n",
    "import model2 as mod\n",
    "import model_fsolve as modf"
   ]
  },
  {
   "cell_type": "code",
   "execution_count": null,
   "metadata": {},
   "outputs": [],
   "source": [
    "import fluids as fds"
   ]
  },
  {
   "cell_type": "code",
   "execution_count": null,
   "metadata": {},
   "outputs": [],
   "source": [
    "par = {}\n",
    "\n",
    "par[\"eps\"] = 0.001\n",
    "\n",
    "par[\"ref\"] = 1\n",
    "\n",
    "par[\"rho\"] = 997 # kg/m3\n",
    "par[\"nu\"] = 0.896*1e-6 # at 25°C, in m2/s https://www4.ac-nancy-metz.fr/physique/ancien_site/Tp-phys/Term/TP-fluid/visco-eau.htm\n",
    "par[\"eta\"] = par[\"rho\"]*par[\"nu\"]"
   ]
  },
  {
   "cell_type": "code",
   "execution_count": null,
   "metadata": {},
   "outputs": [],
   "source": [
    "# Heat exchanger inputs --------------------------------------------------\n",
    "\n",
    "# REAL SPRING\n",
    "# -----------\n",
    "\n",
    "par[\"N\"] = 165\n",
    "\n",
    "par[\"Lx\"] = 1.39985 # longueur d'un canal en m, not used in the row calculation\n",
    "par[\"Ly\"] = 0.0008157 # distance inter canaux en m\n",
    "\n",
    "# pour le SPRING, avec 1 mm d'écart entre chaque duo de risers, et 5 mm de largeur par riser, ça fait 989 mm de largeur\n",
    "\n",
    "par[\"h_man\"] = 0.010 # SPRING en vrai c'est 0.010\n",
    "par[\"l_man\"] = 0.022\n",
    "\n",
    "par[\"Dx\"] = 0.00476 # m, not used in the row calculation\n",
    "par[\"Din\"] = (2*par[\"h_man\"]*par[\"l_man\"])/(par[\"h_man\"]+par[\"l_man\"]) # m\n",
    "par[\"Dout\"] = par[\"Din\"] # m\n",
    "\n",
    "par[\"theta\"] = 90.\n",
    "\n",
    "par[\"rough\"] = 0.0015 # PVC/plastic pipe absolute roughness is 0.0015"
   ]
  },
  {
   "cell_type": "code",
   "execution_count": null,
   "metadata": {},
   "outputs": [],
   "source": [
    "# Manifold tubulaire\n",
    "\n",
    "par[\"Ax\"] = math.pi*(par[\"Dx\"]/2)**2\n",
    "par[\"Ain\"] = math.pi*(par[\"Din\"]/2)**2\n",
    "par[\"Aout\"] = math.pi*(par[\"Dout\"]/2)**2\n",
    "\n",
    "par[\"a_x\"] = 84.7/800\n",
    "# par[\"a\"] = 0.\n",
    "par[\"b_x\"] = 5.36/800\n",
    "\n",
    "# dP (Pa) = (rho/2) (a_x u**2 + b_x u) its the pressure loss function of a heat exchanger\n",
    "\n",
    "par[\"sch\"] = \"exchanger\""
   ]
  },
  {
   "cell_type": "code",
   "execution_count": null,
   "metadata": {},
   "outputs": [],
   "source": [
    "# Manifold rectangulaire (SPRING ou autre)\n",
    "\n",
    "par[\"Ax\"] = math.pi*(par[\"Dx\"]/2)**2\n",
    "par[\"Ain\"] = par[\"h_man\"]*par[\"l_man\"]\n",
    "par[\"Aout\"] = par[\"Ain\"]\n",
    "\n",
    "par[\"a_x\"] = 84.7/800\n",
    "# par[\"a\"] = 0.\n",
    "par[\"b_x\"] = 5.36/800\n",
    "\n",
    "# dP (Pa) = (rho/2) (a_x u**2 + b_x u) its the pressure loss function of a heat exchanger\n",
    "\n",
    "par[\"sch\"] = \"exchanger\""
   ]
  },
  {
   "cell_type": "code",
   "execution_count": null,
   "metadata": {},
   "outputs": [],
   "source": [
    "# 'Crane' or 'perso'\n",
    "par['method'] = 'Crane'\n",
    "\n",
    "# Listes de taille par[\"N\"]\n",
    "\n",
    "par['Kxin'] = []\n",
    "par['Kyin'] = []\n",
    "par['Kxout'] = []\n",
    "par['Kyout'] = []"
   ]
  },
  {
   "cell_type": "code",
   "execution_count": null,
   "metadata": {},
   "outputs": [],
   "source": [
    "# Test d'un seul débit\n",
    "\n",
    "par[\"QF\"] = 100/3600000 # m3/s (0.000278 m3/s = 1000 L/h) (le premier nombre est en L/h)\n",
    "# Speed and Reynolds at inlet manifold\n",
    "par[\"U\"] = par[\"QF\"]/par[\"Ain\"]\n",
    "par[\"Reman\"] = par[\"U\"]*(par[\"rho\"]*par[\"Din\"])/par[\"eta\"]\n",
    "tabl,res = modf.PL_fsolve(par,par[\"sch\"],True)"
   ]
  },
  {
   "cell_type": "code",
   "execution_count": null,
   "metadata": {},
   "outputs": [],
   "source": [
    "# Liste de plusieurs débits\n",
    "\n",
    "# list_k = np.linspace(1e-6,5*1e-6,10)\n",
    "# list_k = np.linspace(1e-8,1e-6,20)\n",
    "list_Q = [10/3600000,50/3600000,100/3600000,150/3600000,200/3600000] # m3/s\n",
    "list_Q_L = 3600000*np.array(list_Q)\n",
    "\n",
    "list_PL = []\n",
    "list_mn = []\n",
    "list_std = []\n",
    "list_tabl = []"
   ]
  },
  {
   "cell_type": "code",
   "execution_count": null,
   "metadata": {},
   "outputs": [],
   "source": [
    "print(list_Q)\n",
    "print(list_Q_L)"
   ]
  },
  {
   "cell_type": "code",
   "execution_count": null,
   "metadata": {},
   "outputs": [],
   "source": [
    "# Model fsolve\n",
    "\n",
    "for Q in list_Q:\n",
    "    print(Q)\n",
    "    par[\"QF\"] = Q\n",
    "    # Speed and Reynolds at inlet manifold\n",
    "    par[\"U\"] = par[\"QF\"]/par[\"Ain\"]\n",
    "    par[\"Reman\"] = par[\"U\"]*(par[\"rho\"]*par[\"Din\"])/par[\"eta\"]\n",
    "\n",
    "    tabl,res = modf.PL_fsolve(par,par[\"sch\"],False)\n",
    "    list_PL.append(res)\n",
    "    list_tabl.append(tabl)\n",
    "\n",
    "    list_mn.append(tabl['qx'].mean()) # fow rate qx is in L/h\n",
    "    list_std.append(tabl['qx'].std())\n"
   ]
  },
  {
   "cell_type": "code",
   "execution_count": null,
   "metadata": {},
   "outputs": [],
   "source": [
    "rho = par['rho']\n",
    "\n",
    "for q in range(len(list_Q)):\n",
    "    PLq = list_PL[q]\n",
    "\n",
    "    lin_in = []\n",
    "    lin_x = []\n",
    "    lin_out = []\n",
    "    lin_in_cum = []\n",
    "    lin_out_cum = []\n",
    "    sing = []\n",
    "\n",
    "    tab = list_tabl[q]\n",
    "\n",
    "    Qin = []\n",
    "    Qout = []\n",
    "    \n",
    "    for i in range(par[\"N\"]):\n",
    "        Qin.append(sum([tab['qx'][j] for j in range(0,i+1)]))\n",
    "        Qout.append(sum([tab['qx'][j] for j in range(i,par[\"N\"])]))\n",
    "\n",
    "    tab['Qin'] = Qin\n",
    "    tab['Qout'] = Qout\n",
    "\n",
    "    for i in range(par[\"N\"]):\n",
    "        Qin_i = tab['Qin'][i]\n",
    "        Qout_i = tab['Qout'][i]\n",
    "        qx_i = tab['qx'][i]\n",
    "\n",
    "        uin_i = (Qin_i/3600000)/par['Ain']\n",
    "        ux_i = (qx_i/3600000)/par['Ax']\n",
    "        uout_i = (Qout_i/3600000)/par['Aout']\n",
    "\n",
    "        Rein_i = fds.core.Reynolds(uin_i,par['Din'],par['rho'],mu=par['eta'])\n",
    "        Rex_i = fds.core.Reynolds(ux_i,par['Dx'],par['rho'],mu=par['eta'])\n",
    "        Reout_i = fds.core.Reynolds(uout_i,par['Dout'],par['rho'],mu=par['eta'])\n",
    "        fin_i = fds.friction.friction_factor(Re = Rein_i)\n",
    "        fx_i = fds.friction.friction_factor(Re = Rex_i)\n",
    "        fout_i = fds.friction.friction_factor(Re = Reout_i)\n",
    "\n",
    "        ain_i = fin_i*(par['Ly']/par['Din'])\n",
    "        ax_i = fx_i*(par['Lx']/par['Dx'])\n",
    "        aout_i = fout_i*(par['Ly']/par['Dout'])\n",
    "\n",
    "        lin_in.append((rho/2)*ain_i*uin_i**2)\n",
    "        lin_x.append((rho/2)*ax_i*ux_i**2)\n",
    "        lin_out.append((rho/2)*aout_i*uout_i**2)\n",
    "\n",
    "    tab['lin_in'] = lin_in\n",
    "    tab['lin_x'] = lin_x\n",
    "    tab['lin_out'] = lin_out\n",
    "\n",
    "    for i in range(par[\"N\"]):\n",
    "        lin_in_cum.append(sum([lin_in[j] for j in range(i,par[\"N\"])]))\n",
    "        lin_out_cum.append(sum([lin_out[j] for j in range(0,i+1)]))\n",
    "\n",
    "    tab['lin_in_cum'] = lin_in_cum\n",
    "    tab['lin_out_cum'] = lin_out_cum\n",
    "\n",
    "    for i in range(par[\"N\"]):\n",
    "        sing.append(PLq-tab['lin_in_cum'][i]-tab['lin_x'][i]-tab['lin_out_cum'][i])\n",
    "    \n",
    "    tab['sing'] = sing"
   ]
  },
  {
   "cell_type": "code",
   "execution_count": null,
   "metadata": {},
   "outputs": [],
   "source": [
    "sum([list_tabl[2]['qx'][i] for i in range(par[\"N\"])])"
   ]
  },
  {
   "cell_type": "code",
   "execution_count": null,
   "metadata": {},
   "outputs": [],
   "source": [
    "print(list_PL)\n",
    "print(list_tabl[0])"
   ]
  },
  {
   "cell_type": "code",
   "execution_count": null,
   "metadata": {},
   "outputs": [],
   "source": [
    "q = 2\n",
    "Q = list_Q_L[q]\n",
    "\n",
    "x = np.array(range(0,17))\n",
    "x = 10*x"
   ]
  },
  {
   "cell_type": "code",
   "execution_count": null,
   "metadata": {},
   "outputs": [],
   "source": [
    "print(x)\n",
    "print(len(x))"
   ]
  },
  {
   "cell_type": "code",
   "execution_count": null,
   "metadata": {},
   "outputs": [],
   "source": [
    "# Stacked bars chart\n",
    "\n",
    "labels = [str(x[i]) for i in range(len(x))]\n",
    "\n",
    "tab = list_tabl[q]\n",
    "\n",
    "lin_in_cum = []\n",
    "lin_x = []\n",
    "lin_out_cum = []\n",
    "sing = []\n",
    "\n",
    "for i in range(len(x)):\n",
    "    lin_in_cum.append(tab['lin_in_cum'][x[i]])\n",
    "    lin_x.append(tab['lin_x'][x[i]])\n",
    "    lin_out_cum.append(tab['lin_out_cum'][x[i]])\n",
    "    sing.append(tab['sing'][x[i]])"
   ]
  },
  {
   "cell_type": "code",
   "execution_count": null,
   "metadata": {},
   "outputs": [],
   "source": [
    "lin_in_cum = np.array(lin_in_cum)\n",
    "lin_x = np.array(lin_x)\n",
    "lin_out_cum = np.array(lin_out_cum)\n",
    "sing = np.array(sing)\n",
    "\n",
    "width = 0.35       # the width of the bars: can also be len(x) sequence\n",
    "\n",
    "fig, ax = plt.subplots()\n",
    "\n",
    "ax.bar(labels, lin_in_cum, width, label='Inlet header linear PL')\n",
    "ax.bar(labels, lin_x, width, bottom=lin_in_cum,label='Riser linear PL')\n",
    "ax.bar(labels, lin_out_cum, width, bottom=lin_in_cum+lin_x,label='Outlet header linear PL')\n",
    "ax.bar(labels, sing, width, bottom=lin_in_cum+lin_x+lin_out_cum,label='Singular PL')\n",
    "\n",
    "ax.plot(labels,np.array(17*[list_PL[q]]))\n",
    "\n",
    "ax.set_ylabel('PL (Pa)')\n",
    "# ax.set_title('SPRING')\n",
    "ax.legend()\n",
    "\n",
    "plt.show()"
   ]
  },
  {
   "cell_type": "code",
   "execution_count": null,
   "metadata": {},
   "outputs": [],
   "source": [
    "print(np.average(sing))\n",
    "print(np.average(sing)/list_PL[q])\n",
    "print(np.average(lin_x))\n",
    "print(np.average(lin_x)/list_PL[q])"
   ]
  },
  {
   "cell_type": "code",
   "execution_count": null,
   "metadata": {},
   "outputs": [],
   "source": [
    "list_tabl[0]['qx']"
   ]
  },
  {
   "cell_type": "code",
   "execution_count": null,
   "metadata": {},
   "outputs": [],
   "source": [
    "# Inputs for singular pressure losses\n",
    "\n",
    "d_epdm = 0.015\n",
    "d_red = 0.0078 # 0.011 en pratique, diminué à 0.0078 pour que les PL + 2m EPDM fit aux mesures exp Technoptic avec SSA\n",
    "d_man = 0.0081 # 13 mm de base, quand le manifold ne fait plus que 5 mm de hauteur c'est 8,1 mm de diamètre hydraulique\n",
    "\n",
    "L_epdm = 2.\n",
    "\n",
    "angle_bm_epdm = 90.\n",
    "angle_bm_man = 90."
   ]
  },
  {
   "cell_type": "code",
   "execution_count": null,
   "metadata": {},
   "outputs": [],
   "source": [
    "list_Re = []\n",
    "\n",
    "Kc_list_R = []\n",
    "Kc_list_H = []\n",
    "PL_c_R = []\n",
    "PL_c_H = []\n",
    "\n",
    "Kdm_list_R = []\n",
    "Kdm_list_H = []\n",
    "PL_dm_R = []\n",
    "PL_dm_H = []\n",
    "\n",
    "Kcm_list_R = []\n",
    "Kcm_list_H = []\n",
    "PL_cm_R = []\n",
    "PL_cm_H = []\n",
    "\n",
    "Kd_list_R = []\n",
    "Kd_list_H = []\n",
    "PL_d_R = []\n",
    "PL_d_H = []\n",
    "\n",
    "list_Kbm_man = []\n",
    "PL_bm_man = []\n",
    "\n",
    "list_Kbm_epdm = []\n",
    "PL_bm_epdm = []\n",
    "\n",
    "PL_epdm = []\n",
    "\n",
    "for Q in list_Q:\n",
    "    u_epdm = Q/(math.pi*(d_epdm/2)**2)\n",
    "    u_red = Q/(math.pi*(d_red/2)**2)\n",
    "    u_man = Q/(math.pi*(d_man/2)**2)\n",
    "\n",
    "    # Reynolds dans les liaisons EPDM, dans la réduction du QDF, dans les manifolds\n",
    "    Re_epdm = fds.core.Reynolds(u_epdm,d_epdm,par[\"rho\"],mu=par[\"eta\"])\n",
    "    list_Re.append(Re_epdm)\n",
    "    Re_red = fds.core.Reynolds(u_red,d_red,par[\"rho\"],mu=par[\"eta\"])\n",
    "    Re_man = fds.core.Reynolds(u_man,d_man,par[\"rho\"],mu=par[\"eta\"])\n",
    "\n",
    "    # Contraction sharp EPDM-reduction\n",
    "    Kc_H = fds.fittings.contraction_sharp(d_epdm,d_red,Re=Re_epdm,roughness=par[\"rough\"],method='Hooper')\n",
    "    Kc_R = fds.fittings.contraction_sharp(d_epdm,d_red,Re=Re_epdm,roughness=par[\"rough\"],method='Rennels')\n",
    "    Kc_list_H.append(Kc_H)\n",
    "    Kc_list_R.append(Kc_R)\n",
    "    PL_c_H.append((par[\"rho\"]/2)*Kc_H*u_epdm**2)\n",
    "    PL_c_R.append((par[\"rho\"]/2)*Kc_R*u_epdm**2)\n",
    "\n",
    "    # Diffuser sharp reduction-man\n",
    "    Kdm_H = fds.fittings.diffuser_sharp(d_red,d_man,Re=Re_red,roughness=par[\"rough\"],method='Hooper')\n",
    "    Kdm_R = fds.fittings.diffuser_sharp(d_red,d_man,Re=Re_red,roughness=par[\"rough\"],method='Rennels')\n",
    "    Kdm_list_H.append(Kdm_H)\n",
    "    Kdm_list_R.append(Kdm_R)\n",
    "    PL_dm_H.append((par[\"rho\"]/2)*Kdm_H*u_red**2)\n",
    "    PL_dm_R.append((par[\"rho\"]/2)*Kdm_R*u_red**2)\n",
    "\n",
    "    # Contraction sharp manifold-reduction\n",
    "\n",
    "    Kcm_H = fds.fittings.contraction_sharp(d_man,d_red,Re=Re_man,roughness=par[\"rough\"],method='Hooper')\n",
    "    Kcm_R = fds.fittings.contraction_sharp(d_man,d_red,Re=Re_man,roughness=par[\"rough\"],method='Rennels')\n",
    "    Kcm_list_H.append(Kcm_H)\n",
    "    Kcm_list_R.append(Kcm_R)\n",
    "    PL_cm_H.append((par[\"rho\"]/2)*Kcm_H*u_man**2)\n",
    "    PL_cm_R.append((par[\"rho\"]/2)*Kcm_R*u_man**2)\n",
    "\n",
    "    # Diffuser sharp reduction-EPDM\n",
    "    Kd_H = fds.fittings.diffuser_sharp(d_red,d_epdm,Re=Re_red,roughness=par[\"rough\"],method='Hooper')\n",
    "    Kd_R = fds.fittings.diffuser_sharp(d_red,d_epdm,Re=Re_red,roughness=par[\"rough\"],method='Rennels')\n",
    "    Kd_list_H.append(Kd_H)\n",
    "    Kd_list_R.append(Kd_R)\n",
    "    PL_d_H.append((par[\"rho\"]/2)*Kd_H*u_red**2)\n",
    "    PL_d_R.append((par[\"rho\"]/2)*Kd_R*u_red**2)\n",
    "\n",
    "    # Bend miter in the EPDM\n",
    "    Kbm_epdm = fds.fittings.bend_miter(angle_bm_epdm, Di=d_epdm, Re=fds.core.Reynolds(u_epdm,d_epdm,par[\"rho\"],mu=par[\"eta\"]),roughness=par[\"rough\"], L_unimpeded=d_epdm, method='Rennels')\n",
    "    list_Kbm_epdm.append(Kbm_epdm)\n",
    "    PL_bm_epdm.append((par[\"rho\"]/2)*Kbm_epdm*u_epdm**2)\n",
    "\n",
    "    # Bend miter in the manifold\n",
    "    Kbm = fds.fittings.bend_miter(angle_bm_man, Di=d_man, Re=Re_man, L_unimpeded=2*d_man, method='Rennels')\n",
    "    list_Kbm_man.append(Kbm)\n",
    "    PL_bm_man.append((par[\"rho\"]/2)*Kbm*u_man**2)\n",
    "\n",
    "    # Linear pressure losses\n",
    "\n",
    "    f_epdm = fds.friction.friction_factor(Re = Re_epdm,eD=par[\"rough\"]/d_epdm)\n",
    "    K_lin_epdm = f_epdm*(L_epdm/d_epdm)\n",
    "    PL_epdm.append((par[\"rho\"]/2)*K_lin_epdm*u_epdm**2)\n",
    "\n",
    "# Total pressure losses\n",
    "\n",
    "exp_PL_tot = [(3.3*1E-5*Q**2+0.002363466*Q)*1000 for Q in list_Q_L]\n",
    "\n",
    "PL_tot = np.array(PL_c_H) + np.array(PL_dm_H) + np.array(PL_d_H) + np.array(PL_cm_H) + 2*np.array(PL_bm_epdm) + 2*np.array(PL_bm_man) + np.array(list_PL)\n",
    "PL_tot_lin = PL_tot + np.array(PL_epdm)\n",
    "\n",
    "print(list_Q_L)\n",
    "print(exp_PL_tot)\n",
    "print(PL_tot)\n",
    "\n",
    "plt.plot(list_Q_L,list_Re,label='Reynolds in EPDM')\n",
    "plt.legend()\n",
    "plt.show()\n",
    "\n",
    "plt.plot(list_Q_L,PL_c_R,label='Rennels')\n",
    "plt.plot(list_Q_L,PL_c_H,label='Hooper')\n",
    "plt.legend()\n",
    "plt.show()\n",
    "\n",
    "plt.plot(list_Q_L,PL_d_R,label='Rennels')\n",
    "plt.plot(list_Q_L,PL_d_H,label='Hooper')\n",
    "plt.legend()\n",
    "plt.show()\n",
    "\n",
    "plt.plot(list_Q_L,PL_bm_epdm,label='Rennels bm_epdm')\n",
    "plt.legend()\n",
    "plt.show()\n",
    "\n",
    "plt.plot(list_Q_L,PL_bm_man,label='Rennels bm_man')\n",
    "plt.legend()\n",
    "plt.show()\n",
    "\n",
    "plt.plot(list_Q_L,PL_epdm,label='Linear pressure losses')\n",
    "plt.legend()\n",
    "plt.show()\n",
    "\n",
    "plt.plot(list_Q_L,PL_tot,label='Estimation of SPRING PL')\n",
    "plt.plot(list_Q_L,PL_tot_lin,label='Estimation + 2 m of EPDM')\n",
    "plt.plot(list_Q_L,exp_PL_tot,label='Measured SPRING PL')\n",
    "plt.legend()\n",
    "plt.xlabel('Q (L/h)')\n",
    "plt.ylabel('PL (Pa)')\n",
    "plt.grid()\n",
    "plt.show()\n"
   ]
  },
  {
   "cell_type": "code",
   "execution_count": null,
   "metadata": {},
   "outputs": [],
   "source": [
    "# Stacked bars chart\n",
    "\n",
    "labels = ['10', '50', '100', '150', '200']\n",
    "\n",
    "# cont_diff = np.array(PL_c_R) + np.array(PL_dm_R) + np.array(PL_d_R) + np.array(PL_cm_R)\n",
    "cont_diff = np.array(PL_c_H) + np.array(PL_dm_H) + np.array(PL_d_H) + np.array(PL_cm_H)\n",
    "bends = 2*np.array(PL_bm_epdm) + 2*np.array(PL_bm_man)\n",
    "harp = np.array(list_PL)\n",
    "reg = np.array(PL_epdm)\n",
    "\n",
    "width = 0.35       # the width of the bars: can also be len(x) sequence\n",
    "\n",
    "fig, ax = plt.subplots()\n",
    "\n",
    "ax.bar(labels, cont_diff, width, label='Sharp contractions and diffusers')\n",
    "ax.bar(labels, bends, width, bottom=cont_diff,label='Bends (x4)')\n",
    "ax.bar(labels, harp, width, bottom=cont_diff+bends,label='Harp exchanger')\n",
    "ax.bar(labels, reg, width, bottom=cont_diff+bends+harp,label='Linear PL')\n",
    "\n",
    "ax.set_ylabel('PL (Pa)')\n",
    "ax.set_title('SPRING')\n",
    "ax.legend()\n",
    "\n",
    "plt.show()"
   ]
  },
  {
   "cell_type": "code",
   "execution_count": null,
   "metadata": {},
   "outputs": [],
   "source": [
    "save = [PL_tot,PL_tot_lin,exp_PL_tot,cont_diff,bends,harp,reg]"
   ]
  },
  {
   "cell_type": "code",
   "execution_count": null,
   "metadata": {},
   "outputs": [],
   "source": [
    "save2 = [PL_tot,PL_tot_lin,exp_PL_tot,cont_diff,bends,harp,reg]"
   ]
  },
  {
   "cell_type": "code",
   "execution_count": null,
   "metadata": {},
   "outputs": [],
   "source": [
    "ratio = (PL_tot_lin-save[1])/save[1]\n",
    "\n",
    "plt.plot(list_Q_L,ratio)\n",
    "plt.xlabel('Q (L/h)')\n",
    "plt.ylabel('PL increase')\n",
    "plt.title('SPRING h5 mm PL increase in % of SPRING h10 mm PL')\n",
    "plt.gca().set_yticklabels([f'{x:.0%}' for x in plt.gca().get_yticks()]) \n",
    "plt.grid()\n",
    "plt.show()"
   ]
  },
  {
   "cell_type": "code",
   "execution_count": null,
   "metadata": {},
   "outputs": [],
   "source": [
    "plt.plot(list_Q_L,PL_tot,label='Total pressure losses')\n",
    "\n",
    "plt.legend()\n",
    "plt.xlabel('Q (L/h)')\n",
    "plt.ylabel('Re')\n",
    "\n",
    "plt.grid()"
   ]
  },
  {
   "cell_type": "code",
   "execution_count": null,
   "metadata": {},
   "outputs": [],
   "source": [
    "print(list_Q_L)\n",
    "print(list_PL)\n",
    "print(list_mn)\n",
    "print([list_Q_L[i]/par[\"N\"] for i in range(len(list_Q_L))])\n",
    "\n",
    "# df_res = pd.DataFrame([np.array(list_Q_L),np.array(list_PL)],columns = ['Q_L','PL (Pa)'])\n",
    "# display(HTML(df_res.to_html()))  \n"
   ]
  },
  {
   "cell_type": "code",
   "execution_count": null,
   "metadata": {},
   "outputs": [],
   "source": [
    "# Répartition des débits par canal (en valeur absolue)\n",
    "\n",
    "list_Q_L_round = [round(num, 0) for num in list_Q_L]\n",
    "risers = np.linspace(0,par[\"N\"]-1,par[\"N\"])\n",
    "\n",
    "for i in range(len(list_tabl)):\n",
    "    plt.plot(risers,np.array(list_tabl[i]['qx']),label=str(list_Q_L_round[i])+' L/h')\n",
    "    plt.legend()\n",
    "\n",
    "plt.xlabel('N° riser')\n",
    "plt.ylabel('qx (L/h)')\n",
    "# plt.legend(loc='center left', bbox_to_anchor=(1, 0.5))\n",
    "plt.grid()\n",
    "\n",
    "plt.show()"
   ]
  },
  {
   "cell_type": "code",
   "execution_count": null,
   "metadata": {},
   "outputs": [],
   "source": [
    "# Répartition des débits par canal (en valeur relative au débit moyen attendu)\n",
    "\n",
    "for i in range(len(list_tabl)):\n",
    "    plt.plot(risers,np.array(list_tabl[i]['qx'])/list_mn[i],label=str(list_Q_L_round[i])+' L/h')\n",
    "    plt.legend()\n",
    "\n",
    "plt.xlabel('N° riser')\n",
    "plt.ylabel('qx/q_mean')\n",
    "# plt.legend(loc='center left', bbox_to_anchor=(1, 0.5))\n",
    "plt.grid()\n",
    "\n",
    "plt.show()"
   ]
  },
  {
   "cell_type": "code",
   "execution_count": null,
   "metadata": {},
   "outputs": [],
   "source": [
    "# Plot pressure losses\n",
    "\n",
    "plt.plot(np.array(list_Q_L),np.array(list_PL))\n",
    "\n",
    "plt.xlabel('Q (L/h)')\n",
    "plt.ylabel('PL (Pa)')\n",
    "# plt.legend(loc='center left', bbox_to_anchor=(1, 0.5))\n",
    "plt.grid()\n",
    "\n",
    "plt.show()"
   ]
  },
  {
   "cell_type": "markdown",
   "metadata": {},
   "source": []
  },
  {
   "cell_type": "code",
   "execution_count": null,
   "metadata": {},
   "outputs": [],
   "source": [
    "# Plot mean and standard deviation of flow rate\n",
    "\n",
    "plt.plot(np.array(list_Q_L),np.array(list_mn))\n",
    "plt.plot(np.array(list_Q_L),np.array(list_std))\n",
    "\n",
    "plt.xlabel('Q (L/h)')\n",
    "plt.ylabel('Flow rate (L/h)')\n",
    "# plt.legend(loc='center left', bbox_to_anchor=(1, 0.5))\n",
    "plt.grid()\n",
    "\n",
    "plt.show()"
   ]
  },
  {
   "cell_type": "code",
   "execution_count": null,
   "metadata": {},
   "outputs": [],
   "source": [
    "# Plot standard deviation of flow rate / mean flow rate\n",
    "\n",
    "plt.plot(np.array(list_Q_L),np.array(list_std)/np.array(list_mn))\n",
    "\n",
    "plt.xlabel('Q (L/h)')\n",
    "plt.ylabel('Ratio of flow rate standard deviation out of mean flow rate')\n",
    "# plt.legend(loc='center left', bbox_to_anchor=(1, 0.5))\n",
    "plt.grid()\n",
    "\n",
    "plt.show()"
   ]
  },
  {
   "cell_type": "code",
   "execution_count": null,
   "metadata": {},
   "outputs": [],
   "source": [
    "print(np.array(list_std))\n",
    "print(np.array(list_mn))\n",
    "print(np.array(list_std)/np.array(list_mn))"
   ]
  },
  {
   "cell_type": "code",
   "execution_count": null,
   "metadata": {},
   "outputs": [],
   "source": [
    "df = pd.DataFrame([1,2,3,4],columns = ['numbers'])"
   ]
  },
  {
   "cell_type": "code",
   "execution_count": null,
   "metadata": {},
   "outputs": [],
   "source": [
    "l = [2,2,2]\n",
    "l = np.array(l)"
   ]
  },
  {
   "cell_type": "code",
   "execution_count": null,
   "metadata": {},
   "outputs": [],
   "source": [
    "l/2"
   ]
  },
  {
   "cell_type": "code",
   "execution_count": null,
   "metadata": {},
   "outputs": [],
   "source": [
    "np.array(list_tabl[0]['qx'])"
   ]
  },
  {
   "cell_type": "code",
   "execution_count": null,
   "metadata": {},
   "outputs": [],
   "source": [
    "risers = np.linspace(0,165,166)"
   ]
  },
  {
   "cell_type": "code",
   "execution_count": null,
   "metadata": {},
   "outputs": [],
   "source": [
    "len(np.array(list_tabl[i]['qx']))"
   ]
  },
  {
   "cell_type": "code",
   "execution_count": null,
   "metadata": {},
   "outputs": [],
   "source": [
    "len(risers)"
   ]
  },
  {
   "cell_type": "code",
   "execution_count": null,
   "metadata": {},
   "outputs": [],
   "source": [
    "print(list_Q_L)"
   ]
  },
  {
   "cell_type": "code",
   "execution_count": null,
   "metadata": {},
   "outputs": [],
   "source": [
    "[round(num, 0) for num in list_Q_L]"
   ]
  }
 ],
 "metadata": {
  "kernelspec": {
   "display_name": "Python 3.10.5 ('model22')",
   "language": "python",
   "name": "python3"
  },
  "language_info": {
   "codemirror_mode": {
    "name": "ipython",
    "version": 3
   },
   "file_extension": ".py",
   "mimetype": "text/x-python",
   "name": "python",
   "nbconvert_exporter": "python",
   "pygments_lexer": "ipython3",
   "version": "3.10.5"
  },
  "orig_nbformat": 4,
  "vscode": {
   "interpreter": {
    "hash": "c97b0e932b840580dc634d3eacb2c49c1776eb00b35f9d3fd61a7ed62838731c"
   }
  }
 },
 "nbformat": 4,
 "nbformat_minor": 2
}
