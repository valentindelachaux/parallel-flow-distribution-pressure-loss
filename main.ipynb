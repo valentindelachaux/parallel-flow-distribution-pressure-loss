{
 "cells": [
  {
   "cell_type": "code",
   "execution_count": null,
   "metadata": {},
   "outputs": [],
   "source": [
    "%load_ext autoreload\n",
    "%autoreload 2"
   ]
  },
  {
   "cell_type": "code",
   "execution_count": null,
   "metadata": {},
   "outputs": [],
   "source": [
    "import sys\n",
    "\n",
    "import pandas as pd\n",
    "import numpy as np\n",
    "import matplotlib.pyplot as plt\n",
    "\n",
    "sys.path.append(\"../RD-systems-and-test-benches/utils\")\n",
    "import model_fsolve as modf\n",
    "\n",
    "import scipy.optimize as sco\n",
    "import scipy.interpolate as sci\n",
    "\n",
    "import simu as sim\n",
    "\n",
    "import hx_hydraulic as hxhy\n",
    "import from_excel as fe\n",
    "import data_plots as dplt\n",
    "\n",
    "import fluids as fds\n",
    "from CoolProp.CoolProp import PropsSI\n",
    "\n",
    "import openpyxl as opxl\n"
   ]
  },
  {
   "cell_type": "code",
   "execution_count": null,
   "metadata": {},
   "outputs": [],
   "source": []
  },
  {
   "cell_type": "code",
   "execution_count": null,
   "metadata": {},
   "outputs": [],
   "source": [
    "path = r\"G:\\Drive partagés\\BU04-Innovation\\PVT-PL-model\\Inputs\"\n",
    "file_name = \"\\V4.5_MPEx4.xlsx\""
   ]
  },
  {
   "cell_type": "code",
   "execution_count": null,
   "metadata": {},
   "outputs": [],
   "source": [
    "hw, par, cond = fe.initialize(path, file_name)\n"
   ]
  },
  {
   "cell_type": "code",
   "execution_count": null,
   "metadata": {},
   "outputs": [],
   "source": [
    "list_Dv = [0.027e-3, 0.055e-3, 0.110e-3, 0.165e-3, 0.220e-3]\n",
    "list_Vdot = np.array(list_Dv)*3600000\n",
    "list_PL_CFD = [1067, 1279, 3861, 5072, 9573]\n",
    "list_PL_model ,list_tabl = modf.PL_fsolve_range(par, cond, list_Dv, 1.1/4)\n",
    "plt.plot(list_Vdot, np.array(list_PL_CFD)/1000, label = 'CFD')\n",
    "plt.plot(list_Vdot, np.array(list_PL_model)/1000, label = 'model')\n",
    "plt.xlabel('Vdot (L/h)')\n",
    "plt.ylabel('PL (kPa)')\n",
    "         \n",
    "plt.xlim(0, 850)\n",
    "plt.ylim(0, 11)\n",
    "\n",
    "plt.legend()\n",
    "plt.show()"
   ]
  },
  {
   "cell_type": "code",
   "execution_count": null,
   "metadata": {},
   "outputs": [],
   "source": [
    "cond['Dv'] = 0.055e-3 \n",
    "cond['Vdot'] = cond['Dv']*3600000 \n",
    "tabl, res, df_PL, t, f = modf.PL_fsolve(par, cond)"
   ]
  },
  {
   "cell_type": "code",
   "execution_count": null,
   "metadata": {},
   "outputs": [],
   "source": [
    "df = pd.read_csv(r\"G:\\Drive partagés\\BU04-Innovation\\PVT-PL-model\\CFD\\V4.5_MPEx4\\processed\\0.055_exhaust_pressure.csv\")\n",
    "last = df[\"Position\"].max() - 0.07\n",
    "df[\"riser\"] = [(df.loc[i][\"Position\"])*len(tabl)/last for i in range(len(df))]\n",
    "df[df[\"Position\"]<last].plot(x=\"riser\", y=\"Pressure\")\n",
    "tabl[\"Pout\"].plot(x=tabl.index)\n",
    "point2 = df[df[\"Position\"]<last].iloc[-1][\"Pressure\"]\n",
    "df2=df[df[\"Position\"]<last]"
   ]
  },
  {
   "cell_type": "code",
   "execution_count": null,
   "metadata": {},
   "outputs": [],
   "source": [
    "df = pd.read_csv(r\"G:\\Drive partagés\\BU04-Innovation\\PVT-PL-model\\CFD\\V4.5_MPEx4\\processed\\0.055_intake_pressure.csv\")\n",
    "last = df[\"Position\"].max()\n",
    "df[\"riser\"] = [(df.loc[i][\"Position\"] - 0.074)*len(tabl)/(last- 0.074) for i in range(len(df))]\n",
    "df[df[\"Position\"]>0.074].plot(x=\"riser\", y=\"Pressure\")\n",
    "tabl[\"Pin\"].plot(x=tabl.index)\n",
    "point1 = df[df[\"Position\"]>0.074].iloc[0][\"Pressure\"]\n",
    "df1=df[df[\"Position\"]>0.074]"
   ]
  },
  {
   "cell_type": "code",
   "execution_count": null,
   "metadata": {},
   "outputs": [],
   "source": [
    "df1.reset_index(inplace=True)\n",
    "df2.reset_index(inplace=True)\n",
    "df1-df2"
   ]
  },
  {
   "cell_type": "code",
   "execution_count": null,
   "metadata": {},
   "outputs": [],
   "source": [
    "D = '0.055'\n",
    "df1 = pd.read_csv(\"G:/Drive partagés/BU04-Innovation/PVT-PL-model/CFD/V4.5_MPEx4/processed/\" +D+ \"_risers_entry_pressure_per_riser.csv\")\n",
    "df2 = pd.read_csv(\"G:/Drive partagés/BU04-Innovation/PVT-PL-model/CFD\\V4.5_MPEx4/processed/\"+D+\"_risers_entry+0.050_pressure_per_riser.csv\")\n",
    "df3 = pd.read_csv(\"G:/Drive partagés/BU04-Innovation/PVT-PL-model/CFD/V4.5_MPEx4/processed/\"+D+\"_risers_after_first_bend_pressure_per_riser.csv\")\n",
    "df4 = pd.read_csv(\"G:/Drive partagés/BU04-Innovation/PVT-PL-model/CFD/V4.5_MPEx4/processed/\"+D+\"_risers_before_bj_pressure_per_riser.csv\")   \n",
    "df5 = pd.read_csv(\"G:/Drive partagés/BU04-Innovation/PVT-PL-model/CFD/V4.5_MPEx4/processed/\"+D+\"_risers_before_exhaust_pressure_per_riser.csv\")\n",
    "\n",
    "(df1[\"Pressure\"]-df5[\"Pressure\"]).plot(x=\"Group\")\n",
    "df_PL[\"RPL riser\"].plot()"
   ]
  },
  {
   "cell_type": "code",
   "execution_count": null,
   "metadata": {},
   "outputs": [],
   "source": [
    "df3"
   ]
  },
  {
   "cell_type": "code",
   "execution_count": null,
   "metadata": {},
   "outputs": [],
   "source": [
    "PL = point1 - point2\n",
    "PL"
   ]
  },
  {
   "cell_type": "code",
   "execution_count": null,
   "metadata": {},
   "outputs": [],
   "source": [
    "((df1-df2)['Pressure']* (67/5)/(df3-df4)['Pressure']).mean()"
   ]
  },
  {
   "cell_type": "code",
   "execution_count": null,
   "metadata": {},
   "outputs": [],
   "source": [
    "entry_5cm = np.array([0.7396875 - 0.7404128, 0.003751432 - 0.004154148, -0.3049988 + 0.5200261])\n",
    "entry = np.array([0.7785593-0.7787191, 0.03597014-0.03598411, -0.5199889+0.3049711])\n",
    "entry_5cm/entry"
   ]
  },
  {
   "cell_type": "code",
   "execution_count": null,
   "metadata": {},
   "outputs": [],
   "source": []
  },
  {
   "cell_type": "code",
   "execution_count": null,
   "metadata": {},
   "outputs": [],
   "source": [
    "hx, par, cond = fe.initialize(r\"G:\\Drive partagés\\BU04-Innovation\\PVT-PL-model\\Inputs\",r\"\\V4.5_1MPE.xlsx\")\n",
    "list_QF = np.array([50,200,350,500,650,800])/3600000\n",
    "list_QF_out = np.array([50,200,350,500])/3600000\n",
    "list_alpha = [0.01, 0.05, 0.1, 0.4, 0.7, 1]\n",
    "df = fe.testing_series(r\"G:\\Drive partagés\\BU04-Innovation\\PVT-PL-model\\Outputs\\Tests-model-simplification\\V4.5_1MPE_testings.xlsx\", list_QF, list_QF_out, list_alpha, par, cond)"
   ]
  },
  {
   "cell_type": "code",
   "execution_count": null,
   "metadata": {},
   "outputs": [],
   "source": [
    "from sklearn.ensemble import RandomForestRegressor\n",
    "\n",
    "df_testings = pd.read_excel(\"G:\\Drive partagés\\BU04-Innovation\\PVT-PL-model\\Outputs\\Tests-model-simplification\\V4.5_1MPE_testings.xlsx\")\n",
    "X = df_testings[['QF', 'QF_out', 'alpha']].to_numpy()\n",
    "yin = df_testings['DPin'].to_numpy()\n",
    "yout = df_testings['DPout'].to_numpy()\n",
    "yx = df_testings['DPx'].to_numpy()\n",
    "\n",
    "model_in = RandomForestRegressor() \n",
    "model_in.fit(X, yin)\n",
    "\n",
    "model_out = RandomForestRegressor() \n",
    "model_out.fit(X, yout)\n",
    "\n",
    "model_x = RandomForestRegressor() \n",
    "model_x.fit(X, yx)\n",
    "\n",
    "df_testings['DPin_test'] = model_in.predict(X)\n",
    "df_testings['DPout_test'] = model_out.predict(X)\n",
    "df_testings['DPx_test'] = model_x.predict(X)"
   ]
  },
  {
   "cell_type": "code",
   "execution_count": null,
   "metadata": {},
   "outputs": [],
   "source": [
    "dplt.K_abaque(df_testings, 'DPout')"
   ]
  },
  {
   "cell_type": "code",
   "execution_count": null,
   "metadata": {},
   "outputs": [],
   "source": [
    "hx, par, cond = fe.initialize(path, file_name)\n",
    "list_Vdot = np.array([150, 300, 450, 600])\n",
    "list_Dv = list_Vdot/3600000\n",
    "for coef in [1, 1.1, 1.2, 1.4] :\n",
    "    list_PL, list_tabl = modf.PL_fsolve_range(par, cond, list_Dv, 0.25*coef)\n",
    "    plt.plot(list_Vdot, list_PL/1000, label = f'f *= {coef}')\n",
    "plt.legend()\n",
    "plt.show()\n",
    "    \n"
   ]
  },
  {
   "cell_type": "code",
   "execution_count": null,
   "metadata": {},
   "outputs": [],
   "source": [
    "df2 = pd.DataFrame(modf.calc(df['qx'], par, cond)).transpose()\n",
    "df2.columns = [\"Qin\", \"Qout\", \"uin\", \"ux\", \"uout\", \"Rein\", \"Rex\", \"Reout\", \"fin\", \"fx\", \"fout\", \"Kx_in\", \"Ky_in\", \"Kx_out\", \"Ky_out\", \"K_se\", \"Lex\"]\n",
    "df = df.join(df2)\n",
    "df = df.join(df_PL)\n"
   ]
  },
  {
   "cell_type": "code",
   "execution_count": null,
   "metadata": {},
   "outputs": [],
   "source": [
    "path = 'G:\\Drive partagés\\BU04-Innovation\\PVT-PL-model\\Outputs\\Simulation_outputs'\n",
    "path_inputs = 'G:\\Drive partagés\\BU04-Innovation\\PVT-PL-model\\Inputs'\n",
    "name = '\\V4.41.xlsx'\n",
    "list_Vdot = np.array([150, 300, 450, 600])\n",
    "hx, par, cond = fe.initialize(path_inputs, name)\n",
    "\n",
    "writer = pd.ExcelWriter(path+name, engine = 'openpyxl')\n",
    "for Vdot in list_Vdot :\n",
    "    cond['Vdot'] = Vdot\n",
    "    cond['Dv'] = Vdot/3600000\n",
    "    df, PL, df_PL, testings = modf.PL_fsolve(par, cond)\n",
    "    df2 = pd.DataFrame(modf.calc(df['qx'], par, cond)).transpose()\n",
    "    df2.columns = [\"Qin\", \"Qout\", \"uin\", \"ux\", \"uout\", \"Rein\", \"Rex\", \"Reout\", \"fin\", \"fx\", \"fout\", \"Kx_in\", \"Ky_in\", \"Kx_out\", \"Ky_out\", \"K_se\", \"Lex\"]\n",
    "    df = df.join(df2)\n",
    "    df = df.join(df_PL)\n",
    "    df.to_excel(writer, sheet_name= f\"Vdot={Vdot}\", index=False)\n",
    "\n",
    "writer.close()\n"
   ]
  },
  {
   "cell_type": "code",
   "execution_count": null,
   "metadata": {},
   "outputs": [],
   "source": [
    "dplt.solve_plot(path, file_name)"
   ]
  },
  {
   "cell_type": "code",
   "execution_count": null,
   "metadata": {},
   "outputs": [],
   "source": []
  },
  {
   "cell_type": "code",
   "execution_count": null,
   "metadata": {},
   "outputs": [],
   "source": []
  },
  {
   "cell_type": "code",
   "execution_count": null,
   "metadata": {},
   "outputs": [],
   "source": [
    "df_K = pd.read_excel(\"G:\\Drive partagés\\BU04-Innovation\\PVT-PL-model\\Outputs\\Tests-model-simplification\\V4.5_1MPE_testings.xlsx\")"
   ]
  },
  {
   "cell_type": "code",
   "execution_count": null,
   "metadata": {},
   "outputs": [],
   "source": [
    "df_A = df_K[['QF', 'QF_out','alpha']]\n",
    "df_A['constant']=1\n",
    "df_A['sqrt'] = np.sqrt(df_A['QF'])\n",
    "df_A['QF*alpha'] = df_A['alpha']*df_A['QF']\n",
    "df_A['sqrt_alpha'] = df_A['alpha']*np.sqrt(df_A['QF'])\n",
    "df_A['QF_out*alpha'] = df_A['alpha']*df_A['QF_out']\n",
    "df_A['alpha2'] = df_A['alpha']**2\n",
    "df_A['QF*alpha2'] = df_A['alpha2']*df_A['QF']\n",
    "df_A['sqrt_alpha2'] = df_A['alpha2']*np.sqrt(df_A['QF'])\n",
    "df_A['QF_out*alpha2'] = df_A['alpha2']*df_A['QF_out']\n",
    "df_A = df_A[['constant', 'QF', 'sqrt', 'QF_out', 'alpha', 'QF*alpha', 'QF_out*alpha', 'sqrt_alpha', 'alpha2', 'QF*alpha2','QF_out*alpha2', 'sqrt_alpha2']]"
   ]
  },
  {
   "cell_type": "code",
   "execution_count": null,
   "metadata": {},
   "outputs": [],
   "source": [
    "A = df_A.to_numpy()\n",
    "B = df_K[['Kyin']].to_numpy()\n",
    "X = np.linalg.lstsq(A,B)[0]\n",
    "\n",
    "err = (A.dot(X)-B)*100/B\n",
    "np.abs(err.round()).mean()"
   ]
  },
  {
   "cell_type": "code",
   "execution_count": null,
   "metadata": {},
   "outputs": [],
   "source": [
    "X.transpose()*(df_A.mean().to_numpy())"
   ]
  },
  {
   "cell_type": "code",
   "execution_count": null,
   "metadata": {},
   "outputs": [],
   "source": [
    "df = pd.DataFrame(X.transpose())\n",
    "df.to_excel(\"G:\\Drive partagés\\BU04-Innovation\\PVT-PL-model\\Inputs\\V4.5_1MPE_Kyin.xlsx\", index=False)"
   ]
  },
  {
   "cell_type": "code",
   "execution_count": null,
   "metadata": {},
   "outputs": [],
   "source": [
    "df_K['Kyin_test'] = A.dot(X)"
   ]
  },
  {
   "cell_type": "code",
   "execution_count": null,
   "metadata": {},
   "outputs": [],
   "source": [
    "dplt.K_abaque(df_K,'Kyin')"
   ]
  },
  {
   "cell_type": "code",
   "execution_count": null,
   "metadata": {},
   "outputs": [],
   "source": [
    "TUV = pd.read_excel('G:\\Drive partagés\\BU04-Innovation\\Hydraulique\\PL_database\\\\230727_TUV_V4.41_x1_Z_water.xlsx')\n",
    "path = r\"G:\\Drive partagés\\BU04-Innovation\\PVT-PL-model\\Inputs\"\n",
    "file_name = r\"\\V4.41.xlsx\"\n",
    "hx, par, cond = fe.initialize(path, file_name)"
   ]
  },
  {
   "cell_type": "code",
   "execution_count": null,
   "metadata": {},
   "outputs": [],
   "source": [
    "list_Vdot = np.array(list(TUV['Vdot']))[::2]\n",
    "list_Dv = list_Vdot/3600000\n",
    "f = 20\n",
    "list_PL,list_tabl = modf.PL_fsolve_range(par, cond, list_Dv, f)\n",
    "plt.plot(list_Vdot, list_PL/1000, label = f'fapp = {f}')\n",
    "plt.plot(list(TUV['Vdot']), list(TUV['PL']), label = 'TÜV')\n",
    "plt.legend()\n",
    "plt.show()\n",
    "\n"
   ]
  },
  {
   "cell_type": "code",
   "execution_count": null,
   "metadata": {},
   "outputs": [],
   "source": [
    "# read excel file\n",
    "excel_file = pd.ExcelFile(r'G:\\Drive partagés\\BU04-Innovation\\Hydraulique\\components\\230725_PL_V4.41.xlsx')\n",
    "\n",
    "# create dictionary with dataframes\n",
    "df_dict = {}\n",
    "for sheet_name in excel_file.sheet_names:\n",
    "    df_dict[sheet_name] = excel_file.parse(sheet_name)\n",
    "    df_dict[sheet_name].drop(columns='Unnamed: 0',inplace=True)"
   ]
  },
  {
   "cell_type": "code",
   "execution_count": null,
   "metadata": {},
   "outputs": [],
   "source": [
    "for i in range(4):\n",
    "    key = list(df_dict.keys())[i]\n",
    "    list_Vdot = np.array(df_dict[key]['Vdot_per_panel'])\n",
    "    list_Dv = list_Vdot*(i+1)/3600000\n",
    "\n",
    "    path = r\"G:\\Drive partagés\\BU04-Innovation\\PVT-PL-model\\Inputs\"\n",
    "    file_name = f\"\\V4.41_x{i+1}.xlsx\"\n",
    "    hx, par, cond = fe.initialize(path, file_name)\n",
    "    list_PL, list_tabl = modf.PL_fsolve_range(par, cond, list_Dv[1::39], 20)\n",
    "\n",
    "    plt.plot(list_Vdot[1::39], list_PL/1000, label='Simulation')\n",
    "    plt.plot(list_Vdot, np.array(df_dict[key]['PL']), label='Experiments')\n",
    "    plt.xlabel('Vdot par panneau [L/h]')\n",
    "    plt.ylabel('PL [kPa]')\n",
    "    plt.legend()\n",
    "    plt.show()\n",
    "\n"
   ]
  },
  {
   "cell_type": "code",
   "execution_count": null,
   "metadata": {},
   "outputs": [],
   "source": [
    "list(df_dict.keys())"
   ]
  },
  {
   "cell_type": "code",
   "execution_count": null,
   "metadata": {},
   "outputs": [],
   "source": [
    "for k in df_dict.keys():\n",
    "    print(df_dict[k]['PL'])"
   ]
  }
 ],
 "metadata": {
  "kernelspec": {
   "display_name": "Python 3.10.5 ('model22')",
   "language": "python",
   "name": "python3"
  },
  "language_info": {
   "codemirror_mode": {
    "name": "ipython",
    "version": 3
   },
   "file_extension": ".py",
   "mimetype": "text/x-python",
   "name": "python",
   "nbconvert_exporter": "python",
   "pygments_lexer": "ipython3",
   "version": "3.11.6"
  },
  "orig_nbformat": 4,
  "vscode": {
   "interpreter": {
    "hash": "56caf856595f51be9bcc433b83ab5dc09086f65ad2b944386d7aaceab52f3078"
   }
  }
 },
 "nbformat": 4,
 "nbformat_minor": 2
}
