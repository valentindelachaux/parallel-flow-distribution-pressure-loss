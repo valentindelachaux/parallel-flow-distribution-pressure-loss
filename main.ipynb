{
 "cells": [
  {
   "cell_type": "code",
   "execution_count": null,
   "metadata": {},
   "outputs": [],
   "source": [
    "print(sys.executable)"
   ]
  },
  {
   "cell_type": "code",
   "execution_count": null,
   "metadata": {},
   "outputs": [],
   "source": [
    "import math\n",
    "import pandas as pd\n",
    "import numpy as np\n",
    "import matplotlib.pyplot as plt\n",
    "import matplotlib.font_manager as fm\n",
    "import matplotlib.ticker as mtick\n",
    "from matplotlib.cm import get_cmap\n",
    "import addcopyfighandler\n",
    "\n",
    "from IPython.core.display import HTML\n",
    "from IPython.display import display\n",
    "\n",
    "import model2 as mod\n",
    "import model_fsolve as modf"
   ]
  },
  {
   "cell_type": "code",
   "execution_count": null,
   "metadata": {},
   "outputs": [],
   "source": [
    "import fluids as fds"
   ]
  },
  {
   "cell_type": "code",
   "execution_count": null,
   "metadata": {},
   "outputs": [],
   "source": [
    "par = {}\n",
    "\n",
    "par[\"eps\"] = 0.001\n",
    "\n",
    "par[\"ref\"] = 1\n",
    "\n",
    "par[\"rho\"] = 997 # kg/m3\n",
    "par[\"nu\"] = 0.896*1e-6 # at 25°C, in m2/s https://www4.ac-nancy-metz.fr/physique/ancien_site/Tp-phys/Term/TP-fluid/visco-eau.htm\n",
    "par[\"eta\"] = par[\"rho\"]*par[\"nu\"]"
   ]
  },
  {
   "cell_type": "code",
   "execution_count": null,
   "metadata": {},
   "outputs": [],
   "source": [
    "# Heat exchanger inputs --------------------------------------------------\n",
    "\n",
    "# MICOE\n",
    "# ------\n",
    "\n",
    "par['N'] = 24\n",
    "\n",
    "par['Lx'] = 5.886 # m, not used in the row calculation\n",
    "par['Ly'] = (par['N']-1)*[1.2285/par['N']]\n",
    "\n",
    "# Z-type or U-type\n",
    "\n",
    "par['ref'] = 0\n",
    "\n",
    "par['Dx'] = 0.008 # m, not used in the row calculation\n",
    "par['Din'] = 0.042 # m\n",
    "par['Dout'] = 0.042 # m\n",
    "\n",
    "par['manifold'] = 'tubular' # or rectangular\n",
    "\n",
    "coeff = 1.\n",
    "par['coeff_Kxin'] = coeff\n",
    "par['coeff_Kxout'] = coeff\n",
    "par['coeff_Kyin'] = coeff\n",
    "par['coeff_Kyout'] = coeff\n",
    "\n",
    "# Parameters\n",
    "\n",
    "par['theta'] = 90.\n",
    "\n",
    "par['rough'] = 0.001 # aluminium = 0.001 mm\n",
    "\n",
    "# End of inputs\n",
    "\n",
    "# Manifold tubulaire ou rectangulaire\n",
    "\n",
    "if par['manifold'] == 'tubular':\n",
    "    par['Ax'] = math.pi*(par['Dx']/2)**2\n",
    "    par['Ain'] = math.pi*(par['Din']/2)**2\n",
    "    par['Aout'] = math.pi*(par['Dout']/2)**2\n",
    "elif par['manifold'] == 'rectangular': # rectangulaire (SPRING ou autre)\n",
    "    par['Ax'] = math.pi*(par['Dx']/2)**2\n",
    "    par['Ain'] = par['h_man']*par['l_man']\n",
    "    par['Aout'] = par['Ain']\n",
    "\n",
    "par['a_x'] = 84.7/800\n",
    "# par['a'] = 0.\n",
    "par['b_x'] = 5.36/800\n",
    "\n",
    "# dP (Pa) = (rho/2) (a_x u**2 + b_x u) its the pressure loss function of a heat exchanger\n",
    "\n",
    "par['sch'] = 'exchanger'\n",
    "\n",
    "# 'Crane' or 'perso'\n",
    "par['method'] = 'Crane'\n",
    "\n",
    "# Listes de taille par['N']\n",
    "\n",
    "par['Kxin'] = []\n",
    "par['Kyin'] = []\n",
    "par['Kxout'] = []\n",
    "par['Kyout'] = []"
   ]
  },
  {
   "cell_type": "code",
   "execution_count": null,
   "metadata": {},
   "outputs": [],
   "source": [
    "# Test d'un seul débit\n",
    "\n",
    "par['QF'] = 100/3600000 # m3/s (0.000278 m3/s = 1000 L/h) (le premier nombre est en L/h)\n",
    "# Speed and Reynolds at inlet manifold\n",
    "par['U'] = par['QF']/par['Ain']\n",
    "par['Reman'] = par['U']*(par['rho']*par['Din'])/par['eta']\n",
    "tabl,res = modf.PL_fsolve(par,par['sch'],True)"
   ]
  },
  {
   "cell_type": "code",
   "execution_count": null,
   "metadata": {},
   "outputs": [],
   "source": [
    "# Création de la liste de plusieurs débits\n",
    "\n",
    "list_Q_L = np.array([272,478,652,856,1094]) # L/h\n",
    "# list_Q_L = np.array([50,100,150])\n",
    "list_Q = list_Q_L/3600000 # m3/s\n",
    "\n",
    "print(list_Q)\n",
    "print(list_Q_L)"
   ]
  },
  {
   "cell_type": "code",
   "execution_count": null,
   "metadata": {},
   "outputs": [],
   "source": [
    "# Test de plusieurs débits \n",
    "# Model fsolve -> résoud l'échangeur en harpe\n",
    "\n",
    "list_PL,list_tabl,list_mn,list_std = sim.modf_parametric_flow_rates(par,list_Q)\n"
   ]
  },
  {
   "cell_type": "code",
   "execution_count": null,
   "metadata": {},
   "outputs": [],
   "source": [
    "list_tabl[0]['qx']"
   ]
  },
  {
   "cell_type": "code",
   "execution_count": null,
   "metadata": {},
   "outputs": [],
   "source": [
    "print(list_Q_L)"
   ]
  },
  {
   "cell_type": "code",
   "execution_count": null,
   "metadata": {},
   "outputs": [],
   "source": [
    "# ancienne version 15 mm de large et 4,4 mm de hauteur \n",
    "# a = 0.00171969\n",
    "# b = 0.123036\n",
    "\n",
    "# nouvelle version 3 par 3 (mm)\n",
    "# a = 0.00337677\n",
    "# b = 1.41816\n",
    "\n",
    "a = 9.7*1E-7*1000\n",
    "b = 0.001472*1000\n",
    "\n",
    "# a = 0.0427594\n",
    "# b = 20.81999\n",
    "\n",
    "SW = [421.66,801.75,1159.49,1641.60,2205.57]\n",
    "\n",
    "sim.plot_PL_harp(par,list_Q_L,list_PL,a,b,SW,5)\n",
    "\n",
    "axes = plt.gca()\n",
    "axes.set_xlim(0,1400)\n",
    "plt.show()\n",
    "#sim.plot_PL_harp(par,list_Q_L,list_PL,a,b,5)\n",
    "# sim.plot_abs_flow_rates_harp(par,list_Q_L,list_tabl,list_mn)\n",
    "sim.plot_flow_rates_harp(par,list_Q_L,list_PL,list_tabl,list_mn)"
   ]
  },
  {
   "cell_type": "code",
   "execution_count": null,
   "metadata": {},
   "outputs": [],
   "source": [
    "PL_measured = (a*list_Q_L**2 + b*list_Q_L)\n",
    "\n",
    "plt.scatter(list_Q_L,PL_measured,label='SW Flow Simulation')\n",
    "\n",
    "for i in range(len(save)):\n",
    "    plt.plot(np.array(list_Q_L),np.array(save[i][0]),label=str(test_list[i]))\n",
    "\n",
    "plt.legend()\n",
    "plt.xlabel('Q (L/h)')\n",
    "plt.ylabel('PL (Pa)')\n",
    "plt.grid()\n",
    "plt.show()"
   ]
  },
  {
   "cell_type": "code",
   "execution_count": null,
   "metadata": {},
   "outputs": [],
   "source": [
    "PL_measured = (a*list_Q_L**2 + b*list_Q_L)\n",
    "RMSE1 = math.sqrt(mean_squared_error(list_PL,PL_measured))\n",
    "RMSE2 = math.sqrt(mean_squared_error(SW,PL_measured))\n",
    "moyenne = np.mean(PL_measured)\n",
    "print(moyenne)\n",
    "print(round(RMSE1/moyenne,2),round(RMSE2/moyenne,2))\n",
    "\n",
    "\n",
    "rel_err1 = np.round((np.array(list_PL)-np.array(PL_measured))/np.array(PL_measured),2)\n",
    "rel_err2 = np.round((np.array(SW)-np.array(PL_measured))/np.array(PL_measured),2)\n",
    "\n",
    "print(rel_err1)\n",
    "print(rel_err2)"
   ]
  },
  {
   "cell_type": "code",
   "execution_count": null,
   "metadata": {},
   "outputs": [],
   "source": [
    "sim.repartition_PL(par,list_PL,list_tabl,list_Q)\n",
    "sim.plt_repartition_PL(par,list_Q_L,list_PL,list_tabl,120,'ok')"
   ]
  },
  {
   "cell_type": "code",
   "execution_count": null,
   "metadata": {},
   "outputs": [],
   "source": [
    "# Calcul coefficient total\n",
    "\n",
    "deb = list_Q[8]\n",
    "Cfi = modf.Kxin(par,deb/2,deb/24,2)\n",
    "Cfe = modf.Kxout(par,deb/2,deb/24,2)\n",
    "\n",
    "Rex_i = fds.core.Reynolds(deb/par['Ax'],par['Dx'],par['rho'],mu=par['eta'])\n",
    "fx_i = fds.friction.friction_factor(Re = Rex_i)\n",
    "ax_i = fx_i*(par['Lx']/par['Dx'])\n",
    "\n",
    "print(1+Cfi+Cfe+ax_i)\n",
    "print(par['Ly']*24)\n",
    "print((par['Ly']*24)/par['Din'])"
   ]
  },
  {
   "cell_type": "code",
   "execution_count": null,
   "metadata": {},
   "outputs": [],
   "source": [
    "# Inputs for singular pressure losses\n",
    "\n",
    "d_epdm = 0.015\n",
    "d_red = 0.0078 # 0.011 en pratique, diminué à 0.0078 pour que les PL + 2m EPDM fit aux mesures exp Technoptic avec SSA\n",
    "d_man = 0.0081 # 13 mm de base, quand le manifold ne fait plus que 5 mm de hauteur c'est 8,1 mm de diamètre hydraulique\n",
    "\n",
    "L_epdm = 2.\n",
    "\n",
    "angle_bm_epdm = 90.\n",
    "angle_bm_man = 90."
   ]
  },
  {
   "cell_type": "code",
   "execution_count": null,
   "metadata": {},
   "outputs": [],
   "source": [
    "PL_tot,PL_tot_lin,exp_PL_tot,cont_diff,bends,harp,reg = sim.sing_PL(par,d_epdm,d_red,d_man,L_epdm,angle_bm_epdm,angle_bm_man,list_Q_L,list_PL)"
   ]
  },
  {
   "cell_type": "code",
   "execution_count": null,
   "metadata": {},
   "outputs": [],
   "source": [
    "# Singular losses in fittings - Stacked bars chart\n",
    "\n",
    "labels = ['10', '50', '100', '150', '200']\n",
    "\n",
    "width = 0.35       # the width of the bars: can also be len(x) sequence\n",
    "\n",
    "fig, ax = plt.subplots()\n",
    "\n",
    "ax.bar(labels, cont_diff, width, label='Sharp contractions and diffusers')\n",
    "ax.bar(labels, bends, width, bottom=cont_diff,label='Bends (x4)')\n",
    "ax.bar(labels, harp, width, bottom=cont_diff+bends,label='Harp exchanger')\n",
    "ax.bar(labels, reg, width, bottom=cont_diff+bends+harp,label='Linear PL')\n",
    "\n",
    "ax.set_ylabel('PL (Pa)')\n",
    "ax.set_title('SPRING')\n",
    "ax.legend()\n",
    "\n",
    "plt.show()"
   ]
  },
  {
   "cell_type": "code",
   "execution_count": null,
   "metadata": {},
   "outputs": [],
   "source": [
    "save = [PL_tot,PL_tot_lin,exp_PL_tot,cont_diff,bends,harp,reg]"
   ]
  },
  {
   "cell_type": "code",
   "execution_count": null,
   "metadata": {},
   "outputs": [],
   "source": [
    "save2 = [PL_tot,PL_tot_lin,exp_PL_tot,cont_diff,bends,harp,reg]"
   ]
  },
  {
   "cell_type": "code",
   "execution_count": null,
   "metadata": {},
   "outputs": [],
   "source": [
    "ratio = (PL_tot_lin-save[1])/save[1]\n",
    "\n",
    "plt.plot(list_Q_L,ratio)\n",
    "plt.xlabel('Q (L/h)')\n",
    "plt.ylabel('PL increase')\n",
    "plt.title('SPRING h5 mm PL increase in % of SPRING h10 mm PL')\n",
    "plt.gca().set_yticklabels([f'{x:.0%}' for x in plt.gca().get_yticks()]) \n",
    "plt.grid()\n",
    "plt.show()"
   ]
  },
  {
   "cell_type": "code",
   "execution_count": null,
   "metadata": {},
   "outputs": [],
   "source": [
    "plt.plot(list_Q_L,PL_tot,label='Total pressure losses')\n",
    "\n",
    "plt.legend()\n",
    "plt.xlabel('Q (L/h)')\n",
    "plt.ylabel('Re')\n",
    "\n",
    "plt.grid()"
   ]
  },
  {
   "cell_type": "code",
   "execution_count": null,
   "metadata": {},
   "outputs": [],
   "source": [
    "print(list_Q_L)\n",
    "print(list_PL)\n",
    "print(list_mn)\n",
    "print([list_Q_L[i]/par[\"N\"] for i in range(len(list_Q_L))])\n",
    "\n",
    "# df_res = pd.DataFrame([np.array(list_Q_L),np.array(list_PL)],columns = ['Q_L','PL (Pa)'])\n",
    "# display(HTML(df_res.to_html()))  \n"
   ]
  },
  {
   "cell_type": "code",
   "execution_count": null,
   "metadata": {},
   "outputs": [],
   "source": [
    "# Répartition des débits par canal (en valeur absolue)\n",
    "\n",
    "list_Q_L_round = [round(num, 0) for num in list_Q_L]\n",
    "risers = np.linspace(0,164,165)\n",
    "\n",
    "for i in range(len(list_tabl)):\n",
    "    plt.plot(risers,np.array(list_tabl[i]['qx']),label=str(list_Q_L_round[i])+' L/h')\n",
    "    plt.legend()\n",
    "\n",
    "plt.xlabel('N° riser')\n",
    "plt.ylabel('qx (L/h)')\n",
    "# plt.legend(loc='center left', bbox_to_anchor=(1, 0.5))\n",
    "plt.grid()\n",
    "\n",
    "plt.show()"
   ]
  },
  {
   "cell_type": "code",
   "execution_count": null,
   "metadata": {},
   "outputs": [],
   "source": [
    "# Répartition des débits par canal (en valeur relative au débit moyen attendu)\n",
    "\n",
    "for i in range(len(list_tabl)):\n",
    "    plt.plot(risers,np.array(list_tabl[i]['qx'])/list_mn[i],label=str(list_Q_L_round[i])+' L/h')\n",
    "    plt.legend()\n",
    "\n",
    "plt.xlabel('N° riser')\n",
    "plt.ylabel('qx (L/h)')\n",
    "# plt.legend(loc='center left', bbox_to_anchor=(1, 0.5))\n",
    "plt.grid()\n",
    "\n",
    "plt.show()"
   ]
  },
  {
   "cell_type": "code",
   "execution_count": null,
   "metadata": {},
   "outputs": [],
   "source": [
    "# A comprendre\n",
    "\n",
    "print(list_PL)\n",
    "print(list_tabl[0])\n",
    "\n",
    "print(par['N'])\n",
    "# param_name = 'l_riser'\n",
    "# test_list = par['EP']*np.array([2,6,12,18,24])\n",
    "param_name = 'h_riser'\n",
    "test_list = [0.001,0.002,0.003,0.004]\n",
    "save = []\n",
    "\n",
    "for i in range(len(test_list)):\n",
    "    sim.preproc(par,param_name,test_list[i])\n",
    "    list_PL,list_tabl,list_mn,list_std = sim.modf_parametric_flow_rates(par,list_Q)\n",
    "    save.append([list_PL,list_tabl,list_mn,list_std])\n",
    "\n",
    "# Plot pressure losses\n",
    "\n",
    "h_riser_tests = ['3 mm','4.4 mm','6 mm']\n",
    "colors = ['orange','green','red']\n",
    "\n",
    "for i in range(len(h_riser_tests)):\n",
    "    plt.plot(np.array(list_Q_L),np.array(save_h_riser[i+1][0]),label=h_riser_tests[i],color=colors[i])\n",
    "\n",
    "plt.xlabel('Q (L/h)')\n",
    "plt.ylabel('PL (Pa)')\n",
    "# plt.legend(loc='center left', bbox_to_anchor=(1, 0.5))\n",
    "plt.grid()\n",
    "plt.legend()\n",
    "\n",
    "plt.show()\n"
   ]
  },
  {
   "cell_type": "code",
   "execution_count": null,
   "metadata": {},
   "outputs": [],
   "source": [
    "# Plot pressure losses\n",
    "\n",
    "plt.plot(np.array(list_Q_L),np.array(list_PL))\n",
    "\n",
    "plt.xlabel('Q (L/h)')\n",
    "plt.ylabel('PL (Pa)')\n",
    "# plt.legend(loc='center left', bbox_to_anchor=(1, 0.5))\n",
    "plt.grid()\n",
    "\n",
    "plt.show()\n",
    "print([list_Q_L[i]/par['N'] for i in range(len(list_Q_L))])"
   ]
  },
  {
   "cell_type": "markdown",
   "metadata": {},
   "source": []
  },
  {
   "cell_type": "code",
   "execution_count": null,
   "metadata": {},
   "outputs": [],
   "source": [
    "# Plot mean and standard deviation of flow rate\n",
    "\n",
    "plt.plot(np.array(list_Q_L),np.array(list_mn))\n",
    "plt.plot(np.array(list_Q_L),np.array(list_std))\n",
    "\n",
    "plt.xlabel('Q (L/h)')\n",
    "plt.ylabel('Flow rate (L/h)')\n",
    "# plt.legend(loc='center left', bbox_to_anchor=(1, 0.5))\n",
    "plt.grid()\n",
    "\n",
    "plt.show()"
   ]
  },
  {
   "cell_type": "code",
   "execution_count": null,
   "metadata": {},
   "outputs": [],
   "source": [
    "# Plot standard deviation of flow rate / mean flow rate\n",
    "\n",
    "plt.plot(np.array(list_Q_L),np.array(list_std)/np.array(list_mn))\n",
    "\n",
    "plt.xlabel('Q (L/h)')\n",
    "plt.ylabel('Ratio of flow rate standard deviation out of mean flow rate')\n",
    "# plt.legend(loc='center left', bbox_to_anchor=(1, 0.5))\n",
    "plt.grid()\n",
    "\n",
    "plt.show()"
   ]
  },
  {
   "cell_type": "code",
   "execution_count": null,
   "metadata": {},
   "outputs": [],
   "source": [
    "print(np.array(list_std))\n",
    "print(np.array(list_mn))\n",
    "print(np.array(list_std)/np.array(list_mn))"
   ]
  },
  {
   "cell_type": "code",
   "execution_count": null,
   "metadata": {},
   "outputs": [],
   "source": [
    "np.array(list_tabl[0]['qx'])"
   ]
  },
  {
   "cell_type": "code",
   "execution_count": null,
   "metadata": {},
   "outputs": [],
   "source": [
    "risers = np.linspace(0,165,166)"
   ]
  },
  {
   "cell_type": "code",
   "execution_count": null,
   "metadata": {},
   "outputs": [],
   "source": [
    "len(np.array(list_tabl[i]['qx']))"
   ]
  },
  {
   "cell_type": "code",
   "execution_count": null,
   "metadata": {},
   "outputs": [],
   "source": [
    "len(risers)"
   ]
  },
  {
   "cell_type": "code",
   "execution_count": null,
   "metadata": {},
   "outputs": [],
   "source": [
    "print(list_Q_L)"
   ]
  },
  {
   "cell_type": "code",
   "execution_count": null,
   "metadata": {},
   "outputs": [],
   "source": [
    "[round(num, 0) for num in list_Q_L]"
   ]
  }
 ],
 "metadata": {
  "kernelspec": {
   "display_name": "1Dwin",
   "language": "python",
   "name": "1Dwin_kern"
  },
  "language_info": {
   "codemirror_mode": {
    "name": "ipython",
    "version": 3
   },
   "file_extension": ".py",
   "mimetype": "text/x-python",
   "name": "python",
   "nbconvert_exporter": "python",
   "pygments_lexer": "ipython3",
   "version": "3.10.5"
  },
  "orig_nbformat": 4,
  "vscode": {
   "interpreter": {
    "hash": "9f4353ba3ec016364f092cc14ff3396b463e30808046a4d6a708533bf589c14b"
   }
  }
 },
 "nbformat": 4,
 "nbformat_minor": 2
}
