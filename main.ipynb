{
 "cells": [
  {
   "cell_type": "code",
   "execution_count": 1,
   "metadata": {},
   "outputs": [],
   "source": [
    "import math\n",
    "import sys\n",
    "\n",
    "import pandas as pd\n",
    "import numpy as np\n",
    "import matplotlib.pyplot as plt\n",
    "import matplotlib.font_manager as fm\n",
    "import matplotlib.ticker as mtick\n",
    "from matplotlib.cm import get_cmap\n",
    "# import addcopyfighandler\n",
    "\n",
    "import seaborn as sns\n",
    "\n",
    "from IPython.core.display import HTML\n",
    "\n",
    "sys.path.append(\"../RD-systems-and-test-benches/utils\")\n",
    "import data_processing as dp\n",
    "\n",
    "import model_fsolve as modf\n",
    "\n",
    "import scipy.optimize as sco\n",
    "import scipy.interpolate as sci\n",
    "\n",
    "import simu as sim\n",
    "\n",
    "import hx_hydraulic as hxhy\n",
    "import from_excel as fe\n",
    "\n",
    "import fluids as fds\n",
    "from CoolProp.CoolProp import PropsSI\n",
    "\n",
    "import openpyxl as opxl\n",
    "\n",
    "import torch\n",
    "import torch_model as modto"
   ]
  },
  {
   "cell_type": "code",
   "execution_count": 2,
   "metadata": {},
   "outputs": [],
   "source": [
    "path = r\"G:\\Drive partagés\\BU04-Innovation\\PVT-PL-model\\Inputs\"\n",
    "file_name = r\"\\Camilleri_AR0.022.xlsx\"\n",
    "\n",
    "hx, par, condi0 = fe.initialize(path, file_name)"
   ]
  },
  {
   "cell_type": "code",
   "execution_count": 3,
   "metadata": {},
   "outputs": [
    {
     "data": {
      "text/html": [
       "<div>\n",
       "<style scoped>\n",
       "    .dataframe tbody tr th:only-of-type {\n",
       "        vertical-align: middle;\n",
       "    }\n",
       "\n",
       "    .dataframe tbody tr th {\n",
       "        vertical-align: top;\n",
       "    }\n",
       "\n",
       "    .dataframe thead th {\n",
       "        text-align: right;\n",
       "    }\n",
       "</style>\n",
       "<table border=\"1\" class=\"dataframe\">\n",
       "  <thead>\n",
       "    <tr style=\"text-align: right;\">\n",
       "      <th></th>\n",
       "      <th>Total PL</th>\n",
       "      <th>SPL entrance</th>\n",
       "      <th>RPL manifold</th>\n",
       "      <th>RPL riser</th>\n",
       "      <th>SPL tee</th>\n",
       "    </tr>\n",
       "  </thead>\n",
       "  <tbody>\n",
       "    <tr>\n",
       "      <th>0</th>\n",
       "      <td>113291.775586</td>\n",
       "      <td>0.148298</td>\n",
       "      <td>0.051158</td>\n",
       "      <td>93.310117</td>\n",
       "      <td>6.490428</td>\n",
       "    </tr>\n",
       "    <tr>\n",
       "      <th>1</th>\n",
       "      <td>112855.706269</td>\n",
       "      <td>0.148871</td>\n",
       "      <td>0.061201</td>\n",
       "      <td>92.198336</td>\n",
       "      <td>7.591593</td>\n",
       "    </tr>\n",
       "    <tr>\n",
       "      <th>2</th>\n",
       "      <td>112598.041991</td>\n",
       "      <td>0.149211</td>\n",
       "      <td>0.068182</td>\n",
       "      <td>91.526809</td>\n",
       "      <td>8.255797</td>\n",
       "    </tr>\n",
       "    <tr>\n",
       "      <th>3</th>\n",
       "      <td>112399.025449</td>\n",
       "      <td>0.149476</td>\n",
       "      <td>0.072363</td>\n",
       "      <td>91.140877</td>\n",
       "      <td>8.637285</td>\n",
       "    </tr>\n",
       "    <tr>\n",
       "      <th>4</th>\n",
       "      <td>112239.770637</td>\n",
       "      <td>0.149688</td>\n",
       "      <td>0.072447</td>\n",
       "      <td>90.951401</td>\n",
       "      <td>8.826464</td>\n",
       "    </tr>\n",
       "    <tr>\n",
       "      <th>5</th>\n",
       "      <td>112114.807298</td>\n",
       "      <td>0.149854</td>\n",
       "      <td>0.068393</td>\n",
       "      <td>90.933529</td>\n",
       "      <td>8.848223</td>\n",
       "    </tr>\n",
       "    <tr>\n",
       "      <th>6</th>\n",
       "      <td>112008.623527</td>\n",
       "      <td>0.149997</td>\n",
       "      <td>0.061523</td>\n",
       "      <td>91.108767</td>\n",
       "      <td>8.679713</td>\n",
       "    </tr>\n",
       "    <tr>\n",
       "      <th>7</th>\n",
       "      <td>111902.103523</td>\n",
       "      <td>0.135125</td>\n",
       "      <td>0.051613</td>\n",
       "      <td>91.578239</td>\n",
       "      <td>8.235022</td>\n",
       "    </tr>\n",
       "    <tr>\n",
       "      <th>8</th>\n",
       "      <td>111800.930244</td>\n",
       "      <td>0.090165</td>\n",
       "      <td>0.038423</td>\n",
       "      <td>92.565832</td>\n",
       "      <td>7.305580</td>\n",
       "    </tr>\n",
       "  </tbody>\n",
       "</table>\n",
       "</div>"
      ],
      "text/plain": [
       "        Total PL  SPL entrance  RPL manifold  RPL riser   SPL tee\n",
       "0  113291.775586      0.148298      0.051158  93.310117  6.490428\n",
       "1  112855.706269      0.148871      0.061201  92.198336  7.591593\n",
       "2  112598.041991      0.149211      0.068182  91.526809  8.255797\n",
       "3  112399.025449      0.149476      0.072363  91.140877  8.637285\n",
       "4  112239.770637      0.149688      0.072447  90.951401  8.826464\n",
       "5  112114.807298      0.149854      0.068393  90.933529  8.848223\n",
       "6  112008.623527      0.149997      0.061523  91.108767  8.679713\n",
       "7  111902.103523      0.135125      0.051613  91.578239  8.235022\n",
       "8  111800.930244      0.090165      0.038423  92.565832  7.305580"
      ]
     },
     "execution_count": 3,
     "metadata": {},
     "output_type": "execute_result"
    }
   ],
   "source": [
    "# Test d'un seul débit\n",
    "tabl, res, PL = modf.PL_fsolve(par,condi0,print=False)\n",
    "PL"
   ]
  },
  {
   "cell_type": "code",
   "execution_count": 8,
   "metadata": {},
   "outputs": [
    {
     "data": {
      "text/plain": [
       "<Axes: xlabel='index'>"
      ]
     },
     "execution_count": 8,
     "metadata": {},
     "output_type": "execute_result"
    },
    {
     "data": {
      "image/png": "[encoded data removed]",
      "text/plain": [
       "<Figure size 640x480 with 1 Axes>"
      ]
     },
     "metadata": {},
     "output_type": "display_data"
    }
   ],
   "source": [
    "PL.reset_index().plot(x='index', y= [\"SPL entrance\", \"RPL manifold\", \"RPL riser\", \"SPL tee\"])"
   ]
  },
  {
   "cell_type": "code",
   "execution_count": null,
   "metadata": {},
   "outputs": [
    {
     "data": {
      "text/html": [
       "<div>\n",
       "<style scoped>\n",
       "    .dataframe tbody tr th:only-of-type {\n",
       "        vertical-align: middle;\n",
       "    }\n",
       "\n",
       "    .dataframe tbody tr th {\n",
       "        vertical-align: top;\n",
       "    }\n",
       "\n",
       "    .dataframe thead th {\n",
       "        text-align: right;\n",
       "    }\n",
       "</style>\n",
       "<table border=\"1\" class=\"dataframe\">\n",
       "  <thead>\n",
       "    <tr style=\"text-align: right;\">\n",
       "      <th></th>\n",
       "      <th>l1</th>\n",
       "      <th>l2</th>\n",
       "    </tr>\n",
       "  </thead>\n",
       "  <tbody>\n",
       "    <tr>\n",
       "      <th>0</th>\n",
       "      <td>1</td>\n",
       "      <td>3</td>\n",
       "    </tr>\n",
       "    <tr>\n",
       "      <th>1</th>\n",
       "      <td>2</td>\n",
       "      <td>4</td>\n",
       "    </tr>\n",
       "  </tbody>\n",
       "</table>\n",
       "</div>"
      ],
      "text/plain": [
       "   l1  l2\n",
       "0   1   3\n",
       "1   2   4"
      ]
     },
     "execution_count": 4,
     "metadata": {},
     "output_type": "execute_result"
    }
   ],
   "source": [
    "l1 = [1,2]\n",
    "l2 = [3,4]\n",
    "df = pd.DataFrame(list(zip(l1, l2)), columns = ['l1','l2'])\n",
    "df"
   ]
  },
  {
   "cell_type": "code",
   "execution_count": null,
   "metadata": {},
   "outputs": [
    {
     "ename": "NameError",
     "evalue": "name 'tabl_f' is not defined",
     "output_type": "error",
     "traceback": [
      "\u001b[1;31m---------------------------------------------------------------------------\u001b[0m",
      "\u001b[1;31mNameError\u001b[0m                                 Traceback (most recent call last)",
      "\u001b[1;32mc:\\Users\\DualSun\\Documents\\GitHub\\parallel-flow-distribution-pressure-loss\\main.ipynb Cell 5\u001b[0m line \u001b[0;36m2\n\u001b[0;32m      <a href='vscode-notebook-cell:/c%3A/Users/DualSun/Documents/GitHub/parallel-flow-distribution-pressure-loss/main.ipynb#W3sZmlsZQ%3D%3D?line=0'>1</a>\u001b[0m pout \u001b[39m=\u001b[39m np\u001b[39m.\u001b[39marray(tabl[\u001b[39m'\u001b[39m\u001b[39mPout\u001b[39m\u001b[39m'\u001b[39m])\n\u001b[1;32m----> <a href='vscode-notebook-cell:/c%3A/Users/DualSun/Documents/GitHub/parallel-flow-distribution-pressure-loss/main.ipynb#W3sZmlsZQ%3D%3D?line=1'>2</a>\u001b[0m poutf \u001b[39m=\u001b[39m np\u001b[39m.\u001b[39marray(tabl_f[\u001b[39m'\u001b[39m\u001b[39mPout\u001b[39m\u001b[39m'\u001b[39m])\n\u001b[0;32m      <a href='vscode-notebook-cell:/c%3A/Users/DualSun/Documents/GitHub/parallel-flow-distribution-pressure-loss/main.ipynb#W3sZmlsZQ%3D%3D?line=2'>3</a>\u001b[0m N \u001b[39m=\u001b[39m \u001b[39mlen\u001b[39m(pout)\n\u001b[0;32m      <a href='vscode-notebook-cell:/c%3A/Users/DualSun/Documents/GitHub/parallel-flow-distribution-pressure-loss/main.ipynb#W3sZmlsZQ%3D%3D?line=3'>4</a>\u001b[0m plt\u001b[39m.\u001b[39mplot([i \u001b[39mfor\u001b[39;00m i \u001b[39min\u001b[39;00m \u001b[39mrange\u001b[39m(\u001b[39m1\u001b[39m,N)],[(pout[i]\u001b[39m-\u001b[39mpoutf[i])\u001b[39m/\u001b[39mpout[i] \u001b[39mfor\u001b[39;00m i \u001b[39min\u001b[39;00m \u001b[39mrange\u001b[39m(\u001b[39m1\u001b[39m, N)])\n",
      "\u001b[1;31mNameError\u001b[0m: name 'tabl_f' is not defined"
     ]
    }
   ],
   "source": [
    "pout = np.array(tabl['Pout'])\n",
    "poutf = np.array(tabl_f['Pout'])\n",
    "N = len(pout)\n",
    "plt.plot([i for i in range(1,N)],[(pout[i]-poutf[i])/pout[i] for i in range(1, N)])"
   ]
  },
  {
   "cell_type": "code",
   "execution_count": null,
   "metadata": {},
   "outputs": [],
   "source": [
    "path_outputs = r\"G:\\Drive partagés\\BU04-Innovation\\PVT-PL-model\\Outputs\"\n",
    "V441_x1_water = fe.read_excel(path_outputs+'\\\\'+'V4.41_x4'+'_outputs.xlsx')"
   ]
  },
  {
   "cell_type": "code",
   "execution_count": null,
   "metadata": {},
   "outputs": [
    {
     "name": "stdout",
     "output_type": "stream",
     "text": [
      "2.777777777777778e-05\n",
      "0.0001388888888888889\n",
      "0.00022222222222222223\n",
      "0.0002777777777777778\n"
     ]
    }
   ],
   "source": [
    "# Création de la liste de plusieurs débits\n",
    "\n",
    "# list_Q_L = np.array([64,152,245,319,402,449,597]) # L/h\n",
    "list_Vdot = np.array([100,500,800,1000])\n",
    "# list_Vdot = np.array(V4_BTP[\"Vdot_VFD\"])\n",
    "list_Dv = list_Vdot/3600000 # m3/s\n",
    "\n",
    "# Test de plusieurs débits \n",
    "\n",
    "list_PL,list_tabl,list_mn,list_std = modf.PL_fsolve_range(par,condi0,list_Dv)"
   ]
  },
  {
   "cell_type": "code",
   "execution_count": null,
   "metadata": {},
   "outputs": [
    {
     "data": {
      "text/plain": [
       "<matplotlib.legend.Legend at 0x1f12fed8290>"
      ]
     },
     "execution_count": 7,
     "metadata": {},
     "output_type": "execute_result"
    },
    {
     "data": {
      "image/png": "[encoded data removed]",
      "text/plain": [
       "<Figure size 640x480 with 1 Axes>"
      ]
     },
     "metadata": {},
     "output_type": "display_data"
    }
   ],
   "source": [
    "# inverse la liste pour avoir le débit croissant\n",
    "list_qx = list_tabl[1]['qx'][::-1]\n",
    "list_qx.reset_index(drop=True,inplace=True)\n",
    "\n",
    "list_beta = list_qx/list_qx.sum()\n",
    "\n",
    "plt.plot(list_beta,label=f'fichier ~{file_name}')\n",
    "plt.xlabel('N° riser')\n",
    "plt.ylabel('Beta_i')\n",
    "# plt.plot(test['qx_norm'],label=\"reference\")\n",
    " # insérer la légende en dessous\n",
    "plt.legend(loc='upper center', bbox_to_anchor=(0.5, -0.2),ncol=2)"
   ]
  },
  {
   "cell_type": "code",
   "execution_count": null,
   "metadata": {},
   "outputs": [
    {
     "data": {
      "text/plain": [
       "{'sch': 'exchanger',\n",
       " 'N_panel': 1,\n",
       " 'N_EP': 1,\n",
       " 'N_riser_per_panel': 9,\n",
       " 'N_per_EP': 9,\n",
       " 'inter_riser': 0.01,\n",
       " 'inter_EP': nan,\n",
       " 'inter_panel': nan,\n",
       " 'N': 9,\n",
       " 'Ly': [0.01, 0.01, 0.01, 0.01, 0.01, 0.01, 0.01, 0.01],\n",
       " 'type': 'Z',\n",
       " 'ref': 0,\n",
       " 'method': 'Crane',\n",
       " 'theta': 90,\n",
       " 'roughness': 1e-06,\n",
       " 'coeff_Kxin': 1,\n",
       " 'coeff_Kxout': 1,\n",
       " 'coeff_Kyin': 1,\n",
       " 'coeff_Kyout': 1,\n",
       " 'shape_riser': 'tubular',\n",
       " 'D_riser': 0.002,\n",
       " 'A_riser': 3.141592653589793e-06,\n",
       " 'L_riser': 0.4,\n",
       " 'k_riser': 1e-06,\n",
       " 'shape_man': 'rectangular',\n",
       " 'h_man': 0.012,\n",
       " 'w_man': 0.012,\n",
       " 'D_man': 0.012,\n",
       " 'A_man': 0.000144,\n",
       " 'L_man': 0.12,\n",
       " 'k_man': 1e-06}"
      ]
     },
     "execution_count": 8,
     "metadata": {},
     "output_type": "execute_result"
    }
   ],
   "source": [
    "par"
   ]
  },
  {
   "cell_type": "code",
   "execution_count": null,
   "metadata": {},
   "outputs": [
    {
     "data": {
      "text/plain": [
       "array([ 2, 10])"
      ]
     },
     "execution_count": 9,
     "metadata": {},
     "output_type": "execute_result"
    }
   ],
   "source": [
    "2*np.array([1,5])"
   ]
  },
  {
   "cell_type": "code",
   "execution_count": null,
   "metadata": {},
   "outputs": [
    {
     "data": {
      "text/html": [
       "<div>\n",
       "<style scoped>\n",
       "    .dataframe tbody tr th:only-of-type {\n",
       "        vertical-align: middle;\n",
       "    }\n",
       "\n",
       "    .dataframe tbody tr th {\n",
       "        vertical-align: top;\n",
       "    }\n",
       "\n",
       "    .dataframe thead th {\n",
       "        text-align: right;\n",
       "    }\n",
       "</style>\n",
       "<table border=\"1\" class=\"dataframe\">\n",
       "  <thead>\n",
       "    <tr style=\"text-align: right;\">\n",
       "      <th></th>\n",
       "      <th>Pin</th>\n",
       "      <th>Pout</th>\n",
       "      <th>qx</th>\n",
       "    </tr>\n",
       "  </thead>\n",
       "  <tbody>\n",
       "    <tr>\n",
       "      <th>0</th>\n",
       "      <td>121716.253987</td>\n",
       "      <td>1.839562e-20</td>\n",
       "      <td>56.282323</td>\n",
       "    </tr>\n",
       "    <tr>\n",
       "      <th>1</th>\n",
       "      <td>121702.355413</td>\n",
       "      <td>1.924589e+02</td>\n",
       "      <td>55.833167</td>\n",
       "    </tr>\n",
       "    <tr>\n",
       "      <th>2</th>\n",
       "      <td>121677.519341</td>\n",
       "      <td>3.596638e+02</td>\n",
       "      <td>55.562891</td>\n",
       "    </tr>\n",
       "    <tr>\n",
       "      <th>3</th>\n",
       "      <td>121641.837312</td>\n",
       "      <td>5.026872e+02</td>\n",
       "      <td>55.394710</td>\n",
       "    </tr>\n",
       "    <tr>\n",
       "      <th>4</th>\n",
       "      <td>121595.345966</td>\n",
       "      <td>6.202835e+02</td>\n",
       "      <td>55.296788</td>\n",
       "    </tr>\n",
       "    <tr>\n",
       "      <th>5</th>\n",
       "      <td>121541.419959</td>\n",
       "      <td>7.160701e+02</td>\n",
       "      <td>55.260167</td>\n",
       "    </tr>\n",
       "    <tr>\n",
       "      <th>6</th>\n",
       "      <td>121459.207142</td>\n",
       "      <td>7.902061e+02</td>\n",
       "      <td>55.287302</td>\n",
       "    </tr>\n",
       "    <tr>\n",
       "      <th>7</th>\n",
       "      <td>121329.760334</td>\n",
       "      <td>8.427633e+02</td>\n",
       "      <td>55.403947</td>\n",
       "    </tr>\n",
       "    <tr>\n",
       "      <th>8</th>\n",
       "      <td>121133.933189</td>\n",
       "      <td>8.737204e+02</td>\n",
       "      <td>55.678704</td>\n",
       "    </tr>\n",
       "  </tbody>\n",
       "</table>\n",
       "</div>"
      ],
      "text/plain": [
       "             Pin          Pout         qx\n",
       "0  121716.253987  1.839562e-20  56.282323\n",
       "1  121702.355413  1.924589e+02  55.833167\n",
       "2  121677.519341  3.596638e+02  55.562891\n",
       "3  121641.837312  5.026872e+02  55.394710\n",
       "4  121595.345966  6.202835e+02  55.296788\n",
       "5  121541.419959  7.160701e+02  55.260167\n",
       "6  121459.207142  7.902061e+02  55.287302\n",
       "7  121329.760334  8.427633e+02  55.403947\n",
       "8  121133.933189  8.737204e+02  55.678704"
      ]
     },
     "execution_count": 10,
     "metadata": {},
     "output_type": "execute_result"
    }
   ],
   "source": [
    "list_tabl[1]"
   ]
  },
  {
   "cell_type": "code",
   "execution_count": null,
   "metadata": {},
   "outputs": [
    {
     "data": {
      "text/plain": [
       "1211339.3318908657"
      ]
     },
     "execution_count": 11,
     "metadata": {},
     "output_type": "execute_result"
    }
   ],
   "source": [
    "list_PL[1]*10"
   ]
  },
  {
   "cell_type": "code",
   "execution_count": null,
   "metadata": {},
   "outputs": [],
   "source": [
    "V441_list_qx = V441_x1_water[1][1]\n",
    "V441_list_qx = V441_list_qx[::-1]\n",
    "V441_list_qx.reset_index(drop=True,inplace=True) \n",
    "\n",
    "V441_list_qx['Group'] = np.arange(len(V441_list_qx)) // 3\n",
    "\n",
    "test = V441_list_qx.groupby('Group').agg({'qx': 'sum'})\n",
    "test['qx_norm'] = test['qx']/test['qx'].mean()"
   ]
  },
  {
   "cell_type": "code",
   "execution_count": null,
   "metadata": {},
   "outputs": [
    {
     "data": {
      "text/plain": [
       "Text(0, 0.5, 'Inlet manifold pressure (kPa)')"
      ]
     },
     "execution_count": 13,
     "metadata": {},
     "output_type": "execute_result"
    },
    {
     "data": {
      "image/png": "[encoded data removed]",
      "text/plain": [
       "<Figure size 640x480 with 1 Axes>"
      ]
     },
     "metadata": {},
     "output_type": "display_data"
    }
   ],
   "source": [
    "plt.plot(list_tabl[1]['Pin']/1000)\n",
    "plt.xlabel('N° riser')\n",
    "plt.ylabel('Inlet manifold pressure (kPa)')"
   ]
  },
  {
   "cell_type": "code",
   "execution_count": null,
   "metadata": {},
   "outputs": [
    {
     "ename": "NameError",
     "evalue": "name 'create_excel' is not defined",
     "output_type": "error",
     "traceback": [
      "\u001b[1;31m---------------------------------------------------------------------------\u001b[0m",
      "\u001b[1;31mNameError\u001b[0m                                 Traceback (most recent call last)",
      "\u001b[1;32mc:\\Users\\DualSun\\Documents\\GitHub\\parallel-flow-distribution-pressure-loss\\main.ipynb Cell 15\u001b[0m line \u001b[0;36m2\n\u001b[0;32m      <a href='vscode-notebook-cell:/c%3A/Users/DualSun/Documents/GitHub/parallel-flow-distribution-pressure-loss/main.ipynb#X14sZmlsZQ%3D%3D?line=0'>1</a>\u001b[0m path \u001b[39m=\u001b[39m \u001b[39mr\u001b[39m\u001b[39m'\u001b[39m\u001b[39mG:\u001b[39m\u001b[39m\\\u001b[39m\u001b[39mDrive partagés\u001b[39m\u001b[39m\\\u001b[39m\u001b[39mBU04-Innovation\u001b[39m\u001b[39m\\\u001b[39m\u001b[39mPVT-PL-model\u001b[39m\u001b[39m\\\u001b[39m\u001b[39mOutputs\u001b[39m\u001b[39m'\u001b[39m\n\u001b[1;32m----> <a href='vscode-notebook-cell:/c%3A/Users/DualSun/Documents/GitHub/parallel-flow-distribution-pressure-loss/main.ipynb#X14sZmlsZQ%3D%3D?line=1'>2</a>\u001b[0m create_excel(list_Vdot, list_PL, list_tabl, list_agdf, path\u001b[39m+\u001b[39m\u001b[39m'\u001b[39m\u001b[39m\\\\\u001b[39;00m\u001b[39m'\u001b[39m\u001b[39m+\u001b[39mname\u001b[39m+\u001b[39m\u001b[39m'\u001b[39m\u001b[39m_outputs.xlsx\u001b[39m\u001b[39m'\u001b[39m)\n",
      "\u001b[1;31mNameError\u001b[0m: name 'create_excel' is not defined"
     ]
    }
   ],
   "source": [
    "path = r'G:\\Drive partagés\\BU04-Innovation\\PVT-PL-model\\Outputs'\n",
    "create_excel(list_Vdot, list_PL, list_tabl, list_agdf, path+'\\\\'+name+'_outputs.xlsx')"
   ]
  },
  {
   "cell_type": "code",
   "execution_count": null,
   "metadata": {},
   "outputs": [],
   "source": [
    "list_agdf = []\n",
    "\n",
    "for t in list_tabl:\n",
    "    t['qx_norm'] = t['qx']/t['qx'].mean()\n",
    "    t['Group'] = np.arange(len(t)) // par[\"N_riser_per_panel\"]\n",
    "    # Perform aggregation on the grouped DataFrame\n",
    "    agdf = t.groupby('Group').agg({'qx': 'sum'})\n",
    "    agdf['qx_norm'] = agdf['qx']/agdf['qx'].mean()\n",
    "    list_agdf.append(agdf)"
   ]
  },
  {
   "cell_type": "code",
   "execution_count": null,
   "metadata": {},
   "outputs": [],
   "source": [
    "v441.compute_metrics()"
   ]
  },
  {
   "cell_type": "code",
   "execution_count": null,
   "metadata": {},
   "outputs": [],
   "source": [
    "popt = np.array([-6.43649945e-30,  4.38970645e-26, -1.30021029e-22,  2.19595540e-19,\n",
    "       -2.33668383e-16,  1.63748979e-13, -7.71542699e-11,  2.48556331e-08,\n",
    "       -5.69498091e-06,  1.00817834e-03, -1.42045740e-01,  1.19641447e+01])"
   ]
  },
  {
   "cell_type": "code",
   "execution_count": null,
   "metadata": {},
   "outputs": [],
   "source": [
    "q_init = polynomial(np.arange(0,1200,1),*popt)"
   ]
  },
  {
   "cell_type": "code",
   "execution_count": null,
   "metadata": {},
   "outputs": [],
   "source": [
    "plt.plot(nar,q_init)"
   ]
  },
  {
   "cell_type": "code",
   "execution_count": null,
   "metadata": {},
   "outputs": [],
   "source": [
    "q_init2 = polynomial(nar2/(len(nar2)/len(nar)),*popt)\n"
   ]
  },
  {
   "cell_type": "code",
   "execution_count": null,
   "metadata": {},
   "outputs": [],
   "source": [
    "q_init = (q_init/q_init.sum())*800"
   ]
  },
  {
   "cell_type": "code",
   "execution_count": null,
   "metadata": {},
   "outputs": [],
   "source": [
    "nar = np.arange(0,1200,1)"
   ]
  },
  {
   "cell_type": "code",
   "execution_count": null,
   "metadata": {},
   "outputs": [],
   "source": [
    "plt.plot(nar,q_init)"
   ]
  },
  {
   "cell_type": "code",
   "execution_count": null,
   "metadata": {},
   "outputs": [],
   "source": [
    "q_init.sum()"
   ]
  },
  {
   "cell_type": "code",
   "execution_count": null,
   "metadata": {},
   "outputs": [],
   "source": [
    "polynomial = lambda x, a, b, c, d, e, f, g, h, i, j, k, l: np.polyval([a, b, c, d, e, f, g, h, i, j, k, l], x)"
   ]
  },
  {
   "cell_type": "code",
   "execution_count": null,
   "metadata": {},
   "outputs": [],
   "source": [
    "popt,pcov = sco.curve_fit(polynomial,list_qx_norm.index,list_qx_norm)"
   ]
  },
  {
   "cell_type": "code",
   "execution_count": null,
   "metadata": {},
   "outputs": [],
   "source": [
    "# plt.scatter(tabl.index,tabl['qx_norm'])\n",
    "plt.scatter(list_qx_norm.index,list_qx_norm,marker=\"+\")\n",
    "plt.plot(list_qx_norm.index,polynomial(list_qx_norm.index,*popt),color=\"red\")"
   ]
  },
  {
   "cell_type": "code",
   "execution_count": null,
   "metadata": {},
   "outputs": [],
   "source": [
    "new_index = np.arange(0,300*10,1)\n",
    "new_list_qx_norm = polynomial(new_index/10,*popt)"
   ]
  },
  {
   "cell_type": "code",
   "execution_count": null,
   "metadata": {},
   "outputs": [],
   "source": [
    "new_list_qx_norm = (new_list_qx_norm/new_list_qx_norm.sum())*300*10"
   ]
  },
  {
   "cell_type": "code",
   "execution_count": null,
   "metadata": {},
   "outputs": [],
   "source": [
    "plt.plot(new_index,new_list_qx_norm)"
   ]
  },
  {
   "cell_type": "code",
   "execution_count": null,
   "metadata": {},
   "outputs": [],
   "source": [
    "testdf = pd.DataFrame({'qx_norm':new_list_qx_norm})"
   ]
  },
  {
   "cell_type": "code",
   "execution_count": null,
   "metadata": {},
   "outputs": [],
   "source": [
    "agdf = pd.DataFrame()\n",
    "\n",
    "testdf['Group'] = np.arange(len(testdf)) // 300\n",
    "# Perform aggregation on the grouped DataFrame\n",
    "\n",
    "agdf = testdf.groupby('Group').agg({'qx_norm': 'sum'})"
   ]
  },
  {
   "cell_type": "code",
   "execution_count": null,
   "metadata": {},
   "outputs": [],
   "source": [
    "agdf['norm'] = agdf['qx_norm']/agdf['qx_norm'].sum()"
   ]
  },
  {
   "cell_type": "code",
   "execution_count": null,
   "metadata": {},
   "outputs": [],
   "source": [
    "agdf['real'] = agdf['norm']*1000"
   ]
  },
  {
   "cell_type": "code",
   "execution_count": null,
   "metadata": {},
   "outputs": [],
   "source": [
    "# Test d'un seul débit\n",
    "\n",
    "coeff_list = np.linspace(1.,10.,1)\n",
    "res_list = []\n",
    "\n",
    "for c in coeff_list:\n",
    "    v441.change_coeff(c,c,c,c)\n",
    "    par = v441.make_dict()\n",
    "    tabl,res = modf.PL_fsolve(par,condi0,print=False)\n",
    "    res_list.append(res)"
   ]
  },
  {
   "cell_type": "code",
   "execution_count": null,
   "metadata": {},
   "outputs": [],
   "source": [
    "V4_TUV = pd.read_excel(r\"G:\\Drive partagés\\BU04-Innovation\\BTP\\PL-database\\V4_TUV.xlsx\")"
   ]
  },
  {
   "cell_type": "code",
   "execution_count": null,
   "metadata": {},
   "outputs": [],
   "source": [
    "rho = PropsSI('D', 'P', 1.5*1E5, 'T', 20+273.15, f'INCOMP::MPG[0.]')"
   ]
  },
  {
   "cell_type": "code",
   "execution_count": null,
   "metadata": {},
   "outputs": [],
   "source": [
    "a_x = (2/rho)*12.96*1E15*(math.pi*(0.018/2)**2)**2 * popt[0]\n",
    "b_x = (2/rho)*3.6*1E9*(math.pi*(0.018/2)**2) * popt[1]"
   ]
  },
  {
   "cell_type": "code",
   "execution_count": null,
   "metadata": {},
   "outputs": [],
   "source": [
    "V4_TUV['u'] = (V4_TUV['Vdot']/(1000*3600))/(math.pi*(0.018/2)**2)"
   ]
  },
  {
   "cell_type": "code",
   "execution_count": null,
   "metadata": {},
   "outputs": [],
   "source": [
    "popt, pcov = sco.curve_fit(lambda x,a,b : a*x**2 + b*x, V4_TUV[\"Vdot\"], V4_TUV[\"PL\"])"
   ]
  },
  {
   "cell_type": "code",
   "execution_count": null,
   "metadata": {},
   "outputs": [],
   "source": [
    "popt_x,pcov_x = sco.curve_fit(lambda x,a,b : a*x**2 + b*x, V4_TUV[\"u\"], V4_TUV[\"PL\"]*1000)"
   ]
  },
  {
   "cell_type": "code",
   "execution_count": null,
   "metadata": {},
   "outputs": [],
   "source": [
    "a_x = popt_x[0]\n",
    "b_x = popt_x[1]"
   ]
  },
  {
   "cell_type": "code",
   "execution_count": null,
   "metadata": {},
   "outputs": [],
   "source": [
    "plt.scatter(V4_TUV[\"Vdot\"],V4_TUV[\"PL\"])\n",
    "plt.plot(V4_TUV[\"Vdot\"],popt[0]*V4_TUV[\"Vdot\"]**2 + popt[1]*V4_TUV[\"Vdot\"])\n",
    "plt.plot(V4_TUV[\"Vdot\"],(a_x*V4_TUV[\"u\"]**2 + b_x*V4_TUV[\"u\"])/1000)"
   ]
  },
  {
   "cell_type": "code",
   "execution_count": null,
   "metadata": {},
   "outputs": [],
   "source": [
    "V4_BTP = pd.read_csv(\"PL_2_V4.41.csv\")\n",
    "V4_BTP.drop(columns=[\"Unnamed: 0\"],inplace=True)\n",
    "V4_BTP = V4_BTP.loc[V4_BTP[\"Vdot_VFD\"].isin([50,100,200,300,400,500,600])]"
   ]
  },
  {
   "cell_type": "code",
   "execution_count": null,
   "metadata": {},
   "outputs": [],
   "source": [
    "V4_BTP[\"PL_model\"] = np.array(list_PL)/1000"
   ]
  },
  {
   "cell_type": "code",
   "execution_count": null,
   "metadata": {},
   "outputs": [],
   "source": [
    "uncertainity = 0.1*np.array(list_PL)/1000\n",
    "V4_BTP[\"uncertainity\"] = uncertainity"
   ]
  },
  {
   "cell_type": "code",
   "execution_count": null,
   "metadata": {},
   "outputs": [],
   "source": [
    "# pl.fill_between(x, y-error, y+error,\n",
    "# alpha=1, edgecolor='#3F7F4C', facecolor='#7EFF99',\n",
    "# linewidth=0)"
   ]
  },
  {
   "cell_type": "code",
   "execution_count": null,
   "metadata": {},
   "outputs": [],
   "source": [
    "plt.plot(V4_TUV[\"Vdot\"],V4_TUV[\"PL\"],label=\"TUV\")\n",
    "#plt.plot(V4_BTP[\"Vdot_VFD\"],V4_BTP[\"PL2\"],label=\"BTP\",color=\"orange\")\n",
    "\n",
    "plt.errorbar(V4_TUV[\"Vdot\"],V4_TUV[\"PL_model\"],V4_TUV[\"uncertainity\"],fmt='-o',label=\"model for conditions at TUV\",color=\"blue\")\n",
    "# plt.errorbar(list_Vdot,V4_BTP[\"PL_model\"],uncertainity,fmt='-o',label=\"model for conditions n°2\",color=\"darkorange\")\n",
    "# plt.fill_between(list_Vdot,V4_BTP[\"PL_model\"] - V4_BTP[\"uncertainity\"],V4_BTP[\"PL_model\"] + V4_BTP[\"uncertainity\"],alpha=1,facecolor=\"moccasin\")\n",
    "plt.fill_between(V4_TUV[\"Vdot\"],V4_TUV[\"PL_model\"] - V4_TUV[\"uncertainity\"],V4_TUV[\"PL_model\"] + V4_TUV[\"uncertainity\"],alpha=1,facecolor=\"lightcyan\")\n",
    "plt.legend()"
   ]
  },
  {
   "cell_type": "code",
   "execution_count": null,
   "metadata": {},
   "outputs": [],
   "source": [
    "sns.lineplot(data=V4_TUV, x='Vdot', y='PL', err_style='bars', yerr='uncertainity')"
   ]
  },
  {
   "cell_type": "code",
   "execution_count": null,
   "metadata": {},
   "outputs": [],
   "source": [
    "sns.lineplot(data=V4_TUV, x='Vdot', y='PL',ci=0.9)"
   ]
  },
  {
   "cell_type": "code",
   "execution_count": null,
   "metadata": {},
   "outputs": [],
   "source": [
    "debit_moyen = 210/165 # L/h\n",
    "flow = debit_moyen/3600000 # m3/s\n",
    "flow_lent = flow/10\n",
    "rho = 997\n",
    "nu = 0.896*1e-6\n",
    "eta = rho*nu\n",
    "d_riser = 0.005\n",
    "Aire = math.pi*(d_riser/2)**2\n",
    "\n",
    "Re = fds.core.Reynolds(flow/Aire,d_riser,rho,mu=eta)\n",
    "print(Re)"
   ]
  },
  {
   "cell_type": "code",
   "execution_count": null,
   "metadata": {},
   "outputs": [],
   "source": [
    "mdot = flow*1000 # kg/s (hypothse rho = 1000)\n",
    "mdot_lent = flow_lent*1000\n",
    "Cp = 4180\n",
    "DT_moy = 2\n",
    "Pth = mdot*Cp*DT_moy\n",
    "DT_lent = Pth/(mdot_lent*Cp)\n",
    "print(DT_lent)"
   ]
  },
  {
   "cell_type": "code",
   "execution_count": null,
   "metadata": {},
   "outputs": [],
   "source": [
    "%load_ext autoreload\n",
    "%autoreload 2"
   ]
  },
  {
   "cell_type": "code",
   "execution_count": null,
   "metadata": {},
   "outputs": [],
   "source": [
    "%reload_ext autoreload"
   ]
  },
  {
   "cell_type": "code",
   "execution_count": null,
   "metadata": {},
   "outputs": [],
   "source": [
    "dict = {'V4.41' : (list_PL,list_tabl,list_mn,list_std)}"
   ]
  },
  {
   "cell_type": "code",
   "execution_count": null,
   "metadata": {},
   "outputs": [],
   "source": [
    "dict[\"MICOE\"] = (sim.modf_parametric_flow_rates(par,list_Q))"
   ]
  },
  {
   "cell_type": "code",
   "execution_count": null,
   "metadata": {},
   "outputs": [],
   "source": [
    "list_PL = np.array(list_PL)/1000"
   ]
  },
  {
   "cell_type": "code",
   "execution_count": null,
   "metadata": {},
   "outputs": [],
   "source": [
    "list_PL_save = list_PL.copy()\n",
    "list_tabl_save = list_tabl.copy()\n",
    "list_mn_save = list_mn.copy()\n",
    "list_std_save = list_std.copy()"
   ]
  },
  {
   "cell_type": "code",
   "execution_count": null,
   "metadata": {},
   "outputs": [],
   "source": [
    "spr_x = [60,100,120,140,160,180,200]\n",
    "spr_y = [0.30,0.60,0.70,0.80,1.10,1.50,1.90]"
   ]
  },
  {
   "cell_type": "code",
   "execution_count": null,
   "metadata": {},
   "outputs": [],
   "source": [
    "perc_diff = []\n",
    "for i in range(len(list_PL_save)):\n",
    "    perc_diff.append('+'+str(int((((list_PL[i] - list_PL_save[i])/list_PL_save[i])*100)))+'%')"
   ]
  },
  {
   "cell_type": "code",
   "execution_count": null,
   "metadata": {},
   "outputs": [],
   "source": [
    "#plt.scatter(spr_x,spr_y,label=\"S375 measured\",marker='+',color='grey')\n",
    "#plt.plot(list_Q_L,m_spr(list_Q_L),'--',color='grey')\n",
    "#plt.scatter(list_Q_L,np.array(list_PL_save)/1000,marker='+',label=\"V4.41 with wall = 0.35 mm\")\n",
    "#plt.plot(list_Q_L,np.array(m1(list_Q_L))/1000,'--')\n",
    "plt.scatter(list_Q_L,np.array(dict[\"MICOE\"][0]),marker='+',label = \"MICOE\")\n",
    "#plt.plot(list_Q_L,np.array(m2(list_Q_L))/1000,'--')\n",
    "\n",
    "\n",
    "#for i, v in enumerate(perc_diff):\n",
    "#    plt.annotate(v, xy=(list_Q_L[i],(np.array(list_PL)/100)[i]),xytext=(-7,7), textcoords='offset points')\n",
    "\n",
    "plt.xlabel('Flow rate (L/h)')\n",
    "plt.ylabel('Pressure loss (kPa)')\n",
    "\n",
    "plt.legend(loc='upper center', bbox_to_anchor=(0.5, -0.15),\n",
    "          fancybox=True, shadow=True, ncol=5)\n",
    "plt.show()"
   ]
  },
  {
   "cell_type": "code",
   "execution_count": null,
   "metadata": {},
   "outputs": [],
   "source": [
    "m1 = np.poly1d(np.polyfit(list_Q_L, list_PL_save, 2))\n",
    "m2 = np.poly1d(np.polyfit(list_Q_L, list_PL, 2))\n",
    "m_spr = np.poly1d(np.polyfit(spr_x, spr_y, 2))"
   ]
  },
  {
   "cell_type": "code",
   "execution_count": null,
   "metadata": {},
   "outputs": [],
   "source": [
    "# ancienne version 15 mm de large et 4,4 mm de hauteur \n",
    "# a = 0.00171969\n",
    "# b = 0.123036\n",
    "\n",
    "# nouvelle version 3 par 3 (mm)\n",
    "# a = 0.00337677\n",
    "# b = 1.41816\n",
    "\n",
    "a = 9.7*1E-7*1000\n",
    "b = 0.001472*1000\n",
    "\n",
    "# a = 0.0427594\n",
    "# b = 20.81999\n",
    "\n",
    "SW = [421.66,801.75,1159.49,1641.60,2205.57]\n",
    "\n",
    "sim.plot_PL_harp(par,list_Q_L,list_PL,a,b,SW,5)\n",
    "\n",
    "axes = plt.gca()\n",
    "axes.set_xlim(0,1400)\n",
    "plt.show()\n",
    "#sim.plot_PL_harp(par,list_Q_L,list_PL,a,b,5)\n",
    "# sim.plot_abs_flow_rates_harp(par,list_Q_L,list_tabl,list_mn)\n",
    "sim.plot_flow_rates_harp(par,list_Q_L,list_PL,list_tabl,list_mn)"
   ]
  },
  {
   "cell_type": "code",
   "execution_count": null,
   "metadata": {},
   "outputs": [],
   "source": [
    "PL_measured = (a*list_Q_L**2 + b*list_Q_L)\n",
    "\n",
    "plt.scatter(list_Q_L,PL_measured,label='SW Flow Simulation')\n",
    "\n",
    "for i in range(len(save)):\n",
    "    plt.plot(np.array(list_Q_L),np.array(save[i][0]),label=str(test_list[i]))\n",
    "\n",
    "plt.legend()\n",
    "plt.xlabel('Q (L/h)')\n",
    "plt.ylabel('PL (Pa)')\n",
    "plt.grid()\n",
    "plt.show()"
   ]
  },
  {
   "cell_type": "code",
   "execution_count": null,
   "metadata": {},
   "outputs": [],
   "source": [
    "PL_measured = (a*list_Q_L**2 + b*list_Q_L)\n",
    "RMSE1 = math.sqrt(mean_squared_error(list_PL,PL_measured))\n",
    "RMSE2 = math.sqrt(mean_squared_error(SW,PL_measured))\n",
    "moyenne = np.mean(PL_measured)\n",
    "print(moyenne)\n",
    "print(round(RMSE1/moyenne,2),round(RMSE2/moyenne,2))\n",
    "\n",
    "\n",
    "rel_err1 = np.round((np.array(list_PL)-np.array(PL_measured))/np.array(PL_measured),2)\n",
    "rel_err2 = np.round((np.array(SW)-np.array(PL_measured))/np.array(PL_measured),2)\n",
    "\n",
    "print(rel_err1)\n",
    "print(rel_err2)"
   ]
  },
  {
   "cell_type": "code",
   "execution_count": null,
   "metadata": {},
   "outputs": [],
   "source": [
    "sim.repartition_PL(par,list_PL,list_tabl,list_Q)\n",
    "sim.plt_repartition_PL(par,list_Q_L,list_PL,list_tabl,120,'ok')"
   ]
  },
  {
   "cell_type": "code",
   "execution_count": null,
   "metadata": {},
   "outputs": [],
   "source": [
    "# Calcul coefficient total\n",
    "\n",
    "deb = list_Q[8]\n",
    "Cfi = modf.Kxin(par,deb/2,deb/24,2)\n",
    "Cfe = modf.Kxout(par,deb/2,deb/24,2)\n",
    "\n",
    "Rex_i = fds.core.Reynolds(deb/par['Ax'],par['Dx'],par['rho'],mu=par['eta'])\n",
    "fx_i = fds.friction.friction_factor(Re = Rex_i)\n",
    "ax_i = fx_i*(par['Lx']/par['Dx'])\n",
    "\n",
    "print(1+Cfi+Cfe+ax_i)\n",
    "print(par['Ly']*24)\n",
    "print((par['Ly']*24)/par['Din'])"
   ]
  },
  {
   "cell_type": "code",
   "execution_count": null,
   "metadata": {},
   "outputs": [],
   "source": [
    "# Test pertes de charge régulières\n",
    "\n",
    "deb = list_Q[0]\n",
    "Cfi = modf.Kxin(par,deb/2,deb/24,2)\n",
    "Cfe = modf.Kxout(par,deb/2,deb/24,2)\n",
    "\n",
    "Ax = (0.010*0.015)\n",
    "\n",
    "Rex_i = fds.core.Reynolds(deb/Ax,par['Dx'],par['rho'],mu=par['eta'])\n",
    "fx_i = fds.friction.friction_factor(Re = Rex_i)\n",
    "ax_i = fx_i*(par['Lx']/par['Dx'])\n",
    "\n",
    "print(1+Cfi+Cfe+ax_i)\n",
    "print(par['Ly']*24)\n",
    "print((par['Ly']*24)/par['Din'])"
   ]
  },
  {
   "cell_type": "code",
   "execution_count": null,
   "metadata": {},
   "outputs": [],
   "source": [
    "# Inputs for singular pressure losses\n",
    "\n",
    "d_epdm = 0.015\n",
    "d_red = 0.0078 # 0.011 en pratique, diminué à 0.0078 pour que les PL + 2m EPDM fit aux mesures exp Technoptic avec SSA\n",
    "d_man = 0.0081 # 13 mm de base, quand le manifold ne fait plus que 5 mm de hauteur c'est 8,1 mm de diamètre hydraulique\n",
    "\n",
    "L_epdm = 2.\n",
    "\n",
    "angle_bm_epdm = 90.\n",
    "angle_bm_man = 90."
   ]
  },
  {
   "cell_type": "code",
   "execution_count": null,
   "metadata": {},
   "outputs": [],
   "source": [
    "PL_tot,PL_tot_lin,exp_PL_tot,cont_diff,bends,harp,reg = sim.sing_PL(par,d_epdm,d_red,d_man,L_epdm,angle_bm_epdm,angle_bm_man,list_Q_L,list_PL)"
   ]
  },
  {
   "cell_type": "code",
   "execution_count": null,
   "metadata": {},
   "outputs": [],
   "source": [
    "# Singular losses in fittings - Stacked bars chart\n",
    "\n",
    "labels = ['10', '50', '100', '150', '200']\n",
    "\n",
    "width = 0.35       # the width of the bars: can also be len(x) sequence\n",
    "\n",
    "fig, ax = plt.subplots()\n",
    "\n",
    "ax.bar(labels, cont_diff, width, label='Sharp contractions and diffusers')\n",
    "ax.bar(labels, bends, width, bottom=cont_diff,label='Bends (x4)')\n",
    "ax.bar(labels, harp, width, bottom=cont_diff+bends,label='Harp exchanger')\n",
    "ax.bar(labels, reg, width, bottom=cont_diff+bends+harp,label='Linear PL')\n",
    "\n",
    "ax.set_ylabel('PL (Pa)')\n",
    "ax.set_title('SPRING')\n",
    "ax.legend()\n",
    "\n",
    "plt.show()"
   ]
  },
  {
   "cell_type": "code",
   "execution_count": null,
   "metadata": {},
   "outputs": [],
   "source": [
    "save = [PL_tot,PL_tot_lin,exp_PL_tot,cont_diff,bends,harp,reg]"
   ]
  },
  {
   "cell_type": "code",
   "execution_count": null,
   "metadata": {},
   "outputs": [],
   "source": [
    "save2 = [PL_tot,PL_tot_lin,exp_PL_tot,cont_diff,bends,harp,reg]"
   ]
  },
  {
   "cell_type": "code",
   "execution_count": null,
   "metadata": {},
   "outputs": [],
   "source": [
    "ratio = (PL_tot_lin-save[1])/save[1]\n",
    "\n",
    "plt.plot(list_Q_L,ratio)\n",
    "plt.xlabel('Q (L/h)')\n",
    "plt.ylabel('PL increase')\n",
    "plt.title('SPRING h5 mm PL increase in % of SPRING h10 mm PL')\n",
    "plt.gca().set_yticklabels([f'{x:.0%}' for x in plt.gca().get_yticks()]) \n",
    "plt.grid()\n",
    "plt.show()"
   ]
  },
  {
   "cell_type": "code",
   "execution_count": null,
   "metadata": {},
   "outputs": [],
   "source": [
    "plt.plot(list_Q_L,PL_tot,label='Total pressure losses')\n",
    "\n",
    "plt.legend()\n",
    "plt.xlabel('Q (L/h)')\n",
    "plt.ylabel('Re')\n",
    "\n",
    "plt.grid()"
   ]
  },
  {
   "cell_type": "code",
   "execution_count": null,
   "metadata": {},
   "outputs": [],
   "source": [
    "print(list_Q_L)\n",
    "print(list_PL)\n",
    "print(list_mn)\n",
    "print([list_Q_L[i]/par[\"N\"] for i in range(len(list_Q_L))])\n",
    "\n",
    "# df_res = pd.DataFrame([np.array(list_Q_L),np.array(list_PL)],columns = ['Q_L','PL (Pa)'])\n",
    "# display(HTML(df_res.to_html()))  \n"
   ]
  },
  {
   "cell_type": "code",
   "execution_count": null,
   "metadata": {},
   "outputs": [],
   "source": [
    "# Répartition des débits par canal (en valeur absolue)\n",
    "\n",
    "list_Q_L_round = [round(num, 0) for num in list_Q_L]\n",
    "risers = np.linspace(0,164,165)\n",
    "\n",
    "for i in range(len(list_tabl)):\n",
    "    plt.plot(risers,np.array(list_tabl[i]['qx']),label=str(list_Q_L_round[i])+' L/h')\n",
    "    plt.legend()\n",
    "\n",
    "plt.xlabel('N° riser')\n",
    "plt.ylabel('qx (L/h)')\n",
    "# plt.legend(loc='center left', bbox_to_anchor=(1, 0.5))\n",
    "plt.grid()\n",
    "\n",
    "plt.show()"
   ]
  },
  {
   "cell_type": "code",
   "execution_count": null,
   "metadata": {},
   "outputs": [],
   "source": [
    "# Répartition des débits par canal (en valeur relative au débit moyen attendu)\n",
    "\n",
    "for i in range(len(list_tabl)):\n",
    "    plt.plot(risers,np.array(list_tabl[i]['qx'])/list_mn[i],label=str(list_Q_L_round[i])+' L/h')\n",
    "    plt.legend()\n",
    "\n",
    "plt.xlabel('N° riser')\n",
    "plt.ylabel('qx (L/h)')\n",
    "# plt.legend(loc='center left', bbox_to_anchor=(1, 0.5))\n",
    "plt.grid()\n",
    "\n",
    "plt.show()"
   ]
  },
  {
   "cell_type": "code",
   "execution_count": null,
   "metadata": {},
   "outputs": [],
   "source": [
    "# Test paramétrique sur  la heuteur de canal\n",
    "\n",
    "print(list_PL)\n",
    "print(list_tabl[0])\n",
    "\n",
    "print(par['N'])\n",
    "# param_name = 'l_riser'\n",
    "# test_list = par['EP']*np.array([2,6,12,18,24])\n",
    "param_name = 'h_riser'\n",
    "test_list = [0.001,0.002,0.003,0.004]\n",
    "save = []\n",
    "\n",
    "for i in range(len(test_list)):\n",
    "    sim.preproc(par,param_name,test_list[i])\n",
    "    list_PL,list_tabl,list_mn,list_std = sim.modf_parametric_flow_rates(par,list_Q)\n",
    "    save.append([list_PL,list_tabl,list_mn,list_std])\n",
    "\n",
    "# Plot pressure losses\n",
    "\n",
    "h_riser_tests = ['3 mm','4.4 mm','6 mm']\n",
    "colors = ['orange','green','red']\n",
    "\n",
    "for i in range(len(h_riser_tests)):\n",
    "    plt.plot(np.array(list_Q_L),np.array(save_h_riser[i+1][0]),label=h_riser_tests[i],color=colors[i])\n",
    "\n",
    "plt.xlabel('Q (L/h)')\n",
    "plt.ylabel('PL (Pa)')\n",
    "# plt.legend(loc='center left', bbox_to_anchor=(1, 0.5))\n",
    "plt.grid()\n",
    "plt.legend()\n",
    "\n",
    "plt.show()\n"
   ]
  },
  {
   "cell_type": "code",
   "execution_count": null,
   "metadata": {},
   "outputs": [],
   "source": [
    "# Plot pressure losses\n",
    "\n",
    "plt.plot(np.array(list_Q_L),np.array(list_PL))\n",
    "\n",
    "plt.xlabel('Q (L/h)')\n",
    "plt.ylabel('PL (Pa)')\n",
    "# plt.legend(loc='center left', bbox_to_anchor=(1, 0.5))\n",
    "plt.grid()\n",
    "\n",
    "plt.show()\n",
    "print([list_Q_L[i]/par['N'] for i in range(len(list_Q_L))])"
   ]
  },
  {
   "cell_type": "code",
   "execution_count": null,
   "metadata": {},
   "outputs": [],
   "source": [
    "# Plot mean and standard deviation of flow rate\n",
    "\n",
    "plt.plot(np.array(list_Q_L),np.array(list_mn))\n",
    "plt.plot(np.array(list_Q_L),np.array(list_std))\n",
    "\n",
    "plt.xlabel('Q (L/h)')\n",
    "plt.ylabel('Flow rate (L/h)')\n",
    "# plt.legend(loc='center left', bbox_to_anchor=(1, 0.5))\n",
    "plt.grid()\n",
    "\n",
    "plt.show()"
   ]
  },
  {
   "cell_type": "code",
   "execution_count": null,
   "metadata": {},
   "outputs": [],
   "source": [
    "# Plot standard deviation of flow rate / mean flow rate\n",
    "\n",
    "plt.plot(np.array(list_Q_L),np.array(list_std)/np.array(list_mn))\n",
    "\n",
    "plt.xlabel('Q (L/h)')\n",
    "plt.ylabel('Ratio of flow rate standard deviation out of mean flow rate')\n",
    "# plt.legend(loc='center left', bbox_to_anchor=(1, 0.5))\n",
    "plt.grid()\n",
    "\n",
    "plt.show()"
   ]
  },
  {
   "cell_type": "code",
   "execution_count": null,
   "metadata": {},
   "outputs": [],
   "source": [
    "print(np.array(list_std))\n",
    "print(np.array(list_mn))\n",
    "print(np.array(list_std)/np.array(list_mn))"
   ]
  },
  {
   "cell_type": "code",
   "execution_count": null,
   "metadata": {},
   "outputs": [],
   "source": [
    "risers = np.linspace(0,165,166)"
   ]
  }
 ],
 "metadata": {
  "kernelspec": {
   "display_name": "Python 3.10.5 ('model22')",
   "language": "python",
   "name": "python3"
  },
  "language_info": {
   "codemirror_mode": {
    "name": "ipython",
    "version": 3
   },
   "file_extension": ".py",
   "mimetype": "text/x-python",
   "name": "python",
   "nbconvert_exporter": "python",
   "pygments_lexer": "ipython3",
   "version": "3.11.6"
  },
  "orig_nbformat": 4,
  "vscode": {
   "interpreter": {
    "hash": "56caf856595f51be9bcc433b83ab5dc09086f65ad2b944386d7aaceab52f3078"
   }
  }
 },
 "nbformat": 4,
 "nbformat_minor": 2
}
