{
 "cells": [
  {
   "cell_type": "code",
   "execution_count": 1,
   "metadata": {},
   "outputs": [],
   "source": [
    "import math\n",
    "import sys\n",
    "\n",
    "import pandas as pd\n",
    "import numpy as np\n",
    "import matplotlib.pyplot as plt\n",
    "import matplotlib.font_manager as fm\n",
    "import matplotlib.ticker as mtick\n",
    "from matplotlib.cm import get_cmap\n",
    "# import addcopyfighandler\n",
    "\n",
    "import seaborn as sns\n",
    "\n",
    "from IPython.core.display import HTML\n",
    "\n",
    "sys.path.append(\"../RD-systems-and-test-benches/utils\")\n",
    "import data_processing as dp\n",
    "\n",
    "import model2 as mod\n",
    "import model_fsolve as modf\n",
    "\n",
    "import scipy.optimize as sco\n",
    "import scipy.interpolate as sci\n",
    "\n",
    "import simu as sim\n",
    "\n",
    "import hx_hydraulic as hxhy\n",
    "\n",
    "import fluids as fds\n",
    "from CoolProp.CoolProp import PropsSI\n",
    "\n",
    "import openpyxl as opxl"
   ]
  },
  {
   "cell_type": "code",
   "execution_count": 2,
   "metadata": {},
   "outputs": [],
   "source": [
    "path = r\"G:\\Drive partagés\\BU04-Innovation\\PVT-PL-model\\Inputs\"\n",
    "file_name = r\"\\V4.41_bis_x4.xlsx\"\n",
    "file_path = path+file_name\n",
    "\n",
    "v441 = hxhy.hx_harp(dp.create_dict_from_excel(path,file_name,\"heat_exchanger\"))\n",
    "par = v441.make_dict()\n",
    "\n",
    "condi = pd.read_excel(file_path,sheet_name=\"conditions\",header=0)\n",
    "condi0 = dp.create_par_from_row(condi,0)\n",
    "condi0[\"p\"] *= 1E5\n",
    "condi0[\"T\"] += 273.15\n",
    "condi0[\"rho\"] = PropsSI('D', 'P', condi0[\"p\"], 'T', condi0[\"T\"], f'INCOMP::{condi0[\"fluid\"]}[{condi0[\"glycol_rate\"]}]') # kg/m3\n",
    "condi0[\"eta\"] = PropsSI('V', 'P', condi0[\"p\"], 'T', condi0[\"T\"], f'INCOMP::{condi0[\"fluid\"]}[{condi0[\"glycol_rate\"]}]')\n",
    "condi0[\"nu\"] = condi0[\"eta\"]/condi0[\"rho\"]"
   ]
  },
  {
   "cell_type": "code",
   "execution_count": 10,
   "metadata": {},
   "outputs": [
    {
     "data": {
      "text/plain": [
       "{'sch': 'exchanger',\n",
       " 'N_panel': 4,\n",
       " 'N_EP': 10,\n",
       " 'N_riser_per_panel': 200,\n",
       " 'N_per_EP': 20,\n",
       " 'inter_riser': 0.00035,\n",
       " 'inter_EP': 0.013,\n",
       " 'inter_panel': 0.1,\n",
       " 'N': 800,\n",
       " 'Ly': [0.00035,\n",
       "  0.00035,\n",
       "  0.00035,\n",
       "  0.00035,\n",
       "  0.00035,\n",
       "  0.00035,\n",
       "  0.00035,\n",
       "  0.00035,\n",
       "  0.00035,\n",
       "  0.00035,\n",
       "  0.00035,\n",
       "  0.00035,\n",
       "  0.00035,\n",
       "  0.00035,\n",
       "  0.00035,\n",
       "  0.00035,\n",
       "  0.00035,\n",
       "  0.00035,\n",
       "  0.00035,\n",
       "  0.013,\n",
       "  0.00035,\n",
       "  0.00035,\n",
       "  0.00035,\n",
       "  0.00035,\n",
       "  0.00035,\n",
       "  0.00035,\n",
       "  0.00035,\n",
       "  0.00035,\n",
       "  0.00035,\n",
       "  0.00035,\n",
       "  0.00035,\n",
       "  0.00035,\n",
       "  0.00035,\n",
       "  0.00035,\n",
       "  0.00035,\n",
       "  0.00035,\n",
       "  0.00035,\n",
       "  0.00035,\n",
       "  0.00035,\n",
       "  0.013,\n",
       "  0.00035,\n",
       "  0.00035,\n",
       "  0.00035,\n",
       "  0.00035,\n",
       "  0.00035,\n",
       "  0.00035,\n",
       "  0.00035,\n",
       "  0.00035,\n",
       "  0.00035,\n",
       "  0.00035,\n",
       "  0.00035,\n",
       "  0.00035,\n",
       "  0.00035,\n",
       "  0.00035,\n",
       "  0.00035,\n",
       "  0.00035,\n",
       "  0.00035,\n",
       "  0.00035,\n",
       "  0.00035,\n",
       "  0.013,\n",
       "  0.00035,\n",
       "  0.00035,\n",
       "  0.00035,\n",
       "  0.00035,\n",
       "  0.00035,\n",
       "  0.00035,\n",
       "  0.00035,\n",
       "  0.00035,\n",
       "  0.00035,\n",
       "  0.00035,\n",
       "  0.00035,\n",
       "  0.00035,\n",
       "  0.00035,\n",
       "  0.00035,\n",
       "  0.00035,\n",
       "  0.00035,\n",
       "  0.00035,\n",
       "  0.00035,\n",
       "  0.00035,\n",
       "  0.013,\n",
       "  0.00035,\n",
       "  0.00035,\n",
       "  0.00035,\n",
       "  0.00035,\n",
       "  0.00035,\n",
       "  0.00035,\n",
       "  0.00035,\n",
       "  0.00035,\n",
       "  0.00035,\n",
       "  0.00035,\n",
       "  0.00035,\n",
       "  0.00035,\n",
       "  0.00035,\n",
       "  0.00035,\n",
       "  0.00035,\n",
       "  0.00035,\n",
       "  0.00035,\n",
       "  0.00035,\n",
       "  0.00035,\n",
       "  0.013,\n",
       "  0.00035,\n",
       "  0.00035,\n",
       "  0.00035,\n",
       "  0.00035,\n",
       "  0.00035,\n",
       "  0.00035,\n",
       "  0.00035,\n",
       "  0.00035,\n",
       "  0.00035,\n",
       "  0.00035,\n",
       "  0.00035,\n",
       "  0.00035,\n",
       "  0.00035,\n",
       "  0.00035,\n",
       "  0.00035,\n",
       "  0.00035,\n",
       "  0.00035,\n",
       "  0.00035,\n",
       "  0.00035,\n",
       "  0.013,\n",
       "  0.00035,\n",
       "  0.00035,\n",
       "  0.00035,\n",
       "  0.00035,\n",
       "  0.00035,\n",
       "  0.00035,\n",
       "  0.00035,\n",
       "  0.00035,\n",
       "  0.00035,\n",
       "  0.00035,\n",
       "  0.00035,\n",
       "  0.00035,\n",
       "  0.00035,\n",
       "  0.00035,\n",
       "  0.00035,\n",
       "  0.00035,\n",
       "  0.00035,\n",
       "  0.00035,\n",
       "  0.00035,\n",
       "  0.013,\n",
       "  0.00035,\n",
       "  0.00035,\n",
       "  0.00035,\n",
       "  0.00035,\n",
       "  0.00035,\n",
       "  0.00035,\n",
       "  0.00035,\n",
       "  0.00035,\n",
       "  0.00035,\n",
       "  0.00035,\n",
       "  0.00035,\n",
       "  0.00035,\n",
       "  0.00035,\n",
       "  0.00035,\n",
       "  0.00035,\n",
       "  0.00035,\n",
       "  0.00035,\n",
       "  0.00035,\n",
       "  0.00035,\n",
       "  0.013,\n",
       "  0.00035,\n",
       "  0.00035,\n",
       "  0.00035,\n",
       "  0.00035,\n",
       "  0.00035,\n",
       "  0.00035,\n",
       "  0.00035,\n",
       "  0.00035,\n",
       "  0.00035,\n",
       "  0.00035,\n",
       "  0.00035,\n",
       "  0.00035,\n",
       "  0.00035,\n",
       "  0.00035,\n",
       "  0.00035,\n",
       "  0.00035,\n",
       "  0.00035,\n",
       "  0.00035,\n",
       "  0.00035,\n",
       "  0.013,\n",
       "  0.00035,\n",
       "  0.00035,\n",
       "  0.00035,\n",
       "  0.00035,\n",
       "  0.00035,\n",
       "  0.00035,\n",
       "  0.00035,\n",
       "  0.00035,\n",
       "  0.00035,\n",
       "  0.00035,\n",
       "  0.00035,\n",
       "  0.00035,\n",
       "  0.00035,\n",
       "  0.00035,\n",
       "  0.00035,\n",
       "  0.00035,\n",
       "  0.00035,\n",
       "  0.00035,\n",
       "  0.00035,\n",
       "  0.1,\n",
       "  0.00035,\n",
       "  0.00035,\n",
       "  0.00035,\n",
       "  0.00035,\n",
       "  0.00035,\n",
       "  0.00035,\n",
       "  0.00035,\n",
       "  0.00035,\n",
       "  0.00035,\n",
       "  0.00035,\n",
       "  0.00035,\n",
       "  0.00035,\n",
       "  0.00035,\n",
       "  0.00035,\n",
       "  0.00035,\n",
       "  0.00035,\n",
       "  0.00035,\n",
       "  0.00035,\n",
       "  0.00035,\n",
       "  0.013,\n",
       "  0.00035,\n",
       "  0.00035,\n",
       "  0.00035,\n",
       "  0.00035,\n",
       "  0.00035,\n",
       "  0.00035,\n",
       "  0.00035,\n",
       "  0.00035,\n",
       "  0.00035,\n",
       "  0.00035,\n",
       "  0.00035,\n",
       "  0.00035,\n",
       "  0.00035,\n",
       "  0.00035,\n",
       "  0.00035,\n",
       "  0.00035,\n",
       "  0.00035,\n",
       "  0.00035,\n",
       "  0.00035,\n",
       "  0.013,\n",
       "  0.00035,\n",
       "  0.00035,\n",
       "  0.00035,\n",
       "  0.00035,\n",
       "  0.00035,\n",
       "  0.00035,\n",
       "  0.00035,\n",
       "  0.00035,\n",
       "  0.00035,\n",
       "  0.00035,\n",
       "  0.00035,\n",
       "  0.00035,\n",
       "  0.00035,\n",
       "  0.00035,\n",
       "  0.00035,\n",
       "  0.00035,\n",
       "  0.00035,\n",
       "  0.00035,\n",
       "  0.00035,\n",
       "  0.013,\n",
       "  0.00035,\n",
       "  0.00035,\n",
       "  0.00035,\n",
       "  0.00035,\n",
       "  0.00035,\n",
       "  0.00035,\n",
       "  0.00035,\n",
       "  0.00035,\n",
       "  0.00035,\n",
       "  0.00035,\n",
       "  0.00035,\n",
       "  0.00035,\n",
       "  0.00035,\n",
       "  0.00035,\n",
       "  0.00035,\n",
       "  0.00035,\n",
       "  0.00035,\n",
       "  0.00035,\n",
       "  0.00035,\n",
       "  0.013,\n",
       "  0.00035,\n",
       "  0.00035,\n",
       "  0.00035,\n",
       "  0.00035,\n",
       "  0.00035,\n",
       "  0.00035,\n",
       "  0.00035,\n",
       "  0.00035,\n",
       "  0.00035,\n",
       "  0.00035,\n",
       "  0.00035,\n",
       "  0.00035,\n",
       "  0.00035,\n",
       "  0.00035,\n",
       "  0.00035,\n",
       "  0.00035,\n",
       "  0.00035,\n",
       "  0.00035,\n",
       "  0.00035,\n",
       "  0.013,\n",
       "  0.00035,\n",
       "  0.00035,\n",
       "  0.00035,\n",
       "  0.00035,\n",
       "  0.00035,\n",
       "  0.00035,\n",
       "  0.00035,\n",
       "  0.00035,\n",
       "  0.00035,\n",
       "  0.00035,\n",
       "  0.00035,\n",
       "  0.00035,\n",
       "  0.00035,\n",
       "  0.00035,\n",
       "  0.00035,\n",
       "  0.00035,\n",
       "  0.00035,\n",
       "  0.00035,\n",
       "  0.00035,\n",
       "  0.013,\n",
       "  0.00035,\n",
       "  0.00035,\n",
       "  0.00035,\n",
       "  0.00035,\n",
       "  0.00035,\n",
       "  0.00035,\n",
       "  0.00035,\n",
       "  0.00035,\n",
       "  0.00035,\n",
       "  0.00035,\n",
       "  0.00035,\n",
       "  0.00035,\n",
       "  0.00035,\n",
       "  0.00035,\n",
       "  0.00035,\n",
       "  0.00035,\n",
       "  0.00035,\n",
       "  0.00035,\n",
       "  0.00035,\n",
       "  0.013,\n",
       "  0.00035,\n",
       "  0.00035,\n",
       "  0.00035,\n",
       "  0.00035,\n",
       "  0.00035,\n",
       "  0.00035,\n",
       "  0.00035,\n",
       "  0.00035,\n",
       "  0.00035,\n",
       "  0.00035,\n",
       "  0.00035,\n",
       "  0.00035,\n",
       "  0.00035,\n",
       "  0.00035,\n",
       "  0.00035,\n",
       "  0.00035,\n",
       "  0.00035,\n",
       "  0.00035,\n",
       "  0.00035,\n",
       "  0.013,\n",
       "  0.00035,\n",
       "  0.00035,\n",
       "  0.00035,\n",
       "  0.00035,\n",
       "  0.00035,\n",
       "  0.00035,\n",
       "  0.00035,\n",
       "  0.00035,\n",
       "  0.00035,\n",
       "  0.00035,\n",
       "  0.00035,\n",
       "  0.00035,\n",
       "  0.00035,\n",
       "  0.00035,\n",
       "  0.00035,\n",
       "  0.00035,\n",
       "  0.00035,\n",
       "  0.00035,\n",
       "  0.00035,\n",
       "  0.013,\n",
       "  0.00035,\n",
       "  0.00035,\n",
       "  0.00035,\n",
       "  0.00035,\n",
       "  0.00035,\n",
       "  0.00035,\n",
       "  0.00035,\n",
       "  0.00035,\n",
       "  0.00035,\n",
       "  0.00035,\n",
       "  0.00035,\n",
       "  0.00035,\n",
       "  0.00035,\n",
       "  0.00035,\n",
       "  0.00035,\n",
       "  0.00035,\n",
       "  0.00035,\n",
       "  0.00035,\n",
       "  0.00035,\n",
       "  0.1,\n",
       "  0.00035,\n",
       "  0.00035,\n",
       "  0.00035,\n",
       "  0.00035,\n",
       "  0.00035,\n",
       "  0.00035,\n",
       "  0.00035,\n",
       "  0.00035,\n",
       "  0.00035,\n",
       "  0.00035,\n",
       "  0.00035,\n",
       "  0.00035,\n",
       "  0.00035,\n",
       "  0.00035,\n",
       "  0.00035,\n",
       "  0.00035,\n",
       "  0.00035,\n",
       "  0.00035,\n",
       "  0.00035,\n",
       "  0.013,\n",
       "  0.00035,\n",
       "  0.00035,\n",
       "  0.00035,\n",
       "  0.00035,\n",
       "  0.00035,\n",
       "  0.00035,\n",
       "  0.00035,\n",
       "  0.00035,\n",
       "  0.00035,\n",
       "  0.00035,\n",
       "  0.00035,\n",
       "  0.00035,\n",
       "  0.00035,\n",
       "  0.00035,\n",
       "  0.00035,\n",
       "  0.00035,\n",
       "  0.00035,\n",
       "  0.00035,\n",
       "  0.00035,\n",
       "  0.013,\n",
       "  0.00035,\n",
       "  0.00035,\n",
       "  0.00035,\n",
       "  0.00035,\n",
       "  0.00035,\n",
       "  0.00035,\n",
       "  0.00035,\n",
       "  0.00035,\n",
       "  0.00035,\n",
       "  0.00035,\n",
       "  0.00035,\n",
       "  0.00035,\n",
       "  0.00035,\n",
       "  0.00035,\n",
       "  0.00035,\n",
       "  0.00035,\n",
       "  0.00035,\n",
       "  0.00035,\n",
       "  0.00035,\n",
       "  0.013,\n",
       "  0.00035,\n",
       "  0.00035,\n",
       "  0.00035,\n",
       "  0.00035,\n",
       "  0.00035,\n",
       "  0.00035,\n",
       "  0.00035,\n",
       "  0.00035,\n",
       "  0.00035,\n",
       "  0.00035,\n",
       "  0.00035,\n",
       "  0.00035,\n",
       "  0.00035,\n",
       "  0.00035,\n",
       "  0.00035,\n",
       "  0.00035,\n",
       "  0.00035,\n",
       "  0.00035,\n",
       "  0.00035,\n",
       "  0.013,\n",
       "  0.00035,\n",
       "  0.00035,\n",
       "  0.00035,\n",
       "  0.00035,\n",
       "  0.00035,\n",
       "  0.00035,\n",
       "  0.00035,\n",
       "  0.00035,\n",
       "  0.00035,\n",
       "  0.00035,\n",
       "  0.00035,\n",
       "  0.00035,\n",
       "  0.00035,\n",
       "  0.00035,\n",
       "  0.00035,\n",
       "  0.00035,\n",
       "  0.00035,\n",
       "  0.00035,\n",
       "  0.00035,\n",
       "  0.013,\n",
       "  0.00035,\n",
       "  0.00035,\n",
       "  0.00035,\n",
       "  0.00035,\n",
       "  0.00035,\n",
       "  0.00035,\n",
       "  0.00035,\n",
       "  0.00035,\n",
       "  0.00035,\n",
       "  0.00035,\n",
       "  0.00035,\n",
       "  0.00035,\n",
       "  0.00035,\n",
       "  0.00035,\n",
       "  0.00035,\n",
       "  0.00035,\n",
       "  0.00035,\n",
       "  0.00035,\n",
       "  0.00035,\n",
       "  0.013,\n",
       "  0.00035,\n",
       "  0.00035,\n",
       "  0.00035,\n",
       "  0.00035,\n",
       "  0.00035,\n",
       "  0.00035,\n",
       "  0.00035,\n",
       "  0.00035,\n",
       "  0.00035,\n",
       "  0.00035,\n",
       "  0.00035,\n",
       "  0.00035,\n",
       "  0.00035,\n",
       "  0.00035,\n",
       "  0.00035,\n",
       "  0.00035,\n",
       "  0.00035,\n",
       "  0.00035,\n",
       "  0.00035,\n",
       "  0.013,\n",
       "  0.00035,\n",
       "  0.00035,\n",
       "  0.00035,\n",
       "  0.00035,\n",
       "  0.00035,\n",
       "  0.00035,\n",
       "  0.00035,\n",
       "  0.00035,\n",
       "  0.00035,\n",
       "  0.00035,\n",
       "  0.00035,\n",
       "  0.00035,\n",
       "  0.00035,\n",
       "  0.00035,\n",
       "  0.00035,\n",
       "  0.00035,\n",
       "  0.00035,\n",
       "  0.00035,\n",
       "  0.00035,\n",
       "  0.013,\n",
       "  0.00035,\n",
       "  0.00035,\n",
       "  0.00035,\n",
       "  0.00035,\n",
       "  0.00035,\n",
       "  0.00035,\n",
       "  0.00035,\n",
       "  0.00035,\n",
       "  0.00035,\n",
       "  0.00035,\n",
       "  0.00035,\n",
       "  0.00035,\n",
       "  0.00035,\n",
       "  0.00035,\n",
       "  0.00035,\n",
       "  0.00035,\n",
       "  0.00035,\n",
       "  0.00035,\n",
       "  0.00035,\n",
       "  0.013,\n",
       "  0.00035,\n",
       "  0.00035,\n",
       "  0.00035,\n",
       "  0.00035,\n",
       "  0.00035,\n",
       "  0.00035,\n",
       "  0.00035,\n",
       "  0.00035,\n",
       "  0.00035,\n",
       "  0.00035,\n",
       "  0.00035,\n",
       "  0.00035,\n",
       "  0.00035,\n",
       "  0.00035,\n",
       "  0.00035,\n",
       "  0.00035,\n",
       "  0.00035,\n",
       "  0.00035,\n",
       "  0.00035,\n",
       "  0.1,\n",
       "  0.00035,\n",
       "  0.00035,\n",
       "  0.00035,\n",
       "  0.00035,\n",
       "  0.00035,\n",
       "  0.00035,\n",
       "  0.00035,\n",
       "  0.00035,\n",
       "  0.00035,\n",
       "  0.00035,\n",
       "  0.00035,\n",
       "  0.00035,\n",
       "  0.00035,\n",
       "  0.00035,\n",
       "  0.00035,\n",
       "  0.00035,\n",
       "  0.00035,\n",
       "  0.00035,\n",
       "  0.00035,\n",
       "  0.013,\n",
       "  0.00035,\n",
       "  0.00035,\n",
       "  0.00035,\n",
       "  0.00035,\n",
       "  0.00035,\n",
       "  0.00035,\n",
       "  0.00035,\n",
       "  0.00035,\n",
       "  0.00035,\n",
       "  0.00035,\n",
       "  0.00035,\n",
       "  0.00035,\n",
       "  0.00035,\n",
       "  0.00035,\n",
       "  0.00035,\n",
       "  0.00035,\n",
       "  0.00035,\n",
       "  0.00035,\n",
       "  0.00035,\n",
       "  0.013,\n",
       "  0.00035,\n",
       "  0.00035,\n",
       "  0.00035,\n",
       "  0.00035,\n",
       "  0.00035,\n",
       "  0.00035,\n",
       "  0.00035,\n",
       "  0.00035,\n",
       "  0.00035,\n",
       "  0.00035,\n",
       "  0.00035,\n",
       "  0.00035,\n",
       "  0.00035,\n",
       "  0.00035,\n",
       "  0.00035,\n",
       "  0.00035,\n",
       "  0.00035,\n",
       "  0.00035,\n",
       "  0.00035,\n",
       "  0.013,\n",
       "  0.00035,\n",
       "  0.00035,\n",
       "  0.00035,\n",
       "  0.00035,\n",
       "  0.00035,\n",
       "  0.00035,\n",
       "  0.00035,\n",
       "  0.00035,\n",
       "  0.00035,\n",
       "  0.00035,\n",
       "  0.00035,\n",
       "  0.00035,\n",
       "  0.00035,\n",
       "  0.00035,\n",
       "  0.00035,\n",
       "  0.00035,\n",
       "  0.00035,\n",
       "  0.00035,\n",
       "  0.00035,\n",
       "  0.013,\n",
       "  0.00035,\n",
       "  0.00035,\n",
       "  0.00035,\n",
       "  0.00035,\n",
       "  0.00035,\n",
       "  0.00035,\n",
       "  0.00035,\n",
       "  0.00035,\n",
       "  0.00035,\n",
       "  0.00035,\n",
       "  0.00035,\n",
       "  0.00035,\n",
       "  0.00035,\n",
       "  0.00035,\n",
       "  0.00035,\n",
       "  0.00035,\n",
       "  0.00035,\n",
       "  0.00035,\n",
       "  0.00035,\n",
       "  0.013,\n",
       "  0.00035,\n",
       "  0.00035,\n",
       "  0.00035,\n",
       "  0.00035,\n",
       "  0.00035,\n",
       "  0.00035,\n",
       "  0.00035,\n",
       "  0.00035,\n",
       "  0.00035,\n",
       "  0.00035,\n",
       "  0.00035,\n",
       "  0.00035,\n",
       "  0.00035,\n",
       "  0.00035,\n",
       "  0.00035,\n",
       "  0.00035,\n",
       "  0.00035,\n",
       "  0.00035,\n",
       "  0.00035,\n",
       "  0.013,\n",
       "  0.00035,\n",
       "  0.00035,\n",
       "  0.00035,\n",
       "  0.00035,\n",
       "  0.00035,\n",
       "  0.00035,\n",
       "  0.00035,\n",
       "  0.00035,\n",
       "  0.00035,\n",
       "  0.00035,\n",
       "  0.00035,\n",
       "  0.00035,\n",
       "  0.00035,\n",
       "  0.00035,\n",
       "  0.00035,\n",
       "  0.00035,\n",
       "  0.00035,\n",
       "  0.00035,\n",
       "  0.00035,\n",
       "  0.013,\n",
       "  0.00035,\n",
       "  0.00035,\n",
       "  0.00035,\n",
       "  0.00035,\n",
       "  0.00035,\n",
       "  0.00035,\n",
       "  0.00035,\n",
       "  0.00035,\n",
       "  0.00035,\n",
       "  0.00035,\n",
       "  0.00035,\n",
       "  0.00035,\n",
       "  0.00035,\n",
       "  0.00035,\n",
       "  0.00035,\n",
       "  0.00035,\n",
       "  0.00035,\n",
       "  0.00035,\n",
       "  0.00035,\n",
       "  0.013,\n",
       "  0.00035,\n",
       "  0.00035,\n",
       "  0.00035,\n",
       "  0.00035,\n",
       "  0.00035,\n",
       "  0.00035,\n",
       "  0.00035,\n",
       "  0.00035,\n",
       "  0.00035,\n",
       "  0.00035,\n",
       "  0.00035,\n",
       "  0.00035,\n",
       "  0.00035,\n",
       "  0.00035,\n",
       "  0.00035,\n",
       "  0.00035,\n",
       "  0.00035,\n",
       "  0.00035,\n",
       "  0.00035,\n",
       "  0.013,\n",
       "  0.00035,\n",
       "  0.00035,\n",
       "  0.00035,\n",
       "  0.00035,\n",
       "  0.00035,\n",
       "  0.00035,\n",
       "  0.00035,\n",
       "  0.00035,\n",
       "  0.00035,\n",
       "  0.00035,\n",
       "  0.00035,\n",
       "  0.00035,\n",
       "  0.00035,\n",
       "  0.00035,\n",
       "  0.00035,\n",
       "  0.00035,\n",
       "  0.00035,\n",
       "  0.00035,\n",
       "  0.00035],\n",
       " 'type': 'Z',\n",
       " 'ref': 0,\n",
       " 'method': 'Crane',\n",
       " 'theta': 90,\n",
       " 'roughness': 1e-06,\n",
       " 'coeff_Kxin': 8.5,\n",
       " 'coeff_Kxout': 8.5,\n",
       " 'coeff_Kyin': 8.5,\n",
       " 'coeff_Kyout': 8.5,\n",
       " 'shape_riser': 'rectangular',\n",
       " 'h_riser': 0.002,\n",
       " 'w_riser': 0.003,\n",
       " 'D_riser': 0.0024000000000000002,\n",
       " 'A_riser': 6e-06,\n",
       " 'L_riser': 1.582,\n",
       " 'shape_man': 'tubular',\n",
       " 'D_man': 0.035,\n",
       " 'A_man': 0.0009621127501618742,\n",
       " 'L_man': 0.78365}"
      ]
     },
     "execution_count": 10,
     "metadata": {},
     "output_type": "execute_result"
    }
   ],
   "source": [
    "par"
   ]
  },
  {
   "cell_type": "code",
   "execution_count": null,
   "metadata": {},
   "outputs": [],
   "source": [
    "condi0['Vdot'] = 100\n",
    "condi0['Dv'] = condi0['Vdot']/3600000"
   ]
  },
  {
   "cell_type": "code",
   "execution_count": null,
   "metadata": {},
   "outputs": [],
   "source": [
    "# Test d'un seul débit\n",
    "tabl,res = modf.PL_fsolve(par,condi0,print=False)"
   ]
  },
  {
   "cell_type": "code",
   "execution_count": 3,
   "metadata": {},
   "outputs": [
    {
     "name": "stdout",
     "output_type": "stream",
     "text": [
      "2.777777777777778e-05\n",
      "0.00016666666666666666\n",
      "0.00022222222222222223\n",
      "0.0002777777777777778\n"
     ]
    }
   ],
   "source": [
    "# Création de la liste de plusieurs débits\n",
    "\n",
    "# list_Q_L = np.array([64,152,245,319,402,449,597]) # L/h\n",
    "list_Vdot = np.array([100,600,800,1000])\n",
    "# list_Vdot = np.array(V4_BTP[\"Vdot_VFD\"])\n",
    "list_Dv = list_Vdot/3600000 # m3/s\n",
    "\n",
    "# Test de plusieurs débits \n",
    "\n",
    "list_PL,list_tabl,list_mn,list_std = modf.PL_fsolve_range(par,condi0,list_Dv)"
   ]
  },
  {
   "cell_type": "code",
   "execution_count": 4,
   "metadata": {},
   "outputs": [
    {
     "data": {
      "text/plain": [
       "[96.54286325992592, 690.9610861915705, 990.4686699391843, 1329.5313000629214]"
      ]
     },
     "execution_count": 4,
     "metadata": {},
     "output_type": "execute_result"
    }
   ],
   "source": [
    "list_PL"
   ]
  },
  {
   "cell_type": "code",
   "execution_count": 5,
   "metadata": {},
   "outputs": [
    {
     "data": {
      "text/html": [
       "<div>\n",
       "<style scoped>\n",
       "    .dataframe tbody tr th:only-of-type {\n",
       "        vertical-align: middle;\n",
       "    }\n",
       "\n",
       "    .dataframe tbody tr th {\n",
       "        vertical-align: top;\n",
       "    }\n",
       "\n",
       "    .dataframe thead th {\n",
       "        text-align: right;\n",
       "    }\n",
       "</style>\n",
       "<table border=\"1\" class=\"dataframe\">\n",
       "  <thead>\n",
       "    <tr style=\"text-align: right;\">\n",
       "      <th></th>\n",
       "      <th>Pin</th>\n",
       "      <th>Pout</th>\n",
       "      <th>qx</th>\n",
       "    </tr>\n",
       "  </thead>\n",
       "  <tbody>\n",
       "    <tr>\n",
       "      <th>0</th>\n",
       "      <td>1262.415232</td>\n",
       "      <td>-2.146581e-21</td>\n",
       "      <td>2.069904</td>\n",
       "    </tr>\n",
       "    <tr>\n",
       "      <th>1</th>\n",
       "      <td>1262.414714</td>\n",
       "      <td>1.153628e+00</td>\n",
       "      <td>2.050453</td>\n",
       "    </tr>\n",
       "    <tr>\n",
       "      <th>2</th>\n",
       "      <td>1262.413856</td>\n",
       "      <td>2.297837e+00</td>\n",
       "      <td>2.037743</td>\n",
       "    </tr>\n",
       "    <tr>\n",
       "      <th>3</th>\n",
       "      <td>1262.412663</td>\n",
       "      <td>3.434581e+00</td>\n",
       "      <td>2.028500</td>\n",
       "    </tr>\n",
       "    <tr>\n",
       "      <th>4</th>\n",
       "      <td>1262.411137</td>\n",
       "      <td>4.564954e+00</td>\n",
       "      <td>2.021186</td>\n",
       "    </tr>\n",
       "    <tr>\n",
       "      <th>...</th>\n",
       "      <td>...</td>\n",
       "      <td>...</td>\n",
       "      <td>...</td>\n",
       "    </tr>\n",
       "    <tr>\n",
       "      <th>795</th>\n",
       "      <td>1264.452686</td>\n",
       "      <td>2.894893e+02</td>\n",
       "      <td>0.809151</td>\n",
       "    </tr>\n",
       "    <tr>\n",
       "      <th>796</th>\n",
       "      <td>1269.800861</td>\n",
       "      <td>2.894904e+02</td>\n",
       "      <td>0.815948</td>\n",
       "    </tr>\n",
       "    <tr>\n",
       "      <th>797</th>\n",
       "      <td>1278.250671</td>\n",
       "      <td>2.894912e+02</td>\n",
       "      <td>0.827052</td>\n",
       "    </tr>\n",
       "    <tr>\n",
       "      <th>798</th>\n",
       "      <td>1293.578332</td>\n",
       "      <td>2.894916e+02</td>\n",
       "      <td>0.847629</td>\n",
       "    </tr>\n",
       "    <tr>\n",
       "      <th>799</th>\n",
       "      <td>1329.531300</td>\n",
       "      <td>2.894918e+02</td>\n",
       "      <td>0.896196</td>\n",
       "    </tr>\n",
       "  </tbody>\n",
       "</table>\n",
       "<p>800 rows × 3 columns</p>\n",
       "</div>"
      ],
      "text/plain": [
       "             Pin          Pout        qx\n",
       "0    1262.415232 -2.146581e-21  2.069904\n",
       "1    1262.414714  1.153628e+00  2.050453\n",
       "2    1262.413856  2.297837e+00  2.037743\n",
       "3    1262.412663  3.434581e+00  2.028500\n",
       "4    1262.411137  4.564954e+00  2.021186\n",
       "..           ...           ...       ...\n",
       "795  1264.452686  2.894893e+02  0.809151\n",
       "796  1269.800861  2.894904e+02  0.815948\n",
       "797  1278.250671  2.894912e+02  0.827052\n",
       "798  1293.578332  2.894916e+02  0.847629\n",
       "799  1329.531300  2.894918e+02  0.896196\n",
       "\n",
       "[800 rows x 3 columns]"
      ]
     },
     "execution_count": 5,
     "metadata": {},
     "output_type": "execute_result"
    }
   ],
   "source": [
    "list_tabl[3]"
   ]
  },
  {
   "cell_type": "code",
   "execution_count": 11,
   "metadata": {},
   "outputs": [],
   "source": [
    "list_agdf = []\n",
    "\n",
    "for t in list_tabl:\n",
    "    t['qx_norm'] = t['qx']/t['qx'].mean()\n",
    "    t['Group'] = np.arange(len(t)) // par[\"N_riser_per_panel\"]\n",
    "    # Perform aggregation on the grouped DataFrame\n",
    "    agdf = t.groupby('Group').agg({'qx': 'sum'})\n",
    "    agdf['qx_norm'] = agdf['qx']/agdf['qx'].mean()\n",
    "    list_agdf.append(agdf)"
   ]
  },
  {
   "cell_type": "code",
   "execution_count": 12,
   "metadata": {},
   "outputs": [
    {
     "data": {
      "text/html": [
       "<div>\n",
       "<style scoped>\n",
       "    .dataframe tbody tr th:only-of-type {\n",
       "        vertical-align: middle;\n",
       "    }\n",
       "\n",
       "    .dataframe tbody tr th {\n",
       "        vertical-align: top;\n",
       "    }\n",
       "\n",
       "    .dataframe thead th {\n",
       "        text-align: right;\n",
       "    }\n",
       "</style>\n",
       "<table border=\"1\" class=\"dataframe\">\n",
       "  <thead>\n",
       "    <tr style=\"text-align: right;\">\n",
       "      <th></th>\n",
       "      <th>qx</th>\n",
       "      <th>qx_norm</th>\n",
       "    </tr>\n",
       "    <tr>\n",
       "      <th>Group</th>\n",
       "      <th></th>\n",
       "      <th></th>\n",
       "    </tr>\n",
       "  </thead>\n",
       "  <tbody>\n",
       "    <tr>\n",
       "      <th>0</th>\n",
       "      <td>350.285364</td>\n",
       "      <td>1.401141</td>\n",
       "    </tr>\n",
       "    <tr>\n",
       "      <th>1</th>\n",
       "      <td>267.358936</td>\n",
       "      <td>1.069436</td>\n",
       "    </tr>\n",
       "    <tr>\n",
       "      <th>2</th>\n",
       "      <td>210.725343</td>\n",
       "      <td>0.842901</td>\n",
       "    </tr>\n",
       "    <tr>\n",
       "      <th>3</th>\n",
       "      <td>171.630358</td>\n",
       "      <td>0.686521</td>\n",
       "    </tr>\n",
       "  </tbody>\n",
       "</table>\n",
       "</div>"
      ],
      "text/plain": [
       "               qx   qx_norm\n",
       "Group                      \n",
       "0      350.285364  1.401141\n",
       "1      267.358936  1.069436\n",
       "2      210.725343  0.842901\n",
       "3      171.630358  0.686521"
      ]
     },
     "execution_count": 12,
     "metadata": {},
     "output_type": "execute_result"
    }
   ],
   "source": [
    "list_agdf[3]"
   ]
  },
  {
   "cell_type": "code",
   "execution_count": null,
   "metadata": {},
   "outputs": [],
   "source": [
    "plt.plot(list_tabl[2]['qx_norm'])"
   ]
  },
  {
   "cell_type": "code",
   "execution_count": null,
   "metadata": {},
   "outputs": [],
   "source": [
    "list_agdf[2]"
   ]
  },
  {
   "cell_type": "code",
   "execution_count": null,
   "metadata": {},
   "outputs": [],
   "source": [
    "plt.plot(list_Vdot,np.array(list_PL)/1000)"
   ]
  },
  {
   "cell_type": "code",
   "execution_count": null,
   "metadata": {},
   "outputs": [],
   "source": [
    "list_tabl[0]"
   ]
  },
  {
   "cell_type": "code",
   "execution_count": null,
   "metadata": {},
   "outputs": [],
   "source": [
    "plt.plot(list_tabl[0]['qx_norm'])"
   ]
  },
  {
   "cell_type": "code",
   "execution_count": null,
   "metadata": {},
   "outputs": [],
   "source": [
    "list_std"
   ]
  },
  {
   "cell_type": "code",
   "execution_count": null,
   "metadata": {},
   "outputs": [],
   "source": [
    "0.0001666666/300"
   ]
  },
  {
   "cell_type": "code",
   "execution_count": null,
   "metadata": {},
   "outputs": [],
   "source": [
    "tab = list_tabl[0]"
   ]
  },
  {
   "cell_type": "code",
   "execution_count": null,
   "metadata": {},
   "outputs": [],
   "source": [
    "list_PL"
   ]
  },
  {
   "cell_type": "code",
   "execution_count": null,
   "metadata": {},
   "outputs": [],
   "source": [
    "v441.compute_metrics()"
   ]
  },
  {
   "cell_type": "code",
   "execution_count": null,
   "metadata": {},
   "outputs": [],
   "source": [
    "v441.M"
   ]
  },
  {
   "cell_type": "code",
   "execution_count": null,
   "metadata": {},
   "outputs": [],
   "source": [
    "v441.E"
   ]
  },
  {
   "cell_type": "code",
   "execution_count": null,
   "metadata": {},
   "outputs": [],
   "source": [
    "popt = np.array([-6.43649945e-30,  4.38970645e-26, -1.30021029e-22,  2.19595540e-19,\n",
    "       -2.33668383e-16,  1.63748979e-13, -7.71542699e-11,  2.48556331e-08,\n",
    "       -5.69498091e-06,  1.00817834e-03, -1.42045740e-01,  1.19641447e+01])"
   ]
  },
  {
   "cell_type": "code",
   "execution_count": null,
   "metadata": {},
   "outputs": [],
   "source": [
    "q_init = polynomial(np.arange(0,1200,1),*popt)"
   ]
  },
  {
   "cell_type": "code",
   "execution_count": null,
   "metadata": {},
   "outputs": [],
   "source": [
    "plt.plot(nar,q_init)"
   ]
  },
  {
   "cell_type": "code",
   "execution_count": null,
   "metadata": {},
   "outputs": [],
   "source": [
    "q_init2 = polynomial(nar2/(len(nar2)/len(nar)),*popt)\n"
   ]
  },
  {
   "cell_type": "code",
   "execution_count": null,
   "metadata": {},
   "outputs": [],
   "source": [
    "q_init = (q_init/q_init.sum())*800"
   ]
  },
  {
   "cell_type": "code",
   "execution_count": null,
   "metadata": {},
   "outputs": [],
   "source": [
    "nar = np.arange(0,1200,1)"
   ]
  },
  {
   "cell_type": "code",
   "execution_count": null,
   "metadata": {},
   "outputs": [],
   "source": [
    "plt.plot(nar,q_init)"
   ]
  },
  {
   "cell_type": "code",
   "execution_count": null,
   "metadata": {},
   "outputs": [],
   "source": [
    "q_init.sum()"
   ]
  },
  {
   "cell_type": "code",
   "execution_count": null,
   "metadata": {},
   "outputs": [],
   "source": [
    "res"
   ]
  },
  {
   "cell_type": "code",
   "execution_count": null,
   "metadata": {},
   "outputs": [],
   "source": []
  },
  {
   "cell_type": "code",
   "execution_count": null,
   "metadata": {},
   "outputs": [],
   "source": [
    "tab"
   ]
  },
  {
   "cell_type": "code",
   "execution_count": null,
   "metadata": {},
   "outputs": [],
   "source": [
    "polynomial = lambda x, a, b, c, d, e, f, g, h, i, j, k, l: np.polyval([a, b, c, d, e, f, g, h, i, j, k, l], x)"
   ]
  },
  {
   "cell_type": "code",
   "execution_count": null,
   "metadata": {},
   "outputs": [],
   "source": [
    "popt,pcov = sco.curve_fit(polynomial,tabl.index,tabl['qx_norm'])"
   ]
  },
  {
   "cell_type": "code",
   "execution_count": null,
   "metadata": {},
   "outputs": [],
   "source": [
    "popt"
   ]
  },
  {
   "cell_type": "code",
   "execution_count": null,
   "metadata": {},
   "outputs": [],
   "source": [
    "# plt.scatter(tabl.index,tabl['qx_norm'])\n",
    "plt.plot(tabl.index,polynomial(tabl.index,*popt))"
   ]
  },
  {
   "cell_type": "code",
   "execution_count": null,
   "metadata": {},
   "outputs": [],
   "source": [
    "tabl['qx_norm'] = tabl['qx']/tabl['qx'].mean()"
   ]
  },
  {
   "cell_type": "code",
   "execution_count": null,
   "metadata": {},
   "outputs": [],
   "source": []
  },
  {
   "cell_type": "code",
   "execution_count": null,
   "metadata": {},
   "outputs": [],
   "source": [
    "\n",
    "tabl"
   ]
  },
  {
   "cell_type": "code",
   "execution_count": null,
   "metadata": {},
   "outputs": [],
   "source": []
  },
  {
   "cell_type": "code",
   "execution_count": null,
   "metadata": {},
   "outputs": [],
   "source": [
    "agdf"
   ]
  },
  {
   "cell_type": "code",
   "execution_count": null,
   "metadata": {},
   "outputs": [],
   "source": [
    "\n"
   ]
  },
  {
   "cell_type": "code",
   "execution_count": null,
   "metadata": {},
   "outputs": [],
   "source": []
  },
  {
   "cell_type": "code",
   "execution_count": null,
   "metadata": {},
   "outputs": [],
   "source": [
    "agdf"
   ]
  },
  {
   "cell_type": "code",
   "execution_count": null,
   "metadata": {},
   "outputs": [],
   "source": []
  },
  {
   "cell_type": "code",
   "execution_count": null,
   "metadata": {},
   "outputs": [],
   "source": [
    "tabl"
   ]
  },
  {
   "cell_type": "code",
   "execution_count": null,
   "metadata": {},
   "outputs": [],
   "source": [
    "res"
   ]
  },
  {
   "cell_type": "code",
   "execution_count": null,
   "metadata": {},
   "outputs": [],
   "source": [
    "# Test d'un seul débit\n",
    "\n",
    "coeff_list = np.linspace(1.,10.,1)\n",
    "res_list = []\n",
    "\n",
    "for c in coeff_list:\n",
    "    v441.change_coeff(c,c,c,c)\n",
    "    par = v441.make_dict()\n",
    "    tabl,res = modf.PL_fsolve(par,condi0,print=False)\n",
    "    res_list.append(res)"
   ]
  },
  {
   "cell_type": "code",
   "execution_count": null,
   "metadata": {},
   "outputs": [],
   "source": [
    "V4_TUV = pd.read_excel(r\"G:\\Drive partagés\\BU04-Innovation\\BTP\\PL-database\\V4_TUV.xlsx\")"
   ]
  },
  {
   "cell_type": "code",
   "execution_count": null,
   "metadata": {},
   "outputs": [],
   "source": [
    "V4_TUV"
   ]
  },
  {
   "cell_type": "code",
   "execution_count": null,
   "metadata": {},
   "outputs": [],
   "source": []
  },
  {
   "cell_type": "code",
   "execution_count": null,
   "metadata": {},
   "outputs": [],
   "source": [
    "popt, pcov = "
   ]
  },
  {
   "cell_type": "code",
   "execution_count": null,
   "metadata": {},
   "outputs": [],
   "source": [
    "popt"
   ]
  },
  {
   "cell_type": "code",
   "execution_count": null,
   "metadata": {},
   "outputs": [],
   "source": [
    "rho = PropsSI('D', 'P', 1.5*1E5, 'T', 20+273.15, f'INCOMP::MPG[0.]')"
   ]
  },
  {
   "cell_type": "code",
   "execution_count": null,
   "metadata": {},
   "outputs": [],
   "source": [
    "a_x = (2/rho)*12.96*1E15*(math.pi*(0.018/2)**2)**2 * popt[0]\n",
    "b_x = (2/rho)*3.6*1E9*(math.pi*(0.018/2)**2) * popt[1]"
   ]
  },
  {
   "cell_type": "code",
   "execution_count": null,
   "metadata": {},
   "outputs": [],
   "source": [
    "a_x"
   ]
  },
  {
   "cell_type": "code",
   "execution_count": null,
   "metadata": {},
   "outputs": [],
   "source": [
    "b_x"
   ]
  },
  {
   "cell_type": "code",
   "execution_count": null,
   "metadata": {},
   "outputs": [],
   "source": []
  },
  {
   "cell_type": "code",
   "execution_count": null,
   "metadata": {},
   "outputs": [],
   "source": [
    "V4_TUV['u'] = (V4_TUV['Vdot']/(1000*3600))/(math.pi*(0.018/2)**2)"
   ]
  },
  {
   "cell_type": "code",
   "execution_count": null,
   "metadata": {},
   "outputs": [],
   "source": [
    "V4_TUV"
   ]
  },
  {
   "cell_type": "code",
   "execution_count": null,
   "metadata": {},
   "outputs": [],
   "source": [
    "popt, pcov = sco.curve_fit(lambda x,a,b : a*x**2 + b*x, V4_TUV[\"Vdot\"], V4_TUV[\"PL\"])"
   ]
  },
  {
   "cell_type": "code",
   "execution_count": null,
   "metadata": {},
   "outputs": [],
   "source": [
    "popt_x,pcov_x = sco.curve_fit(lambda x,a,b : a*x**2 + b*x, V4_TUV[\"u\"], V4_TUV[\"PL\"]*1000)"
   ]
  },
  {
   "cell_type": "code",
   "execution_count": null,
   "metadata": {},
   "outputs": [],
   "source": [
    "a_x = popt_x[0]\n",
    "b_x = popt_x[1]"
   ]
  },
  {
   "cell_type": "code",
   "execution_count": null,
   "metadata": {},
   "outputs": [],
   "source": [
    "(2/rho)*a_x"
   ]
  },
  {
   "cell_type": "code",
   "execution_count": null,
   "metadata": {},
   "outputs": [],
   "source": [
    "(2/rho)*b_x"
   ]
  },
  {
   "cell_type": "code",
   "execution_count": null,
   "metadata": {},
   "outputs": [],
   "source": [
    "b_x"
   ]
  },
  {
   "cell_type": "code",
   "execution_count": null,
   "metadata": {},
   "outputs": [],
   "source": [
    "plt.scatter(V4_TUV[\"Vdot\"],V4_TUV[\"PL\"])\n",
    "plt.plot(V4_TUV[\"Vdot\"],popt[0]*V4_TUV[\"Vdot\"]**2 + popt[1]*V4_TUV[\"Vdot\"])\n",
    "plt.plot(V4_TUV[\"Vdot\"],(a_x*V4_TUV[\"u\"]**2 + b_x*V4_TUV[\"u\"])/1000)"
   ]
  },
  {
   "cell_type": "code",
   "execution_count": null,
   "metadata": {},
   "outputs": [],
   "source": [
    "V4_BTP = pd.read_csv(\"PL_2_V4.41.csv\")\n",
    "V4_BTP.drop(columns=[\"Unnamed: 0\"],inplace=True)\n",
    "V4_BTP = V4_BTP.loc[V4_BTP[\"Vdot_VFD\"].isin([50,100,200,300,400,500,600])]"
   ]
  },
  {
   "cell_type": "code",
   "execution_count": null,
   "metadata": {},
   "outputs": [],
   "source": [
    "V4_BTP"
   ]
  },
  {
   "cell_type": "code",
   "execution_count": null,
   "metadata": {},
   "outputs": [],
   "source": [
    "V4_BTP[\"PL_model\"] = np.array(list_PL)/1000"
   ]
  },
  {
   "cell_type": "code",
   "execution_count": null,
   "metadata": {},
   "outputs": [],
   "source": [
    "V4_TUV"
   ]
  },
  {
   "cell_type": "code",
   "execution_count": null,
   "metadata": {},
   "outputs": [],
   "source": [
    "uncertainity = 0.1*np.array(list_PL)/1000\n",
    "V4_BTP[\"uncertainity\"] = uncertainity"
   ]
  },
  {
   "cell_type": "code",
   "execution_count": null,
   "metadata": {},
   "outputs": [],
   "source": [
    "# pl.fill_between(x, y-error, y+error,\n",
    "# alpha=1, edgecolor='#3F7F4C', facecolor='#7EFF99',\n",
    "# linewidth=0)"
   ]
  },
  {
   "cell_type": "code",
   "execution_count": null,
   "metadata": {},
   "outputs": [],
   "source": [
    "plt.plot(V4_TUV[\"Vdot\"],V4_TUV[\"PL\"],label=\"TUV\")\n",
    "#plt.plot(V4_BTP[\"Vdot_VFD\"],V4_BTP[\"PL2\"],label=\"BTP\",color=\"orange\")\n",
    "\n",
    "plt.errorbar(V4_TUV[\"Vdot\"],V4_TUV[\"PL_model\"],V4_TUV[\"uncertainity\"],fmt='-o',label=\"model for conditions at TUV\",color=\"blue\")\n",
    "# plt.errorbar(list_Vdot,V4_BTP[\"PL_model\"],uncertainity,fmt='-o',label=\"model for conditions n°2\",color=\"darkorange\")\n",
    "# plt.fill_between(list_Vdot,V4_BTP[\"PL_model\"] - V4_BTP[\"uncertainity\"],V4_BTP[\"PL_model\"] + V4_BTP[\"uncertainity\"],alpha=1,facecolor=\"moccasin\")\n",
    "plt.fill_between(V4_TUV[\"Vdot\"],V4_TUV[\"PL_model\"] - V4_TUV[\"uncertainity\"],V4_TUV[\"PL_model\"] + V4_TUV[\"uncertainity\"],alpha=1,facecolor=\"lightcyan\")\n",
    "plt.legend()"
   ]
  },
  {
   "cell_type": "code",
   "execution_count": null,
   "metadata": {},
   "outputs": [],
   "source": [
    "V4_TUV"
   ]
  },
  {
   "cell_type": "code",
   "execution_count": null,
   "metadata": {},
   "outputs": [],
   "source": [
    "V4_BTP"
   ]
  },
  {
   "cell_type": "code",
   "execution_count": null,
   "metadata": {},
   "outputs": [],
   "source": [
    "list_tabl[len(list_tabl)-1]"
   ]
  },
  {
   "cell_type": "code",
   "execution_count": null,
   "metadata": {},
   "outputs": [],
   "source": []
  },
  {
   "cell_type": "code",
   "execution_count": null,
   "metadata": {},
   "outputs": [],
   "source": [
    "sns.lineplot(data=V4_TUV, x='Vdot', y='PL', err_style='bars', yerr='uncertainity')"
   ]
  },
  {
   "cell_type": "code",
   "execution_count": null,
   "metadata": {},
   "outputs": [],
   "source": [
    "sns.lineplot(data=V4_TUV, x='Vdot', y='PL',ci=0.9)"
   ]
  },
  {
   "cell_type": "code",
   "execution_count": null,
   "metadata": {},
   "outputs": [],
   "source": [
    "debit_moyen = 210/165 # L/h\n",
    "flow = debit_moyen/3600000 # m3/s\n",
    "flow_lent = flow/10\n",
    "rho = 997\n",
    "nu = 0.896*1e-6\n",
    "eta = rho*nu\n",
    "d_riser = 0.005\n",
    "Aire = math.pi*(d_riser/2)**2\n",
    "\n",
    "Re = fds.core.Reynolds(flow/Aire,d_riser,rho,mu=eta)\n",
    "print(Re)"
   ]
  },
  {
   "cell_type": "code",
   "execution_count": null,
   "metadata": {},
   "outputs": [],
   "source": [
    "mdot = flow*1000 # kg/s (hypothse rho = 1000)\n",
    "mdot_lent = flow_lent*1000\n",
    "Cp = 4180\n",
    "DT_moy = 2\n",
    "Pth = mdot*Cp*DT_moy\n",
    "DT_lent = Pth/(mdot_lent*Cp)\n",
    "print(DT_lent)"
   ]
  },
  {
   "cell_type": "code",
   "execution_count": null,
   "metadata": {},
   "outputs": [],
   "source": [
    "%load_ext autoreload\n",
    "%autoreload 2"
   ]
  },
  {
   "cell_type": "code",
   "execution_count": null,
   "metadata": {},
   "outputs": [],
   "source": [
    "%reload_ext autoreload"
   ]
  },
  {
   "cell_type": "code",
   "execution_count": null,
   "metadata": {},
   "outputs": [],
   "source": [
    "dict = {'V4.41' : (list_PL,list_tabl,list_mn,list_std)}"
   ]
  },
  {
   "cell_type": "code",
   "execution_count": null,
   "metadata": {},
   "outputs": [],
   "source": [
    "\n",
    "\n",
    "dict[\"MICOE\"] = (sim.modf_parametric_flow_rates(par,list_Q))"
   ]
  },
  {
   "cell_type": "code",
   "execution_count": null,
   "metadata": {},
   "outputs": [],
   "source": [
    "print(list_Q_L)"
   ]
  },
  {
   "cell_type": "code",
   "execution_count": null,
   "metadata": {},
   "outputs": [],
   "source": [
    "list_PL = np.array(list_PL)/1000"
   ]
  },
  {
   "cell_type": "code",
   "execution_count": null,
   "metadata": {},
   "outputs": [],
   "source": [
    "list_PL"
   ]
  },
  {
   "cell_type": "code",
   "execution_count": null,
   "metadata": {},
   "outputs": [],
   "source": [
    "list_PL_save = list_PL.copy()\n",
    "list_tabl_save = list_tabl.copy()\n",
    "list_mn_save = list_mn.copy()\n",
    "list_std_save = list_std.copy()"
   ]
  },
  {
   "cell_type": "code",
   "execution_count": null,
   "metadata": {},
   "outputs": [],
   "source": [
    "spr_x = [60,100,120,140,160,180,200]\n",
    "spr_y = [0.30,0.60,0.70,0.80,1.10,1.50,1.90]"
   ]
  },
  {
   "cell_type": "code",
   "execution_count": null,
   "metadata": {},
   "outputs": [],
   "source": [
    "perc_diff = []\n",
    "for i in range(len(list_PL_save)):\n",
    "    perc_diff.append('+'+str(int((((list_PL[i] - list_PL_save[i])/list_PL_save[i])*100)))+'%')"
   ]
  },
  {
   "cell_type": "code",
   "execution_count": null,
   "metadata": {},
   "outputs": [],
   "source": [
    "perc_diff"
   ]
  },
  {
   "cell_type": "code",
   "execution_count": null,
   "metadata": {},
   "outputs": [],
   "source": [
    "#plt.scatter(spr_x,spr_y,label=\"S375 measured\",marker='+',color='grey')\n",
    "#plt.plot(list_Q_L,m_spr(list_Q_L),'--',color='grey')\n",
    "#plt.scatter(list_Q_L,np.array(list_PL_save)/1000,marker='+',label=\"V4.41 with wall = 0.35 mm\")\n",
    "#plt.plot(list_Q_L,np.array(m1(list_Q_L))/1000,'--')\n",
    "plt.scatter(list_Q_L,np.array(dict[\"MICOE\"][0]),marker='+',label = \"MICOE\")\n",
    "#plt.plot(list_Q_L,np.array(m2(list_Q_L))/1000,'--')\n",
    "\n",
    "\n",
    "#for i, v in enumerate(perc_diff):\n",
    "#    plt.annotate(v, xy=(list_Q_L[i],(np.array(list_PL)/100)[i]),xytext=(-7,7), textcoords='offset points')\n",
    "\n",
    "plt.xlabel('Flow rate (L/h)')\n",
    "plt.ylabel('Pressure loss (kPa)')\n",
    "\n",
    "plt.legend(loc='upper center', bbox_to_anchor=(0.5, -0.15),\n",
    "          fancybox=True, shadow=True, ncol=5)\n",
    "plt.show()"
   ]
  },
  {
   "cell_type": "code",
   "execution_count": null,
   "metadata": {},
   "outputs": [],
   "source": [
    "m1 = np.poly1d(np.polyfit(list_Q_L, list_PL_save, 2))\n",
    "m2 = np.poly1d(np.polyfit(list_Q_L, list_PL, 2))\n",
    "m_spr = np.poly1d(np.polyfit(spr_x, spr_y, 2))"
   ]
  },
  {
   "cell_type": "code",
   "execution_count": null,
   "metadata": {},
   "outputs": [],
   "source": [
    "list_tabl[0]['qx']"
   ]
  },
  {
   "cell_type": "code",
   "execution_count": null,
   "metadata": {},
   "outputs": [],
   "source": [
    "print(list_Q_L)"
   ]
  },
  {
   "cell_type": "code",
   "execution_count": null,
   "metadata": {},
   "outputs": [],
   "source": [
    "# ancienne version 15 mm de large et 4,4 mm de hauteur \n",
    "# a = 0.00171969\n",
    "# b = 0.123036\n",
    "\n",
    "# nouvelle version 3 par 3 (mm)\n",
    "# a = 0.00337677\n",
    "# b = 1.41816\n",
    "\n",
    "a = 9.7*1E-7*1000\n",
    "b = 0.001472*1000\n",
    "\n",
    "# a = 0.0427594\n",
    "# b = 20.81999\n",
    "\n",
    "SW = [421.66,801.75,1159.49,1641.60,2205.57]\n",
    "\n",
    "sim.plot_PL_harp(par,list_Q_L,list_PL,a,b,SW,5)\n",
    "\n",
    "axes = plt.gca()\n",
    "axes.set_xlim(0,1400)\n",
    "plt.show()\n",
    "#sim.plot_PL_harp(par,list_Q_L,list_PL,a,b,5)\n",
    "# sim.plot_abs_flow_rates_harp(par,list_Q_L,list_tabl,list_mn)\n",
    "sim.plot_flow_rates_harp(par,list_Q_L,list_PL,list_tabl,list_mn)"
   ]
  },
  {
   "cell_type": "code",
   "execution_count": null,
   "metadata": {},
   "outputs": [],
   "source": [
    "PL_measured = (a*list_Q_L**2 + b*list_Q_L)\n",
    "\n",
    "plt.scatter(list_Q_L,PL_measured,label='SW Flow Simulation')\n",
    "\n",
    "for i in range(len(save)):\n",
    "    plt.plot(np.array(list_Q_L),np.array(save[i][0]),label=str(test_list[i]))\n",
    "\n",
    "plt.legend()\n",
    "plt.xlabel('Q (L/h)')\n",
    "plt.ylabel('PL (Pa)')\n",
    "plt.grid()\n",
    "plt.show()"
   ]
  },
  {
   "cell_type": "code",
   "execution_count": null,
   "metadata": {},
   "outputs": [],
   "source": [
    "PL_measured = (a*list_Q_L**2 + b*list_Q_L)\n",
    "RMSE1 = math.sqrt(mean_squared_error(list_PL,PL_measured))\n",
    "RMSE2 = math.sqrt(mean_squared_error(SW,PL_measured))\n",
    "moyenne = np.mean(PL_measured)\n",
    "print(moyenne)\n",
    "print(round(RMSE1/moyenne,2),round(RMSE2/moyenne,2))\n",
    "\n",
    "\n",
    "rel_err1 = np.round((np.array(list_PL)-np.array(PL_measured))/np.array(PL_measured),2)\n",
    "rel_err2 = np.round((np.array(SW)-np.array(PL_measured))/np.array(PL_measured),2)\n",
    "\n",
    "print(rel_err1)\n",
    "print(rel_err2)"
   ]
  },
  {
   "cell_type": "code",
   "execution_count": null,
   "metadata": {},
   "outputs": [],
   "source": [
    "sim.repartition_PL(par,list_PL,list_tabl,list_Q)\n",
    "sim.plt_repartition_PL(par,list_Q_L,list_PL,list_tabl,120,'ok')"
   ]
  },
  {
   "cell_type": "code",
   "execution_count": null,
   "metadata": {},
   "outputs": [],
   "source": [
    "# Calcul coefficient total\n",
    "\n",
    "deb = list_Q[8]\n",
    "Cfi = modf.Kxin(par,deb/2,deb/24,2)\n",
    "Cfe = modf.Kxout(par,deb/2,deb/24,2)\n",
    "\n",
    "Rex_i = fds.core.Reynolds(deb/par['Ax'],par['Dx'],par['rho'],mu=par['eta'])\n",
    "fx_i = fds.friction.friction_factor(Re = Rex_i)\n",
    "ax_i = fx_i*(par['Lx']/par['Dx'])\n",
    "\n",
    "print(1+Cfi+Cfe+ax_i)\n",
    "print(par['Ly']*24)\n",
    "print((par['Ly']*24)/par['Din'])"
   ]
  },
  {
   "cell_type": "code",
   "execution_count": null,
   "metadata": {},
   "outputs": [],
   "source": [
    "# Test pertes de charge régulières\n",
    "\n",
    "deb = list_Q[0]\n",
    "Cfi = modf.Kxin(par,deb/2,deb/24,2)\n",
    "Cfe = modf.Kxout(par,deb/2,deb/24,2)\n",
    "\n",
    "Ax = (0.010*0.015)\n",
    "\n",
    "Rex_i = fds.core.Reynolds(deb/Ax,par['Dx'],par['rho'],mu=par['eta'])\n",
    "fx_i = fds.friction.friction_factor(Re = Rex_i)\n",
    "ax_i = fx_i*(par['Lx']/par['Dx'])\n",
    "\n",
    "print(1+Cfi+Cfe+ax_i)\n",
    "print(par['Ly']*24)\n",
    "print((par['Ly']*24)/par['Din'])"
   ]
  },
  {
   "cell_type": "code",
   "execution_count": null,
   "metadata": {},
   "outputs": [],
   "source": [
    "# Inputs for singular pressure losses\n",
    "\n",
    "d_epdm = 0.015\n",
    "d_red = 0.0078 # 0.011 en pratique, diminué à 0.0078 pour que les PL + 2m EPDM fit aux mesures exp Technoptic avec SSA\n",
    "d_man = 0.0081 # 13 mm de base, quand le manifold ne fait plus que 5 mm de hauteur c'est 8,1 mm de diamètre hydraulique\n",
    "\n",
    "L_epdm = 2.\n",
    "\n",
    "angle_bm_epdm = 90.\n",
    "angle_bm_man = 90."
   ]
  },
  {
   "cell_type": "code",
   "execution_count": null,
   "metadata": {},
   "outputs": [],
   "source": [
    "PL_tot,PL_tot_lin,exp_PL_tot,cont_diff,bends,harp,reg = sim.sing_PL(par,d_epdm,d_red,d_man,L_epdm,angle_bm_epdm,angle_bm_man,list_Q_L,list_PL)"
   ]
  },
  {
   "cell_type": "code",
   "execution_count": null,
   "metadata": {},
   "outputs": [],
   "source": [
    "# Singular losses in fittings - Stacked bars chart\n",
    "\n",
    "labels = ['10', '50', '100', '150', '200']\n",
    "\n",
    "width = 0.35       # the width of the bars: can also be len(x) sequence\n",
    "\n",
    "fig, ax = plt.subplots()\n",
    "\n",
    "ax.bar(labels, cont_diff, width, label='Sharp contractions and diffusers')\n",
    "ax.bar(labels, bends, width, bottom=cont_diff,label='Bends (x4)')\n",
    "ax.bar(labels, harp, width, bottom=cont_diff+bends,label='Harp exchanger')\n",
    "ax.bar(labels, reg, width, bottom=cont_diff+bends+harp,label='Linear PL')\n",
    "\n",
    "ax.set_ylabel('PL (Pa)')\n",
    "ax.set_title('SPRING')\n",
    "ax.legend()\n",
    "\n",
    "plt.show()"
   ]
  },
  {
   "cell_type": "code",
   "execution_count": null,
   "metadata": {},
   "outputs": [],
   "source": [
    "save = [PL_tot,PL_tot_lin,exp_PL_tot,cont_diff,bends,harp,reg]"
   ]
  },
  {
   "cell_type": "code",
   "execution_count": null,
   "metadata": {},
   "outputs": [],
   "source": [
    "save2 = [PL_tot,PL_tot_lin,exp_PL_tot,cont_diff,bends,harp,reg]"
   ]
  },
  {
   "cell_type": "code",
   "execution_count": null,
   "metadata": {},
   "outputs": [],
   "source": [
    "ratio = (PL_tot_lin-save[1])/save[1]\n",
    "\n",
    "plt.plot(list_Q_L,ratio)\n",
    "plt.xlabel('Q (L/h)')\n",
    "plt.ylabel('PL increase')\n",
    "plt.title('SPRING h5 mm PL increase in % of SPRING h10 mm PL')\n",
    "plt.gca().set_yticklabels([f'{x:.0%}' for x in plt.gca().get_yticks()]) \n",
    "plt.grid()\n",
    "plt.show()"
   ]
  },
  {
   "cell_type": "code",
   "execution_count": null,
   "metadata": {},
   "outputs": [],
   "source": [
    "plt.plot(list_Q_L,PL_tot,label='Total pressure losses')\n",
    "\n",
    "plt.legend()\n",
    "plt.xlabel('Q (L/h)')\n",
    "plt.ylabel('Re')\n",
    "\n",
    "plt.grid()"
   ]
  },
  {
   "cell_type": "code",
   "execution_count": null,
   "metadata": {},
   "outputs": [],
   "source": [
    "print(list_Q_L)\n",
    "print(list_PL)\n",
    "print(list_mn)\n",
    "print([list_Q_L[i]/par[\"N\"] for i in range(len(list_Q_L))])\n",
    "\n",
    "# df_res = pd.DataFrame([np.array(list_Q_L),np.array(list_PL)],columns = ['Q_L','PL (Pa)'])\n",
    "# display(HTML(df_res.to_html()))  \n"
   ]
  },
  {
   "cell_type": "code",
   "execution_count": null,
   "metadata": {},
   "outputs": [],
   "source": [
    "# Répartition des débits par canal (en valeur absolue)\n",
    "\n",
    "list_Q_L_round = [round(num, 0) for num in list_Q_L]\n",
    "risers = np.linspace(0,164,165)\n",
    "\n",
    "for i in range(len(list_tabl)):\n",
    "    plt.plot(risers,np.array(list_tabl[i]['qx']),label=str(list_Q_L_round[i])+' L/h')\n",
    "    plt.legend()\n",
    "\n",
    "plt.xlabel('N° riser')\n",
    "plt.ylabel('qx (L/h)')\n",
    "# plt.legend(loc='center left', bbox_to_anchor=(1, 0.5))\n",
    "plt.grid()\n",
    "\n",
    "plt.show()"
   ]
  },
  {
   "cell_type": "code",
   "execution_count": null,
   "metadata": {},
   "outputs": [],
   "source": [
    "# Répartition des débits par canal (en valeur relative au débit moyen attendu)\n",
    "\n",
    "for i in range(len(list_tabl)):\n",
    "    plt.plot(risers,np.array(list_tabl[i]['qx'])/list_mn[i],label=str(list_Q_L_round[i])+' L/h')\n",
    "    plt.legend()\n",
    "\n",
    "plt.xlabel('N° riser')\n",
    "plt.ylabel('qx (L/h)')\n",
    "# plt.legend(loc='center left', bbox_to_anchor=(1, 0.5))\n",
    "plt.grid()\n",
    "\n",
    "plt.show()"
   ]
  },
  {
   "cell_type": "code",
   "execution_count": null,
   "metadata": {},
   "outputs": [],
   "source": [
    "# Test paramétrique sur  la heuteur de canal\n",
    "\n",
    "print(list_PL)\n",
    "print(list_tabl[0])\n",
    "\n",
    "print(par['N'])\n",
    "# param_name = 'l_riser'\n",
    "# test_list = par['EP']*np.array([2,6,12,18,24])\n",
    "param_name = 'h_riser'\n",
    "test_list = [0.001,0.002,0.003,0.004]\n",
    "save = []\n",
    "\n",
    "for i in range(len(test_list)):\n",
    "    sim.preproc(par,param_name,test_list[i])\n",
    "    list_PL,list_tabl,list_mn,list_std = sim.modf_parametric_flow_rates(par,list_Q)\n",
    "    save.append([list_PL,list_tabl,list_mn,list_std])\n",
    "\n",
    "# Plot pressure losses\n",
    "\n",
    "h_riser_tests = ['3 mm','4.4 mm','6 mm']\n",
    "colors = ['orange','green','red']\n",
    "\n",
    "for i in range(len(h_riser_tests)):\n",
    "    plt.plot(np.array(list_Q_L),np.array(save_h_riser[i+1][0]),label=h_riser_tests[i],color=colors[i])\n",
    "\n",
    "plt.xlabel('Q (L/h)')\n",
    "plt.ylabel('PL (Pa)')\n",
    "# plt.legend(loc='center left', bbox_to_anchor=(1, 0.5))\n",
    "plt.grid()\n",
    "plt.legend()\n",
    "\n",
    "plt.show()\n"
   ]
  },
  {
   "cell_type": "code",
   "execution_count": null,
   "metadata": {},
   "outputs": [],
   "source": [
    "# Plot pressure losses\n",
    "\n",
    "plt.plot(np.array(list_Q_L),np.array(list_PL))\n",
    "\n",
    "plt.xlabel('Q (L/h)')\n",
    "plt.ylabel('PL (Pa)')\n",
    "# plt.legend(loc='center left', bbox_to_anchor=(1, 0.5))\n",
    "plt.grid()\n",
    "\n",
    "plt.show()\n",
    "print([list_Q_L[i]/par['N'] for i in range(len(list_Q_L))])"
   ]
  },
  {
   "attachments": {},
   "cell_type": "markdown",
   "metadata": {},
   "source": []
  },
  {
   "cell_type": "code",
   "execution_count": null,
   "metadata": {},
   "outputs": [],
   "source": [
    "# Plot mean and standard deviation of flow rate\n",
    "\n",
    "plt.plot(np.array(list_Q_L),np.array(list_mn))\n",
    "plt.plot(np.array(list_Q_L),np.array(list_std))\n",
    "\n",
    "plt.xlabel('Q (L/h)')\n",
    "plt.ylabel('Flow rate (L/h)')\n",
    "# plt.legend(loc='center left', bbox_to_anchor=(1, 0.5))\n",
    "plt.grid()\n",
    "\n",
    "plt.show()"
   ]
  },
  {
   "cell_type": "code",
   "execution_count": null,
   "metadata": {},
   "outputs": [],
   "source": [
    "# Plot standard deviation of flow rate / mean flow rate\n",
    "\n",
    "plt.plot(np.array(list_Q_L),np.array(list_std)/np.array(list_mn))\n",
    "\n",
    "plt.xlabel('Q (L/h)')\n",
    "plt.ylabel('Ratio of flow rate standard deviation out of mean flow rate')\n",
    "# plt.legend(loc='center left', bbox_to_anchor=(1, 0.5))\n",
    "plt.grid()\n",
    "\n",
    "plt.show()"
   ]
  },
  {
   "cell_type": "code",
   "execution_count": null,
   "metadata": {},
   "outputs": [],
   "source": [
    "print(np.array(list_std))\n",
    "print(np.array(list_mn))\n",
    "print(np.array(list_std)/np.array(list_mn))"
   ]
  },
  {
   "cell_type": "code",
   "execution_count": null,
   "metadata": {},
   "outputs": [],
   "source": [
    "np.array(list_tabl[0]['qx'])"
   ]
  },
  {
   "cell_type": "code",
   "execution_count": null,
   "metadata": {},
   "outputs": [],
   "source": [
    "risers = np.linspace(0,165,166)"
   ]
  },
  {
   "cell_type": "code",
   "execution_count": null,
   "metadata": {},
   "outputs": [],
   "source": [
    "len(np.array(list_tabl[i]['qx']))"
   ]
  },
  {
   "cell_type": "code",
   "execution_count": null,
   "metadata": {},
   "outputs": [],
   "source": [
    "len(risers)"
   ]
  },
  {
   "cell_type": "code",
   "execution_count": null,
   "metadata": {},
   "outputs": [],
   "source": [
    "print(list_Q_L)"
   ]
  },
  {
   "cell_type": "code",
   "execution_count": null,
   "metadata": {},
   "outputs": [],
   "source": [
    "[round(num, 0) for num in list_Q_L]"
   ]
  }
 ],
 "metadata": {
  "kernelspec": {
   "display_name": "Python 3.10.5 ('model22')",
   "language": "python",
   "name": "python3"
  },
  "language_info": {
   "codemirror_mode": {
    "name": "ipython",
    "version": 3
   },
   "file_extension": ".py",
   "mimetype": "text/x-python",
   "name": "python",
   "nbconvert_exporter": "python",
   "pygments_lexer": "ipython3",
   "version": "3.10.5"
  },
  "orig_nbformat": 4,
  "vscode": {
   "interpreter": {
    "hash": "56caf856595f51be9bcc433b83ab5dc09086f65ad2b944386d7aaceab52f3078"
   }
  }
 },
 "nbformat": 4,
 "nbformat_minor": 2
}
