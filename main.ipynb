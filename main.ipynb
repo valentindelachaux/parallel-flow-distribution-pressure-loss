{
 "cells": [
  {
   "cell_type": "code",
<<<<<<< Updated upstream
   "execution_count": null,
   "metadata": {},
   "outputs": [],
   "source": [
    "print(sys.executable)"
   ]
  },
  {
   "cell_type": "code",
   "execution_count": null,
=======
   "execution_count": 6,
>>>>>>> Stashed changes
   "metadata": {},
   "outputs": [],
   "source": [
    "import math\n",
    "import pandas as pd\n",
    "import numpy as np\n",
    "import matplotlib.pyplot as plt\n",
    "import matplotlib.font_manager as fm\n",
    "import matplotlib.ticker as mtick\n",
    "from matplotlib.cm import get_cmap\n",
<<<<<<< Updated upstream
    "import addcopyfighandler\n",
=======
>>>>>>> Stashed changes
    "\n",
    "from IPython.core.display import HTML\n",
    "from IPython.display import display\n",
    "\n",
    "import model2 as mod\n",
<<<<<<< Updated upstream
    "import model_fsolve as modf"
   ]
  },
  {
   "cell_type": "code",
   "execution_count": null,
   "metadata": {},
   "outputs": [],
   "source": [
    "import fluids as fds"
=======
    "import model_fsolve as modf\n",
    "import simu as sim\n",
    "\n",
    "import fluids as fds\n",
    "\n",
    "from sklearn.metrics import mean_squared_error"
>>>>>>> Stashed changes
   ]
  },
  {
   "cell_type": "code",
<<<<<<< Updated upstream
   "execution_count": null,
=======
   "execution_count": 2,
>>>>>>> Stashed changes
   "metadata": {},
   "outputs": [],
   "source": [
    "par = {}\n",
    "\n",
    "par[\"eps\"] = 0.001\n",
    "\n",
<<<<<<< Updated upstream
    "par[\"ref\"] = 1\n",
    "\n",
    "par[\"rho\"] = 997 # kg/m3\n",
    "par[\"nu\"] = 0.896*1e-6 # at 25°C, in m2/s https://www4.ac-nancy-metz.fr/physique/ancien_site/Tp-phys/Term/TP-fluid/visco-eau.htm\n",
    "par[\"eta\"] = par[\"rho\"]*par[\"nu\"]"
   ]
  },
  {
   "cell_type": "code",
   "execution_count": null,
   "metadata": {},
   "outputs": [],
   "source": [
    "# Heat exchanger inputs --------------------------------------------------\n",
    "\n",
    "# REAL SPRING\n",
    "# -----------\n",
    "\n",
    "par[\"N\"] = 165\n",
    "\n",
    "par[\"Lx\"] = 1.39985 # longueur d'un canal en m, not used in the row calculation\n",
    "par[\"Ly\"] = 0.0008157 # distance inter canaux en m\n",
    "\n",
    "# pour le SPRING, avec 1 mm d'écart entre chaque duo de risers, et 5 mm de largeur par riser, ça fait 989 mm de largeur\n",
    "\n",
    "par[\"h_man\"] = 0.010 # SPRING en vrai c'est 0.010\n",
    "par[\"l_man\"] = 0.022\n",
    "\n",
    "par[\"Dx\"] = 0.00476 # m, not used in the row calculation\n",
    "par[\"Din\"] = (2*par[\"h_man\"]*par[\"l_man\"])/(par[\"h_man\"]+par[\"l_man\"]) # m\n",
    "par[\"Dout\"] = par[\"Din\"] # m\n",
    "\n",
    "par[\"theta\"] = 90.\n",
    "\n",
    "par[\"rough\"] = 0.0015 # PVC/plastic pipe absolute roughness is 0.0015"
   ]
  },
  {
   "cell_type": "code",
   "execution_count": null,
   "metadata": {},
   "outputs": [],
   "source": [
    "# Manifold tubulaire\n",
    "\n",
    "par[\"Ax\"] = math.pi*(par[\"Dx\"]/2)**2\n",
    "par[\"Ain\"] = math.pi*(par[\"Din\"]/2)**2\n",
    "par[\"Aout\"] = math.pi*(par[\"Dout\"]/2)**2\n",
    "\n",
    "par[\"a_x\"] = 84.7/800\n",
    "# par[\"a\"] = 0.\n",
    "par[\"b_x\"] = 5.36/800\n",
    "\n",
    "# dP (Pa) = (rho/2) (a_x u**2 + b_x u) its the pressure loss function of a heat exchanger\n",
    "\n",
    "par[\"sch\"] = \"exchanger\""
   ]
  },
  {
   "cell_type": "code",
   "execution_count": null,
   "metadata": {},
   "outputs": [],
   "source": [
    "# Manifold rectangulaire (SPRING ou autre)\n",
    "\n",
    "par[\"Ax\"] = math.pi*(par[\"Dx\"]/2)**2\n",
    "par[\"Ain\"] = par[\"h_man\"]*par[\"l_man\"]\n",
    "par[\"Aout\"] = par[\"Ain\"]\n",
=======
    "par[\"rho\"] = 997 # kg/m3\n",
    "par[\"nu\"] = 0.896*1e-6 # at 25°C, in m2/s https://www4.ac-nancy-metz.fr/physique/ancien_site/Tp-phys/Term/TP-fluid/visco-eau.htm\n",
    "par[\"eta\"] = par[\"rho\"]*par[\"nu\"]\n",
    "\n",
    "# Heat exchanger inputs --------------------------------------------------\n",
    "\n",
    "# MICOE\n",
    "# ------\n",
    "\n",
    "par[\"N\"] = 24\n",
    "\n",
    "par[\"Lx\"] = 5.886 # m, not used in the row calculation\n",
    "par[\"Ly\"] = (par[\"N\"]-1)*[1.2285/par[\"N\"]]\n",
    "\n",
    "# Z-type or U-type\n",
    "\n",
    "par[\"ref\"] = 0\n",
    "\n",
    "par[\"Dx\"] = 0.008 # m, not used in the row calculation\n",
    "par[\"Din\"] = 0.042 # m\n",
    "par[\"Dout\"] = 0.042 # m\n",
    "\n",
    "par[\"manifold\"] = \"tubular\" # or rectangular\n",
    "\n",
    "coeff = 1.\n",
    "par[\"coeff_Kxin\"] = coeff\n",
    "par[\"coeff_Kxout\"] = coeff\n",
    "par[\"coeff_Kyin\"] = coeff\n",
    "par[\"coeff_Kyout\"] = coeff\n",
    "\n",
    "# Parameters\n",
    "\n",
    "par[\"theta\"] = 90.\n",
    "\n",
    "par[\"rough\"] = 0.001 # aluminium = 0.001 mm\n",
    "\n",
    "# End of inputs\n",
    "\n",
    "# Manifold tubulaire ou rectangulaire\n",
    "\n",
    "if par[\"manifold\"] == \"tubular\":\n",
    "    par[\"Ax\"] = math.pi*(par[\"Dx\"]/2)**2\n",
    "    par[\"Ain\"] = math.pi*(par[\"Din\"]/2)**2\n",
    "    par[\"Aout\"] = math.pi*(par[\"Dout\"]/2)**2\n",
    "elif par[\"manifold\"] == \"rectangular\": # rectangulaire (SPRING ou autre)\n",
    "    par[\"Ax\"] = math.pi*(par[\"Dx\"]/2)**2\n",
    "    par[\"Ain\"] = par[\"h_man\"]*par[\"l_man\"]\n",
    "    par[\"Aout\"] = par[\"Ain\"]\n",
>>>>>>> Stashed changes
    "\n",
    "par[\"a_x\"] = 84.7/800\n",
    "# par[\"a\"] = 0.\n",
    "par[\"b_x\"] = 5.36/800\n",
    "\n",
    "# dP (Pa) = (rho/2) (a_x u**2 + b_x u) its the pressure loss function of a heat exchanger\n",
    "\n",
<<<<<<< Updated upstream
    "par[\"sch\"] = \"exchanger\""
   ]
  },
  {
   "cell_type": "code",
   "execution_count": null,
   "metadata": {},
   "outputs": [],
   "source": [
=======
    "par[\"sch\"] = \"exchanger\"\n",
    "\n",
>>>>>>> Stashed changes
    "# 'Crane' or 'perso'\n",
    "par['method'] = 'Crane'\n",
    "\n",
    "# Listes de taille par[\"N\"]\n",
    "\n",
    "par['Kxin'] = []\n",
    "par['Kyin'] = []\n",
    "par['Kxout'] = []\n",
    "par['Kyout'] = []"
   ]
  },
  {
   "cell_type": "code",
<<<<<<< Updated upstream
   "execution_count": null,
   "metadata": {},
   "outputs": [],
   "source": [
    "# Test d'un seul débit\n",
    "\n",
    "par[\"QF\"] = 100/3600000 # m3/s (0.000278 m3/s = 1000 L/h) (le premier nombre est en L/h)\n",
    "# Speed and Reynolds at inlet manifold\n",
    "par[\"U\"] = par[\"QF\"]/par[\"Ain\"]\n",
    "par[\"Reman\"] = par[\"U\"]*(par[\"rho\"]*par[\"Din\"])/par[\"eta\"]\n",
    "tabl,res = modf.PL_fsolve(par,par[\"sch\"],True)"
=======
   "execution_count": 31,
   "metadata": {},
   "outputs": [
    {
     "name": "stdout",
     "output_type": "stream",
     "text": [
      "{'eps': 0.001, 'rho': 997, 'nu': 8.96e-07, 'eta': 0.000893312, 'N': 24, 'Lx': 5.886, 'Ly': [0.0511875, 0.0511875, 0.0511875, 0.0511875, 0.0511875, 0.0511875, 0.0511875, 0.0511875, 0.0511875, 0.0511875, 0.0511875, 0.0511875, 0.0511875, 0.0511875, 0.0511875, 0.0511875, 0.0511875, 0.0511875, 0.0511875, 0.0511875, 0.0511875, 0.0511875, 0.0511875], 'ref': 23, 'Dx': 0.008, 'Din': 0.042, 'Dout': 0.042, 'manifold': 'tubular', 'coeff_Kxin': 1.0, 'coeff_Kxout': 1.0, 'coeff_Kyin': 1.0, 'coeff_Kyout': 1.0, 'theta': 90.0, 'rough': 0.001, 'Ax': 5.0265482457436686e-05, 'Ain': 0.001385442360233099, 'Aout': 0.001385442360233099, 'a_x': 0.105875, 'b_x': 0.0067, 'sch': 'exchanger', 'method': 'Crane', 'Kxin': [], 'Kyin': [], 'Kxout': [], 'Kyout': []}\n"
     ]
    }
   ],
   "source": [
    "print(par)"
>>>>>>> Stashed changes
   ]
  },
  {
   "cell_type": "code",
<<<<<<< Updated upstream
   "execution_count": null,
   "metadata": {},
   "outputs": [],
   "source": [
    "# Liste de plusieurs débits\n",
    "\n",
    "# list_k = np.linspace(1e-6,5*1e-6,10)\n",
    "# list_k = np.linspace(1e-8,1e-6,20)\n",
    "list_Q = [10/3600000,50/3600000,100/3600000,150/3600000,200/3600000] # m3/s\n",
    "list_Q_L = 3600000*np.array(list_Q)\n",
    "\n",
    "list_PL = []\n",
    "list_mn = []\n",
    "list_std = []\n",
    "list_tabl = []"
=======
   "execution_count": 3,
   "metadata": {},
   "outputs": [
    {
     "name": "stdout",
     "output_type": "stream",
     "text": [
      "[7.55555556e-05 1.32777778e-04 1.81111111e-04 2.37777778e-04\n",
      " 3.03888889e-04]\n",
      "[ 272  478  652  856 1094]\n"
     ]
    }
   ],
   "source": [
    "# Création de la liste de plusieurs débits\n",
    "\n",
    "list_Q_L = np.array([272,478,652,856,1094]) # L/h\n",
    "# list_Q_L = np.array([50,100,150])\n",
    "list_Q = list_Q_L/3600000 # m3/s\n",
    "\n",
    "print(list_Q)\n",
    "print(list_Q_L)"
>>>>>>> Stashed changes
   ]
  },
  {
   "cell_type": "code",
<<<<<<< Updated upstream
   "execution_count": null,
   "metadata": {},
   "outputs": [],
   "source": [
    "print(list_Q)\n",
    "print(list_Q_L)"
=======
   "execution_count": 4,
   "metadata": {},
   "outputs": [
    {
     "name": "stdout",
     "output_type": "stream",
     "text": [
      "7.555555555555556e-05\n",
      "0.00013277777777777778\n",
      "0.0001811111111111111\n",
      "0.00023777777777777778\n",
      "0.0003038888888888889\n"
     ]
    }
   ],
   "source": [
    "# Test de plusieurs débits \n",
    "# Model fsolve -> résoud l'échangeur en harpe\n",
    "\n",
    "list_PL,list_tabl,list_mn,list_std = sim.modf_parametric_flow_rates(par,list_Q)"
>>>>>>> Stashed changes
   ]
  },
  {
   "cell_type": "code",
   "execution_count": null,
   "metadata": {},
   "outputs": [],
   "source": [
<<<<<<< Updated upstream
    "# Model fsolve\n",
    "\n",
    "for Q in list_Q:\n",
    "    print(Q)\n",
    "    par[\"QF\"] = Q\n",
    "    # Speed and Reynolds at inlet manifold\n",
    "    par[\"U\"] = par[\"QF\"]/par[\"Ain\"]\n",
    "    par[\"Reman\"] = par[\"U\"]*(par[\"rho\"]*par[\"Din\"])/par[\"eta\"]\n",
    "\n",
    "    tabl,res = modf.PL_fsolve(par,par[\"sch\"],False)\n",
    "    list_PL.append(res)\n",
    "    list_tabl.append(tabl)\n",
    "\n",
    "    list_mn.append(tabl['qx'].mean()) # fow rate qx is in L/h\n",
    "    list_std.append(tabl['qx'].std())\n"
=======
    "list_tabl"
   ]
  },
  {
   "cell_type": "code",
   "execution_count": 5,
   "metadata": {},
   "outputs": [
    {
     "data": {
      "image/png": "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",
      "text/plain": [
       "<Figure size 432x288 with 1 Axes>"
      ]
     },
     "metadata": {
      "needs_background": "light"
     },
     "output_type": "display_data"
    },
    {
     "data": {
      "image/png": "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",
      "text/plain": [
       "<Figure size 432x288 with 1 Axes>"
      ]
     },
     "metadata": {
      "needs_background": "light"
     },
     "output_type": "display_data"
    }
   ],
   "source": [
    "# ancienne version 15 mm de large et 4,4 mm de hauteur \n",
    "# a = 0.00171969\n",
    "# b = 0.123036\n",
    "\n",
    "# nouvelle version 3 par 3 (mm)\n",
    "# a = 0.00337677\n",
    "# b = 1.41816\n",
    "\n",
    "a = 9.7*1E-7*1000\n",
    "b = 0.001472*1000\n",
    "\n",
    "# a = 0.0427594\n",
    "# b = 20.81999\n",
    "\n",
    "SW = [421.66,801.75,1159.49,1641.60,2205.57]\n",
    "\n",
    "sim.plot_PL_harp(par,list_Q_L,list_PL,a,b,SW,5)\n",
    "\n",
    "axes = plt.gca()\n",
    "axes.set_xlim(0,1400)\n",
    "plt.show()\n",
    "#sim.plot_PL_harp(par,list_Q_L,list_PL,a,b,5)\n",
    "# sim.plot_abs_flow_rates_harp(par,list_Q_L,list_tabl,list_mn)\n",
    "sim.plot_flow_rates_harp(par,list_Q_L,list_PL,list_tabl,list_mn)"
>>>>>>> Stashed changes
   ]
  },
  {
   "cell_type": "code",
<<<<<<< Updated upstream
   "execution_count": null,
   "metadata": {},
   "outputs": [],
   "source": [
    "rho = par['rho']\n",
    "\n",
    "for q in range(len(list_Q)):\n",
    "    PLq = list_PL[q]\n",
    "\n",
    "    lin_in = []\n",
    "    lin_x = []\n",
    "    lin_out = []\n",
    "    lin_in_cum = []\n",
    "    lin_out_cum = []\n",
    "    sing = []\n",
    "\n",
    "    tab = list_tabl[q]\n",
    "\n",
    "    Qin = []\n",
    "    Qout = []\n",
    "    \n",
    "    for i in range(par[\"N\"]):\n",
    "        Qin.append(sum([tab['qx'][j] for j in range(0,i+1)]))\n",
    "        Qout.append(sum([tab['qx'][j] for j in range(i,par[\"N\"])]))\n",
    "\n",
    "    tab['Qin'] = Qin\n",
    "    tab['Qout'] = Qout\n",
    "\n",
    "    for i in range(par[\"N\"]):\n",
    "        Qin_i = tab['Qin'][i]\n",
    "        Qout_i = tab['Qout'][i]\n",
    "        qx_i = tab['qx'][i]\n",
    "\n",
    "        uin_i = (Qin_i/3600000)/par['Ain']\n",
    "        ux_i = (qx_i/3600000)/par['Ax']\n",
    "        uout_i = (Qout_i/3600000)/par['Aout']\n",
    "\n",
    "        Rein_i = fds.core.Reynolds(uin_i,par['Din'],par['rho'],mu=par['eta'])\n",
    "        Rex_i = fds.core.Reynolds(ux_i,par['Dx'],par['rho'],mu=par['eta'])\n",
    "        Reout_i = fds.core.Reynolds(uout_i,par['Dout'],par['rho'],mu=par['eta'])\n",
    "        fin_i = fds.friction.friction_factor(Re = Rein_i)\n",
    "        fx_i = fds.friction.friction_factor(Re = Rex_i)\n",
    "        fout_i = fds.friction.friction_factor(Re = Reout_i)\n",
    "\n",
    "        ain_i = fin_i*(par['Ly']/par['Din'])\n",
    "        ax_i = fx_i*(par['Lx']/par['Dx'])\n",
    "        aout_i = fout_i*(par['Ly']/par['Dout'])\n",
    "\n",
    "        lin_in.append((rho/2)*ain_i*uin_i**2)\n",
    "        lin_x.append((rho/2)*ax_i*ux_i**2)\n",
    "        lin_out.append((rho/2)*aout_i*uout_i**2)\n",
    "\n",
    "    tab['lin_in'] = lin_in\n",
    "    tab['lin_x'] = lin_x\n",
    "    tab['lin_out'] = lin_out\n",
    "\n",
    "    for i in range(par[\"N\"]):\n",
    "        lin_in_cum.append(sum([lin_in[j] for j in range(i,par[\"N\"])]))\n",
    "        lin_out_cum.append(sum([lin_out[j] for j in range(0,i+1)]))\n",
    "\n",
    "    tab['lin_in_cum'] = lin_in_cum\n",
    "    tab['lin_out_cum'] = lin_out_cum\n",
    "\n",
    "    for i in range(par[\"N\"]):\n",
    "        sing.append(PLq-tab['lin_in_cum'][i]-tab['lin_x'][i]-tab['lin_out_cum'][i])\n",
    "    \n",
    "    tab['sing'] = sing"
=======
   "execution_count": 19,
   "metadata": {},
   "outputs": [
    {
     "name": "stdout",
     "output_type": "stream",
     "text": [
      "1502.3147359999998\n",
      "0.2 0.21\n"
     ]
    }
   ],
   "source": [
    "PL_measured = (a*list_Q_L**2 + b*list_Q_L)\n",
    "RMSE1 = math.sqrt(mean_squared_error(list_PL,PL_measured))\n",
    "RMSE2 = math.sqrt(mean_squared_error(SW,PL_measured))\n",
    "moyenne = np.mean(PL_measured)\n",
    "print(moyenne)\n",
    "print(round(RMSE1/moyenne,2),round(RMSE2/moyenne,2))"
>>>>>>> Stashed changes
   ]
  },
  {
   "cell_type": "code",
<<<<<<< Updated upstream
   "execution_count": null,
   "metadata": {},
   "outputs": [],
   "source": [
    "sum([list_tabl[2]['qx'][i] for i in range(par[\"N\"])])"
=======
   "execution_count": 13,
   "metadata": {},
   "outputs": [
    {
     "name": "stdout",
     "output_type": "stream",
     "text": [
      "[-0.62 -0.42 -0.27 -0.13  0.01]\n",
      "[-0.11 -0.13 -0.15 -0.17 -0.2 ]\n"
     ]
    }
   ],
   "source": [
    "rel_err1 = np.round((np.array(list_PL)-np.array(PL_measured))/np.array(PL_measured),2)\n",
    "rel_err2 = np.round((np.array(SW)-np.array(PL_measured))/np.array(PL_measured),2)\n",
    "\n",
    "print(rel_err1)\n",
    "print(rel_err2)"
>>>>>>> Stashed changes
   ]
  },
  {
   "cell_type": "code",
   "execution_count": null,
   "metadata": {},
   "outputs": [],
   "source": [
<<<<<<< Updated upstream
    "print(list_PL)\n",
    "print(list_tabl[0])"
=======
    "print(par[\"N\"])\n",
    "# param_name = \"l_riser\"\n",
    "# test_list = par[\"EP\"]*np.array([2,6,12,18,24])\n",
    "param_name = \"h_riser\"\n",
    "test_list = [0.001,0.002,0.003,0.004]\n",
    "save = []\n",
    "\n",
    "for i in range(len(test_list)):\n",
    "    sim.preproc(par,param_name,test_list[i])\n",
    "    list_PL,list_tabl,list_mn,list_std = sim.modf_parametric_flow_rates(par,list_Q)\n",
    "    save.append([list_PL,list_tabl,list_mn,list_std])"
>>>>>>> Stashed changes
   ]
  },
  {
   "cell_type": "code",
<<<<<<< Updated upstream
   "execution_count": null,
   "metadata": {},
   "outputs": [],
   "source": [
    "q = 2\n",
    "Q = list_Q_L[q]\n",
    "\n",
    "x = np.array(range(0,17))\n",
    "x = 10*x"
=======
   "execution_count": 17,
   "metadata": {},
   "outputs": [],
   "source": [
    "saving_param_N = save"
>>>>>>> Stashed changes
   ]
  },
  {
   "cell_type": "code",
<<<<<<< Updated upstream
   "execution_count": null,
   "metadata": {},
   "outputs": [],
   "source": [
    "print(x)\n",
    "print(len(x))"
=======
   "execution_count": 22,
   "metadata": {},
   "outputs": [
    {
     "data": {
      "text/plain": [
       "0.004"
      ]
     },
     "execution_count": 22,
     "metadata": {},
     "output_type": "execute_result"
    }
   ],
   "source": [
    "par[\"h_riser\"]"
>>>>>>> Stashed changes
   ]
  },
  {
   "cell_type": "code",
<<<<<<< Updated upstream
   "execution_count": null,
   "metadata": {},
   "outputs": [],
   "source": [
    "# Stacked bars chart\n",
    "\n",
    "labels = [str(x[i]) for i in range(len(x))]\n",
    "\n",
    "tab = list_tabl[q]\n",
    "\n",
    "lin_in_cum = []\n",
    "lin_x = []\n",
    "lin_out_cum = []\n",
    "sing = []\n",
    "\n",
    "for i in range(len(x)):\n",
    "    lin_in_cum.append(tab['lin_in_cum'][x[i]])\n",
    "    lin_x.append(tab['lin_x'][x[i]])\n",
    "    lin_out_cum.append(tab['lin_out_cum'][x[i]])\n",
    "    sing.append(tab['sing'][x[i]])"
=======
   "execution_count": 40,
   "metadata": {},
   "outputs": [
    {
     "data": {
      "image/png": "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",
      "text/plain": [
       "<Figure size 432x288 with 1 Axes>"
      ]
     },
     "metadata": {
      "needs_background": "light"
     },
     "output_type": "display_data"
    }
   ],
   "source": [
    "PL_measured = (a*list_Q_L**2 + b*list_Q_L)\n",
    "\n",
    "plt.scatter(list_Q_L,PL_measured,label='SW Flow Simulation')\n",
    "\n",
    "for i in range(len(save)):\n",
    "    plt.plot(np.array(list_Q_L),np.array(save[i][0]),label=str(test_list[i]))\n",
    "\n",
    "plt.legend()\n",
    "plt.xlabel('Q (L/h)')\n",
    "plt.ylabel('PL (Pa)')\n",
    "plt.grid()\n",
    "plt.show()"
   ]
  },
  {
   "cell_type": "code",
   "execution_count": 48,
   "metadata": {},
   "outputs": [
    {
     "name": "stdout",
     "output_type": "stream",
     "text": [
      "[3.576821489766378, 19.573620610913693, 67.86815130885596, 145.97123145451187, 255.2457377069134, 394.6145391706777, 564.2919126773398, 694.1460463189698]\n",
      "[2.1491333808365125, 15.317744174697166, 58.43935202501232, 135.3954401593053, 231.02021038329897, 397.414760815585, 532.5093226627976, 650.648242349229]\n",
      "[ 0.39914995  0.21742919  0.13892819  0.0724512   0.0949106  -0.00709609\n",
      "  0.05632296  0.06266376]\n"
     ]
    }
   ],
   "source": [
    "print(save[0][0])\n",
    "print(save[3][0])\n",
    "diff = np.array((save[0][0]-np.array(save[3][0]))/save[0][0])\n",
    "print(diff)\n"
>>>>>>> Stashed changes
   ]
  },
  {
   "cell_type": "code",
   "execution_count": null,
   "metadata": {},
   "outputs": [],
   "source": [
<<<<<<< Updated upstream
    "lin_in_cum = np.array(lin_in_cum)\n",
    "lin_x = np.array(lin_x)\n",
    "lin_out_cum = np.array(lin_out_cum)\n",
    "sing = np.array(sing)\n",
    "\n",
    "width = 0.35       # the width of the bars: can also be len(x) sequence\n",
    "\n",
    "fig, ax = plt.subplots()\n",
    "\n",
    "ax.bar(labels, lin_in_cum, width, label='Inlet header linear PL')\n",
    "ax.bar(labels, lin_x, width, bottom=lin_in_cum,label='Riser linear PL')\n",
    "ax.bar(labels, lin_out_cum, width, bottom=lin_in_cum+lin_x,label='Outlet header linear PL')\n",
    "ax.bar(labels, sing, width, bottom=lin_in_cum+lin_x+lin_out_cum,label='Singular PL')\n",
    "\n",
    "ax.plot(labels,np.array(17*[list_PL[q]]))\n",
    "\n",
    "ax.set_ylabel('PL (Pa)')\n",
    "# ax.set_title('SPRING')\n",
    "ax.legend()\n",
    "\n",
=======
    "# Test d'un seul débit\n",
    "\n",
    "par[\"QF\"] = 100/3600000 # m3/s (0.000278 m3/s = 1000 L/h) (le premier nombre est en L/h)\n",
    "# Speed and Reynolds at inlet manifold\n",
    "par[\"U\"] = par[\"QF\"]/par[\"Ain\"]\n",
    "par[\"Reman\"] = par[\"U\"]*(par[\"rho\"]*par[\"Din\"])/par[\"eta\"]\n",
    "tabl,res = modf.PL_fsolve(par,par[\"sch\"],True)"
   ]
  },
  {
   "cell_type": "code",
   "execution_count": null,
   "metadata": {},
   "outputs": [
    {
     "data": {
      "image/png": "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",
      "text/plain": [
       "<Figure size 432x288 with 1 Axes>"
      ]
     },
     "metadata": {
      "needs_background": "light"
     },
     "output_type": "display_data"
    }
   ],
   "source": [
    "# Plot pressure losses\n",
    "\n",
    "h_riser_tests = ['3 mm','4.4 mm','6 mm']\n",
    "colors = ['orange','green','red']\n",
    "\n",
    "for i in range(len(h_riser_tests)):\n",
    "    plt.plot(np.array(list_Q_L),np.array(save_h_riser[i+1][0]),label=h_riser_tests[i],color=colors[i])\n",
    "\n",
    "plt.xlabel('Q (L/h)')\n",
    "plt.ylabel('PL (Pa)')\n",
    "# plt.legend(loc='center left', bbox_to_anchor=(1, 0.5))\n",
    "plt.grid()\n",
    "plt.legend()\n",
>>>>>>> Stashed changes
    "plt.show()"
   ]
  },
  {
   "cell_type": "code",
   "execution_count": null,
   "metadata": {},
<<<<<<< Updated upstream
   "outputs": [],
   "source": [
    "print(np.average(sing))\n",
    "print(np.average(sing)/list_PL[q])\n",
    "print(np.average(lin_x))\n",
    "print(np.average(lin_x)/list_PL[q])"
=======
   "outputs": [
    {
     "data": {
      "text/plain": [
       "99.9996349111698"
      ]
     },
     "execution_count": 22,
     "metadata": {},
     "output_type": "execute_result"
    }
   ],
   "source": [
    "sum([list_tabl[2]['qx'][i] for i in range(par[\"N\"])])"
>>>>>>> Stashed changes
   ]
  },
  {
   "cell_type": "code",
   "execution_count": null,
   "metadata": {},
   "outputs": [],
   "source": [
<<<<<<< Updated upstream
    "list_tabl[0]['qx']"
=======
    "print(list_PL)\n",
    "print(list_tabl[0])"
   ]
  },
  {
   "cell_type": "code",
   "execution_count": 8,
   "metadata": {},
   "outputs": [
    {
     "name": "stdout",
     "output_type": "stream",
     "text": [
      "120\n",
      "[  0   1   2   3   4   5   6   7   8   9  10  11  12  13  14  15  16  17\n",
      "  18  19  20  21  22  23  24  25  26  27  28  29  30  31  32  33  34  35\n",
      "  36  37  38  39  40  41  42  43  44  45  46  47  48  49  50  51  52  53\n",
      "  54  55  56  57  58  59  60  61  62  63  64  65  66  67  68  69  70  71\n",
      "  72  73  74  75  76  77  78  79  80  81  82  83  84  85  86  87  88  89\n",
      "  90  91  92  93  94  95  96  97  98  99 100 101 102 103 104 105 106 107\n",
      " 108 109 110 111 112 113 114 115 116 117 118 119 120 121 122 123 124 125\n",
      " 126 127 128 129 130 131 132 133 134 135 136 137 138 139 140 141 142 143\n",
      " 144 145 146 147 148 149 150 151 152 153 154 155 156 157 158 159 160 161\n",
      " 162 163 164 165 166 167 168 169 170 171 172 173 174 175 176 177 178 179\n",
      " 180 181 182 183 184 185 186 187 188 189 190 191 192 193 194 195 196 197\n",
      " 198 199 200 201 202 203 204 205 206 207 208 209 210 211 212 213 214 215\n",
      " 216 217 218 219 220 221 222 223 224 225 226 227 228 229 230 231 232 233\n",
      " 234 235 236 237 238 239 240 241 242 243 244 245 246 247 248 249 250 251\n",
      " 252 253 254 255 256 257 258 259 260 261 262 263 264 265 266 267 268 269\n",
      " 270 271 272 273 274 275 276 277 278 279 280 281 282 283 284 285 286 287\n",
      " 288 289 290 291 292 293 294 295 296]\n",
      "297\n",
      "120\n"
     ]
    },
    {
     "data": {
      "image/png": "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",
      "text/plain": [
       "<Figure size 432x288 with 1 Axes>"
      ]
     },
     "metadata": {
      "needs_background": "light"
     },
     "output_type": "display_data"
    }
   ],
   "source": [
    "sim.repartition_PL(par,list_PL,list_tabl,list_Q)\n",
    "sim.plt_repartition_PL(par,list_Q_L,list_PL,list_tabl,120,'ok')"
>>>>>>> Stashed changes
   ]
  },
  {
   "cell_type": "code",
   "execution_count": null,
   "metadata": {},
   "outputs": [],
   "source": [
<<<<<<< Updated upstream
    "# Inputs for singular pressure losses\n",
    "\n",
    "d_epdm = 0.015\n",
    "d_red = 0.0078 # 0.011 en pratique, diminué à 0.0078 pour que les PL + 2m EPDM fit aux mesures exp Technoptic avec SSA\n",
    "d_man = 0.0081 # 13 mm de base, quand le manifold ne fait plus que 5 mm de hauteur c'est 8,1 mm de diamètre hydraulique\n",
    "\n",
    "L_epdm = 2.\n",
    "\n",
    "angle_bm_epdm = 90.\n",
    "angle_bm_man = 90."
=======
    "print(np.average(sing))\n",
    "print(np.average(sing)/list_PL[q])\n",
    "print(np.average(lin_x))\n",
    "print(np.average(lin_x)/list_PL[q])"
   ]
  },
  {
   "cell_type": "code",
   "execution_count": null,
   "metadata": {},
   "outputs": [
    {
     "name": "stdout",
     "output_type": "stream",
     "text": [
      "27.61783331036081\n",
      "1.2285\n",
      "29.249999999999996\n"
     ]
    }
   ],
   "source": [
    "deb = list_Q[8]\n",
    "Cfi = modf.Kxin(par,deb/2,deb/24,2)\n",
    "Cfe = modf.Kxout(par,deb/2,deb/24,2)\n",
    "\n",
    "Rex_i = fds.core.Reynolds(deb/par[\"Ax\"],par['Dx'],par['rho'],mu=par['eta'])\n",
    "fx_i = fds.friction.friction_factor(Re = Rex_i)\n",
    "ax_i = fx_i*(par['Lx']/par['Dx'])\n",
    "\n",
    "print(1+Cfi+Cfe+ax_i)\n",
    "print(par[\"Ly\"]*24)\n",
    "print((par[\"Ly\"]*24)/par[\"Din\"])"
>>>>>>> Stashed changes
   ]
  },
  {
   "cell_type": "code",
   "execution_count": null,
   "metadata": {},
   "outputs": [],
   "source": [
<<<<<<< Updated upstream
    "list_Re = []\n",
    "\n",
    "Kc_list_R = []\n",
    "Kc_list_H = []\n",
    "PL_c_R = []\n",
    "PL_c_H = []\n",
    "\n",
    "Kdm_list_R = []\n",
    "Kdm_list_H = []\n",
    "PL_dm_R = []\n",
    "PL_dm_H = []\n",
    "\n",
    "Kcm_list_R = []\n",
    "Kcm_list_H = []\n",
    "PL_cm_R = []\n",
    "PL_cm_H = []\n",
    "\n",
    "Kd_list_R = []\n",
    "Kd_list_H = []\n",
    "PL_d_R = []\n",
    "PL_d_H = []\n",
    "\n",
    "list_Kbm_man = []\n",
    "PL_bm_man = []\n",
    "\n",
    "list_Kbm_epdm = []\n",
    "PL_bm_epdm = []\n",
    "\n",
    "PL_epdm = []\n",
    "\n",
    "for Q in list_Q:\n",
    "    u_epdm = Q/(math.pi*(d_epdm/2)**2)\n",
    "    u_red = Q/(math.pi*(d_red/2)**2)\n",
    "    u_man = Q/(math.pi*(d_man/2)**2)\n",
    "\n",
    "    # Reynolds dans les liaisons EPDM, dans la réduction du QDF, dans les manifolds\n",
    "    Re_epdm = fds.core.Reynolds(u_epdm,d_epdm,par[\"rho\"],mu=par[\"eta\"])\n",
    "    list_Re.append(Re_epdm)\n",
    "    Re_red = fds.core.Reynolds(u_red,d_red,par[\"rho\"],mu=par[\"eta\"])\n",
    "    Re_man = fds.core.Reynolds(u_man,d_man,par[\"rho\"],mu=par[\"eta\"])\n",
    "\n",
    "    # Contraction sharp EPDM-reduction\n",
    "    Kc_H = fds.fittings.contraction_sharp(d_epdm,d_red,Re=Re_epdm,roughness=par[\"rough\"],method='Hooper')\n",
    "    Kc_R = fds.fittings.contraction_sharp(d_epdm,d_red,Re=Re_epdm,roughness=par[\"rough\"],method='Rennels')\n",
    "    Kc_list_H.append(Kc_H)\n",
    "    Kc_list_R.append(Kc_R)\n",
    "    PL_c_H.append((par[\"rho\"]/2)*Kc_H*u_epdm**2)\n",
    "    PL_c_R.append((par[\"rho\"]/2)*Kc_R*u_epdm**2)\n",
    "\n",
    "    # Diffuser sharp reduction-man\n",
    "    Kdm_H = fds.fittings.diffuser_sharp(d_red,d_man,Re=Re_red,roughness=par[\"rough\"],method='Hooper')\n",
    "    Kdm_R = fds.fittings.diffuser_sharp(d_red,d_man,Re=Re_red,roughness=par[\"rough\"],method='Rennels')\n",
    "    Kdm_list_H.append(Kdm_H)\n",
    "    Kdm_list_R.append(Kdm_R)\n",
    "    PL_dm_H.append((par[\"rho\"]/2)*Kdm_H*u_red**2)\n",
    "    PL_dm_R.append((par[\"rho\"]/2)*Kdm_R*u_red**2)\n",
    "\n",
    "    # Contraction sharp manifold-reduction\n",
    "\n",
    "    Kcm_H = fds.fittings.contraction_sharp(d_man,d_red,Re=Re_man,roughness=par[\"rough\"],method='Hooper')\n",
    "    Kcm_R = fds.fittings.contraction_sharp(d_man,d_red,Re=Re_man,roughness=par[\"rough\"],method='Rennels')\n",
    "    Kcm_list_H.append(Kcm_H)\n",
    "    Kcm_list_R.append(Kcm_R)\n",
    "    PL_cm_H.append((par[\"rho\"]/2)*Kcm_H*u_man**2)\n",
    "    PL_cm_R.append((par[\"rho\"]/2)*Kcm_R*u_man**2)\n",
    "\n",
    "    # Diffuser sharp reduction-EPDM\n",
    "    Kd_H = fds.fittings.diffuser_sharp(d_red,d_epdm,Re=Re_red,roughness=par[\"rough\"],method='Hooper')\n",
    "    Kd_R = fds.fittings.diffuser_sharp(d_red,d_epdm,Re=Re_red,roughness=par[\"rough\"],method='Rennels')\n",
    "    Kd_list_H.append(Kd_H)\n",
    "    Kd_list_R.append(Kd_R)\n",
    "    PL_d_H.append((par[\"rho\"]/2)*Kd_H*u_red**2)\n",
    "    PL_d_R.append((par[\"rho\"]/2)*Kd_R*u_red**2)\n",
    "\n",
    "    # Bend miter in the EPDM\n",
    "    Kbm_epdm = fds.fittings.bend_miter(angle_bm_epdm, Di=d_epdm, Re=fds.core.Reynolds(u_epdm,d_epdm,par[\"rho\"],mu=par[\"eta\"]),roughness=par[\"rough\"], L_unimpeded=d_epdm, method='Rennels')\n",
    "    list_Kbm_epdm.append(Kbm_epdm)\n",
    "    PL_bm_epdm.append((par[\"rho\"]/2)*Kbm_epdm*u_epdm**2)\n",
    "\n",
    "    # Bend miter in the manifold\n",
    "    Kbm = fds.fittings.bend_miter(angle_bm_man, Di=d_man, Re=Re_man, L_unimpeded=2*d_man, method='Rennels')\n",
    "    list_Kbm_man.append(Kbm)\n",
    "    PL_bm_man.append((par[\"rho\"]/2)*Kbm*u_man**2)\n",
    "\n",
    "    # Linear pressure losses\n",
    "\n",
    "    f_epdm = fds.friction.friction_factor(Re = Re_epdm,eD=par[\"rough\"]/d_epdm)\n",
    "    K_lin_epdm = f_epdm*(L_epdm/d_epdm)\n",
    "    PL_epdm.append((par[\"rho\"]/2)*K_lin_epdm*u_epdm**2)\n",
    "\n",
    "# Total pressure losses\n",
    "\n",
    "exp_PL_tot = [(3.3*1E-5*Q**2+0.002363466*Q)*1000 for Q in list_Q_L]\n",
    "\n",
    "PL_tot = np.array(PL_c_H) + np.array(PL_dm_H) + np.array(PL_d_H) + np.array(PL_cm_H) + 2*np.array(PL_bm_epdm) + 2*np.array(PL_bm_man) + np.array(list_PL)\n",
    "PL_tot_lin = PL_tot + np.array(PL_epdm)\n",
    "\n",
    "print(list_Q_L)\n",
    "print(exp_PL_tot)\n",
    "print(PL_tot)\n",
    "\n",
    "plt.plot(list_Q_L,list_Re,label='Reynolds in EPDM')\n",
    "plt.legend()\n",
    "plt.show()\n",
    "\n",
    "plt.plot(list_Q_L,PL_c_R,label='Rennels')\n",
    "plt.plot(list_Q_L,PL_c_H,label='Hooper')\n",
    "plt.legend()\n",
    "plt.show()\n",
    "\n",
    "plt.plot(list_Q_L,PL_d_R,label='Rennels')\n",
    "plt.plot(list_Q_L,PL_d_H,label='Hooper')\n",
    "plt.legend()\n",
    "plt.show()\n",
    "\n",
    "plt.plot(list_Q_L,PL_bm_epdm,label='Rennels bm_epdm')\n",
    "plt.legend()\n",
    "plt.show()\n",
    "\n",
    "plt.plot(list_Q_L,PL_bm_man,label='Rennels bm_man')\n",
    "plt.legend()\n",
    "plt.show()\n",
    "\n",
    "plt.plot(list_Q_L,PL_epdm,label='Linear pressure losses')\n",
    "plt.legend()\n",
    "plt.show()\n",
    "\n",
    "plt.plot(list_Q_L,PL_tot,label='Estimation of SPRING PL')\n",
    "plt.plot(list_Q_L,PL_tot_lin,label='Estimation + 2 m of EPDM')\n",
    "plt.plot(list_Q_L,exp_PL_tot,label='Measured SPRING PL')\n",
    "plt.legend()\n",
    "plt.xlabel('Q (L/h)')\n",
    "plt.ylabel('PL (Pa)')\n",
    "plt.grid()\n",
    "plt.show()\n"
=======
    "# Inputs for singular pressure losses\n",
    "\n",
    "d_epdm = 0.015\n",
    "d_red = 0.0078 # 0.011 en pratique, diminué à 0.0078 pour que les PL + 2m EPDM fit aux mesures exp Technoptic avec SSA\n",
    "d_man = 0.0081 # 13 mm de base, quand le manifold ne fait plus que 5 mm de hauteur c'est 8,1 mm de diamètre hydraulique\n",
    "\n",
    "L_epdm = 2.\n",
    "\n",
    "angle_bm_epdm = 90.\n",
    "angle_bm_man = 90.\n",
    "\n",
    "PL_tot,PL_tot_lin,exp_PL_tot,cont_diff,bends,harp,reg = sim.sing_PL(par,d_epdm,d_red,d_man,L_epdm,angle_bm_epdm,angle_bm_man,list_Q_L,list_PL)"
>>>>>>> Stashed changes
   ]
  },
  {
   "cell_type": "code",
   "execution_count": null,
   "metadata": {},
   "outputs": [],
   "source": [
<<<<<<< Updated upstream
    "# Stacked bars chart\n",
    "\n",
    "labels = ['10', '50', '100', '150', '200']\n",
    "\n",
    "# cont_diff = np.array(PL_c_R) + np.array(PL_dm_R) + np.array(PL_d_R) + np.array(PL_cm_R)\n",
    "cont_diff = np.array(PL_c_H) + np.array(PL_dm_H) + np.array(PL_d_H) + np.array(PL_cm_H)\n",
    "bends = 2*np.array(PL_bm_epdm) + 2*np.array(PL_bm_man)\n",
    "harp = np.array(list_PL)\n",
    "reg = np.array(PL_epdm)\n",
    "\n",
=======
    "# Singular losses in fittings - Stacked bars chart\n",
    "\n",
    "labels = ['10', '50', '100', '150', '200']\n",
    "\n",
>>>>>>> Stashed changes
    "width = 0.35       # the width of the bars: can also be len(x) sequence\n",
    "\n",
    "fig, ax = plt.subplots()\n",
    "\n",
    "ax.bar(labels, cont_diff, width, label='Sharp contractions and diffusers')\n",
    "ax.bar(labels, bends, width, bottom=cont_diff,label='Bends (x4)')\n",
    "ax.bar(labels, harp, width, bottom=cont_diff+bends,label='Harp exchanger')\n",
    "ax.bar(labels, reg, width, bottom=cont_diff+bends+harp,label='Linear PL')\n",
    "\n",
    "ax.set_ylabel('PL (Pa)')\n",
    "ax.set_title('SPRING')\n",
    "ax.legend()\n",
    "\n",
    "plt.show()"
   ]
  },
  {
   "cell_type": "code",
   "execution_count": null,
   "metadata": {},
   "outputs": [],
   "source": [
<<<<<<< Updated upstream
    "save = [PL_tot,PL_tot_lin,exp_PL_tot,cont_diff,bends,harp,reg]"
   ]
  },
  {
   "cell_type": "code",
   "execution_count": null,
   "metadata": {},
   "outputs": [],
   "source": [
    "save2 = [PL_tot,PL_tot_lin,exp_PL_tot,cont_diff,bends,harp,reg]"
   ]
  },
  {
   "cell_type": "code",
   "execution_count": null,
   "metadata": {},
   "outputs": [],
   "source": [
=======
>>>>>>> Stashed changes
    "ratio = (PL_tot_lin-save[1])/save[1]\n",
    "\n",
    "plt.plot(list_Q_L,ratio)\n",
    "plt.xlabel('Q (L/h)')\n",
    "plt.ylabel('PL increase')\n",
    "plt.title('SPRING h5 mm PL increase in % of SPRING h10 mm PL')\n",
    "plt.gca().set_yticklabels([f'{x:.0%}' for x in plt.gca().get_yticks()]) \n",
    "plt.grid()\n",
    "plt.show()"
   ]
  },
  {
   "cell_type": "code",
   "execution_count": null,
   "metadata": {},
   "outputs": [],
   "source": [
    "plt.plot(list_Q_L,PL_tot,label='Total pressure losses')\n",
    "\n",
    "plt.legend()\n",
    "plt.xlabel('Q (L/h)')\n",
    "plt.ylabel('Re')\n",
    "\n",
    "plt.grid()"
   ]
  },
  {
   "cell_type": "code",
   "execution_count": null,
   "metadata": {},
   "outputs": [],
   "source": [
    "print(list_Q_L)\n",
    "print(list_PL)\n",
    "print(list_mn)\n",
<<<<<<< Updated upstream
    "print([list_Q_L[i]/par[\"N\"] for i in range(len(list_Q_L))])\n",
    "\n",
    "# df_res = pd.DataFrame([np.array(list_Q_L),np.array(list_PL)],columns = ['Q_L','PL (Pa)'])\n",
    "# display(HTML(df_res.to_html()))  \n"
   ]
  },
  {
   "cell_type": "code",
   "execution_count": null,
   "metadata": {},
   "outputs": [],
   "source": [
    "# Répartition des débits par canal (en valeur absolue)\n",
    "\n",
    "list_Q_L_round = [round(num, 0) for num in list_Q_L]\n",
    "risers = np.linspace(0,par[\"N\"]-1,par[\"N\"])\n",
    "\n",
    "for i in range(len(list_tabl)):\n",
    "    plt.plot(risers,np.array(list_tabl[i]['qx']),label=str(list_Q_L_round[i])+' L/h')\n",
    "    plt.legend()\n",
    "\n",
    "plt.xlabel('N° riser')\n",
    "plt.ylabel('qx (L/h)')\n",
    "# plt.legend(loc='center left', bbox_to_anchor=(1, 0.5))\n",
    "plt.grid()\n",
    "\n",
    "plt.show()"
   ]
  },
  {
   "cell_type": "code",
   "execution_count": null,
   "metadata": {},
   "outputs": [],
   "source": [
    "# Répartition des débits par canal (en valeur relative au débit moyen attendu)\n",
    "\n",
    "for i in range(len(list_tabl)):\n",
    "    plt.plot(risers,np.array(list_tabl[i]['qx'])/list_mn[i],label=str(list_Q_L_round[i])+' L/h')\n",
    "    plt.legend()\n",
    "\n",
    "plt.xlabel('N° riser')\n",
    "plt.ylabel('qx/q_mean')\n",
    "# plt.legend(loc='center left', bbox_to_anchor=(1, 0.5))\n",
    "plt.grid()\n",
    "\n",
    "plt.show()"
   ]
  },
  {
   "cell_type": "code",
   "execution_count": null,
   "metadata": {},
   "outputs": [],
   "source": [
    "# Plot pressure losses\n",
    "\n",
    "plt.plot(np.array(list_Q_L),np.array(list_PL))\n",
    "\n",
    "plt.xlabel('Q (L/h)')\n",
    "plt.ylabel('PL (Pa)')\n",
    "# plt.legend(loc='center left', bbox_to_anchor=(1, 0.5))\n",
    "plt.grid()\n",
    "\n",
    "plt.show()"
=======
    "print([list_Q_L[i]/par[\"N\"] for i in range(len(list_Q_L))])"
>>>>>>> Stashed changes
   ]
  },
  {
   "cell_type": "markdown",
   "metadata": {},
   "source": []
  },
  {
   "cell_type": "code",
   "execution_count": null,
   "metadata": {},
<<<<<<< Updated upstream
   "outputs": [],
=======
   "outputs": [
    {
     "data": {
      "image/png": "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",
      "text/plain": [
       "<Figure size 432x288 with 1 Axes>"
      ]
     },
     "metadata": {
      "needs_background": "light"
     },
     "output_type": "display_data"
    }
   ],
>>>>>>> Stashed changes
   "source": [
    "# Plot mean and standard deviation of flow rate\n",
    "\n",
    "plt.plot(np.array(list_Q_L),np.array(list_mn))\n",
    "plt.plot(np.array(list_Q_L),np.array(list_std))\n",
    "\n",
    "plt.xlabel('Q (L/h)')\n",
    "plt.ylabel('Flow rate (L/h)')\n",
    "# plt.legend(loc='center left', bbox_to_anchor=(1, 0.5))\n",
    "plt.grid()\n",
    "\n",
<<<<<<< Updated upstream
    "plt.show()"
   ]
  },
  {
   "cell_type": "code",
   "execution_count": null,
   "metadata": {},
   "outputs": [],
   "source": [
=======
    "plt.show()\n",
    "\n",
>>>>>>> Stashed changes
    "# Plot standard deviation of flow rate / mean flow rate\n",
    "\n",
    "plt.plot(np.array(list_Q_L),np.array(list_std)/np.array(list_mn))\n",
    "\n",
    "plt.xlabel('Q (L/h)')\n",
    "plt.ylabel('Ratio of flow rate standard deviation out of mean flow rate')\n",
    "# plt.legend(loc='center left', bbox_to_anchor=(1, 0.5))\n",
    "plt.grid()\n",
    "\n",
    "plt.show()"
   ]
  },
  {
   "cell_type": "code",
   "execution_count": null,
   "metadata": {},
   "outputs": [],
   "source": [
    "print(np.array(list_std))\n",
    "print(np.array(list_mn))\n",
    "print(np.array(list_std)/np.array(list_mn))"
   ]
<<<<<<< Updated upstream
  },
  {
   "cell_type": "code",
   "execution_count": null,
   "metadata": {},
   "outputs": [],
   "source": [
    "df = pd.DataFrame([1,2,3,4],columns = ['numbers'])"
   ]
  },
  {
   "cell_type": "code",
   "execution_count": null,
   "metadata": {},
   "outputs": [],
   "source": [
    "l = [2,2,2]\n",
    "l = np.array(l)"
   ]
  },
  {
   "cell_type": "code",
   "execution_count": null,
   "metadata": {},
   "outputs": [],
   "source": [
    "l/2"
   ]
  },
  {
   "cell_type": "code",
   "execution_count": null,
   "metadata": {},
   "outputs": [],
   "source": [
    "np.array(list_tabl[0]['qx'])"
   ]
  },
  {
   "cell_type": "code",
   "execution_count": null,
   "metadata": {},
   "outputs": [],
   "source": [
    "risers = np.linspace(0,165,166)"
   ]
  },
  {
   "cell_type": "code",
   "execution_count": null,
   "metadata": {},
   "outputs": [],
   "source": [
    "len(np.array(list_tabl[i]['qx']))"
   ]
  },
  {
   "cell_type": "code",
   "execution_count": null,
   "metadata": {},
   "outputs": [],
   "source": [
    "len(risers)"
   ]
  },
  {
   "cell_type": "code",
   "execution_count": null,
   "metadata": {},
   "outputs": [],
   "source": [
    "print(list_Q_L)"
   ]
  },
  {
   "cell_type": "code",
   "execution_count": null,
   "metadata": {},
   "outputs": [],
   "source": [
    "[round(num, 0) for num in list_Q_L]"
   ]
=======
>>>>>>> Stashed changes
  }
 ],
 "metadata": {
  "kernelspec": {
   "display_name": "Python 3.10.5 ('model22')",
   "language": "python",
   "name": "python3"
  },
  "language_info": {
   "codemirror_mode": {
    "name": "ipython",
    "version": 3
   },
   "file_extension": ".py",
   "mimetype": "text/x-python",
   "name": "python",
   "nbconvert_exporter": "python",
   "pygments_lexer": "ipython3",
   "version": "3.10.5"
  },
  "orig_nbformat": 4,
  "vscode": {
   "interpreter": {
    "hash": "c97b0e932b840580dc634d3eacb2c49c1776eb00b35f9d3fd61a7ed62838731c"
   }
  }
 },
 "nbformat": 4,
 "nbformat_minor": 2
}
