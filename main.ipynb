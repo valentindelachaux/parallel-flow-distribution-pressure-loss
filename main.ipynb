{
 "cells": [
  {
   "cell_type": "code",
   "execution_count": null,
   "metadata": {},
   "outputs": [],
   "source": [
    "%load_ext autoreload\n",
    "%autoreload 2"
   ]
  },
  {
   "cell_type": "code",
   "execution_count": null,
   "metadata": {},
   "outputs": [],
   "source": [
    "import math\n",
    "import sys\n",
    "\n",
    "import pandas as pd\n",
    "import numpy as np\n",
    "import matplotlib.pyplot as plt\n",
    "import matplotlib.font_manager as fm\n",
    "import matplotlib.ticker as mtick\n",
    "from matplotlib.cm import get_cmap\n",
    "# import addcopyfighandler\n",
    "\n",
    "import seaborn as sns\n",
    "\n",
    "from IPython.core.display import HTML\n",
    "\n",
    "sys.path.append(\"../RD-systems-and-test-benches/utils\")\n",
    "import data_processing as dp\n",
    "\n",
    "import model_fsolve as modf\n",
    "\n",
    "import scipy.optimize as sco\n",
    "import scipy.interpolate as sci\n",
    "\n",
    "import simu as sim\n",
    "\n",
    "import hx_hydraulic as hxhy\n",
    "import from_excel as fe\n",
    "import data_plots as dplt\n",
    "\n",
    "import fluids as fds\n",
    "from CoolProp.CoolProp import PropsSI\n",
    "\n",
    "import openpyxl as opxl\n",
    "\n",
    "import torch\n",
    "import torch_model as modto"
   ]
  },
  {
   "cell_type": "code",
   "execution_count": null,
   "metadata": {},
   "outputs": [],
   "source": [
    "path = r\"G:\\Drive partagés\\BU04-Innovation\\PVT-PL-model\\Inputs\"\n",
    "file_name = r\"\\Garcia_Guendulain.xlsx\""
   ]
  },
  {
   "cell_type": "code",
   "execution_count": null,
   "metadata": {},
   "outputs": [],
   "source": [
    "hx, par, cond = fe.initialize(path, file_name)"
   ]
  },
  {
   "cell_type": "code",
   "execution_count": null,
   "metadata": {},
   "outputs": [],
   "source": [
    "df, res, df_PL, testings = modf.PL_fsolve(par, cond, series=[350/3600000, 50/3600000, 0.1])"
   ]
  },
  {
   "cell_type": "code",
   "execution_count": null,
   "metadata": {},
   "outputs": [],
   "source": [
    "rho = cond[\"rho\"]\n",
    "eta = cond[\"eta\"]\n",
    "ep = par[\"roughness\"]\n",
    "Din = par[\"D_man\"]\n",
    "L_man = par[\"L_man\"]\n",
    "fin = fds.friction.friction_factor(Re = fds.core.Reynolds(df_u.loc[0]['uin'],Din,rho,mu=eta),eD = ep/Din)\n",
    "(rho/2)*fin*L_man*(df_u.loc[8]['uin'])**2/Din"
   ]
  },
  {
   "cell_type": "code",
   "execution_count": null,
   "metadata": {},
   "outputs": [],
   "source": [
    "500*(df_u.loc[8]['uin']**2 -df_u.loc[0]['uin']**2)"
   ]
  },
  {
   "cell_type": "code",
   "execution_count": null,
   "metadata": {},
   "outputs": [],
   "source": [
    "list_QF = np.array([50,200,350,500,650])/3600000\n",
    "list_QF_out = np.array([50,200,350])/3600000\n",
    "list_alpha = [0.1, 0.4, 0.7, 1]\n",
    "df = fe.testing_series(r\"G:\\Drive partagés\\BU04-Innovation\\PVT-PL-model\\Garcia_testings.xlsx\", list_QF, list_QF_out, list_alpha, par, cond)"
   ]
  },
  {
   "cell_type": "code",
   "execution_count": null,
   "metadata": {},
   "outputs": [],
   "source": [
    "df2 = pd.read_excel('G:\\Drive partagés\\BU04-Innovation\\PVT-PL-model\\Garcia_testings.xlsx')"
   ]
  },
  {
   "cell_type": "code",
   "execution_count": null,
   "metadata": {},
   "outputs": [],
   "source": [
    "df2[df2['QF_out']==list_QF_out[0]]"
   ]
  },
  {
   "cell_type": "code",
   "execution_count": null,
   "metadata": {},
   "outputs": [],
   "source": [
    "dplt.K_abaque(df2, 'Kyout')\n"
   ]
  },
  {
   "cell_type": "code",
   "execution_count": null,
   "metadata": {},
   "outputs": [],
   "source": [
    "TUV = pd.read_excel('G:\\Drive partagés\\BU04-Innovation\\Hydraulique\\PL_database\\\\230727_TUV_V4.41_x1_Z_water.xlsx')"
   ]
  },
  {
   "cell_type": "code",
   "execution_count": null,
   "metadata": {},
   "outputs": [],
   "source": [
    "# read excel file\n",
    "excel_file = pd.ExcelFile(r'G:\\Drive partagés\\BU04-Innovation\\Hydraulique\\components\\230725_PL_V4.41.xlsx')\n",
    "\n",
    "# create dictionary with dataframes\n",
    "df_dict = {}\n",
    "for sheet_name in excel_file.sheet_names:\n",
    "    df_dict[sheet_name] = excel_file.parse(sheet_name)\n",
    "    df_dict[sheet_name].drop(columns='Unnamed: 0',inplace=True)"
   ]
  },
  {
   "cell_type": "code",
   "execution_count": null,
   "metadata": {},
   "outputs": [],
   "source": [
    "for i in range(4):\n",
    "    key = list(df_dict.keys())[i]\n",
    "    list_Vdot = np.array(df_dict[key]['Vdot_per_panel'])\n",
    "    list_Dv = list_Vdot*(i+1)/3600000\n",
    "\n",
    "    path = r\"G:\\Drive partagés\\BU04-Innovation\\PVT-PL-model\\Inputs\"\n",
    "    file_name = f\"\\V4.41_x{i+1}.xlsx\"\n",
    "    hx, par, cond = fe.initialize(path, file_name)\n",
    "    list_PL, list_tabl = modf.PL_fsolve_range(par, cond, list_Dv[1::39])\n",
    "\n",
    "    plt.plot(list_Vdot[1::39], list_PL/1000, label='Simulation')\n",
    "    plt.plot(list_Vdot, np.array(df_dict[key]['PL']), label='Experiments')\n",
    "    plt.xlabel('Vdot par panneau [L/h]')\n",
    "    plt.ylabel('PL [kPa]')\n",
    "    plt.legend()\n",
    "    plt.show()\n",
    "\n"
   ]
  },
  {
   "cell_type": "code",
   "execution_count": null,
   "metadata": {},
   "outputs": [],
   "source": [
    "list(df_dict.keys())"
   ]
  },
  {
   "cell_type": "code",
   "execution_count": null,
   "metadata": {},
   "outputs": [],
   "source": [
    "for k in df_dict.keys():\n",
    "    print(df_dict[k]['PL'])"
   ]
  }
 ],
 "metadata": {
  "kernelspec": {
   "display_name": "Python 3.10.5 ('model22')",
   "language": "python",
   "name": "python3"
  },
  "language_info": {
   "codemirror_mode": {
    "name": "ipython",
    "version": 3
   },
   "file_extension": ".py",
   "mimetype": "text/x-python",
   "name": "python",
   "nbconvert_exporter": "python",
   "pygments_lexer": "ipython3",
   "version": "3.11.6"
  },
  "orig_nbformat": 4,
  "vscode": {
   "interpreter": {
    "hash": "56caf856595f51be9bcc433b83ab5dc09086f65ad2b944386d7aaceab52f3078"
   }
  }
 },
 "nbformat": 4,
 "nbformat_minor": 2
}
