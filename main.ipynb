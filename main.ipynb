{
 "cells": [
  {
   "cell_type": "code",
   "execution_count": null,
   "metadata": {},
   "outputs": [],
   "source": [
    "import math\n",
    "import sys\n",
    "\n",
    "import pandas as pd\n",
    "import numpy as np\n",
    "import matplotlib.pyplot as plt\n",
    "import matplotlib.font_manager as fm\n",
    "import matplotlib.ticker as mtick\n",
    "from matplotlib.cm import get_cmap\n",
    "# import addcopyfighandler\n",
    "\n",
    "import seaborn as sns\n",
    "\n",
    "from IPython.core.display import HTML\n",
    "\n",
    "sys.path.append(\"../RD-systems-and-test-benches/utils\")\n",
    "import data_processing as dp\n",
    "\n",
    "import model_fsolve as modf\n",
    "\n",
    "import scipy.optimize as sco\n",
    "import scipy.interpolate as sci\n",
    "\n",
    "import simu as sim\n",
    "\n",
    "import hx_hydraulic as hxhy\n",
    "import from_excel as fe\n",
    "import data_plots as dplt\n",
    "\n",
    "import fluids as fds\n",
    "from CoolProp.CoolProp import PropsSI\n",
    "\n",
    "import openpyxl as opxl\n",
    "\n",
    "import torch\n",
    "import torch_model as modto"
   ]
  },
  {
   "cell_type": "code",
   "execution_count": null,
   "metadata": {},
   "outputs": [],
   "source": [
    "path = r\"G:\\Drive partagés\\BU04-Innovation\\PVT-PL-model\\Inputs\"\n",
    "file_name = r\"\\García_Guendulain.xlsx\"\n",
    "\n",
    "hx, par, condi0 = fe.initialize(path, file_name)"
   ]
  },
  {
   "cell_type": "code",
   "execution_count": null,
   "metadata": {},
   "outputs": [],
   "source": [
    "# par['D_riser'] = 0.0054\n",
    "# par['D_man'] = 4*par['D_riser']"
   ]
  },
  {
   "cell_type": "code",
   "execution_count": null,
   "metadata": {},
   "outputs": [],
   "source": [
    "# Test d'un seul débit\n",
    "tabl, res, PL,u,K = modf.PL_fsolve(par,condi0,print=False)\n"
   ]
  },
  {
   "cell_type": "code",
   "execution_count": null,
   "metadata": {},
   "outputs": [],
   "source": [
    "list_rd = [0.25, 0.5, 1.]\n",
    "dplt.u_rd(par,condi0,list_rd,'uin')\n",
    "dplt.u_rd(par,condi0,list_rd,'ux')\n",
    "dplt.u_rd(par,condi0,list_rd,'uout')\n",
    "dplt.K_rd(par,condi0,list_rd,'Ky_in')\n",
    "dplt.K_rd(par,condi0,list_rd,'Ky_out')\n",
    "dplt.K_rd(par,condi0,list_rd,'Kx_in')\n",
    "dplt.K_rd(par,condi0,list_rd,'Kx_out')"
   ]
  },
  {
   "cell_type": "code",
   "execution_count": null,
   "metadata": {},
   "outputs": [],
   "source": []
  },
  {
   "cell_type": "code",
   "execution_count": null,
   "metadata": {},
   "outputs": [],
   "source": [
    "K"
   ]
  },
  {
   "cell_type": "code",
   "execution_count": null,
   "metadata": {},
   "outputs": [],
   "source": [
    "par['ref']"
   ]
  },
  {
   "cell_type": "code",
   "execution_count": null,
   "metadata": {},
   "outputs": [],
   "source": [
    "dplt.PL_percent(PL)"
   ]
  },
  {
   "cell_type": "code",
   "execution_count": null,
   "metadata": {},
   "outputs": [],
   "source": [
    "dplt.PL_hist(PL)"
   ]
  },
  {
   "cell_type": "code",
   "execution_count": null,
   "metadata": {},
   "outputs": [],
   "source": [
    "dplt.beta_riser(tabl, axis=[0, 8, 0.108, 0.116])"
   ]
  },
  {
   "cell_type": "code",
   "execution_count": null,
   "metadata": {},
   "outputs": [],
   "source": [
    "list_Vdot = np.array([i*60 for i in range(1,10)])"
   ]
  },
  {
   "cell_type": "code",
   "execution_count": null,
   "metadata": {},
   "outputs": [],
   "source": [
    "list_rd = [0.25, 0.5, 1.]\n",
    "dplt.PL_ratio(par,condi0,list_Vdot,list_rd)"
   ]
  },
  {
   "cell_type": "code",
   "execution_count": null,
   "metadata": {},
   "outputs": [],
   "source": [
    "for rd in list_rd:\n",
    "    modf.change_diameter(par, par['D_riser']/rd, name='man')\n",
    "    par['D_man']=par['D_riser']/rd\n",
    "    par['A_man']=par['A_riser']/rd**2\n",
    "    tabl, res, PL, u, K = modf.PL_fsolve(par,condi0,print=False)\n",
    "    dplt.PL_hist(PL)\n",
    "    print(PL)"
   ]
  },
  {
   "cell_type": "code",
   "execution_count": null,
   "metadata": {},
   "outputs": [],
   "source": [
    "return coeff*fds.fittings.K_branch_diverging_Crane(D_run=D_run, D_branch=D_branch, Q_run=Q_run, Q_branch=Q_branch, angle=theta)"
   ]
  },
  {
   "cell_type": "code",
   "execution_count": null,
   "metadata": {},
   "outputs": [],
   "source": [
    "PL_list_MICOE = np.array([485, 977, 1336, 1941, 2800])\n",
    "plt.scatter(list_Vdot, list_PL/1000, label='MICOE model')\n",
    "plt.scatter(list_Vdot, PL_list_MICOE/1000, label='MICOE datasheet')\n",
    "plt.axis([0,1200, 0, 3])\n",
    "plt.xlabel('Flow rate [L/h]')\n",
    "plt.ylabel('Pressure loss [kPa]')\n",
    "plt.legend()"
   ]
  }
 ],
 "metadata": {
  "kernelspec": {
   "display_name": "Python 3.10.5 ('model22')",
   "language": "python",
   "name": "python3"
  },
  "language_info": {
   "codemirror_mode": {
    "name": "ipython",
    "version": 3
   },
   "file_extension": ".py",
   "mimetype": "text/x-python",
   "name": "python",
   "nbconvert_exporter": "python",
   "pygments_lexer": "ipython3",
   "version": "3.11.6"
  },
  "orig_nbformat": 4,
  "vscode": {
   "interpreter": {
    "hash": "56caf856595f51be9bcc433b83ab5dc09086f65ad2b944386d7aaceab52f3078"
   }
  }
 },
 "nbformat": 4,
 "nbformat_minor": 2
}
