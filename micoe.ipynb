{
 "cells": [
  {
   "cell_type": "code",
   "execution_count": 1,
   "metadata": {},
   "outputs": [],
   "source": [
    "import sys\n",
    "\n",
    "import pandas as pd\n",
    "import numpy as np\n",
    "import matplotlib.pyplot as plt\n",
    "\n",
    "sys.path.append(\"../RD-systems-and-test-benches/utils\")\n",
    "import model_fsolve as modf\n",
    "import model_fsolve_v2 as modf2\n",
    "\n",
    "import scipy.optimize as sco\n",
    "import scipy.interpolate as sci\n",
    "\n",
    "import hx_hydraulic as hxhy\n",
    "import from_excel as fe\n",
    "import data_plots as dplt\n",
    "\n",
    "import fluids as fds\n",
    "from CoolProp.CoolProp import PropsSI\n",
    "\n",
    "import openpyxl as opxl\n",
    "from sklearn.ensemble import RandomForestRegressor\n",
    "\n",
    "import seaborn as sns\n",
    "import os\n",
    "import plotly.graph_objects as go\n",
    "\n",
    "import copy\n"
   ]
  },
  {
   "cell_type": "code",
   "execution_count": 2,
   "metadata": {},
   "outputs": [],
   "source": [
    "import repo_config as rconfig\n",
    "\n",
    "import matplotlib\n",
    "import matplotlib.pyplot as plt\n",
    "import matplotlib.ticker as mtick\n",
    "from matplotlib.ticker import FuncFormatter\n",
    "import scienceplots\n",
    "import matplotlib_inline\n",
    "matplotlib_inline.backend_inline.set_matplotlib_formats('retina')\n",
    "plt.style.use(['science'])\n",
    "\n",
    "def to_percent(y, _):\n",
    "    return f\"{y * 100:.0f}\\%\""
   ]
  },
  {
   "cell_type": "code",
   "execution_count": 3,
   "metadata": {},
   "outputs": [],
   "source": [
    "path = r\"G:\\Drive partagés\\Cercle Hard\\R&D\\Modèles numériques PVT\\PVT-PL-model\\Inputs\"\n",
    "file_name = \"\\MICOE.xlsx\"\n",
    "hw, par, cond = fe.initialize(path, file_name)\n",
    "tabl, res, PL, residuals = modf.PL_fsolve(par, cond) \n",
    "\n",
    "fluid = {'name':'MPG','glycol_rate':0.4}"
   ]
  },
  {
   "cell_type": "code",
   "execution_count": 4,
   "metadata": {},
   "outputs": [],
   "source": [
    "Vdot_range = [30, 50, 100, 150, 272, 478, 652, 856, 1094]"
   ]
  },
  {
   "cell_type": "code",
   "execution_count": 5,
   "metadata": {},
   "outputs": [],
   "source": [
    "glycol_range = [0.2,0.25,0.3,0.35,0.4]\n",
    "\n",
    "glycol_dict = {}\n",
    "\n",
    "for i, glycol_rate in enumerate(glycol_range):\n",
    "\n",
    "    res_dict = []\n",
    "\n",
    "    fe.change_fluid(cond, {'name' : 'MPG', 'glycol_rate' : glycol_rate})\n",
    "\n",
    "    for Vdot in Vdot_range:\n",
    "        cond_local = copy.deepcopy(cond)\n",
    "        fe.change_Vdot(cond_local, Vdot)\n",
    "\n",
    "        tabl, res, PL, residuals = modf.PL_fsolve(par, cond_local)\n",
    "\n",
    "        res_dict.append({\n",
    "                        'Vdot' : Vdot,  \n",
    "                        'tabl' : copy.deepcopy(tabl),\n",
    "                        'PL' : copy.deepcopy(res),\n",
    "                        'tabl_PL' : PL,\n",
    "                        'residuals' : copy.deepcopy(residuals)\n",
    "                        }\n",
    "                        )\n",
    "        \n",
    "    glycol_dict[glycol_rate] = copy.deepcopy(res_dict)"
   ]
  },
  {
   "cell_type": "code",
   "execution_count": 6,
   "metadata": {},
   "outputs": [],
   "source": [
    "res_df = pd.DataFrame()\n",
    "\n",
    "for i, glycol_rate in enumerate(glycol_range):\n",
    "\n",
    "    res_dict = glycol_dict[glycol_rate]\n",
    "    keys_to_include = ['Vdot','PL']\n",
    "\n",
    "    temp = pd.DataFrame([{key: d[key] for key in keys_to_include} for d in res_dict])\n",
    "    res_df['Vdot'] = temp['Vdot']\n",
    "    res_df['PL glycol = ' + str(glycol_rate)] = temp['PL']"
   ]
  },
  {
   "cell_type": "code",
   "execution_count": null,
   "metadata": {},
   "outputs": [],
   "source": [
    "res_df"
   ]
  },
  {
   "cell_type": "code",
   "execution_count": 8,
   "metadata": {},
   "outputs": [],
   "source": [
    "res_df['PL_measure'] = [np.nan, np.nan, np.nan, np.nan, 485,977,1336,1941,2800]\n",
    "# res_df['relative error'] = (res_df['PL'] - res_df['PL_measure'])/res_df['PL_measure']\n",
    "# res_df"
   ]
  },
  {
   "cell_type": "code",
   "execution_count": null,
   "metadata": {},
   "outputs": [],
   "source": [
    "glycol_dict[0.3][-1]['tabl_PL']"
   ]
  },
  {
   "cell_type": "code",
   "execution_count": null,
   "metadata": {},
   "outputs": [],
   "source": [
    "res_df"
   ]
  },
  {
   "cell_type": "code",
   "execution_count": 10,
   "metadata": {},
   "outputs": [],
   "source": [
    "res_df['error'] = res_df['PL glycol = 0.3'] - res_df['PL_measure']"
   ]
  },
  {
   "cell_type": "code",
   "execution_count": 14,
   "metadata": {},
   "outputs": [],
   "source": [
    "res_df['relative error'] = res_df['error']/res_df['PL_measure']"
   ]
  },
  {
   "cell_type": "code",
   "execution_count": null,
   "metadata": {},
   "outputs": [],
   "source": [
    "res_df['error'].abs().mean()/res_df['PL_measure'].mean()"
   ]
  },
  {
   "cell_type": "code",
   "execution_count": null,
   "metadata": {},
   "outputs": [],
   "source": [
    "colors = ['olive', 'green', 'blue', 'orange', 'red', 'grey']\n",
    "colors_lighter = [rconfig.get_hex_code(color, 70) for color in colors]\n",
    "colors = [rconfig.get_hex_code(color, 100) for color in colors]\n",
    "linestyles = ['-', '--',  (5, (10, 3)), '-.', (0, (1, 1)), (0, (3, 5, 1, 5))]\n",
    "markers = ['o', 's', 'd', 'X', 'v', '^']\n",
    "\n",
    "# Main plot: plotting L_f0_range on x-axis\n",
    "fig, ax1 = plt.subplots(figsize=(rconfig.wcol_in, rconfig.hfig(0.3, unit=\"in\")))\n",
    "\n",
    "# Create the plot\n",
    "x = res_df['Vdot']\n",
    "y_min = res_df['PL glycol = 0.2']\n",
    "y_mid = res_df['PL glycol = 0.3']\n",
    "y_max = res_df['PL glycol = 0.4']\n",
    "\n",
    "# Plot lines for different glycol concentrations\n",
    "plt.plot(x, y_min, color=colors[0], linestyle=linestyles[1], label='Model w/ MPG 20%')\n",
    "plt.plot(x, y_mid, color=colors[2], linestyle=linestyles[3], label='Model w/ MPG 30%')\n",
    "plt.plot(x, y_max, color=colors[1], linestyle=linestyles[2], label='Model w/ MPG 40%')\n",
    "\n",
    "# Fill the area between y_min and y_max\n",
    "plt.fill_between(x, y_min, y_max, color=colors_lighter[0], alpha=0.2)\n",
    "\n",
    "# Scatter plot for the measurement points\n",
    "plt.scatter(x, res_df['PL_measure'], label='Measure', color=colors[-1], marker='o')\n",
    "\n",
    "# Set labels and grid\n",
    "ax1.set_xlabel('Vdot [L/h]')\n",
    "ax1.set_ylabel('PL [kPa]')\n",
    "ax1.grid()\n",
    "\n",
    "# Set axis limits\n",
    "ax1.set_xlim([0, 1200])\n",
    "ax1.set_ylim([0, 3500])\n",
    "\n",
    "# Create the first row of the legend (for the lines)\n",
    "first_legend = fig.legend(loc='upper center', bbox_to_anchor=(0.5, 0.), ncol=3, frameon=False,\n",
    "                          labels=['Model w/ MPG 20\\%', 'Model w/ MPG 30\\%', 'Model w/ MPG 40\\%'],\n",
    "                          handles=[ax1.lines[0], ax1.lines[1], ax1.lines[2]])\n",
    "\n",
    "# Create the second row of the legend (for the scatter plot)\n",
    "second_legend = fig.legend(loc='upper center', bbox_to_anchor=(0.5, -0.08), ncol=1, frameon=False,\n",
    "                           labels=['Measure'], handles=[ax1.collections[1]])\n",
    "\n",
    "# Add the first legend back to the axes (to avoid being overwritten)\n",
    "ax1.add_artist(first_legend)\n",
    "\n",
    "# Show the plot\n",
    "plt.show()"
   ]
  },
  {
   "cell_type": "code",
   "execution_count": null,
   "metadata": {},
   "outputs": [],
   "source": [
    "ax1.collections"
   ]
  },
  {
   "cell_type": "code",
   "execution_count": 71,
   "metadata": {},
   "outputs": [],
   "source": [
    "fig.savefig(r'G:\\Mon Drive\\GitHub\\VDE_thesis\\image\\Chapter_PL\\PL-2.3-MICOE-fit.png', dpi=600)"
   ]
  },
  {
   "cell_type": "code",
   "execution_count": null,
   "metadata": {},
   "outputs": [],
   "source": [
    "fig, ax1 = plt.subplots(figsize=(rconfig.wcol_in, rconfig.hfig(0.3, unit=\"in\")))\n",
    "\n",
    "for i in range(len(res_dict)):\n",
    "    if i >= 4:\n",
    "        tabl = res_dict[i]['tabl']\n",
    "        tabl['qx_norm'] = tabl['qx'] / (tabl['qx'].sum() / par['N'])\n",
    "        ax1.plot(tabl.index, tabl['qx_norm'], \n",
    "                 label='Vdot = ' + str(res_dict[i]['Vdot']), \n",
    "                 color=colors[i-4], \n",
    "                 linestyle=linestyles[i-4])\n",
    "\n",
    "# Gather handles and labels for the legend\n",
    "handles, labels = ax1.get_legend_handles_labels()\n",
    "\n",
    "# Create the first row of the legend (for the first half of the labels)\n",
    "first_row_legend = fig.legend(handles[:3], labels[:3], \n",
    "                              loc='upper center', \n",
    "                              bbox_to_anchor=(0.5, 0.), \n",
    "                              ncol=3, \n",
    "                              frameon=False,\n",
    "                              handlelength=3)  # Increase handle length\n",
    "\n",
    "# Create the second row of the legend (for the second half of the labels)\n",
    "second_row_legend = fig.legend(handles[3:], labels[3:], \n",
    "                               loc='upper center', \n",
    "                               bbox_to_anchor=(0.5, -0.07), \n",
    "                               ncol=3, \n",
    "                               frameon=False,\n",
    "                               handlelength=3)  # Increase handle length\n",
    "\n",
    "# Add the first row back to the axes to avoid it being overwritten\n",
    "ax1.add_artist(first_row_legend)\n",
    "\n",
    "ax1.set_xlabel('Tube number')\n",
    "ax1.set_ylabel('Normalized flow rate [-]')\n",
    "ax1.grid()\n",
    "\n",
    "ax1.set_xlim([0, 23])\n",
    "# Show the plot\n",
    "plt.show()"
   ]
  },
  {
   "cell_type": "code",
   "execution_count": 93,
   "metadata": {},
   "outputs": [],
   "source": [
    "fig.savefig(r'G:\\Mon Drive\\GitHub\\VDE_thesis\\image\\Chapter_PL\\PL-2.3-MICOE-distribution.png', dpi=600)"
   ]
  }
 ],
 "metadata": {
  "kernelspec": {
   "display_name": "RD-env-24",
   "language": "python",
   "name": "python3"
  },
  "language_info": {
   "codemirror_mode": {
    "name": "ipython",
    "version": 3
   },
   "file_extension": ".py",
   "mimetype": "text/x-python",
   "name": "python",
   "nbconvert_exporter": "python",
   "pygments_lexer": "ipython3",
   "version": "3.10.5"
  }
 },
 "nbformat": 4,
 "nbformat_minor": 2
}
