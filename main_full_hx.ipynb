{
 "cells": [
  {
   "cell_type": "code",
   "execution_count": null,
   "metadata": {},
   "outputs": [],
   "source": [
    "import sys\n",
    "\n",
    "import pandas as pd\n",
    "import numpy as np\n",
    "import matplotlib.pyplot as plt\n",
    "\n",
    "sys.path.append(\"../RD-systems-and-test-benches/utils\")\n",
    "import model_fsolve as modf\n",
    "import model_fsolve_v2 as modf2\n",
    "\n",
    "import scipy.optimize as sco\n",
    "import scipy.interpolate as sci\n",
    "\n",
    "import hx_hydraulic as hxhy\n",
    "import from_excel as fe\n",
    "import data_plots as dplt\n",
    "\n",
    "import fluids as fds\n",
    "from CoolProp.CoolProp import PropsSI\n",
    "\n",
    "import openpyxl as opxl\n",
    "from sklearn.ensemble import RandomForestRegressor\n",
    "\n",
    "import seaborn as sns\n",
    "import os\n",
    "import plotly.graph_objects as go\n"
   ]
  },
  {
   "cell_type": "code",
   "execution_count": null,
   "metadata": {},
   "outputs": [],
   "source": [
    "path = r\"G:\\Drive partagés\\Cercle Hard\\R&D\\Modèles numériques PVT\\PVT-PL-model\\Inputs\"\n",
    "file_name = \"\\V4.6.xlsx\"\n",
    "hw, par, cond = fe.initialize(path, file_name)\n",
    "tabl, res, PL, residuals = modf.PL_fsolve(par, cond) "
   ]
  },
  {
   "cell_type": "code",
   "execution_count": null,
   "metadata": {},
   "outputs": [],
   "source": [
    "tabl"
   ]
  },
  {
   "cell_type": "code",
   "execution_count": null,
   "metadata": {},
   "outputs": [],
   "source": [
    "res/1000"
   ]
  },
  {
   "cell_type": "code",
   "execution_count": null,
   "metadata": {},
   "outputs": [],
   "source": [
    "tabl"
   ]
  },
  {
   "cell_type": "code",
   "execution_count": null,
   "metadata": {},
   "outputs": [],
   "source": [
    "PL"
   ]
  },
  {
   "cell_type": "code",
   "execution_count": null,
   "metadata": {},
   "outputs": [],
   "source": [
    "ref = 1411785"
   ]
  },
  {
   "cell_type": "code",
   "execution_count": null,
   "metadata": {},
   "outputs": [],
   "source": [
    "Vdot = 0.3 # L/h\n",
    "Dv = Vdot/(3.6*1E6) # m3/s\n",
    "A = 0.002*0.003 # m2\n",
    "v = Dv/A # m/s\n",
    "rho = 998\n",
    "mdot = v * A * rho"
   ]
  },
  {
   "cell_type": "code",
   "execution_count": null,
   "metadata": {},
   "outputs": [],
   "source": [
    "Dv"
   ]
  },
  {
   "cell_type": "code",
   "execution_count": null,
   "metadata": {},
   "outputs": [],
   "source": [
    "8453*v"
   ]
  },
  {
   "cell_type": "code",
   "execution_count": null,
   "metadata": {},
   "outputs": [],
   "source": [
    "ref*mdot"
   ]
  },
  {
   "cell_type": "markdown",
   "metadata": {},
   "source": [
    "v = Dv/A\n",
    "Dv = mdot/rho\n",
    "v = mdot/(rho * A) \n",
    "mdot = v*(rho * A)\n",
    "\n",
    "\n",
    "PL = ref * mdot\n",
    "PL = ref * v * rho * A\n",
    "bx = ref * rho * A"
   ]
  },
  {
   "cell_type": "code",
   "execution_count": null,
   "metadata": {},
   "outputs": [],
   "source": [
    "ref * 998 * (0.002*0.003) * (2/998)"
   ]
  },
  {
   "cell_type": "code",
   "execution_count": null,
   "metadata": {},
   "outputs": [],
   "source": [
    "mdot = 2.7*1E-6 * 998"
   ]
  },
  {
   "cell_type": "code",
   "execution_count": null,
   "metadata": {},
   "outputs": [],
   "source": [
    "mdot"
   ]
  },
  {
   "cell_type": "code",
   "execution_count": null,
   "metadata": {},
   "outputs": [],
   "source": [
    "mdot*ref"
   ]
  },
  {
   "cell_type": "code",
   "execution_count": null,
   "metadata": {},
   "outputs": [],
   "source": []
  }
 ],
 "metadata": {
  "kernelspec": {
   "display_name": "Python 3",
   "language": "python",
   "name": "python3"
  },
  "language_info": {
   "codemirror_mode": {
    "name": "ipython",
    "version": 3
   },
   "file_extension": ".py",
   "mimetype": "text/x-python",
   "name": "python",
   "nbconvert_exporter": "python",
   "pygments_lexer": "ipython3",
   "version": "3.10.5"
  }
 },
 "nbformat": 4,
 "nbformat_minor": 2
}
